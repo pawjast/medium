{
 "cells": [
  {
   "cell_type": "markdown",
   "metadata": {},
   "source": [
    "# How to use custom fonts in `Matplotlib`\n",
    "\n",
    "Code for the following Medium article: [link](https://medium.com/gitconnected/how-to-use-custom-fonts-in-matplotlib-plots-d8450b929e76)"
   ]
  },
  {
   "cell_type": "markdown",
   "metadata": {},
   "source": [
    "## Imports"
   ]
  },
  {
   "cell_type": "code",
   "execution_count": 1,
   "metadata": {},
   "outputs": [],
   "source": [
    "from pathlib import Path\n",
    "import matplotlib.pyplot as plt\n",
    "from matplotlib import font_manager, rcParams, rcdefaults"
   ]
  },
  {
   "cell_type": "markdown",
   "metadata": {},
   "source": [
    "## Display system fonts"
   ]
  },
  {
   "cell_type": "markdown",
   "metadata": {},
   "source": [
    "### Just the names\n",
    "\n",
    "These are the names of all the fonts that were found in the system."
   ]
  },
  {
   "cell_type": "code",
   "execution_count": 2,
   "metadata": {},
   "outputs": [
    {
     "data": {
      "text/plain": [
       "['Abyssinica SIL',\n",
       " 'Andale Mono',\n",
       " 'Ani',\n",
       " 'AnjaliOldLipi',\n",
       " 'Arial',\n",
       " 'Arial Black',\n",
       " 'Chandas',\n",
       " 'Chilanka',\n",
       " 'Comic Sans MS',\n",
       " 'Courier New',\n",
       " 'DejaVu Sans',\n",
       " 'DejaVu Sans Display',\n",
       " 'DejaVu Sans Mono',\n",
       " 'DejaVu Serif',\n",
       " 'DejaVu Serif Display',\n",
       " 'Droid Sans Fallback',\n",
       " 'Dyuthi',\n",
       " 'FreeMono',\n",
       " 'FreeSans',\n",
       " 'FreeSerif',\n",
       " 'Gargi',\n",
       " 'Garuda',\n",
       " 'Georgia',\n",
       " 'Gubbi',\n",
       " 'Impact',\n",
       " 'Jamrul',\n",
       " 'KacstArt',\n",
       " 'KacstBook',\n",
       " 'KacstDecorative',\n",
       " 'KacstDigital',\n",
       " 'KacstFarsi',\n",
       " 'KacstLetter',\n",
       " 'KacstNaskh',\n",
       " 'KacstOffice',\n",
       " 'KacstOne',\n",
       " 'KacstPen',\n",
       " 'KacstPoster',\n",
       " 'KacstQurn',\n",
       " 'KacstScreen',\n",
       " 'KacstTitle',\n",
       " 'KacstTitleL',\n",
       " 'Kalapi',\n",
       " 'Kalimati',\n",
       " 'Karumbi',\n",
       " 'Keraleeyam',\n",
       " 'Khmer OS',\n",
       " 'Khmer OS System',\n",
       " 'Kinnari',\n",
       " 'LKLUG',\n",
       " 'Laksaman',\n",
       " 'Liberation Mono',\n",
       " 'Liberation Sans',\n",
       " 'Liberation Sans Narrow',\n",
       " 'Liberation Serif',\n",
       " 'Likhan',\n",
       " 'Lohit Assamese',\n",
       " 'Lohit Bengali',\n",
       " 'Lohit Devanagari',\n",
       " 'Lohit Gujarati',\n",
       " 'Lohit Gurmukhi',\n",
       " 'Lohit Kannada',\n",
       " 'Lohit Malayalam',\n",
       " 'Lohit Odia',\n",
       " 'Lohit Tamil',\n",
       " 'Lohit Tamil Classical',\n",
       " 'Lohit Telugu',\n",
       " 'Loma',\n",
       " 'Manjari',\n",
       " 'Meera',\n",
       " 'Mitra Mono',\n",
       " 'Mukti Narrow',\n",
       " 'Nakula',\n",
       " 'Navilu',\n",
       " 'Norasi',\n",
       " 'Noto Mono',\n",
       " 'Noto Sans CJK JP',\n",
       " 'Noto Serif CJK JP',\n",
       " 'OpenSymbol',\n",
       " 'Padauk',\n",
       " 'Padauk Book',\n",
       " 'Pagul',\n",
       " 'Phetsarath OT',\n",
       " 'Pothana2000',\n",
       " 'Purisa',\n",
       " 'Rachana',\n",
       " 'RaghuMalayalam',\n",
       " 'Rekha',\n",
       " 'STIXGeneral',\n",
       " 'STIXNonUnicode',\n",
       " 'STIXSizeFiveSym',\n",
       " 'STIXSizeFourSym',\n",
       " 'STIXSizeOneSym',\n",
       " 'STIXSizeThreeSym',\n",
       " 'STIXSizeTwoSym',\n",
       " 'Saab',\n",
       " 'Sahadeva',\n",
       " 'Samanata',\n",
       " 'Samyak Devanagari',\n",
       " 'Samyak Gujarati',\n",
       " 'Samyak Malayalam',\n",
       " 'Samyak Tamil',\n",
       " 'Sarai',\n",
       " 'Sawasdee',\n",
       " 'Suruma',\n",
       " 'Tibetan Machine Uni',\n",
       " 'Times New Roman',\n",
       " 'Tlwg Mono',\n",
       " 'Tlwg Typewriter',\n",
       " 'Tlwg Typist',\n",
       " 'Tlwg Typo',\n",
       " 'Trebuchet MS',\n",
       " 'Ubuntu',\n",
       " 'Ubuntu Condensed',\n",
       " 'Ubuntu Mono',\n",
       " 'Umpush',\n",
       " 'Uroob',\n",
       " 'Vemana2000',\n",
       " 'Verdana',\n",
       " 'Waree',\n",
       " 'Webdings',\n",
       " 'aakar',\n",
       " 'cmb10',\n",
       " 'cmex10',\n",
       " 'cmmi10',\n",
       " 'cmr10',\n",
       " 'cmss10',\n",
       " 'cmsy10',\n",
       " 'cmtt10',\n",
       " 'mry_KacstQurn',\n",
       " 'ori1Uni',\n",
       " 'padmaa',\n",
       " 'padmaa-Bold.1.1']"
      ]
     },
     "execution_count": 2,
     "metadata": {},
     "output_type": "execute_result"
    }
   ],
   "source": [
    "sorted(font_manager.get_font_names())"
   ]
  },
  {
   "cell_type": "markdown",
   "metadata": {},
   "source": [
    "### Check the number of all available fonts\n",
    "\n",
    "These are the fonts that matplotli currently see and you can use them in the plots."
   ]
  },
  {
   "cell_type": "code",
   "execution_count": 3,
   "metadata": {},
   "outputs": [
    {
     "data": {
      "text/plain": [
       "132"
      ]
     },
     "execution_count": 3,
     "metadata": {},
     "output_type": "execute_result"
    }
   ],
   "source": [
    "# Fonts visible to `matplotlib` at the moment\n",
    "len(font_manager.get_font_names())"
   ]
  },
  {
   "cell_type": "code",
   "execution_count": 4,
   "metadata": {},
   "outputs": [
    {
     "data": {
      "text/plain": [
       "True"
      ]
     },
     "execution_count": 4,
     "metadata": {},
     "output_type": "execute_result"
    }
   ],
   "source": [
    "# This is a system font so it should be available\n",
    "\"Arial\" in font_manager.get_font_names()"
   ]
  },
  {
   "cell_type": "code",
   "execution_count": 5,
   "metadata": {},
   "outputs": [
    {
     "data": {
      "text/plain": [
       "False"
      ]
     },
     "execution_count": 5,
     "metadata": {},
     "output_type": "execute_result"
    }
   ],
   "source": [
    "# We haven't installed it yet so it shouldn't be available\n",
    "\"Rubik\" in font_manager.get_font_names()"
   ]
  },
  {
   "cell_type": "markdown",
   "metadata": {},
   "source": [
    "## Install new font\n",
    "\n",
    "I've downloaded and installed the `Rubik` font from Google fonts:  \n",
    "https://fonts.google.com/specimen/Rubik?query=rubik"
   ]
  },
  {
   "cell_type": "markdown",
   "metadata": {},
   "source": [
    "## Find all available fonts in the system\n",
    "\n",
    "Some fonts are available in many styles such as: bold, italic, etc.\n",
    "\n",
    "These are the fonts that are installed in our system but matplotlib cannot see them yet.\n",
    "\n",
    "We need to make matplotlib see them."
   ]
  },
  {
   "cell_type": "code",
   "execution_count": 6,
   "metadata": {},
   "outputs": [
    {
     "data": {
      "text/plain": [
       "['/home/pawjast/.local/share/fonts/DancingScript-VariableFont_wght.ttf',\n",
       " '/home/pawjast/.local/share/fonts/Google/TrueType/Roboto/Roboto_Black.ttf',\n",
       " '/home/pawjast/.local/share/fonts/Google/TrueType/Roboto/Roboto_Black_Italic.ttf',\n",
       " '/home/pawjast/.local/share/fonts/Google/TrueType/Roboto/Roboto_Bold.ttf',\n",
       " '/home/pawjast/.local/share/fonts/Google/TrueType/Roboto/Roboto_Bold_Italic.ttf',\n",
       " '/home/pawjast/.local/share/fonts/Google/TrueType/Roboto/Roboto_Italic.ttf',\n",
       " '/home/pawjast/.local/share/fonts/Google/TrueType/Roboto/Roboto_Light.ttf',\n",
       " '/home/pawjast/.local/share/fonts/Google/TrueType/Roboto/Roboto_Light_Italic.ttf',\n",
       " '/home/pawjast/.local/share/fonts/Google/TrueType/Roboto/Roboto_Medium.ttf',\n",
       " '/home/pawjast/.local/share/fonts/Google/TrueType/Roboto/Roboto_Medium_Italic.ttf',\n",
       " '/home/pawjast/.local/share/fonts/Google/TrueType/Roboto/Roboto_Regular.ttf',\n",
       " '/home/pawjast/.local/share/fonts/Google/TrueType/Roboto/Roboto_Thin.ttf',\n",
       " '/home/pawjast/.local/share/fonts/Google/TrueType/Roboto/Roboto_Thin_Italic.ttf',\n",
       " '/home/pawjast/.local/share/fonts/Maniackers Design/TrueType/Monomaniac One/Monomaniac_One_Regular.ttf',\n",
       " '/home/pawjast/.local/share/fonts/Unknown Vendor/TrueType/Fira Code/Fira_Code_Bold.ttf',\n",
       " '/home/pawjast/.local/share/fonts/Unknown Vendor/TrueType/Fira Code/Fira_Code_Light.ttf',\n",
       " '/home/pawjast/.local/share/fonts/Unknown Vendor/TrueType/Fira Code/Fira_Code_Medium.ttf',\n",
       " '/home/pawjast/.local/share/fonts/Unknown Vendor/TrueType/Fira Code/Fira_Code_Regular.ttf',\n",
       " '/home/pawjast/.local/share/fonts/Unknown Vendor/TrueType/Fira Code/Fira_Code_SemiBold.ttf',\n",
       " '/home/pawjast/.local/share/fonts/Unknown Vendor/TrueType/Patrick Hand/Patrick_Hand_Regular.ttf',\n",
       " '/home/pawjast/.local/share/fonts/Unknown Vendor/TrueType/Rubik/Rubik_Light.ttf',\n",
       " '/home/pawjast/.local/share/fonts/Unknown Vendor/TrueType/Rubik/Rubik_Light_Italic.ttf',\n",
       " '/usr/share/fonts/opentype/font-awesome/FontAwesome.otf',\n",
       " '/usr/share/fonts/opentype/freefont/FreeMono.otf',\n",
       " '/usr/share/fonts/opentype/freefont/FreeMonoBold.otf',\n",
       " '/usr/share/fonts/opentype/freefont/FreeMonoBoldOblique.otf',\n",
       " '/usr/share/fonts/opentype/freefont/FreeMonoOblique.otf',\n",
       " '/usr/share/fonts/opentype/freefont/FreeSans.otf',\n",
       " '/usr/share/fonts/opentype/freefont/FreeSansBold.otf',\n",
       " '/usr/share/fonts/opentype/freefont/FreeSansBoldOblique.otf',\n",
       " '/usr/share/fonts/opentype/freefont/FreeSansOblique.otf',\n",
       " '/usr/share/fonts/opentype/freefont/FreeSerif.otf',\n",
       " '/usr/share/fonts/opentype/freefont/FreeSerifBold.otf',\n",
       " '/usr/share/fonts/opentype/freefont/FreeSerifBoldItalic.otf',\n",
       " '/usr/share/fonts/opentype/freefont/FreeSerifItalic.otf',\n",
       " '/usr/share/fonts/opentype/malayalam/Chilanka-Regular.otf',\n",
       " '/usr/share/fonts/opentype/malayalam/Gayathri-Bold.otf',\n",
       " '/usr/share/fonts/opentype/malayalam/Gayathri-Regular.otf',\n",
       " '/usr/share/fonts/opentype/malayalam/Gayathri-Thin.otf',\n",
       " '/usr/share/fonts/opentype/malayalam/Manjari-Bold.otf',\n",
       " '/usr/share/fonts/opentype/malayalam/Manjari-Regular.otf',\n",
       " '/usr/share/fonts/opentype/malayalam/Manjari-Thin.otf',\n",
       " '/usr/share/fonts/opentype/noto/NotoSansCJK-Bold.ttc',\n",
       " '/usr/share/fonts/opentype/noto/NotoSansCJK-Regular.ttc',\n",
       " '/usr/share/fonts/opentype/noto/NotoSerifCJK-Bold.ttc',\n",
       " '/usr/share/fonts/opentype/noto/NotoSerifCJK-Regular.ttc',\n",
       " '/usr/share/fonts/opentype/urw-base35/C059-BdIta.otf',\n",
       " '/usr/share/fonts/opentype/urw-base35/C059-Bold.otf',\n",
       " '/usr/share/fonts/opentype/urw-base35/C059-Italic.otf',\n",
       " '/usr/share/fonts/opentype/urw-base35/C059-Roman.otf',\n",
       " '/usr/share/fonts/opentype/urw-base35/D050000L.otf',\n",
       " '/usr/share/fonts/opentype/urw-base35/NimbusMonoPS-Bold.otf',\n",
       " '/usr/share/fonts/opentype/urw-base35/NimbusMonoPS-BoldItalic.otf',\n",
       " '/usr/share/fonts/opentype/urw-base35/NimbusMonoPS-Italic.otf',\n",
       " '/usr/share/fonts/opentype/urw-base35/NimbusMonoPS-Regular.otf',\n",
       " '/usr/share/fonts/opentype/urw-base35/NimbusRoman-Bold.otf',\n",
       " '/usr/share/fonts/opentype/urw-base35/NimbusRoman-BoldItalic.otf',\n",
       " '/usr/share/fonts/opentype/urw-base35/NimbusRoman-Italic.otf',\n",
       " '/usr/share/fonts/opentype/urw-base35/NimbusRoman-Regular.otf',\n",
       " '/usr/share/fonts/opentype/urw-base35/NimbusSans-Bold.otf',\n",
       " '/usr/share/fonts/opentype/urw-base35/NimbusSans-BoldItalic.otf',\n",
       " '/usr/share/fonts/opentype/urw-base35/NimbusSans-Italic.otf',\n",
       " '/usr/share/fonts/opentype/urw-base35/NimbusSans-Regular.otf',\n",
       " '/usr/share/fonts/opentype/urw-base35/NimbusSansNarrow-Bold.otf',\n",
       " '/usr/share/fonts/opentype/urw-base35/NimbusSansNarrow-BoldOblique.otf',\n",
       " '/usr/share/fonts/opentype/urw-base35/NimbusSansNarrow-Oblique.otf',\n",
       " '/usr/share/fonts/opentype/urw-base35/NimbusSansNarrow-Regular.otf',\n",
       " '/usr/share/fonts/opentype/urw-base35/P052-Bold.otf',\n",
       " '/usr/share/fonts/opentype/urw-base35/P052-BoldItalic.otf',\n",
       " '/usr/share/fonts/opentype/urw-base35/P052-Italic.otf',\n",
       " '/usr/share/fonts/opentype/urw-base35/P052-Roman.otf',\n",
       " '/usr/share/fonts/opentype/urw-base35/StandardSymbolsPS.otf',\n",
       " '/usr/share/fonts/opentype/urw-base35/URWBookman-Demi.otf',\n",
       " '/usr/share/fonts/opentype/urw-base35/URWBookman-DemiItalic.otf',\n",
       " '/usr/share/fonts/opentype/urw-base35/URWBookman-Light.otf',\n",
       " '/usr/share/fonts/opentype/urw-base35/URWBookman-LightItalic.otf',\n",
       " '/usr/share/fonts/opentype/urw-base35/URWGothic-Book.otf',\n",
       " '/usr/share/fonts/opentype/urw-base35/URWGothic-BookOblique.otf',\n",
       " '/usr/share/fonts/opentype/urw-base35/URWGothic-Demi.otf',\n",
       " '/usr/share/fonts/opentype/urw-base35/URWGothic-DemiOblique.otf',\n",
       " '/usr/share/fonts/opentype/urw-base35/Z003-MediumItalic.otf',\n",
       " '/usr/share/fonts/truetype/Gargi/Gargi.ttf',\n",
       " '/usr/share/fonts/truetype/Gubbi/Gubbi.ttf',\n",
       " '/usr/share/fonts/truetype/Nakula/nakula.ttf',\n",
       " '/usr/share/fonts/truetype/Navilu/Navilu.ttf',\n",
       " '/usr/share/fonts/truetype/Sahadeva/sahadeva.ttf',\n",
       " '/usr/share/fonts/truetype/Sarai/Sarai.ttf',\n",
       " '/usr/share/fonts/truetype/abyssinica/AbyssinicaSIL-Regular.ttf',\n",
       " '/usr/share/fonts/truetype/annapurna/AnnapurnaSIL-Bold.ttf',\n",
       " '/usr/share/fonts/truetype/annapurna/AnnapurnaSIL-Regular.ttf',\n",
       " '/usr/share/fonts/truetype/dejavu/DejaVuMathTeXGyre.ttf',\n",
       " '/usr/share/fonts/truetype/dejavu/DejaVuSans-Bold.ttf',\n",
       " '/usr/share/fonts/truetype/dejavu/DejaVuSans-BoldOblique.ttf',\n",
       " '/usr/share/fonts/truetype/dejavu/DejaVuSans-ExtraLight.ttf',\n",
       " '/usr/share/fonts/truetype/dejavu/DejaVuSans-Oblique.ttf',\n",
       " '/usr/share/fonts/truetype/dejavu/DejaVuSans.ttf',\n",
       " '/usr/share/fonts/truetype/dejavu/DejaVuSansCondensed-Bold.ttf',\n",
       " '/usr/share/fonts/truetype/dejavu/DejaVuSansCondensed-BoldOblique.ttf',\n",
       " '/usr/share/fonts/truetype/dejavu/DejaVuSansCondensed-Oblique.ttf',\n",
       " '/usr/share/fonts/truetype/dejavu/DejaVuSansCondensed.ttf',\n",
       " '/usr/share/fonts/truetype/dejavu/DejaVuSansMono-Bold.ttf',\n",
       " '/usr/share/fonts/truetype/dejavu/DejaVuSansMono-BoldOblique.ttf',\n",
       " '/usr/share/fonts/truetype/dejavu/DejaVuSansMono-Oblique.ttf',\n",
       " '/usr/share/fonts/truetype/dejavu/DejaVuSansMono.ttf',\n",
       " '/usr/share/fonts/truetype/dejavu/DejaVuSerif-Bold.ttf',\n",
       " '/usr/share/fonts/truetype/dejavu/DejaVuSerif-BoldItalic.ttf',\n",
       " '/usr/share/fonts/truetype/dejavu/DejaVuSerif-Italic.ttf',\n",
       " '/usr/share/fonts/truetype/dejavu/DejaVuSerif.ttf',\n",
       " '/usr/share/fonts/truetype/dejavu/DejaVuSerifCondensed-Bold.ttf',\n",
       " '/usr/share/fonts/truetype/dejavu/DejaVuSerifCondensed-BoldItalic.ttf',\n",
       " '/usr/share/fonts/truetype/dejavu/DejaVuSerifCondensed-Italic.ttf',\n",
       " '/usr/share/fonts/truetype/dejavu/DejaVuSerifCondensed.ttf',\n",
       " '/usr/share/fonts/truetype/droid/DroidSansFallbackFull.ttf',\n",
       " '/usr/share/fonts/truetype/font-awesome/fontawesome-webfont.ttf',\n",
       " '/usr/share/fonts/truetype/fonts-beng-extra/Ani.ttf',\n",
       " '/usr/share/fonts/truetype/fonts-beng-extra/JamrulNormal.ttf',\n",
       " '/usr/share/fonts/truetype/fonts-beng-extra/LikhanNormal.ttf',\n",
       " '/usr/share/fonts/truetype/fonts-beng-extra/MitraMono.ttf',\n",
       " '/usr/share/fonts/truetype/fonts-beng-extra/Mukti.ttf',\n",
       " '/usr/share/fonts/truetype/fonts-beng-extra/Muktibold.ttf',\n",
       " '/usr/share/fonts/truetype/fonts-deva-extra/chandas1-2.ttf',\n",
       " '/usr/share/fonts/truetype/fonts-deva-extra/kalimati.ttf',\n",
       " '/usr/share/fonts/truetype/fonts-deva-extra/samanata.ttf',\n",
       " '/usr/share/fonts/truetype/fonts-gujr-extra/Rekha.ttf',\n",
       " '/usr/share/fonts/truetype/fonts-gujr-extra/aakar-medium.ttf',\n",
       " '/usr/share/fonts/truetype/fonts-gujr-extra/padmaa-Bold.1.1.ttf',\n",
       " '/usr/share/fonts/truetype/fonts-gujr-extra/padmaa-Medium-0.5.ttf',\n",
       " '/usr/share/fonts/truetype/fonts-gujr-extra/padmaa.ttf',\n",
       " '/usr/share/fonts/truetype/fonts-guru-extra/Saab.ttf',\n",
       " '/usr/share/fonts/truetype/fonts-kalapi/Kalapi.ttf',\n",
       " '/usr/share/fonts/truetype/fonts-orya-extra/utkal.ttf',\n",
       " '/usr/share/fonts/truetype/fonts-telu-extra/Pothana2000.ttf',\n",
       " '/usr/share/fonts/truetype/fonts-telu-extra/vemana2000.ttf',\n",
       " '/usr/share/fonts/truetype/fonts-yrsa-rasa/Rasa-Bold.ttf',\n",
       " '/usr/share/fonts/truetype/fonts-yrsa-rasa/Rasa-Light.ttf',\n",
       " '/usr/share/fonts/truetype/fonts-yrsa-rasa/Rasa-Medium.ttf',\n",
       " '/usr/share/fonts/truetype/fonts-yrsa-rasa/Rasa-Regular.ttf',\n",
       " '/usr/share/fonts/truetype/fonts-yrsa-rasa/Rasa-SemiBold.ttf',\n",
       " '/usr/share/fonts/truetype/fonts-yrsa-rasa/Yrsa-Bold.ttf',\n",
       " '/usr/share/fonts/truetype/fonts-yrsa-rasa/Yrsa-BoldItalic.ttf',\n",
       " '/usr/share/fonts/truetype/fonts-yrsa-rasa/Yrsa-Italic.ttf',\n",
       " '/usr/share/fonts/truetype/fonts-yrsa-rasa/Yrsa-Light.ttf',\n",
       " '/usr/share/fonts/truetype/fonts-yrsa-rasa/Yrsa-LightItalic.ttf',\n",
       " '/usr/share/fonts/truetype/fonts-yrsa-rasa/Yrsa-Medium.ttf',\n",
       " '/usr/share/fonts/truetype/fonts-yrsa-rasa/Yrsa-MediumItalic.ttf',\n",
       " '/usr/share/fonts/truetype/fonts-yrsa-rasa/Yrsa-Regular.ttf',\n",
       " '/usr/share/fonts/truetype/fonts-yrsa-rasa/Yrsa-SemiBold.ttf',\n",
       " '/usr/share/fonts/truetype/fonts-yrsa-rasa/Yrsa-SemiBoldItalic.ttf',\n",
       " '/usr/share/fonts/truetype/freefont/FreeMono.ttf',\n",
       " '/usr/share/fonts/truetype/freefont/FreeMonoBold.ttf',\n",
       " '/usr/share/fonts/truetype/freefont/FreeMonoBoldOblique.ttf',\n",
       " '/usr/share/fonts/truetype/freefont/FreeMonoOblique.ttf',\n",
       " '/usr/share/fonts/truetype/freefont/FreeSans.ttf',\n",
       " '/usr/share/fonts/truetype/freefont/FreeSansBold.ttf',\n",
       " '/usr/share/fonts/truetype/freefont/FreeSansBoldOblique.ttf',\n",
       " '/usr/share/fonts/truetype/freefont/FreeSansOblique.ttf',\n",
       " '/usr/share/fonts/truetype/freefont/FreeSerif.ttf',\n",
       " '/usr/share/fonts/truetype/freefont/FreeSerifBold.ttf',\n",
       " '/usr/share/fonts/truetype/freefont/FreeSerifBoldItalic.ttf',\n",
       " '/usr/share/fonts/truetype/freefont/FreeSerifItalic.ttf',\n",
       " '/usr/share/fonts/truetype/kacst-one/KacstOne-Bold.ttf',\n",
       " '/usr/share/fonts/truetype/kacst-one/KacstOne.ttf',\n",
       " '/usr/share/fonts/truetype/kacst/KacstArt.ttf',\n",
       " '/usr/share/fonts/truetype/kacst/KacstBook.ttf',\n",
       " '/usr/share/fonts/truetype/kacst/KacstDecorative.ttf',\n",
       " '/usr/share/fonts/truetype/kacst/KacstDigital.ttf',\n",
       " '/usr/share/fonts/truetype/kacst/KacstFarsi.ttf',\n",
       " '/usr/share/fonts/truetype/kacst/KacstLetter.ttf',\n",
       " '/usr/share/fonts/truetype/kacst/KacstNaskh.ttf',\n",
       " '/usr/share/fonts/truetype/kacst/KacstOffice.ttf',\n",
       " '/usr/share/fonts/truetype/kacst/KacstPen.ttf',\n",
       " '/usr/share/fonts/truetype/kacst/KacstPoster.ttf',\n",
       " '/usr/share/fonts/truetype/kacst/KacstQurn.ttf',\n",
       " '/usr/share/fonts/truetype/kacst/KacstScreen.ttf',\n",
       " '/usr/share/fonts/truetype/kacst/KacstTitle.ttf',\n",
       " '/usr/share/fonts/truetype/kacst/KacstTitleL.ttf',\n",
       " '/usr/share/fonts/truetype/kacst/mry_KacstQurn.ttf',\n",
       " '/usr/share/fonts/truetype/lao/Phetsarath_OT.ttf',\n",
       " '/usr/share/fonts/truetype/lato/Lato-Black.ttf',\n",
       " '/usr/share/fonts/truetype/lato/Lato-BlackItalic.ttf',\n",
       " '/usr/share/fonts/truetype/lato/Lato-Bold.ttf',\n",
       " '/usr/share/fonts/truetype/lato/Lato-BoldItalic.ttf',\n",
       " '/usr/share/fonts/truetype/lato/Lato-Hairline.ttf',\n",
       " '/usr/share/fonts/truetype/lato/Lato-HairlineItalic.ttf',\n",
       " '/usr/share/fonts/truetype/lato/Lato-Heavy.ttf',\n",
       " '/usr/share/fonts/truetype/lato/Lato-HeavyItalic.ttf',\n",
       " '/usr/share/fonts/truetype/lato/Lato-Italic.ttf',\n",
       " '/usr/share/fonts/truetype/lato/Lato-Light.ttf',\n",
       " '/usr/share/fonts/truetype/lato/Lato-LightItalic.ttf',\n",
       " '/usr/share/fonts/truetype/lato/Lato-Medium.ttf',\n",
       " '/usr/share/fonts/truetype/lato/Lato-MediumItalic.ttf',\n",
       " '/usr/share/fonts/truetype/lato/Lato-Regular.ttf',\n",
       " '/usr/share/fonts/truetype/lato/Lato-Semibold.ttf',\n",
       " '/usr/share/fonts/truetype/lato/Lato-SemiboldItalic.ttf',\n",
       " '/usr/share/fonts/truetype/lato/Lato-Thin.ttf',\n",
       " '/usr/share/fonts/truetype/lato/Lato-ThinItalic.ttf',\n",
       " '/usr/share/fonts/truetype/liberation/LiberationMono-Bold.ttf',\n",
       " '/usr/share/fonts/truetype/liberation/LiberationMono-BoldItalic.ttf',\n",
       " '/usr/share/fonts/truetype/liberation/LiberationMono-Italic.ttf',\n",
       " '/usr/share/fonts/truetype/liberation/LiberationMono-Regular.ttf',\n",
       " '/usr/share/fonts/truetype/liberation/LiberationSans-Bold.ttf',\n",
       " '/usr/share/fonts/truetype/liberation/LiberationSans-BoldItalic.ttf',\n",
       " '/usr/share/fonts/truetype/liberation/LiberationSans-Italic.ttf',\n",
       " '/usr/share/fonts/truetype/liberation/LiberationSans-Regular.ttf',\n",
       " '/usr/share/fonts/truetype/liberation/LiberationSansNarrow-Bold.ttf',\n",
       " '/usr/share/fonts/truetype/liberation/LiberationSansNarrow-BoldItalic.ttf',\n",
       " '/usr/share/fonts/truetype/liberation/LiberationSansNarrow-Italic.ttf',\n",
       " '/usr/share/fonts/truetype/liberation/LiberationSansNarrow-Regular.ttf',\n",
       " '/usr/share/fonts/truetype/liberation/LiberationSerif-Bold.ttf',\n",
       " '/usr/share/fonts/truetype/liberation/LiberationSerif-BoldItalic.ttf',\n",
       " '/usr/share/fonts/truetype/liberation/LiberationSerif-Italic.ttf',\n",
       " '/usr/share/fonts/truetype/liberation/LiberationSerif-Regular.ttf',\n",
       " '/usr/share/fonts/truetype/libreoffice/opens___.ttf',\n",
       " '/usr/share/fonts/truetype/lohit-assamese/Lohit-Assamese.ttf',\n",
       " '/usr/share/fonts/truetype/lohit-bengali/Lohit-Bengali.ttf',\n",
       " '/usr/share/fonts/truetype/lohit-devanagari/Lohit-Devanagari.ttf',\n",
       " '/usr/share/fonts/truetype/lohit-gujarati/Lohit-Gujarati.ttf',\n",
       " '/usr/share/fonts/truetype/lohit-kannada/Lohit-Kannada.ttf',\n",
       " '/usr/share/fonts/truetype/lohit-malayalam/Lohit-Malayalam.ttf',\n",
       " '/usr/share/fonts/truetype/lohit-oriya/Lohit-Odia.ttf',\n",
       " '/usr/share/fonts/truetype/lohit-punjabi/Lohit-Gurmukhi.ttf',\n",
       " '/usr/share/fonts/truetype/lohit-tamil-classical/Lohit-Tamil-Classical.ttf',\n",
       " '/usr/share/fonts/truetype/lohit-tamil/Lohit-Tamil.ttf',\n",
       " '/usr/share/fonts/truetype/lohit-telugu/Lohit-Telugu.ttf',\n",
       " '/usr/share/fonts/truetype/malayalam/AnjaliOldLipi-Regular.ttf',\n",
       " '/usr/share/fonts/truetype/malayalam/Dyuthi-Regular.ttf',\n",
       " '/usr/share/fonts/truetype/malayalam/Karumbi-Regular.ttf',\n",
       " '/usr/share/fonts/truetype/malayalam/Keraleeyam-Regular.ttf',\n",
       " '/usr/share/fonts/truetype/malayalam/Meera-Regular.ttf',\n",
       " '/usr/share/fonts/truetype/malayalam/Rachana-Bold.ttf',\n",
       " '/usr/share/fonts/truetype/malayalam/Rachana-Regular.ttf',\n",
       " '/usr/share/fonts/truetype/malayalam/RaghuMalayalamSans-Regular.ttf',\n",
       " '/usr/share/fonts/truetype/malayalam/Suruma.ttf',\n",
       " '/usr/share/fonts/truetype/malayalam/Uroob-Regular.ttf',\n",
       " '/usr/share/fonts/truetype/msttcorefonts/Andale_Mono.ttf',\n",
       " '/usr/share/fonts/truetype/msttcorefonts/Arial.ttf',\n",
       " '/usr/share/fonts/truetype/msttcorefonts/Arial_Black.ttf',\n",
       " '/usr/share/fonts/truetype/msttcorefonts/Arial_Bold.ttf',\n",
       " '/usr/share/fonts/truetype/msttcorefonts/Arial_Bold_Italic.ttf',\n",
       " '/usr/share/fonts/truetype/msttcorefonts/Arial_Italic.ttf',\n",
       " '/usr/share/fonts/truetype/msttcorefonts/Comic_Sans_MS.ttf',\n",
       " '/usr/share/fonts/truetype/msttcorefonts/Comic_Sans_MS_Bold.ttf',\n",
       " '/usr/share/fonts/truetype/msttcorefonts/Courier_New.ttf',\n",
       " '/usr/share/fonts/truetype/msttcorefonts/Courier_New_Bold.ttf',\n",
       " '/usr/share/fonts/truetype/msttcorefonts/Courier_New_Bold_Italic.ttf',\n",
       " '/usr/share/fonts/truetype/msttcorefonts/Courier_New_Italic.ttf',\n",
       " '/usr/share/fonts/truetype/msttcorefonts/Georgia.ttf',\n",
       " '/usr/share/fonts/truetype/msttcorefonts/Georgia_Bold.ttf',\n",
       " '/usr/share/fonts/truetype/msttcorefonts/Georgia_Bold_Italic.ttf',\n",
       " '/usr/share/fonts/truetype/msttcorefonts/Georgia_Italic.ttf',\n",
       " '/usr/share/fonts/truetype/msttcorefonts/Impact.ttf',\n",
       " '/usr/share/fonts/truetype/msttcorefonts/Times_New_Roman.ttf',\n",
       " '/usr/share/fonts/truetype/msttcorefonts/Times_New_Roman_Bold.ttf',\n",
       " '/usr/share/fonts/truetype/msttcorefonts/Times_New_Roman_Bold_Italic.ttf',\n",
       " '/usr/share/fonts/truetype/msttcorefonts/Times_New_Roman_Italic.ttf',\n",
       " '/usr/share/fonts/truetype/msttcorefonts/Trebuchet_MS.ttf',\n",
       " '/usr/share/fonts/truetype/msttcorefonts/Trebuchet_MS_Bold.ttf',\n",
       " '/usr/share/fonts/truetype/msttcorefonts/Trebuchet_MS_Bold_Italic.ttf',\n",
       " '/usr/share/fonts/truetype/msttcorefonts/Trebuchet_MS_Italic.ttf',\n",
       " '/usr/share/fonts/truetype/msttcorefonts/Verdana.ttf',\n",
       " '/usr/share/fonts/truetype/msttcorefonts/Verdana_Bold.ttf',\n",
       " '/usr/share/fonts/truetype/msttcorefonts/Verdana_Bold_Italic.ttf',\n",
       " '/usr/share/fonts/truetype/msttcorefonts/Verdana_Italic.ttf',\n",
       " '/usr/share/fonts/truetype/msttcorefonts/Webdings.ttf',\n",
       " '/usr/share/fonts/truetype/msttcorefonts/andalemo.ttf',\n",
       " '/usr/share/fonts/truetype/msttcorefonts/arial.ttf',\n",
       " '/usr/share/fonts/truetype/msttcorefonts/arialbd.ttf',\n",
       " '/usr/share/fonts/truetype/msttcorefonts/arialbi.ttf',\n",
       " '/usr/share/fonts/truetype/msttcorefonts/ariali.ttf',\n",
       " '/usr/share/fonts/truetype/msttcorefonts/ariblk.ttf',\n",
       " '/usr/share/fonts/truetype/msttcorefonts/comic.ttf',\n",
       " '/usr/share/fonts/truetype/msttcorefonts/comicbd.ttf',\n",
       " '/usr/share/fonts/truetype/msttcorefonts/cour.ttf',\n",
       " '/usr/share/fonts/truetype/msttcorefonts/courbd.ttf',\n",
       " '/usr/share/fonts/truetype/msttcorefonts/courbi.ttf',\n",
       " '/usr/share/fonts/truetype/msttcorefonts/couri.ttf',\n",
       " '/usr/share/fonts/truetype/msttcorefonts/georgia.ttf',\n",
       " '/usr/share/fonts/truetype/msttcorefonts/georgiab.ttf',\n",
       " '/usr/share/fonts/truetype/msttcorefonts/georgiai.ttf',\n",
       " '/usr/share/fonts/truetype/msttcorefonts/georgiaz.ttf',\n",
       " '/usr/share/fonts/truetype/msttcorefonts/impact.ttf',\n",
       " '/usr/share/fonts/truetype/msttcorefonts/times.ttf',\n",
       " '/usr/share/fonts/truetype/msttcorefonts/timesbd.ttf',\n",
       " '/usr/share/fonts/truetype/msttcorefonts/timesbi.ttf',\n",
       " '/usr/share/fonts/truetype/msttcorefonts/timesi.ttf',\n",
       " '/usr/share/fonts/truetype/msttcorefonts/trebuc.ttf',\n",
       " '/usr/share/fonts/truetype/msttcorefonts/trebucbd.ttf',\n",
       " '/usr/share/fonts/truetype/msttcorefonts/trebucbi.ttf',\n",
       " '/usr/share/fonts/truetype/msttcorefonts/trebucit.ttf',\n",
       " '/usr/share/fonts/truetype/msttcorefonts/verdana.ttf',\n",
       " '/usr/share/fonts/truetype/msttcorefonts/verdanab.ttf',\n",
       " '/usr/share/fonts/truetype/msttcorefonts/verdanai.ttf',\n",
       " '/usr/share/fonts/truetype/msttcorefonts/verdanaz.ttf',\n",
       " '/usr/share/fonts/truetype/msttcorefonts/webdings.ttf',\n",
       " '/usr/share/fonts/truetype/noto/NotoColorEmoji.ttf',\n",
       " '/usr/share/fonts/truetype/noto/NotoMono-Regular.ttf',\n",
       " '/usr/share/fonts/truetype/noto/NotoSansMono-Bold.ttf',\n",
       " '/usr/share/fonts/truetype/noto/NotoSansMono-Regular.ttf',\n",
       " '/usr/share/fonts/truetype/padauk/Padauk-Bold.ttf',\n",
       " '/usr/share/fonts/truetype/padauk/Padauk-Regular.ttf',\n",
       " '/usr/share/fonts/truetype/padauk/PadaukBook-Bold.ttf',\n",
       " '/usr/share/fonts/truetype/padauk/PadaukBook-Regular.ttf',\n",
       " '/usr/share/fonts/truetype/pagul/Pagul.ttf',\n",
       " '/usr/share/fonts/truetype/samyak-fonts/Samyak-Gujarati.ttf',\n",
       " '/usr/share/fonts/truetype/samyak-fonts/Samyak-Malayalam.ttf',\n",
       " '/usr/share/fonts/truetype/samyak-fonts/Samyak-Tamil.ttf',\n",
       " '/usr/share/fonts/truetype/samyak/Samyak-Devanagari.ttf',\n",
       " '/usr/share/fonts/truetype/sinhala/lklug.ttf',\n",
       " '/usr/share/fonts/truetype/teluguvijayam/Gidugu.ttf',\n",
       " '/usr/share/fonts/truetype/teluguvijayam/Gurajada.ttf',\n",
       " '/usr/share/fonts/truetype/teluguvijayam/LakkiReddy.ttf',\n",
       " '/usr/share/fonts/truetype/teluguvijayam/Mandali-Regular.ttf',\n",
       " '/usr/share/fonts/truetype/teluguvijayam/NATS.ttf',\n",
       " '/usr/share/fonts/truetype/teluguvijayam/NTR.ttf',\n",
       " '/usr/share/fonts/truetype/teluguvijayam/Peddana-Regular.ttf',\n",
       " '/usr/share/fonts/truetype/teluguvijayam/Ponnala.ttf',\n",
       " '/usr/share/fonts/truetype/teluguvijayam/PottiSreeramulu.ttf',\n",
       " '/usr/share/fonts/truetype/teluguvijayam/Ramaraja-Regular.ttf',\n",
       " '/usr/share/fonts/truetype/teluguvijayam/RaviPrakash.ttf',\n",
       " '/usr/share/fonts/truetype/teluguvijayam/SreeKrushnadevaraya.ttf',\n",
       " '/usr/share/fonts/truetype/teluguvijayam/Suravaram.ttf',\n",
       " '/usr/share/fonts/truetype/teluguvijayam/SyamalaRamana.ttf',\n",
       " '/usr/share/fonts/truetype/teluguvijayam/TenaliRamakrishna-Regular.ttf',\n",
       " '/usr/share/fonts/truetype/teluguvijayam/TimmanaRegular.ttf',\n",
       " '/usr/share/fonts/truetype/teluguvijayam/dhurjati.ttf',\n",
       " '/usr/share/fonts/truetype/teluguvijayam/mallanna.ttf',\n",
       " '/usr/share/fonts/truetype/teluguvijayam/ramabhadra.ttf',\n",
       " '/usr/share/fonts/truetype/teluguvijayam/suranna.ttf',\n",
       " '/usr/share/fonts/truetype/tibetan-machine/TibetanMachineUni.ttf',\n",
       " '/usr/share/fonts/truetype/tlwg/Garuda-Bold.ttf',\n",
       " '/usr/share/fonts/truetype/tlwg/Garuda-BoldOblique.ttf',\n",
       " '/usr/share/fonts/truetype/tlwg/Garuda-Oblique.ttf',\n",
       " '/usr/share/fonts/truetype/tlwg/Garuda.ttf',\n",
       " '/usr/share/fonts/truetype/tlwg/Kinnari-Bold.ttf',\n",
       " '/usr/share/fonts/truetype/tlwg/Kinnari-BoldItalic.ttf',\n",
       " '/usr/share/fonts/truetype/tlwg/Kinnari-BoldOblique.ttf',\n",
       " '/usr/share/fonts/truetype/tlwg/Kinnari-Italic.ttf',\n",
       " '/usr/share/fonts/truetype/tlwg/Kinnari-Oblique.ttf',\n",
       " '/usr/share/fonts/truetype/tlwg/Kinnari.ttf',\n",
       " '/usr/share/fonts/truetype/tlwg/Laksaman-Bold.ttf',\n",
       " '/usr/share/fonts/truetype/tlwg/Laksaman-BoldItalic.ttf',\n",
       " '/usr/share/fonts/truetype/tlwg/Laksaman-Italic.ttf',\n",
       " '/usr/share/fonts/truetype/tlwg/Laksaman.ttf',\n",
       " '/usr/share/fonts/truetype/tlwg/Loma-Bold.ttf',\n",
       " '/usr/share/fonts/truetype/tlwg/Loma-BoldOblique.ttf',\n",
       " '/usr/share/fonts/truetype/tlwg/Loma-Oblique.ttf',\n",
       " '/usr/share/fonts/truetype/tlwg/Loma.ttf',\n",
       " '/usr/share/fonts/truetype/tlwg/Norasi-Bold.ttf',\n",
       " '/usr/share/fonts/truetype/tlwg/Norasi-BoldItalic.ttf',\n",
       " '/usr/share/fonts/truetype/tlwg/Norasi-BoldOblique.ttf',\n",
       " '/usr/share/fonts/truetype/tlwg/Norasi-Italic.ttf',\n",
       " '/usr/share/fonts/truetype/tlwg/Norasi-Oblique.ttf',\n",
       " '/usr/share/fonts/truetype/tlwg/Norasi.ttf',\n",
       " '/usr/share/fonts/truetype/tlwg/Purisa-Bold.ttf',\n",
       " '/usr/share/fonts/truetype/tlwg/Purisa-BoldOblique.ttf',\n",
       " '/usr/share/fonts/truetype/tlwg/Purisa-Oblique.ttf',\n",
       " '/usr/share/fonts/truetype/tlwg/Purisa.ttf',\n",
       " '/usr/share/fonts/truetype/tlwg/Sawasdee-Bold.ttf',\n",
       " '/usr/share/fonts/truetype/tlwg/Sawasdee-BoldOblique.ttf',\n",
       " '/usr/share/fonts/truetype/tlwg/Sawasdee-Oblique.ttf',\n",
       " '/usr/share/fonts/truetype/tlwg/Sawasdee.ttf',\n",
       " '/usr/share/fonts/truetype/tlwg/TlwgMono-Bold.ttf',\n",
       " '/usr/share/fonts/truetype/tlwg/TlwgMono-BoldOblique.ttf',\n",
       " '/usr/share/fonts/truetype/tlwg/TlwgMono-Oblique.ttf',\n",
       " '/usr/share/fonts/truetype/tlwg/TlwgMono.ttf',\n",
       " '/usr/share/fonts/truetype/tlwg/TlwgTypewriter-Bold.ttf',\n",
       " '/usr/share/fonts/truetype/tlwg/TlwgTypewriter-BoldOblique.ttf',\n",
       " '/usr/share/fonts/truetype/tlwg/TlwgTypewriter-Oblique.ttf',\n",
       " '/usr/share/fonts/truetype/tlwg/TlwgTypewriter.ttf',\n",
       " '/usr/share/fonts/truetype/tlwg/TlwgTypist-Bold.ttf',\n",
       " '/usr/share/fonts/truetype/tlwg/TlwgTypist-BoldOblique.ttf',\n",
       " '/usr/share/fonts/truetype/tlwg/TlwgTypist-Oblique.ttf',\n",
       " '/usr/share/fonts/truetype/tlwg/TlwgTypist.ttf',\n",
       " '/usr/share/fonts/truetype/tlwg/TlwgTypo-Bold.ttf',\n",
       " '/usr/share/fonts/truetype/tlwg/TlwgTypo-BoldOblique.ttf',\n",
       " '/usr/share/fonts/truetype/tlwg/TlwgTypo-Oblique.ttf',\n",
       " '/usr/share/fonts/truetype/tlwg/TlwgTypo.ttf',\n",
       " '/usr/share/fonts/truetype/tlwg/Umpush-Bold.ttf',\n",
       " '/usr/share/fonts/truetype/tlwg/Umpush-BoldOblique.ttf',\n",
       " '/usr/share/fonts/truetype/tlwg/Umpush-Light.ttf',\n",
       " '/usr/share/fonts/truetype/tlwg/Umpush-LightOblique.ttf',\n",
       " '/usr/share/fonts/truetype/tlwg/Umpush-Oblique.ttf',\n",
       " '/usr/share/fonts/truetype/tlwg/Umpush.ttf',\n",
       " '/usr/share/fonts/truetype/tlwg/Waree-Bold.ttf',\n",
       " '/usr/share/fonts/truetype/tlwg/Waree-BoldOblique.ttf',\n",
       " '/usr/share/fonts/truetype/tlwg/Waree-Oblique.ttf',\n",
       " '/usr/share/fonts/truetype/tlwg/Waree.ttf',\n",
       " '/usr/share/fonts/truetype/ttf-khmeros-core/KhmerOS.ttf',\n",
       " '/usr/share/fonts/truetype/ttf-khmeros-core/KhmerOSsys.ttf',\n",
       " '/usr/share/fonts/truetype/ubuntu/Ubuntu-B.ttf',\n",
       " '/usr/share/fonts/truetype/ubuntu/Ubuntu-BI.ttf',\n",
       " '/usr/share/fonts/truetype/ubuntu/Ubuntu-C.ttf',\n",
       " '/usr/share/fonts/truetype/ubuntu/Ubuntu-Italic[wdth,wght].ttf',\n",
       " '/usr/share/fonts/truetype/ubuntu/Ubuntu-L.ttf',\n",
       " '/usr/share/fonts/truetype/ubuntu/Ubuntu-LI.ttf',\n",
       " '/usr/share/fonts/truetype/ubuntu/Ubuntu-M.ttf',\n",
       " '/usr/share/fonts/truetype/ubuntu/Ubuntu-MI.ttf',\n",
       " '/usr/share/fonts/truetype/ubuntu/Ubuntu-R.ttf',\n",
       " '/usr/share/fonts/truetype/ubuntu/Ubuntu-RI.ttf',\n",
       " '/usr/share/fonts/truetype/ubuntu/Ubuntu-Th.ttf',\n",
       " '/usr/share/fonts/truetype/ubuntu/UbuntuMono-B.ttf',\n",
       " '/usr/share/fonts/truetype/ubuntu/UbuntuMono-BI.ttf',\n",
       " '/usr/share/fonts/truetype/ubuntu/UbuntuMono-Italic[wght].ttf',\n",
       " '/usr/share/fonts/truetype/ubuntu/UbuntuMono-R.ttf',\n",
       " '/usr/share/fonts/truetype/ubuntu/UbuntuMono-RI.ttf',\n",
       " '/usr/share/fonts/truetype/ubuntu/UbuntuMono[wght].ttf',\n",
       " '/usr/share/fonts/truetype/ubuntu/Ubuntu[wdth,wght].ttf']"
      ]
     },
     "execution_count": 6,
     "metadata": {},
     "output_type": "execute_result"
    }
   ],
   "source": [
    "sorted(font_manager.findSystemFonts(fontpaths=None, fontext=\"ttf\"))"
   ]
  },
  {
   "cell_type": "markdown",
   "metadata": {},
   "source": [
    "The count of all the font files that were found in the system, including various styles of the same font."
   ]
  },
  {
   "cell_type": "code",
   "execution_count": 7,
   "metadata": {},
   "outputs": [
    {
     "data": {
      "text/plain": [
       "407"
      ]
     },
     "execution_count": 7,
     "metadata": {},
     "output_type": "execute_result"
    }
   ],
   "source": [
    "\n",
    "len(font_manager.findSystemFonts(fontpaths=None, fontext=\"ttf\"))"
   ]
  },
  {
   "cell_type": "markdown",
   "metadata": {},
   "source": [
    "## Add Paths of all system fonts to the `font_manager`.\n",
    "\n",
    "This will make Matplotlib aware of the fonts and you'll be able to use them.\n",
    "\n",
    "We need to add all the font files that we've found to the `font_manager`."
   ]
  },
  {
   "cell_type": "code",
   "execution_count": 8,
   "metadata": {},
   "outputs": [
    {
     "data": {
      "text/plain": [
       "132"
      ]
     },
     "execution_count": 8,
     "metadata": {},
     "output_type": "execute_result"
    }
   ],
   "source": [
    "# Fonts visible to `matplotlib` at the moment\n",
    "len(font_manager.get_font_names())"
   ]
  },
  {
   "cell_type": "code",
   "execution_count": 9,
   "metadata": {},
   "outputs": [
    {
     "name": "stdout",
     "output_type": "stream",
     "text": [
      "Problem with the: /usr/share/fonts/truetype/noto/NotoColorEmoji.ttf\n"
     ]
    }
   ],
   "source": [
    "for font in font_manager.findSystemFonts(fontpaths=None, fontext=\"ttf\"):\n",
    "    try:\n",
    "        font_manager.fontManager.addfont(font)\n",
    "    except:\n",
    "        print(f\"Problem with the: {font}\")"
   ]
  },
  {
   "cell_type": "code",
   "execution_count": 10,
   "metadata": {},
   "outputs": [
    {
     "data": {
      "text/plain": [
       "180"
      ]
     },
     "execution_count": 10,
     "metadata": {},
     "output_type": "execute_result"
    }
   ],
   "source": [
    "# Fonts visible to `matplotlib` after  adding additional fonts from the system\n",
    "len(font_manager.get_font_names())"
   ]
  },
  {
   "cell_type": "markdown",
   "metadata": {},
   "source": [
    "The number of available fonts has increased from 132 to 180."
   ]
  },
  {
   "cell_type": "markdown",
   "metadata": {},
   "source": [
    "## Check if our newly installed font is available for `matplotlib`"
   ]
  },
  {
   "cell_type": "code",
   "execution_count": 11,
   "metadata": {},
   "outputs": [
    {
     "data": {
      "text/plain": [
       "True"
      ]
     },
     "execution_count": 11,
     "metadata": {},
     "output_type": "execute_result"
    }
   ],
   "source": [
    "\"Rubik\" in font_manager.get_font_names()"
   ]
  },
  {
   "cell_type": "markdown",
   "metadata": {},
   "source": [
    "## Plot: use new font - direct method\n",
    "\n",
    "See `fontfamily` property of text:  \n",
    "https://matplotlib.org/stable/api/text_api.html#module-matplotlib.text\n",
    "\n",
    "As you can see below, there are 3 `keywords`/`properties` to use a new font inside a text object:\n",
    "* `fontname`\n",
    "* `fontfamily`\n",
    "* `family`"
   ]
  },
  {
   "cell_type": "code",
   "execution_count": 12,
   "metadata": {},
   "outputs": [
    {
     "data": {
      "image/png": "[encoded data removed]",
      "text/plain": [
       "<Figure size 1400x600 with 3 Axes>"
      ]
     },
     "metadata": {},
     "output_type": "display_data"
    }
   ],
   "source": [
    "fig, axs = plt.subplots(\n",
    "    1, 3,\n",
    "    figsize=(14, 6),\n",
    "    layout=\"constrained\"\n",
    ")\n",
    "\n",
    "axs[0].set_title(\n",
    "    \"My title using `Rubik` font\",\n",
    "    fontname=\"Rubik\",  # Using 1st keyword\n",
    "    fontsize=25\n",
    ")\n",
    "axs[0].text(\n",
    "    0.5, 0.5,\n",
    "    \"parameter: fontname\",\n",
    "    fontname=\"Rubik\",  # Using 1st keyword\n",
    "    fontsize=18,\n",
    "    ha=\"center\",\n",
    "    va=\"center\"\n",
    ")\n",
    "axs[1].set_title(\n",
    "    \"My title using `Rubik` font\",\n",
    "    fontfamily=\"Rubik\",  # Using 2nd keyword\n",
    "    fontsize=25\n",
    ")\n",
    "axs[1].text(\n",
    "    0.5, 0.5,\n",
    "    \"parameter: fontfamily\",\n",
    "    fontfamily=\"Rubik\",  # Using 2nd keyword\n",
    "    fontsize=18,\n",
    "    ha=\"center\",\n",
    "    va=\"center\"\n",
    ")\n",
    "axs[2].set_title(\n",
    "    \"My title using `Rubik` font\",\n",
    "    family=\"Rubik\",  # Using 3rd keyword\n",
    "    fontsize=25\n",
    ")\n",
    "axs[2].text(\n",
    "    0.5, 0.5,\n",
    "    \"parameter: family\",\n",
    "    family=\"Rubik\",  # Using 3rd keyword\n",
    "    fontsize=18,\n",
    "    ha=\"center\",\n",
    "    va=\"center\"\n",
    ")\n",
    "\n",
    "for ax in axs:\n",
    "    ax.set_xlabel(\"x label\")\n",
    "    ax.set_ylabel(\"y label\")"
   ]
  },
  {
   "cell_type": "markdown",
   "metadata": {},
   "source": [
    "## Plot: use new font - `rcParams` "
   ]
  },
  {
   "cell_type": "code",
   "execution_count": 13,
   "metadata": {},
   "outputs": [],
   "source": [
    "rcParams[\"font.family\"] = \"Rubik\""
   ]
  },
  {
   "cell_type": "code",
   "execution_count": 14,
   "metadata": {},
   "outputs": [
    {
     "data": {
      "text/plain": [
       "Text(0, 0.5, 'y label')"
      ]
     },
     "execution_count": 14,
     "metadata": {},
     "output_type": "execute_result"
    },
    {
     "data": {
      "image/png": "[encoded data removed]",
      "text/plain": [
       "<Figure size 1000x600 with 1 Axes>"
      ]
     },
     "metadata": {},
     "output_type": "display_data"
    }
   ],
   "source": [
    "fig, ax = plt.subplots(\n",
    "    figsize=(10, 6),\n",
    "    layout=\"constrained\"\n",
    ")\n",
    "\n",
    "ax.set_title(\n",
    "    \"I'm using `Rubik` font everywhere by default\",\n",
    "    fontsize=25\n",
    ")\n",
    "ax.set_xlabel(\n",
    "    \"x label\",\n",
    "    fontsize=20\n",
    ")\n",
    "ax.set_ylabel(\n",
    "    \"y label\",\n",
    "    fontsize=20\n",
    ")"
   ]
  },
  {
   "cell_type": "markdown",
   "metadata": {},
   "source": [
    "## Use fonts that aren't installed"
   ]
  },
  {
   "cell_type": "markdown",
   "metadata": {},
   "source": [
    "### Specify folder to fonts"
   ]
  },
  {
   "cell_type": "code",
   "execution_count": 15,
   "metadata": {},
   "outputs": [
    {
     "data": {
      "text/plain": [
       "PosixPath('fonts')"
      ]
     },
     "execution_count": 15,
     "metadata": {},
     "output_type": "execute_result"
    }
   ],
   "source": [
    "my_path = Path('./fonts')\n",
    "my_path"
   ]
  },
  {
   "cell_type": "code",
   "execution_count": 16,
   "metadata": {},
   "outputs": [],
   "source": [
    "# Show all font files\n",
    "# all_paths = list()\n",
    "# for p in my_path.rglob(\"*.ttf\"):\n",
    "#     print(p)\n",
    "#     all_paths.append(p)"
   ]
  },
  {
   "cell_type": "code",
   "execution_count": 17,
   "metadata": {},
   "outputs": [
    {
     "data": {
      "text/plain": [
       "[PosixPath('fonts/Pixelify_Sans'),\n",
       " PosixPath('fonts/Fascinate_Inline'),\n",
       " PosixPath('fonts/Dancing_Script')]"
      ]
     },
     "execution_count": 17,
     "metadata": {},
     "output_type": "execute_result"
    }
   ],
   "source": [
    "# Show all subfolders inside `fonts`\n",
    "all_fonts = [x for x in my_path.iterdir() if x.is_dir()]\n",
    "all_fonts"
   ]
  },
  {
   "cell_type": "code",
   "execution_count": 18,
   "metadata": {},
   "outputs": [
    {
     "data": {
      "text/plain": [
       "['/home/pawjast/Documents/my github/medium-WIP/dev_medium/fonts/Dancing_Script/DancingScript-VariableFont_wght.ttf',\n",
       " '/home/pawjast/Documents/my github/medium-WIP/dev_medium/fonts/Dancing_Script/static/DancingScript-Bold.ttf',\n",
       " '/home/pawjast/Documents/my github/medium-WIP/dev_medium/fonts/Dancing_Script/static/DancingScript-Medium.ttf',\n",
       " '/home/pawjast/Documents/my github/medium-WIP/dev_medium/fonts/Dancing_Script/static/DancingScript-Regular.ttf',\n",
       " '/home/pawjast/Documents/my github/medium-WIP/dev_medium/fonts/Dancing_Script/static/DancingScript-SemiBold.ttf',\n",
       " '/home/pawjast/Documents/my github/medium-WIP/dev_medium/fonts/Fascinate_Inline/FascinateInline-Regular.ttf',\n",
       " '/home/pawjast/Documents/my github/medium-WIP/dev_medium/fonts/Pixelify_Sans/PixelifySans-VariableFont_wght.ttf',\n",
       " '/home/pawjast/Documents/my github/medium-WIP/dev_medium/fonts/Pixelify_Sans/static/PixelifySans-Bold.ttf',\n",
       " '/home/pawjast/Documents/my github/medium-WIP/dev_medium/fonts/Pixelify_Sans/static/PixelifySans-Medium.ttf',\n",
       " '/home/pawjast/Documents/my github/medium-WIP/dev_medium/fonts/Pixelify_Sans/static/PixelifySans-Regular.ttf',\n",
       " '/home/pawjast/Documents/my github/medium-WIP/dev_medium/fonts/Pixelify_Sans/static/PixelifySans-SemiBold.ttf']"
      ]
     },
     "execution_count": 18,
     "metadata": {},
     "output_type": "execute_result"
    }
   ],
   "source": [
    "all_not_installed = sorted(font_manager.findSystemFonts(fontpaths=all_fonts, fontext='ttf'))\n",
    "all_not_installed"
   ]
  },
  {
   "cell_type": "markdown",
   "metadata": {},
   "source": [
    "### Way 1: Manually add one of the fonts - FascinateInline-Regular\n",
    "\n",
    "Using `font_manager.fontManager.addfont()`"
   ]
  },
  {
   "cell_type": "code",
   "execution_count": 19,
   "metadata": {},
   "outputs": [
    {
     "data": {
      "text/plain": [
       "'/home/pawjast/Documents/my github/medium-WIP/dev_medium/fonts/Fascinate_Inline/FascinateInline-Regular.ttf'"
      ]
     },
     "execution_count": 19,
     "metadata": {},
     "output_type": "execute_result"
    }
   ],
   "source": [
    "all_not_installed[5]"
   ]
  },
  {
   "cell_type": "code",
   "execution_count": 20,
   "metadata": {},
   "outputs": [],
   "source": [
    "# Add font\n",
    "font_manager.fontManager.addfont(all_not_installed[5])"
   ]
  },
  {
   "cell_type": "code",
   "execution_count": 21,
   "metadata": {},
   "outputs": [
    {
     "data": {
      "text/plain": [
       "True"
      ]
     },
     "execution_count": 21,
     "metadata": {},
     "output_type": "execute_result"
    }
   ],
   "source": [
    "# Check if font is available\n",
    "\"Fascinate Inline\" in font_manager.get_font_names()"
   ]
  },
  {
   "cell_type": "code",
   "execution_count": 22,
   "metadata": {},
   "outputs": [
    {
     "data": {
      "text/plain": [
       "Text(0, 0.5, 'y label')"
      ]
     },
     "execution_count": 22,
     "metadata": {},
     "output_type": "execute_result"
    },
    {
     "data": {
      "image/png": "[encoded data removed]",
      "text/plain": [
       "<Figure size 1000x600 with 1 Axes>"
      ]
     },
     "metadata": {},
     "output_type": "display_data"
    }
   ],
   "source": [
    "# Reset all previous settings to the defaults\n",
    "rcdefaults()\n",
    "\n",
    "fig, ax = plt.subplots(\n",
    "    figsize=(10, 6),\n",
    "    layout=\"constrained\"\n",
    ")\n",
    "\n",
    "ax.set_title(\n",
    "    \"My title using `Fascinate Inline` font\",\n",
    "    fontname=\"Fascinate Inline\",\n",
    "    fontsize=25\n",
    ")\n",
    "\n",
    "# This still uses default font\n",
    "ax.set_xlabel(\"x label\")\n",
    "ax.set_ylabel(\"y label\")"
   ]
  },
  {
   "cell_type": "markdown",
   "metadata": {},
   "source": [
    "### Way 2: Manually add one of the fonts - DancingScript-Bold\n",
    "\n",
    "Using `font_manager.FontProperties()`"
   ]
  },
  {
   "cell_type": "code",
   "execution_count": 23,
   "metadata": {},
   "outputs": [
    {
     "data": {
      "text/plain": [
       "'/home/pawjast/Documents/my github/medium-WIP/dev_medium/fonts/Dancing_Script/static/DancingScript-Bold.ttf'"
      ]
     },
     "execution_count": 23,
     "metadata": {},
     "output_type": "execute_result"
    }
   ],
   "source": [
    "all_not_installed[1]"
   ]
  },
  {
   "cell_type": "code",
   "execution_count": 24,
   "metadata": {},
   "outputs": [
    {
     "data": {
      "text/plain": [
       "<matplotlib.font_manager.FontProperties at 0x7f308d2ea9d0>"
      ]
     },
     "execution_count": 24,
     "metadata": {},
     "output_type": "execute_result"
    }
   ],
   "source": [
    "# Add font\n",
    "font_manager.FontProperties(\n",
    "    fname=all_not_installed[1]\n",
    ")"
   ]
  },
  {
   "cell_type": "code",
   "execution_count": 25,
   "metadata": {},
   "outputs": [
    {
     "data": {
      "text/plain": [
       "True"
      ]
     },
     "execution_count": 25,
     "metadata": {},
     "output_type": "execute_result"
    }
   ],
   "source": [
    "# Check if font is available\n",
    "\"Dancing Script\" in font_manager.get_font_names()"
   ]
  },
  {
   "cell_type": "code",
   "execution_count": 26,
   "metadata": {},
   "outputs": [
    {
     "data": {
      "text/plain": [
       "Text(0, 0.5, 'y label')"
      ]
     },
     "execution_count": 26,
     "metadata": {},
     "output_type": "execute_result"
    },
    {
     "data": {
      "image/png": "[encoded data removed]",
      "text/plain": [
       "<Figure size 1000x600 with 1 Axes>"
      ]
     },
     "metadata": {},
     "output_type": "display_data"
    }
   ],
   "source": [
    "fig, ax = plt.subplots(\n",
    "    figsize=(10, 6),\n",
    "    layout=\"constrained\"\n",
    ")\n",
    "\n",
    "ax.set_title(\n",
    "    \"My title using `Dancing Script` font\",\n",
    "    fontname=\"Dancing Script\",\n",
    "    fontsize=25\n",
    ")\n",
    "\n",
    "# This still uses default font\n",
    "ax.set_xlabel(\"x label\")\n",
    "ax.set_ylabel(\"y label\")"
   ]
  },
  {
   "cell_type": "markdown",
   "metadata": {},
   "source": [
    "## Recap:\n",
    "\n",
    "* method to show fonts available in the System\n",
    "* method to show fonts available to matplotlib\n",
    "* 2 methods to add fonts to font manager so matplotlib sees them\n",
    "* you can use installed and not installed font files"
   ]
  }
 ],
 "metadata": {
  "kernelspec": {
   "display_name": "venv_maps",
   "language": "python",
   "name": "python3"
  },
  "language_info": {
   "codemirror_mode": {
    "name": "ipython",
    "version": 3
   },
   "file_extension": ".py",
   "mimetype": "text/x-python",
   "name": "python",
   "nbconvert_exporter": "python",
   "pygments_lexer": "ipython3",
   "version": "3.10.2"
  }
 },
 "nbformat": 4,
 "nbformat_minor": 2
}
