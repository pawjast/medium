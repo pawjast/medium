{
 "cells": [
  {
   "cell_type": "markdown",
   "metadata": {},
   "source": [
    "# How to use _DataFrame.Groupby()_"
   ]
  },
  {
   "cell_type": "markdown",
   "metadata": {},
   "source": [
    "[Pandas user guide](https://pandas.pydata.org/pandas-docs/stable/user_guide/groupby.html#dataframe-column-selection-in-groupby)"
   ]
  },
  {
   "cell_type": "markdown",
   "metadata": {},
   "source": [
    "## Imports"
   ]
  },
  {
   "cell_type": "code",
   "execution_count": 1,
   "metadata": {},
   "outputs": [],
   "source": [
    "import pandas as pd\n",
    "import numpy as np\n",
    "from pathlib import Path\n",
    "import scipy"
   ]
  },
  {
   "cell_type": "markdown",
   "metadata": {},
   "source": [
    "## Settings"
   ]
  },
  {
   "cell_type": "code",
   "execution_count": 2,
   "metadata": {},
   "outputs": [],
   "source": [
    "pd.set_option(\"display.precision\", 2)"
   ]
  },
  {
   "cell_type": "markdown",
   "metadata": {},
   "source": [
    "## Load the data\n",
    "\n",
    "The dataset consists of measurements from a ficticious vinyl records pressing company.\n",
    "\n",
    "There's a company with two locations:\n",
    "* London, UK\n",
    "* Cracow, Poland\n",
    "\n",
    "London plant manufactures vinyl records made of 3 different materials.\n",
    "\n",
    "Cracow plant manufactures vinyl records made of 2 different materials.\n",
    "\n",
    "We've collected a few batches of measurements for various materials.\n",
    "\n",
    "The measurements are:\n",
    "* weight of a vinyl records in grams\n",
    "* diameter of a vinyl records in milimiters"
   ]
  },
  {
   "cell_type": "code",
   "execution_count": 3,
   "metadata": {},
   "outputs": [],
   "source": [
    "path = Path(\"datasets/vinyl_records.csv\")"
   ]
  },
  {
   "cell_type": "code",
   "execution_count": 4,
   "metadata": {},
   "outputs": [],
   "source": [
    "df = pd.read_csv(path)"
   ]
  },
  {
   "cell_type": "markdown",
   "metadata": {},
   "source": [
    "### Inspect the data"
   ]
  },
  {
   "cell_type": "code",
   "execution_count": 5,
   "metadata": {},
   "outputs": [
    {
     "data": {
      "text/plain": [
       "(40, 6)"
      ]
     },
     "execution_count": 5,
     "metadata": {},
     "output_type": "execute_result"
    }
   ],
   "source": [
    "df.shape"
   ]
  },
  {
   "cell_type": "markdown",
   "metadata": {},
   "source": [
    "**Comment:** The data set comprises of:\n",
    "- 40 rows\n",
    "- 6 columns"
   ]
  },
  {
   "cell_type": "markdown",
   "metadata": {},
   "source": [
    "Let's preview the data. It's not big so it can be displayed in full."
   ]
  },
  {
   "cell_type": "code",
   "execution_count": 6,
   "metadata": {},
   "outputs": [
    {
     "data": {
      "text/html": [
       "<div>\n",
       "<style scoped>\n",
       "    .dataframe tbody tr th:only-of-type {\n",
       "        vertical-align: middle;\n",
       "    }\n",
       "\n",
       "    .dataframe tbody tr th {\n",
       "        vertical-align: top;\n",
       "    }\n",
       "\n",
       "    .dataframe thead th {\n",
       "        text-align: right;\n",
       "    }\n",
       "</style>\n",
       "<table border=\"1\" class=\"dataframe\">\n",
       "  <thead>\n",
       "    <tr style=\"text-align: right;\">\n",
       "      <th></th>\n",
       "      <th>material</th>\n",
       "      <th>plant</th>\n",
       "      <th>batch</th>\n",
       "      <th>sample</th>\n",
       "      <th>weight_g</th>\n",
       "      <th>diameter_mm</th>\n",
       "    </tr>\n",
       "  </thead>\n",
       "  <tbody>\n",
       "    <tr>\n",
       "      <th>0</th>\n",
       "      <td>PVC 1</td>\n",
       "      <td>London</td>\n",
       "      <td>A</td>\n",
       "      <td>1</td>\n",
       "      <td>132.64</td>\n",
       "      <td>302.02</td>\n",
       "    </tr>\n",
       "    <tr>\n",
       "      <th>1</th>\n",
       "      <td>PVC 1</td>\n",
       "      <td>London</td>\n",
       "      <td>A</td>\n",
       "      <td>2</td>\n",
       "      <td>131.25</td>\n",
       "      <td>300.83</td>\n",
       "    </tr>\n",
       "    <tr>\n",
       "      <th>2</th>\n",
       "      <td>PVC 1</td>\n",
       "      <td>London</td>\n",
       "      <td>A</td>\n",
       "      <td>3</td>\n",
       "      <td>131.49</td>\n",
       "      <td>301.84</td>\n",
       "    </tr>\n",
       "    <tr>\n",
       "      <th>3</th>\n",
       "      <td>PVC 1</td>\n",
       "      <td>London</td>\n",
       "      <td>A</td>\n",
       "      <td>4</td>\n",
       "      <td>132.63</td>\n",
       "      <td>301.76</td>\n",
       "    </tr>\n",
       "    <tr>\n",
       "      <th>4</th>\n",
       "      <td>PVC 1</td>\n",
       "      <td>London</td>\n",
       "      <td>A</td>\n",
       "      <td>5</td>\n",
       "      <td>132.20</td>\n",
       "      <td>301.35</td>\n",
       "    </tr>\n",
       "    <tr>\n",
       "      <th>5</th>\n",
       "      <td>PVC 1</td>\n",
       "      <td>London</td>\n",
       "      <td>B</td>\n",
       "      <td>1</td>\n",
       "      <td>148.14</td>\n",
       "      <td>301.41</td>\n",
       "    </tr>\n",
       "    <tr>\n",
       "      <th>6</th>\n",
       "      <td>PVC 1</td>\n",
       "      <td>London</td>\n",
       "      <td>B</td>\n",
       "      <td>2</td>\n",
       "      <td>148.12</td>\n",
       "      <td>301.62</td>\n",
       "    </tr>\n",
       "    <tr>\n",
       "      <th>7</th>\n",
       "      <td>PVC 1</td>\n",
       "      <td>London</td>\n",
       "      <td>B</td>\n",
       "      <td>3</td>\n",
       "      <td>148.11</td>\n",
       "      <td>301.50</td>\n",
       "    </tr>\n",
       "    <tr>\n",
       "      <th>8</th>\n",
       "      <td>PVC 1</td>\n",
       "      <td>London</td>\n",
       "      <td>B</td>\n",
       "      <td>4</td>\n",
       "      <td>150.33</td>\n",
       "      <td>301.77</td>\n",
       "    </tr>\n",
       "    <tr>\n",
       "      <th>9</th>\n",
       "      <td>PVC 1</td>\n",
       "      <td>London</td>\n",
       "      <td>B</td>\n",
       "      <td>5</td>\n",
       "      <td>147.57</td>\n",
       "      <td>301.70</td>\n",
       "    </tr>\n",
       "    <tr>\n",
       "      <th>10</th>\n",
       "      <td>PVC 1</td>\n",
       "      <td>London</td>\n",
       "      <td>C</td>\n",
       "      <td>1</td>\n",
       "      <td>137.75</td>\n",
       "      <td>301.28</td>\n",
       "    </tr>\n",
       "    <tr>\n",
       "      <th>11</th>\n",
       "      <td>PVC 1</td>\n",
       "      <td>London</td>\n",
       "      <td>C</td>\n",
       "      <td>2</td>\n",
       "      <td>138.36</td>\n",
       "      <td>301.25</td>\n",
       "    </tr>\n",
       "    <tr>\n",
       "      <th>12</th>\n",
       "      <td>PVC 1</td>\n",
       "      <td>London</td>\n",
       "      <td>C</td>\n",
       "      <td>3</td>\n",
       "      <td>139.77</td>\n",
       "      <td>301.42</td>\n",
       "    </tr>\n",
       "    <tr>\n",
       "      <th>13</th>\n",
       "      <td>PVC 1</td>\n",
       "      <td>London</td>\n",
       "      <td>C</td>\n",
       "      <td>4</td>\n",
       "      <td>138.51</td>\n",
       "      <td>301.73</td>\n",
       "    </tr>\n",
       "    <tr>\n",
       "      <th>14</th>\n",
       "      <td>PVC 2</td>\n",
       "      <td>London</td>\n",
       "      <td>A</td>\n",
       "      <td>1</td>\n",
       "      <td>182.05</td>\n",
       "      <td>301.61</td>\n",
       "    </tr>\n",
       "    <tr>\n",
       "      <th>15</th>\n",
       "      <td>PVC 2</td>\n",
       "      <td>London</td>\n",
       "      <td>A</td>\n",
       "      <td>2</td>\n",
       "      <td>180.68</td>\n",
       "      <td>301.54</td>\n",
       "    </tr>\n",
       "    <tr>\n",
       "      <th>16</th>\n",
       "      <td>PVC 2</td>\n",
       "      <td>London</td>\n",
       "      <td>A</td>\n",
       "      <td>3</td>\n",
       "      <td>181.03</td>\n",
       "      <td>301.50</td>\n",
       "    </tr>\n",
       "    <tr>\n",
       "      <th>17</th>\n",
       "      <td>PVC 2</td>\n",
       "      <td>London</td>\n",
       "      <td>A</td>\n",
       "      <td>4</td>\n",
       "      <td>183.67</td>\n",
       "      <td>301.30</td>\n",
       "    </tr>\n",
       "    <tr>\n",
       "      <th>18</th>\n",
       "      <td>PVC 2</td>\n",
       "      <td>London</td>\n",
       "      <td>B</td>\n",
       "      <td>1</td>\n",
       "      <td>182.11</td>\n",
       "      <td>301.63</td>\n",
       "    </tr>\n",
       "    <tr>\n",
       "      <th>19</th>\n",
       "      <td>PVC 2</td>\n",
       "      <td>London</td>\n",
       "      <td>B</td>\n",
       "      <td>2</td>\n",
       "      <td>182.41</td>\n",
       "      <td>302.13</td>\n",
       "    </tr>\n",
       "    <tr>\n",
       "      <th>20</th>\n",
       "      <td>PVC 2</td>\n",
       "      <td>London</td>\n",
       "      <td>B</td>\n",
       "      <td>3</td>\n",
       "      <td>180.20</td>\n",
       "      <td>301.36</td>\n",
       "    </tr>\n",
       "    <tr>\n",
       "      <th>21</th>\n",
       "      <td>PVC 2</td>\n",
       "      <td>London</td>\n",
       "      <td>B</td>\n",
       "      <td>4</td>\n",
       "      <td>181.11</td>\n",
       "      <td>301.31</td>\n",
       "    </tr>\n",
       "    <tr>\n",
       "      <th>22</th>\n",
       "      <td>PVC 3</td>\n",
       "      <td>London</td>\n",
       "      <td>A</td>\n",
       "      <td>1</td>\n",
       "      <td>202.48</td>\n",
       "      <td>301.90</td>\n",
       "    </tr>\n",
       "    <tr>\n",
       "      <th>23</th>\n",
       "      <td>PVC 3</td>\n",
       "      <td>London</td>\n",
       "      <td>A</td>\n",
       "      <td>2</td>\n",
       "      <td>191.32</td>\n",
       "      <td>301.65</td>\n",
       "    </tr>\n",
       "    <tr>\n",
       "      <th>24</th>\n",
       "      <td>PVC 3</td>\n",
       "      <td>London</td>\n",
       "      <td>A</td>\n",
       "      <td>3</td>\n",
       "      <td>199.05</td>\n",
       "      <td>301.95</td>\n",
       "    </tr>\n",
       "    <tr>\n",
       "      <th>25</th>\n",
       "      <td>PVC 3</td>\n",
       "      <td>London</td>\n",
       "      <td>A</td>\n",
       "      <td>4</td>\n",
       "      <td>196.81</td>\n",
       "      <td>301.57</td>\n",
       "    </tr>\n",
       "    <tr>\n",
       "      <th>26</th>\n",
       "      <td>PVC 3</td>\n",
       "      <td>London</td>\n",
       "      <td>A</td>\n",
       "      <td>5</td>\n",
       "      <td>198.42</td>\n",
       "      <td>301.49</td>\n",
       "    </tr>\n",
       "    <tr>\n",
       "      <th>27</th>\n",
       "      <td>PVC 1</td>\n",
       "      <td>Cracow</td>\n",
       "      <td>A</td>\n",
       "      <td>1</td>\n",
       "      <td>141.44</td>\n",
       "      <td>301.34</td>\n",
       "    </tr>\n",
       "    <tr>\n",
       "      <th>28</th>\n",
       "      <td>PVC 1</td>\n",
       "      <td>Cracow</td>\n",
       "      <td>A</td>\n",
       "      <td>2</td>\n",
       "      <td>146.49</td>\n",
       "      <td>301.77</td>\n",
       "    </tr>\n",
       "    <tr>\n",
       "      <th>29</th>\n",
       "      <td>PVC 1</td>\n",
       "      <td>Cracow</td>\n",
       "      <td>A</td>\n",
       "      <td>3</td>\n",
       "      <td>140.02</td>\n",
       "      <td>301.82</td>\n",
       "    </tr>\n",
       "    <tr>\n",
       "      <th>30</th>\n",
       "      <td>PVC 1</td>\n",
       "      <td>Cracow</td>\n",
       "      <td>A</td>\n",
       "      <td>4</td>\n",
       "      <td>136.82</td>\n",
       "      <td>301.29</td>\n",
       "    </tr>\n",
       "    <tr>\n",
       "      <th>31</th>\n",
       "      <td>PVC 1</td>\n",
       "      <td>Cracow</td>\n",
       "      <td>B</td>\n",
       "      <td>1</td>\n",
       "      <td>141.25</td>\n",
       "      <td>301.36</td>\n",
       "    </tr>\n",
       "    <tr>\n",
       "      <th>32</th>\n",
       "      <td>PVC 1</td>\n",
       "      <td>Cracow</td>\n",
       "      <td>B</td>\n",
       "      <td>2</td>\n",
       "      <td>139.59</td>\n",
       "      <td>301.52</td>\n",
       "    </tr>\n",
       "    <tr>\n",
       "      <th>33</th>\n",
       "      <td>PVC 1</td>\n",
       "      <td>Cracow</td>\n",
       "      <td>B</td>\n",
       "      <td>3</td>\n",
       "      <td>141.36</td>\n",
       "      <td>301.40</td>\n",
       "    </tr>\n",
       "    <tr>\n",
       "      <th>34</th>\n",
       "      <td>PVC 1</td>\n",
       "      <td>Cracow</td>\n",
       "      <td>B</td>\n",
       "      <td>4</td>\n",
       "      <td>141.44</td>\n",
       "      <td>301.72</td>\n",
       "    </tr>\n",
       "    <tr>\n",
       "      <th>35</th>\n",
       "      <td>PVC 1</td>\n",
       "      <td>Cracow</td>\n",
       "      <td>B</td>\n",
       "      <td>5</td>\n",
       "      <td>135.60</td>\n",
       "      <td>301.72</td>\n",
       "    </tr>\n",
       "    <tr>\n",
       "      <th>36</th>\n",
       "      <td>PVC 2</td>\n",
       "      <td>Cracow</td>\n",
       "      <td>A</td>\n",
       "      <td>1</td>\n",
       "      <td>182.16</td>\n",
       "      <td>301.67</td>\n",
       "    </tr>\n",
       "    <tr>\n",
       "      <th>37</th>\n",
       "      <td>PVC 2</td>\n",
       "      <td>Cracow</td>\n",
       "      <td>A</td>\n",
       "      <td>2</td>\n",
       "      <td>185.56</td>\n",
       "      <td>301.83</td>\n",
       "    </tr>\n",
       "    <tr>\n",
       "      <th>38</th>\n",
       "      <td>PVC 2</td>\n",
       "      <td>Cracow</td>\n",
       "      <td>A</td>\n",
       "      <td>3</td>\n",
       "      <td>180.80</td>\n",
       "      <td>301.26</td>\n",
       "    </tr>\n",
       "    <tr>\n",
       "      <th>39</th>\n",
       "      <td>PVC 2</td>\n",
       "      <td>Cracow</td>\n",
       "      <td>A</td>\n",
       "      <td>4</td>\n",
       "      <td>183.20</td>\n",
       "      <td>301.20</td>\n",
       "    </tr>\n",
       "  </tbody>\n",
       "</table>\n",
       "</div>"
      ],
      "text/plain": [
       "   material   plant batch  sample  weight_g  diameter_mm\n",
       "0     PVC 1  London     A       1    132.64       302.02\n",
       "1     PVC 1  London     A       2    131.25       300.83\n",
       "2     PVC 1  London     A       3    131.49       301.84\n",
       "3     PVC 1  London     A       4    132.63       301.76\n",
       "4     PVC 1  London     A       5    132.20       301.35\n",
       "5     PVC 1  London     B       1    148.14       301.41\n",
       "6     PVC 1  London     B       2    148.12       301.62\n",
       "7     PVC 1  London     B       3    148.11       301.50\n",
       "8     PVC 1  London     B       4    150.33       301.77\n",
       "9     PVC 1  London     B       5    147.57       301.70\n",
       "10    PVC 1  London     C       1    137.75       301.28\n",
       "11    PVC 1  London     C       2    138.36       301.25\n",
       "12    PVC 1  London     C       3    139.77       301.42\n",
       "13    PVC 1  London     C       4    138.51       301.73\n",
       "14    PVC 2  London     A       1    182.05       301.61\n",
       "15    PVC 2  London     A       2    180.68       301.54\n",
       "16    PVC 2  London     A       3    181.03       301.50\n",
       "17    PVC 2  London     A       4    183.67       301.30\n",
       "18    PVC 2  London     B       1    182.11       301.63\n",
       "19    PVC 2  London     B       2    182.41       302.13\n",
       "20    PVC 2  London     B       3    180.20       301.36\n",
       "21    PVC 2  London     B       4    181.11       301.31\n",
       "22    PVC 3  London     A       1    202.48       301.90\n",
       "23    PVC 3  London     A       2    191.32       301.65\n",
       "24    PVC 3  London     A       3    199.05       301.95\n",
       "25    PVC 3  London     A       4    196.81       301.57\n",
       "26    PVC 3  London     A       5    198.42       301.49\n",
       "27    PVC 1  Cracow     A       1    141.44       301.34\n",
       "28    PVC 1  Cracow     A       2    146.49       301.77\n",
       "29    PVC 1  Cracow     A       3    140.02       301.82\n",
       "30    PVC 1  Cracow     A       4    136.82       301.29\n",
       "31    PVC 1  Cracow     B       1    141.25       301.36\n",
       "32    PVC 1  Cracow     B       2    139.59       301.52\n",
       "33    PVC 1  Cracow     B       3    141.36       301.40\n",
       "34    PVC 1  Cracow     B       4    141.44       301.72\n",
       "35    PVC 1  Cracow     B       5    135.60       301.72\n",
       "36    PVC 2  Cracow     A       1    182.16       301.67\n",
       "37    PVC 2  Cracow     A       2    185.56       301.83\n",
       "38    PVC 2  Cracow     A       3    180.80       301.26\n",
       "39    PVC 2  Cracow     A       4    183.20       301.20"
      ]
     },
     "execution_count": 6,
     "metadata": {},
     "output_type": "execute_result"
    }
   ],
   "source": [
    "df"
   ]
  },
  {
   "cell_type": "markdown",
   "metadata": {},
   "source": [
    "Summary of the dataset."
   ]
  },
  {
   "cell_type": "code",
   "execution_count": 7,
   "metadata": {},
   "outputs": [
    {
     "name": "stdout",
     "output_type": "stream",
     "text": [
      "<class 'pandas.core.frame.DataFrame'>\n",
      "RangeIndex: 40 entries, 0 to 39\n",
      "Data columns (total 6 columns):\n",
      " #   Column       Non-Null Count  Dtype  \n",
      "---  ------       --------------  -----  \n",
      " 0   material     40 non-null     object \n",
      " 1   plant        40 non-null     object \n",
      " 2   batch        40 non-null     object \n",
      " 3   sample       40 non-null     int64  \n",
      " 4   weight_g     40 non-null     float64\n",
      " 5   diameter_mm  40 non-null     float64\n",
      "dtypes: float64(2), int64(1), object(3)\n",
      "memory usage: 2.0+ KB\n"
     ]
    }
   ],
   "source": [
    "df.info()"
   ]
  },
  {
   "cell_type": "markdown",
   "metadata": {},
   "source": [
    "**Comment:** *material*, *plant* and *batch* are categorical variables.\n",
    "\n",
    "They will be used for grouping the data. Let's check the number of unique values in each (object) column."
   ]
  },
  {
   "cell_type": "code",
   "execution_count": 8,
   "metadata": {},
   "outputs": [
    {
     "name": "stdout",
     "output_type": "stream",
     "text": [
      "material \n",
      "unique values: 3 \n",
      " ['PVC 1' 'PVC 2' 'PVC 3'] \n",
      "\n",
      "plant \n",
      "unique values: 2 \n",
      " ['London' 'Cracow'] \n",
      "\n",
      "batch \n",
      "unique values: 3 \n",
      " ['A' 'B' 'C'] \n",
      "\n"
     ]
    }
   ],
   "source": [
    "for col in df:\n",
    "    if df[col].dtype == \"O\":\n",
    "        print(col,\"\\nunique values:\", len(df[col].unique()),\"\\n\", df[col].unique(), \"\\n\")"
   ]
  },
  {
   "cell_type": "markdown",
   "metadata": {},
   "source": [
    "## Create `.groupby()` object\n",
    "\n",
    "Let's group the data *by material*."
   ]
  },
  {
   "cell_type": "code",
   "execution_count": 9,
   "metadata": {},
   "outputs": [],
   "source": [
    "grouped = df.groupby(\"material\")"
   ]
  },
  {
   "cell_type": "code",
   "execution_count": 10,
   "metadata": {},
   "outputs": [
    {
     "data": {
      "text/plain": [
       "<pandas.core.groupby.generic.DataFrameGroupBy object at 0x0000028AECC86150>"
      ]
     },
     "execution_count": 10,
     "metadata": {},
     "output_type": "execute_result"
    }
   ],
   "source": [
    "grouped"
   ]
  },
  {
   "cell_type": "code",
   "execution_count": 11,
   "metadata": {},
   "outputs": [
    {
     "data": {
      "text/plain": [
       "pandas.core.groupby.generic.DataFrameGroupBy"
      ]
     },
     "execution_count": 11,
     "metadata": {},
     "output_type": "execute_result"
    }
   ],
   "source": [
    "type(grouped)"
   ]
  },
  {
   "cell_type": "markdown",
   "metadata": {},
   "source": [
    "### See the groups\n",
    "\n",
    "Use `.groups` method to see the index of the items that will make up every group."
   ]
  },
  {
   "cell_type": "code",
   "execution_count": 12,
   "metadata": {},
   "outputs": [
    {
     "data": {
      "text/plain": [
       "{'PVC 1': [0, 1, 2, 3, 4, 5, 6, 7, 8, 9, 10, 11, 12, 13, 27, 28, 29, 30, 31, 32, 33, 34, 35], 'PVC 2': [14, 15, 16, 17, 18, 19, 20, 21, 36, 37, 38, 39], 'PVC 3': [22, 23, 24, 25, 26]}"
      ]
     },
     "execution_count": 12,
     "metadata": {},
     "output_type": "execute_result"
    }
   ],
   "source": [
    "grouped.groups"
   ]
  },
  {
   "cell_type": "code",
   "execution_count": 13,
   "metadata": {},
   "outputs": [
    {
     "data": {
      "text/plain": [
       "pandas.io.formats.printing.PrettyDict"
      ]
     },
     "execution_count": 13,
     "metadata": {},
     "output_type": "execute_result"
    }
   ],
   "source": [
    "type(grouped.groups)"
   ]
  },
  {
   "cell_type": "code",
   "execution_count": 14,
   "metadata": {},
   "outputs": [
    {
     "data": {
      "text/plain": [
       "True"
      ]
     },
     "execution_count": 14,
     "metadata": {},
     "output_type": "execute_result"
    }
   ],
   "source": [
    "isinstance(grouped.groups, dict)"
   ]
  },
  {
   "cell_type": "markdown",
   "metadata": {},
   "source": [
    "Method `.groups` creates a `dict` with:\n",
    "- *keys*: name of the group\n",
    "- *values*: index of all items that belong to the group"
   ]
  },
  {
   "cell_type": "markdown",
   "metadata": {},
   "source": [
    "**Q: How many groups have been created?**:"
   ]
  },
  {
   "cell_type": "code",
   "execution_count": 15,
   "metadata": {},
   "outputs": [
    {
     "data": {
      "text/plain": [
       "3"
      ]
     },
     "execution_count": 15,
     "metadata": {},
     "output_type": "execute_result"
    }
   ],
   "source": [
    "len(grouped.groups)"
   ]
  },
  {
   "cell_type": "markdown",
   "metadata": {},
   "source": [
    "To display all of the *keys* use the following:"
   ]
  },
  {
   "cell_type": "code",
   "execution_count": 16,
   "metadata": {},
   "outputs": [
    {
     "data": {
      "text/plain": [
       "dict_keys(['PVC 1', 'PVC 2', 'PVC 3'])"
      ]
     },
     "execution_count": 16,
     "metadata": {},
     "output_type": "execute_result"
    }
   ],
   "source": [
    "grouped.groups.keys()"
   ]
  },
  {
   "cell_type": "markdown",
   "metadata": {},
   "source": [
    "### Get a single group\n",
    "\n",
    "To get a specific group as a `DataFrame`, use `.get_group()` method using one of the *keys* as an input."
   ]
  },
  {
   "cell_type": "code",
   "execution_count": 17,
   "metadata": {},
   "outputs": [
    {
     "data": {
      "text/html": [
       "<div>\n",
       "<style scoped>\n",
       "    .dataframe tbody tr th:only-of-type {\n",
       "        vertical-align: middle;\n",
       "    }\n",
       "\n",
       "    .dataframe tbody tr th {\n",
       "        vertical-align: top;\n",
       "    }\n",
       "\n",
       "    .dataframe thead th {\n",
       "        text-align: right;\n",
       "    }\n",
       "</style>\n",
       "<table border=\"1\" class=\"dataframe\">\n",
       "  <thead>\n",
       "    <tr style=\"text-align: right;\">\n",
       "      <th></th>\n",
       "      <th>material</th>\n",
       "      <th>plant</th>\n",
       "      <th>batch</th>\n",
       "      <th>sample</th>\n",
       "      <th>weight_g</th>\n",
       "      <th>diameter_mm</th>\n",
       "    </tr>\n",
       "  </thead>\n",
       "  <tbody>\n",
       "    <tr>\n",
       "      <th>22</th>\n",
       "      <td>PVC 3</td>\n",
       "      <td>London</td>\n",
       "      <td>A</td>\n",
       "      <td>1</td>\n",
       "      <td>202.48</td>\n",
       "      <td>301.90</td>\n",
       "    </tr>\n",
       "    <tr>\n",
       "      <th>23</th>\n",
       "      <td>PVC 3</td>\n",
       "      <td>London</td>\n",
       "      <td>A</td>\n",
       "      <td>2</td>\n",
       "      <td>191.32</td>\n",
       "      <td>301.65</td>\n",
       "    </tr>\n",
       "    <tr>\n",
       "      <th>24</th>\n",
       "      <td>PVC 3</td>\n",
       "      <td>London</td>\n",
       "      <td>A</td>\n",
       "      <td>3</td>\n",
       "      <td>199.05</td>\n",
       "      <td>301.95</td>\n",
       "    </tr>\n",
       "    <tr>\n",
       "      <th>25</th>\n",
       "      <td>PVC 3</td>\n",
       "      <td>London</td>\n",
       "      <td>A</td>\n",
       "      <td>4</td>\n",
       "      <td>196.81</td>\n",
       "      <td>301.57</td>\n",
       "    </tr>\n",
       "    <tr>\n",
       "      <th>26</th>\n",
       "      <td>PVC 3</td>\n",
       "      <td>London</td>\n",
       "      <td>A</td>\n",
       "      <td>5</td>\n",
       "      <td>198.42</td>\n",
       "      <td>301.49</td>\n",
       "    </tr>\n",
       "  </tbody>\n",
       "</table>\n",
       "</div>"
      ],
      "text/plain": [
       "   material   plant batch  sample  weight_g  diameter_mm\n",
       "22    PVC 3  London     A       1    202.48       301.90\n",
       "23    PVC 3  London     A       2    191.32       301.65\n",
       "24    PVC 3  London     A       3    199.05       301.95\n",
       "25    PVC 3  London     A       4    196.81       301.57\n",
       "26    PVC 3  London     A       5    198.42       301.49"
      ]
     },
     "execution_count": 17,
     "metadata": {},
     "output_type": "execute_result"
    }
   ],
   "source": [
    "grouped.get_group(\"PVC 3\")"
   ]
  },
  {
   "cell_type": "code",
   "execution_count": 18,
   "metadata": {},
   "outputs": [
    {
     "data": {
      "text/plain": [
       "pandas.core.frame.DataFrame"
      ]
     },
     "execution_count": 18,
     "metadata": {},
     "output_type": "execute_result"
    }
   ],
   "source": [
    "type(grouped.get_group(\"PVC 3\"))"
   ]
  },
  {
   "cell_type": "markdown",
   "metadata": {},
   "source": [
    "### Get all the groups\n",
    "\n",
    "[Pandas doc: iterating-through-groups](https://pandas.pydata.org/pandas-docs/stable/user_guide/groupby.html#iterating-through-groups)"
   ]
  },
  {
   "cell_type": "code",
   "execution_count": 19,
   "metadata": {},
   "outputs": [
    {
     "name": "stdout",
     "output_type": "stream",
     "text": [
      "PVC 1 \n",
      "\n",
      "   material   plant batch  sample  weight_g  diameter_mm\n",
      "0     PVC 1  London     A       1    132.64       302.02\n",
      "1     PVC 1  London     A       2    131.25       300.83\n",
      "2     PVC 1  London     A       3    131.49       301.84\n",
      "3     PVC 1  London     A       4    132.63       301.76\n",
      "4     PVC 1  London     A       5    132.20       301.35\n",
      "5     PVC 1  London     B       1    148.14       301.41\n",
      "6     PVC 1  London     B       2    148.12       301.62\n",
      "7     PVC 1  London     B       3    148.11       301.50\n",
      "8     PVC 1  London     B       4    150.33       301.77\n",
      "9     PVC 1  London     B       5    147.57       301.70\n",
      "10    PVC 1  London     C       1    137.75       301.28\n",
      "11    PVC 1  London     C       2    138.36       301.25\n",
      "12    PVC 1  London     C       3    139.77       301.42\n",
      "13    PVC 1  London     C       4    138.51       301.73\n",
      "27    PVC 1  Cracow     A       1    141.44       301.34\n",
      "28    PVC 1  Cracow     A       2    146.49       301.77\n",
      "29    PVC 1  Cracow     A       3    140.02       301.82\n",
      "30    PVC 1  Cracow     A       4    136.82       301.29\n",
      "31    PVC 1  Cracow     B       1    141.25       301.36\n",
      "32    PVC 1  Cracow     B       2    139.59       301.52\n",
      "33    PVC 1  Cracow     B       3    141.36       301.40\n",
      "34    PVC 1  Cracow     B       4    141.44       301.72\n",
      "35    PVC 1  Cracow     B       5    135.60       301.72 \n",
      "\n",
      "\n",
      "PVC 2 \n",
      "\n",
      "   material   plant batch  sample  weight_g  diameter_mm\n",
      "14    PVC 2  London     A       1    182.05       301.61\n",
      "15    PVC 2  London     A       2    180.68       301.54\n",
      "16    PVC 2  London     A       3    181.03       301.50\n",
      "17    PVC 2  London     A       4    183.67       301.30\n",
      "18    PVC 2  London     B       1    182.11       301.63\n",
      "19    PVC 2  London     B       2    182.41       302.13\n",
      "20    PVC 2  London     B       3    180.20       301.36\n",
      "21    PVC 2  London     B       4    181.11       301.31\n",
      "36    PVC 2  Cracow     A       1    182.16       301.67\n",
      "37    PVC 2  Cracow     A       2    185.56       301.83\n",
      "38    PVC 2  Cracow     A       3    180.80       301.26\n",
      "39    PVC 2  Cracow     A       4    183.20       301.20 \n",
      "\n",
      "\n",
      "PVC 3 \n",
      "\n",
      "   material   plant batch  sample  weight_g  diameter_mm\n",
      "22    PVC 3  London     A       1    202.48       301.90\n",
      "23    PVC 3  London     A       2    191.32       301.65\n",
      "24    PVC 3  London     A       3    199.05       301.95\n",
      "25    PVC 3  London     A       4    196.81       301.57\n",
      "26    PVC 3  London     A       5    198.42       301.49 \n",
      "\n",
      "\n"
     ]
    }
   ],
   "source": [
    "for name, group in grouped:\n",
    "    print(name, '\\n')\n",
    "    print(group, '\\n\\n')"
   ]
  },
  {
   "cell_type": "markdown",
   "metadata": {},
   "source": [
    "### Carry out calculations on groups\n",
    "\n",
    "You can use one of the many implemented aggregation functions and apply it to the `groupby` object:\n",
    "\n",
    "[Pandas doc: aggregation](https://pandas.pydata.org/pandas-docs/stable/user_guide/groupby.html#aggregation)"
   ]
  },
  {
   "cell_type": "code",
   "execution_count": 20,
   "metadata": {},
   "outputs": [
    {
     "data": {
      "text/html": [
       "<div>\n",
       "<style scoped>\n",
       "    .dataframe tbody tr th:only-of-type {\n",
       "        vertical-align: middle;\n",
       "    }\n",
       "\n",
       "    .dataframe tbody tr th {\n",
       "        vertical-align: top;\n",
       "    }\n",
       "\n",
       "    .dataframe thead th {\n",
       "        text-align: right;\n",
       "    }\n",
       "</style>\n",
       "<table border=\"1\" class=\"dataframe\">\n",
       "  <thead>\n",
       "    <tr style=\"text-align: right;\">\n",
       "      <th></th>\n",
       "      <th>plant</th>\n",
       "      <th>batch</th>\n",
       "      <th>sample</th>\n",
       "      <th>weight_g</th>\n",
       "      <th>diameter_mm</th>\n",
       "    </tr>\n",
       "    <tr>\n",
       "      <th>material</th>\n",
       "      <th></th>\n",
       "      <th></th>\n",
       "      <th></th>\n",
       "      <th></th>\n",
       "      <th></th>\n",
       "    </tr>\n",
       "  </thead>\n",
       "  <tbody>\n",
       "    <tr>\n",
       "      <th>PVC 1</th>\n",
       "      <td>23</td>\n",
       "      <td>23</td>\n",
       "      <td>23</td>\n",
       "      <td>23</td>\n",
       "      <td>23</td>\n",
       "    </tr>\n",
       "    <tr>\n",
       "      <th>PVC 2</th>\n",
       "      <td>12</td>\n",
       "      <td>12</td>\n",
       "      <td>12</td>\n",
       "      <td>12</td>\n",
       "      <td>12</td>\n",
       "    </tr>\n",
       "    <tr>\n",
       "      <th>PVC 3</th>\n",
       "      <td>5</td>\n",
       "      <td>5</td>\n",
       "      <td>5</td>\n",
       "      <td>5</td>\n",
       "      <td>5</td>\n",
       "    </tr>\n",
       "  </tbody>\n",
       "</table>\n",
       "</div>"
      ],
      "text/plain": [
       "          plant  batch  sample  weight_g  diameter_mm\n",
       "material                                             \n",
       "PVC 1        23     23      23        23           23\n",
       "PVC 2        12     12      12        12           12\n",
       "PVC 3         5      5       5         5            5"
      ]
     },
     "execution_count": 20,
     "metadata": {},
     "output_type": "execute_result"
    }
   ],
   "source": [
    "grouped.count()"
   ]
  },
  {
   "cell_type": "markdown",
   "metadata": {},
   "source": [
    "Full list of available operations is available [here](https://pandas.pydata.org/pandas-docs/stable/user_guide/groupby.html#built-in-aggregation-methods).\n",
    "\n",
    "**Note:** not all calculations will always work. It's because our dataset have both: categorical and numerical variables and we need take this into consideration."
   ]
  },
  {
   "cell_type": "code",
   "execution_count": 21,
   "metadata": {},
   "outputs": [
    {
     "name": "stderr",
     "output_type": "stream",
     "text": [
      "Traceback (most recent call last):\n",
      "  File \"<stdin>\", line 1, in <module>\n",
      "NameError: name 'grouped' is not defined\n"
     ]
    }
   ],
   "source": [
    "%%script python --no-raise-error\n",
    "grouped.mean()"
   ]
  },
  {
   "cell_type": "markdown",
   "metadata": {},
   "source": [
    "To fix this, select the relevant columns you want to be used with the aggregation function."
   ]
  },
  {
   "cell_type": "markdown",
   "metadata": {},
   "source": [
    "**Q: What's the average measurement per material?**"
   ]
  },
  {
   "cell_type": "code",
   "execution_count": 22,
   "metadata": {},
   "outputs": [
    {
     "data": {
      "text/html": [
       "<div>\n",
       "<style scoped>\n",
       "    .dataframe tbody tr th:only-of-type {\n",
       "        vertical-align: middle;\n",
       "    }\n",
       "\n",
       "    .dataframe tbody tr th {\n",
       "        vertical-align: top;\n",
       "    }\n",
       "\n",
       "    .dataframe thead th {\n",
       "        text-align: right;\n",
       "    }\n",
       "</style>\n",
       "<table border=\"1\" class=\"dataframe\">\n",
       "  <thead>\n",
       "    <tr style=\"text-align: right;\">\n",
       "      <th></th>\n",
       "      <th>weight_g</th>\n",
       "      <th>diameter_mm</th>\n",
       "    </tr>\n",
       "    <tr>\n",
       "      <th>material</th>\n",
       "      <th></th>\n",
       "      <th></th>\n",
       "    </tr>\n",
       "  </thead>\n",
       "  <tbody>\n",
       "    <tr>\n",
       "      <th>PVC 1</th>\n",
       "      <td>140.04</td>\n",
       "      <td>301.54</td>\n",
       "    </tr>\n",
       "    <tr>\n",
       "      <th>PVC 2</th>\n",
       "      <td>182.08</td>\n",
       "      <td>301.53</td>\n",
       "    </tr>\n",
       "    <tr>\n",
       "      <th>PVC 3</th>\n",
       "      <td>197.62</td>\n",
       "      <td>301.71</td>\n",
       "    </tr>\n",
       "  </tbody>\n",
       "</table>\n",
       "</div>"
      ],
      "text/plain": [
       "          weight_g  diameter_mm\n",
       "material                       \n",
       "PVC 1       140.04       301.54\n",
       "PVC 2       182.08       301.53\n",
       "PVC 3       197.62       301.71"
      ]
     },
     "execution_count": 22,
     "metadata": {},
     "output_type": "execute_result"
    }
   ],
   "source": [
    "grouped[[\"weight_g\", \"diameter_mm\"]].mean()"
   ]
  },
  {
   "cell_type": "markdown",
   "metadata": {},
   "source": [
    "**Q: How many samples were collected per material?**"
   ]
  },
  {
   "cell_type": "code",
   "execution_count": 23,
   "metadata": {},
   "outputs": [
    {
     "data": {
      "text/plain": [
       "material\n",
       "PVC 1    23\n",
       "PVC 2    12\n",
       "PVC 3     5\n",
       "Name: batch, dtype: int64"
      ]
     },
     "execution_count": 23,
     "metadata": {},
     "output_type": "execute_result"
    }
   ],
   "source": [
    "grouped[\"batch\"].count()"
   ]
  },
  {
   "cell_type": "markdown",
   "metadata": {},
   "source": [
    "## Create multilevel `.groupby()` object"
   ]
  },
  {
   "cell_type": "markdown",
   "metadata": {},
   "source": [
    "Let's create a grouping by *material* and *plant*."
   ]
  },
  {
   "cell_type": "code",
   "execution_count": 24,
   "metadata": {},
   "outputs": [],
   "source": [
    "grouped = df.groupby([\"material\", \"plant\"])"
   ]
  },
  {
   "cell_type": "markdown",
   "metadata": {},
   "source": [
    "Let's see the groups:"
   ]
  },
  {
   "cell_type": "code",
   "execution_count": 25,
   "metadata": {},
   "outputs": [
    {
     "data": {
      "text/plain": [
       "{('PVC 1', 'Cracow'): [27, 28, 29, 30, 31, 32, 33, 34, 35], ('PVC 1', 'London'): [0, 1, 2, 3, 4, 5, 6, 7, 8, 9, 10, 11, 12, 13], ('PVC 2', 'Cracow'): [36, 37, 38, 39], ('PVC 2', 'London'): [14, 15, 16, 17, 18, 19, 20, 21], ('PVC 3', 'London'): [22, 23, 24, 25, 26]}"
      ]
     },
     "execution_count": 25,
     "metadata": {},
     "output_type": "execute_result"
    }
   ],
   "source": [
    "grouped.groups"
   ]
  },
  {
   "cell_type": "code",
   "execution_count": 26,
   "metadata": {},
   "outputs": [
    {
     "data": {
      "text/plain": [
       "5"
      ]
     },
     "execution_count": 26,
     "metadata": {},
     "output_type": "execute_result"
    }
   ],
   "source": [
    "len(grouped.groups)"
   ]
  },
  {
   "cell_type": "code",
   "execution_count": 27,
   "metadata": {},
   "outputs": [
    {
     "name": "stdout",
     "output_type": "stream",
     "text": [
      "('PVC 1', 'Cracow') \n",
      "\n",
      "   material   plant batch  sample  weight_g  diameter_mm\n",
      "27    PVC 1  Cracow     A       1    141.44       301.34\n",
      "28    PVC 1  Cracow     A       2    146.49       301.77\n",
      "29    PVC 1  Cracow     A       3    140.02       301.82\n",
      "30    PVC 1  Cracow     A       4    136.82       301.29\n",
      "31    PVC 1  Cracow     B       1    141.25       301.36\n",
      "32    PVC 1  Cracow     B       2    139.59       301.52\n",
      "33    PVC 1  Cracow     B       3    141.36       301.40\n",
      "34    PVC 1  Cracow     B       4    141.44       301.72\n",
      "35    PVC 1  Cracow     B       5    135.60       301.72 \n",
      "\n",
      "\n",
      "('PVC 1', 'London') \n",
      "\n",
      "   material   plant batch  sample  weight_g  diameter_mm\n",
      "0     PVC 1  London     A       1    132.64       302.02\n",
      "1     PVC 1  London     A       2    131.25       300.83\n",
      "2     PVC 1  London     A       3    131.49       301.84\n",
      "3     PVC 1  London     A       4    132.63       301.76\n",
      "4     PVC 1  London     A       5    132.20       301.35\n",
      "5     PVC 1  London     B       1    148.14       301.41\n",
      "6     PVC 1  London     B       2    148.12       301.62\n",
      "7     PVC 1  London     B       3    148.11       301.50\n",
      "8     PVC 1  London     B       4    150.33       301.77\n",
      "9     PVC 1  London     B       5    147.57       301.70\n",
      "10    PVC 1  London     C       1    137.75       301.28\n",
      "11    PVC 1  London     C       2    138.36       301.25\n",
      "12    PVC 1  London     C       3    139.77       301.42\n",
      "13    PVC 1  London     C       4    138.51       301.73 \n",
      "\n",
      "\n",
      "('PVC 2', 'Cracow') \n",
      "\n",
      "   material   plant batch  sample  weight_g  diameter_mm\n",
      "36    PVC 2  Cracow     A       1    182.16       301.67\n",
      "37    PVC 2  Cracow     A       2    185.56       301.83\n",
      "38    PVC 2  Cracow     A       3    180.80       301.26\n",
      "39    PVC 2  Cracow     A       4    183.20       301.20 \n",
      "\n",
      "\n",
      "('PVC 2', 'London') \n",
      "\n",
      "   material   plant batch  sample  weight_g  diameter_mm\n",
      "14    PVC 2  London     A       1    182.05       301.61\n",
      "15    PVC 2  London     A       2    180.68       301.54\n",
      "16    PVC 2  London     A       3    181.03       301.50\n",
      "17    PVC 2  London     A       4    183.67       301.30\n",
      "18    PVC 2  London     B       1    182.11       301.63\n",
      "19    PVC 2  London     B       2    182.41       302.13\n",
      "20    PVC 2  London     B       3    180.20       301.36\n",
      "21    PVC 2  London     B       4    181.11       301.31 \n",
      "\n",
      "\n",
      "('PVC 3', 'London') \n",
      "\n",
      "   material   plant batch  sample  weight_g  diameter_mm\n",
      "22    PVC 3  London     A       1    202.48       301.90\n",
      "23    PVC 3  London     A       2    191.32       301.65\n",
      "24    PVC 3  London     A       3    199.05       301.95\n",
      "25    PVC 3  London     A       4    196.81       301.57\n",
      "26    PVC 3  London     A       5    198.42       301.49 \n",
      "\n",
      "\n"
     ]
    }
   ],
   "source": [
    "for name, group in grouped:\n",
    "    print(name, '\\n')\n",
    "    print(group, '\\n\\n')"
   ]
  },
  {
   "cell_type": "markdown",
   "metadata": {},
   "source": [
    "When selecting multiple columns, the name of each group is stored as *tuple*."
   ]
  },
  {
   "cell_type": "markdown",
   "metadata": {},
   "source": [
    "**Q: What's the average measurement per material per plant?**"
   ]
  },
  {
   "cell_type": "code",
   "execution_count": 28,
   "metadata": {},
   "outputs": [
    {
     "data": {
      "text/html": [
       "<div>\n",
       "<style scoped>\n",
       "    .dataframe tbody tr th:only-of-type {\n",
       "        vertical-align: middle;\n",
       "    }\n",
       "\n",
       "    .dataframe tbody tr th {\n",
       "        vertical-align: top;\n",
       "    }\n",
       "\n",
       "    .dataframe thead th {\n",
       "        text-align: right;\n",
       "    }\n",
       "</style>\n",
       "<table border=\"1\" class=\"dataframe\">\n",
       "  <thead>\n",
       "    <tr style=\"text-align: right;\">\n",
       "      <th></th>\n",
       "      <th></th>\n",
       "      <th>weight_g</th>\n",
       "      <th>diameter_mm</th>\n",
       "    </tr>\n",
       "    <tr>\n",
       "      <th>material</th>\n",
       "      <th>plant</th>\n",
       "      <th></th>\n",
       "      <th></th>\n",
       "    </tr>\n",
       "  </thead>\n",
       "  <tbody>\n",
       "    <tr>\n",
       "      <th rowspan=\"2\" valign=\"top\">PVC 1</th>\n",
       "      <th>Cracow</th>\n",
       "      <td>140.45</td>\n",
       "      <td>301.55</td>\n",
       "    </tr>\n",
       "    <tr>\n",
       "      <th>London</th>\n",
       "      <td>139.78</td>\n",
       "      <td>301.53</td>\n",
       "    </tr>\n",
       "    <tr>\n",
       "      <th rowspan=\"2\" valign=\"top\">PVC 2</th>\n",
       "      <th>Cracow</th>\n",
       "      <td>182.93</td>\n",
       "      <td>301.49</td>\n",
       "    </tr>\n",
       "    <tr>\n",
       "      <th>London</th>\n",
       "      <td>181.66</td>\n",
       "      <td>301.55</td>\n",
       "    </tr>\n",
       "    <tr>\n",
       "      <th>PVC 3</th>\n",
       "      <th>London</th>\n",
       "      <td>197.62</td>\n",
       "      <td>301.71</td>\n",
       "    </tr>\n",
       "  </tbody>\n",
       "</table>\n",
       "</div>"
      ],
      "text/plain": [
       "                 weight_g  diameter_mm\n",
       "material plant                        \n",
       "PVC 1    Cracow    140.45       301.55\n",
       "         London    139.78       301.53\n",
       "PVC 2    Cracow    182.93       301.49\n",
       "         London    181.66       301.55\n",
       "PVC 3    London    197.62       301.71"
      ]
     },
     "execution_count": 28,
     "metadata": {},
     "output_type": "execute_result"
    }
   ],
   "source": [
    "grouped[[\"weight_g\", \"diameter_mm\"]].mean()"
   ]
  },
  {
   "cell_type": "code",
   "execution_count": 29,
   "metadata": {},
   "outputs": [
    {
     "name": "stdout",
     "output_type": "stream",
     "text": [
      "                 weight_g  diameter_mm\n",
      "material plant                        \n",
      "PVC 1    Cracow    140.45       301.55\n",
      "         London    139.78       301.53\n",
      "PVC 2    Cracow    182.93       301.49\n",
      "         London    181.66       301.55\n",
      "PVC 3    London    197.62       301.71\n"
     ]
    }
   ],
   "source": [
    "print(grouped[[\"weight_g\", \"diameter_mm\"]].mean())"
   ]
  },
  {
   "cell_type": "markdown",
   "metadata": {},
   "source": [
    "**Q4: How many samples were collected per material per plant?**"
   ]
  },
  {
   "cell_type": "code",
   "execution_count": 30,
   "metadata": {},
   "outputs": [
    {
     "data": {
      "text/plain": [
       "material  plant \n",
       "PVC 1     Cracow     9\n",
       "          London    14\n",
       "PVC 2     Cracow     4\n",
       "          London     8\n",
       "PVC 3     London     5\n",
       "Name: batch, dtype: int64"
      ]
     },
     "execution_count": 30,
     "metadata": {},
     "output_type": "execute_result"
    }
   ],
   "source": [
    "grouped[\"batch\"].count()"
   ]
  },
  {
   "cell_type": "markdown",
   "metadata": {},
   "source": [
    "## Use `.agg()` to carry out multiple calculations at once\n",
    "\n",
    "[Pandas doc: aggregate](https://pandas.pydata.org/pandas-docs/stable/reference/api/pandas.DataFrame.aggregate.html)\n",
    "\n",
    "* `.agg()` is an alias for `.aggregate()` so they are the same thing\n",
    "\n",
    "It accepts functions as:\n",
    "* function names\n",
    "* function string names\n",
    "* list of functions\n",
    "* dictionary of functions\n",
    "\n",
    "Using the `.agg()` method gives us flexibility to apply any function."
   ]
  },
  {
   "cell_type": "markdown",
   "metadata": {},
   "source": [
    "### Use function string name"
   ]
  },
  {
   "cell_type": "code",
   "execution_count": 31,
   "metadata": {},
   "outputs": [
    {
     "data": {
      "text/html": [
       "<div>\n",
       "<style scoped>\n",
       "    .dataframe tbody tr th:only-of-type {\n",
       "        vertical-align: middle;\n",
       "    }\n",
       "\n",
       "    .dataframe tbody tr th {\n",
       "        vertical-align: top;\n",
       "    }\n",
       "\n",
       "    .dataframe thead th {\n",
       "        text-align: right;\n",
       "    }\n",
       "</style>\n",
       "<table border=\"1\" class=\"dataframe\">\n",
       "  <thead>\n",
       "    <tr style=\"text-align: right;\">\n",
       "      <th></th>\n",
       "      <th></th>\n",
       "      <th>weight_g</th>\n",
       "      <th>diameter_mm</th>\n",
       "    </tr>\n",
       "    <tr>\n",
       "      <th>material</th>\n",
       "      <th>plant</th>\n",
       "      <th></th>\n",
       "      <th></th>\n",
       "    </tr>\n",
       "  </thead>\n",
       "  <tbody>\n",
       "    <tr>\n",
       "      <th rowspan=\"2\" valign=\"top\">PVC 1</th>\n",
       "      <th>Cracow</th>\n",
       "      <td>140.45</td>\n",
       "      <td>301.55</td>\n",
       "    </tr>\n",
       "    <tr>\n",
       "      <th>London</th>\n",
       "      <td>139.78</td>\n",
       "      <td>301.53</td>\n",
       "    </tr>\n",
       "    <tr>\n",
       "      <th rowspan=\"2\" valign=\"top\">PVC 2</th>\n",
       "      <th>Cracow</th>\n",
       "      <td>182.93</td>\n",
       "      <td>301.49</td>\n",
       "    </tr>\n",
       "    <tr>\n",
       "      <th>London</th>\n",
       "      <td>181.66</td>\n",
       "      <td>301.55</td>\n",
       "    </tr>\n",
       "    <tr>\n",
       "      <th>PVC 3</th>\n",
       "      <th>London</th>\n",
       "      <td>197.62</td>\n",
       "      <td>301.71</td>\n",
       "    </tr>\n",
       "  </tbody>\n",
       "</table>\n",
       "</div>"
      ],
      "text/plain": [
       "                 weight_g  diameter_mm\n",
       "material plant                        \n",
       "PVC 1    Cracow    140.45       301.55\n",
       "         London    139.78       301.53\n",
       "PVC 2    Cracow    182.93       301.49\n",
       "         London    181.66       301.55\n",
       "PVC 3    London    197.62       301.71"
      ]
     },
     "execution_count": 31,
     "metadata": {},
     "output_type": "execute_result"
    }
   ],
   "source": [
    "grouped[[\"weight_g\", \"diameter_mm\"]].agg(\"mean\")"
   ]
  },
  {
   "cell_type": "markdown",
   "metadata": {},
   "source": [
    "### Use function name\n",
    "\n",
    "* calculate geometric mean using Scipy ([doc](https://docs.scipy.org/doc/scipy/reference/generated/scipy.stats.mstats.gmean.html))"
   ]
  },
  {
   "cell_type": "code",
   "execution_count": 32,
   "metadata": {},
   "outputs": [
    {
     "data": {
      "text/html": [
       "<div>\n",
       "<style scoped>\n",
       "    .dataframe tbody tr th:only-of-type {\n",
       "        vertical-align: middle;\n",
       "    }\n",
       "\n",
       "    .dataframe tbody tr th {\n",
       "        vertical-align: top;\n",
       "    }\n",
       "\n",
       "    .dataframe thead th {\n",
       "        text-align: right;\n",
       "    }\n",
       "</style>\n",
       "<table border=\"1\" class=\"dataframe\">\n",
       "  <thead>\n",
       "    <tr style=\"text-align: right;\">\n",
       "      <th></th>\n",
       "      <th></th>\n",
       "      <th>weight_g</th>\n",
       "      <th>diameter_mm</th>\n",
       "    </tr>\n",
       "    <tr>\n",
       "      <th>material</th>\n",
       "      <th>plant</th>\n",
       "      <th></th>\n",
       "      <th></th>\n",
       "    </tr>\n",
       "  </thead>\n",
       "  <tbody>\n",
       "    <tr>\n",
       "      <th rowspan=\"2\" valign=\"top\">PVC 1</th>\n",
       "      <th>Cracow</th>\n",
       "      <td>140.41</td>\n",
       "      <td>301.55</td>\n",
       "    </tr>\n",
       "    <tr>\n",
       "      <th>London</th>\n",
       "      <td>139.60</td>\n",
       "      <td>301.53</td>\n",
       "    </tr>\n",
       "    <tr>\n",
       "      <th rowspan=\"2\" valign=\"top\">PVC 2</th>\n",
       "      <th>Cracow</th>\n",
       "      <td>182.92</td>\n",
       "      <td>301.49</td>\n",
       "    </tr>\n",
       "    <tr>\n",
       "      <th>London</th>\n",
       "      <td>181.65</td>\n",
       "      <td>301.55</td>\n",
       "    </tr>\n",
       "    <tr>\n",
       "      <th>PVC 3</th>\n",
       "      <th>London</th>\n",
       "      <td>197.58</td>\n",
       "      <td>301.71</td>\n",
       "    </tr>\n",
       "  </tbody>\n",
       "</table>\n",
       "</div>"
      ],
      "text/plain": [
       "                 weight_g  diameter_mm\n",
       "material plant                        \n",
       "PVC 1    Cracow    140.41       301.55\n",
       "         London    139.60       301.53\n",
       "PVC 2    Cracow    182.92       301.49\n",
       "         London    181.65       301.55\n",
       "PVC 3    London    197.58       301.71"
      ]
     },
     "execution_count": 32,
     "metadata": {},
     "output_type": "execute_result"
    }
   ],
   "source": [
    "grouped[[\"weight_g\", \"diameter_mm\"]].agg(scipy.stats.gmean)"
   ]
  },
  {
   "cell_type": "markdown",
   "metadata": {},
   "source": [
    "### Use `list` of functions\n",
    "\n",
    "Use `list` of multiple functions as an input for `.agg()`\n",
    "\n",
    "Note that the multi-level index gets created for columns."
   ]
  },
  {
   "cell_type": "code",
   "execution_count": 33,
   "metadata": {},
   "outputs": [
    {
     "data": {
      "text/html": [
       "<div>\n",
       "<style scoped>\n",
       "    .dataframe tbody tr th:only-of-type {\n",
       "        vertical-align: middle;\n",
       "    }\n",
       "\n",
       "    .dataframe tbody tr th {\n",
       "        vertical-align: top;\n",
       "    }\n",
       "\n",
       "    .dataframe thead tr th {\n",
       "        text-align: left;\n",
       "    }\n",
       "\n",
       "    .dataframe thead tr:last-of-type th {\n",
       "        text-align: right;\n",
       "    }\n",
       "</style>\n",
       "<table border=\"1\" class=\"dataframe\">\n",
       "  <thead>\n",
       "    <tr>\n",
       "      <th></th>\n",
       "      <th></th>\n",
       "      <th colspan=\"3\" halign=\"left\">weight_g</th>\n",
       "      <th colspan=\"3\" halign=\"left\">diameter_mm</th>\n",
       "    </tr>\n",
       "    <tr>\n",
       "      <th></th>\n",
       "      <th></th>\n",
       "      <th>min</th>\n",
       "      <th>max</th>\n",
       "      <th>mean</th>\n",
       "      <th>min</th>\n",
       "      <th>max</th>\n",
       "      <th>mean</th>\n",
       "    </tr>\n",
       "    <tr>\n",
       "      <th>material</th>\n",
       "      <th>plant</th>\n",
       "      <th></th>\n",
       "      <th></th>\n",
       "      <th></th>\n",
       "      <th></th>\n",
       "      <th></th>\n",
       "      <th></th>\n",
       "    </tr>\n",
       "  </thead>\n",
       "  <tbody>\n",
       "    <tr>\n",
       "      <th rowspan=\"2\" valign=\"top\">PVC 1</th>\n",
       "      <th>Cracow</th>\n",
       "      <td>135.60</td>\n",
       "      <td>146.49</td>\n",
       "      <td>140.45</td>\n",
       "      <td>301.29</td>\n",
       "      <td>301.82</td>\n",
       "      <td>301.55</td>\n",
       "    </tr>\n",
       "    <tr>\n",
       "      <th>London</th>\n",
       "      <td>131.25</td>\n",
       "      <td>150.33</td>\n",
       "      <td>139.78</td>\n",
       "      <td>300.83</td>\n",
       "      <td>302.02</td>\n",
       "      <td>301.53</td>\n",
       "    </tr>\n",
       "    <tr>\n",
       "      <th rowspan=\"2\" valign=\"top\">PVC 2</th>\n",
       "      <th>Cracow</th>\n",
       "      <td>180.80</td>\n",
       "      <td>185.56</td>\n",
       "      <td>182.93</td>\n",
       "      <td>301.20</td>\n",
       "      <td>301.83</td>\n",
       "      <td>301.49</td>\n",
       "    </tr>\n",
       "    <tr>\n",
       "      <th>London</th>\n",
       "      <td>180.20</td>\n",
       "      <td>183.67</td>\n",
       "      <td>181.66</td>\n",
       "      <td>301.30</td>\n",
       "      <td>302.13</td>\n",
       "      <td>301.55</td>\n",
       "    </tr>\n",
       "    <tr>\n",
       "      <th>PVC 3</th>\n",
       "      <th>London</th>\n",
       "      <td>191.32</td>\n",
       "      <td>202.48</td>\n",
       "      <td>197.62</td>\n",
       "      <td>301.49</td>\n",
       "      <td>301.95</td>\n",
       "      <td>301.71</td>\n",
       "    </tr>\n",
       "  </tbody>\n",
       "</table>\n",
       "</div>"
      ],
      "text/plain": [
       "                weight_g                 diameter_mm                \n",
       "                     min     max    mean         min     max    mean\n",
       "material plant                                                      \n",
       "PVC 1    Cracow   135.60  146.49  140.45      301.29  301.82  301.55\n",
       "         London   131.25  150.33  139.78      300.83  302.02  301.53\n",
       "PVC 2    Cracow   180.80  185.56  182.93      301.20  301.83  301.49\n",
       "         London   180.20  183.67  181.66      301.30  302.13  301.55\n",
       "PVC 3    London   191.32  202.48  197.62      301.49  301.95  301.71"
      ]
     },
     "execution_count": 33,
     "metadata": {},
     "output_type": "execute_result"
    }
   ],
   "source": [
    "grouped[[\"weight_g\", \"diameter_mm\"]].agg([\"min\", \"max\", \"mean\"])"
   ]
  },
  {
   "cell_type": "markdown",
   "metadata": {},
   "source": [
    "You can use a combination of function names and function string names:"
   ]
  },
  {
   "cell_type": "code",
   "execution_count": 34,
   "metadata": {},
   "outputs": [
    {
     "data": {
      "text/html": [
       "<div>\n",
       "<style scoped>\n",
       "    .dataframe tbody tr th:only-of-type {\n",
       "        vertical-align: middle;\n",
       "    }\n",
       "\n",
       "    .dataframe tbody tr th {\n",
       "        vertical-align: top;\n",
       "    }\n",
       "\n",
       "    .dataframe thead tr th {\n",
       "        text-align: left;\n",
       "    }\n",
       "\n",
       "    .dataframe thead tr:last-of-type th {\n",
       "        text-align: right;\n",
       "    }\n",
       "</style>\n",
       "<table border=\"1\" class=\"dataframe\">\n",
       "  <thead>\n",
       "    <tr>\n",
       "      <th></th>\n",
       "      <th></th>\n",
       "      <th colspan=\"2\" halign=\"left\">weight_g</th>\n",
       "      <th colspan=\"2\" halign=\"left\">diameter_mm</th>\n",
       "    </tr>\n",
       "    <tr>\n",
       "      <th></th>\n",
       "      <th></th>\n",
       "      <th>mean</th>\n",
       "      <th>gmean</th>\n",
       "      <th>mean</th>\n",
       "      <th>gmean</th>\n",
       "    </tr>\n",
       "    <tr>\n",
       "      <th>material</th>\n",
       "      <th>plant</th>\n",
       "      <th></th>\n",
       "      <th></th>\n",
       "      <th></th>\n",
       "      <th></th>\n",
       "    </tr>\n",
       "  </thead>\n",
       "  <tbody>\n",
       "    <tr>\n",
       "      <th rowspan=\"2\" valign=\"top\">PVC 1</th>\n",
       "      <th>Cracow</th>\n",
       "      <td>140.45</td>\n",
       "      <td>140.41</td>\n",
       "      <td>301.55</td>\n",
       "      <td>301.55</td>\n",
       "    </tr>\n",
       "    <tr>\n",
       "      <th>London</th>\n",
       "      <td>139.78</td>\n",
       "      <td>139.60</td>\n",
       "      <td>301.53</td>\n",
       "      <td>301.53</td>\n",
       "    </tr>\n",
       "    <tr>\n",
       "      <th rowspan=\"2\" valign=\"top\">PVC 2</th>\n",
       "      <th>Cracow</th>\n",
       "      <td>182.93</td>\n",
       "      <td>182.92</td>\n",
       "      <td>301.49</td>\n",
       "      <td>301.49</td>\n",
       "    </tr>\n",
       "    <tr>\n",
       "      <th>London</th>\n",
       "      <td>181.66</td>\n",
       "      <td>181.65</td>\n",
       "      <td>301.55</td>\n",
       "      <td>301.55</td>\n",
       "    </tr>\n",
       "    <tr>\n",
       "      <th>PVC 3</th>\n",
       "      <th>London</th>\n",
       "      <td>197.62</td>\n",
       "      <td>197.58</td>\n",
       "      <td>301.71</td>\n",
       "      <td>301.71</td>\n",
       "    </tr>\n",
       "  </tbody>\n",
       "</table>\n",
       "</div>"
      ],
      "text/plain": [
       "                weight_g         diameter_mm        \n",
       "                    mean   gmean        mean   gmean\n",
       "material plant                                      \n",
       "PVC 1    Cracow   140.45  140.41      301.55  301.55\n",
       "         London   139.78  139.60      301.53  301.53\n",
       "PVC 2    Cracow   182.93  182.92      301.49  301.49\n",
       "         London   181.66  181.65      301.55  301.55\n",
       "PVC 3    London   197.62  197.58      301.71  301.71"
      ]
     },
     "execution_count": 34,
     "metadata": {},
     "output_type": "execute_result"
    }
   ],
   "source": [
    "grouped[[\"weight_g\", \"diameter_mm\"]].agg([\"mean\", scipy.stats.gmean])"
   ]
  },
  {
   "cell_type": "markdown",
   "metadata": {},
   "source": [
    "### Use `dict` of functions\n",
    "\n",
    "Use `dict` if you want to apply different calculations to different columns:\n",
    "- *key*: column name or names (as `list`)\n",
    "- *values*: function or functions that are to be used (as `list`)"
   ]
  },
  {
   "cell_type": "code",
   "execution_count": 35,
   "metadata": {},
   "outputs": [
    {
     "data": {
      "text/html": [
       "<div>\n",
       "<style scoped>\n",
       "    .dataframe tbody tr th:only-of-type {\n",
       "        vertical-align: middle;\n",
       "    }\n",
       "\n",
       "    .dataframe tbody tr th {\n",
       "        vertical-align: top;\n",
       "    }\n",
       "\n",
       "    .dataframe thead tr th {\n",
       "        text-align: left;\n",
       "    }\n",
       "\n",
       "    .dataframe thead tr:last-of-type th {\n",
       "        text-align: right;\n",
       "    }\n",
       "</style>\n",
       "<table border=\"1\" class=\"dataframe\">\n",
       "  <thead>\n",
       "    <tr>\n",
       "      <th></th>\n",
       "      <th></th>\n",
       "      <th colspan=\"3\" halign=\"left\">weight_g</th>\n",
       "      <th>diameter_mm</th>\n",
       "    </tr>\n",
       "    <tr>\n",
       "      <th></th>\n",
       "      <th></th>\n",
       "      <th>min</th>\n",
       "      <th>max</th>\n",
       "      <th>mean</th>\n",
       "      <th>mean</th>\n",
       "    </tr>\n",
       "    <tr>\n",
       "      <th>material</th>\n",
       "      <th>plant</th>\n",
       "      <th></th>\n",
       "      <th></th>\n",
       "      <th></th>\n",
       "      <th></th>\n",
       "    </tr>\n",
       "  </thead>\n",
       "  <tbody>\n",
       "    <tr>\n",
       "      <th rowspan=\"2\" valign=\"top\">PVC 1</th>\n",
       "      <th>Cracow</th>\n",
       "      <td>135.60</td>\n",
       "      <td>146.49</td>\n",
       "      <td>140.45</td>\n",
       "      <td>301.55</td>\n",
       "    </tr>\n",
       "    <tr>\n",
       "      <th>London</th>\n",
       "      <td>131.25</td>\n",
       "      <td>150.33</td>\n",
       "      <td>139.78</td>\n",
       "      <td>301.53</td>\n",
       "    </tr>\n",
       "    <tr>\n",
       "      <th rowspan=\"2\" valign=\"top\">PVC 2</th>\n",
       "      <th>Cracow</th>\n",
       "      <td>180.80</td>\n",
       "      <td>185.56</td>\n",
       "      <td>182.93</td>\n",
       "      <td>301.49</td>\n",
       "    </tr>\n",
       "    <tr>\n",
       "      <th>London</th>\n",
       "      <td>180.20</td>\n",
       "      <td>183.67</td>\n",
       "      <td>181.66</td>\n",
       "      <td>301.55</td>\n",
       "    </tr>\n",
       "    <tr>\n",
       "      <th>PVC 3</th>\n",
       "      <th>London</th>\n",
       "      <td>191.32</td>\n",
       "      <td>202.48</td>\n",
       "      <td>197.62</td>\n",
       "      <td>301.71</td>\n",
       "    </tr>\n",
       "  </tbody>\n",
       "</table>\n",
       "</div>"
      ],
      "text/plain": [
       "                weight_g                 diameter_mm\n",
       "                     min     max    mean        mean\n",
       "material plant                                      \n",
       "PVC 1    Cracow   135.60  146.49  140.45      301.55\n",
       "         London   131.25  150.33  139.78      301.53\n",
       "PVC 2    Cracow   180.80  185.56  182.93      301.49\n",
       "         London   180.20  183.67  181.66      301.55\n",
       "PVC 3    London   191.32  202.48  197.62      301.71"
      ]
     },
     "execution_count": 35,
     "metadata": {},
     "output_type": "execute_result"
    }
   ],
   "source": [
    "grouped[[\"weight_g\", \"diameter_mm\"]].agg(\n",
    "    {\n",
    "        \"weight_g\": [\"min\", \"max\", \"mean\"],\n",
    "        \"diameter_mm\": \"mean\" \n",
    "    }\n",
    ")"
   ]
  },
  {
   "cell_type": "markdown",
   "metadata": {},
   "source": [
    "### Using lambda\n",
    "\n",
    "You can use `lambda` functions inside `.agg()` too.\n",
    "\n",
    "This is especially convenience if your function accepts some parameters.\n",
    "\n",
    "**Example**\n",
    "\n",
    "Let's have a a look at *standard deviation*.\n",
    "\n",
    "Standard deviation accepts a *degree of freedom* parameter.\n",
    "\n",
    "If you don't want to tweak *dof* parameter, you can always use the function directly."
   ]
  },
  {
   "cell_type": "code",
   "execution_count": 36,
   "metadata": {},
   "outputs": [
    {
     "data": {
      "text/html": [
       "<div>\n",
       "<style scoped>\n",
       "    .dataframe tbody tr th:only-of-type {\n",
       "        vertical-align: middle;\n",
       "    }\n",
       "\n",
       "    .dataframe tbody tr th {\n",
       "        vertical-align: top;\n",
       "    }\n",
       "\n",
       "    .dataframe thead th {\n",
       "        text-align: right;\n",
       "    }\n",
       "</style>\n",
       "<table border=\"1\" class=\"dataframe\">\n",
       "  <thead>\n",
       "    <tr style=\"text-align: right;\">\n",
       "      <th></th>\n",
       "      <th></th>\n",
       "      <th>weight_g</th>\n",
       "      <th>diameter_mm</th>\n",
       "    </tr>\n",
       "    <tr>\n",
       "      <th>material</th>\n",
       "      <th>plant</th>\n",
       "      <th></th>\n",
       "      <th></th>\n",
       "    </tr>\n",
       "  </thead>\n",
       "  <tbody>\n",
       "    <tr>\n",
       "      <th rowspan=\"2\" valign=\"top\">PVC 1</th>\n",
       "      <th>Cracow</th>\n",
       "      <td>3.11</td>\n",
       "      <td>0.21</td>\n",
       "    </tr>\n",
       "    <tr>\n",
       "      <th>London</th>\n",
       "      <td>7.28</td>\n",
       "      <td>0.31</td>\n",
       "    </tr>\n",
       "    <tr>\n",
       "      <th rowspan=\"2\" valign=\"top\">PVC 2</th>\n",
       "      <th>Cracow</th>\n",
       "      <td>2.01</td>\n",
       "      <td>0.31</td>\n",
       "    </tr>\n",
       "    <tr>\n",
       "      <th>London</th>\n",
       "      <td>1.12</td>\n",
       "      <td>0.27</td>\n",
       "    </tr>\n",
       "    <tr>\n",
       "      <th>PVC 3</th>\n",
       "      <th>London</th>\n",
       "      <td>4.08</td>\n",
       "      <td>0.20</td>\n",
       "    </tr>\n",
       "  </tbody>\n",
       "</table>\n",
       "</div>"
      ],
      "text/plain": [
       "                 weight_g  diameter_mm\n",
       "material plant                        \n",
       "PVC 1    Cracow      3.11         0.21\n",
       "         London      7.28         0.31\n",
       "PVC 2    Cracow      2.01         0.31\n",
       "         London      1.12         0.27\n",
       "PVC 3    London      4.08         0.20"
      ]
     },
     "execution_count": 36,
     "metadata": {},
     "output_type": "execute_result"
    }
   ],
   "source": [
    "grouped[[\"weight_g\", \"diameter_mm\"]].agg(\"std\")"
   ]
  },
  {
   "cell_type": "markdown",
   "metadata": {},
   "source": [
    "The about is the same as running the function with `ddof=1` (delta degrees of freedom).\n",
    "\n",
    "This is what you would typically use if you only have a `sample` data from your population (probably 99% of cases)."
   ]
  },
  {
   "cell_type": "code",
   "execution_count": 37,
   "metadata": {},
   "outputs": [
    {
     "data": {
      "text/html": [
       "<div>\n",
       "<style scoped>\n",
       "    .dataframe tbody tr th:only-of-type {\n",
       "        vertical-align: middle;\n",
       "    }\n",
       "\n",
       "    .dataframe tbody tr th {\n",
       "        vertical-align: top;\n",
       "    }\n",
       "\n",
       "    .dataframe thead th {\n",
       "        text-align: right;\n",
       "    }\n",
       "</style>\n",
       "<table border=\"1\" class=\"dataframe\">\n",
       "  <thead>\n",
       "    <tr style=\"text-align: right;\">\n",
       "      <th></th>\n",
       "      <th></th>\n",
       "      <th>weight_g</th>\n",
       "      <th>diameter_mm</th>\n",
       "    </tr>\n",
       "    <tr>\n",
       "      <th>material</th>\n",
       "      <th>plant</th>\n",
       "      <th></th>\n",
       "      <th></th>\n",
       "    </tr>\n",
       "  </thead>\n",
       "  <tbody>\n",
       "    <tr>\n",
       "      <th rowspan=\"2\" valign=\"top\">PVC 1</th>\n",
       "      <th>Cracow</th>\n",
       "      <td>3.11</td>\n",
       "      <td>0.21</td>\n",
       "    </tr>\n",
       "    <tr>\n",
       "      <th>London</th>\n",
       "      <td>7.28</td>\n",
       "      <td>0.31</td>\n",
       "    </tr>\n",
       "    <tr>\n",
       "      <th rowspan=\"2\" valign=\"top\">PVC 2</th>\n",
       "      <th>Cracow</th>\n",
       "      <td>2.01</td>\n",
       "      <td>0.31</td>\n",
       "    </tr>\n",
       "    <tr>\n",
       "      <th>London</th>\n",
       "      <td>1.12</td>\n",
       "      <td>0.27</td>\n",
       "    </tr>\n",
       "    <tr>\n",
       "      <th>PVC 3</th>\n",
       "      <th>London</th>\n",
       "      <td>4.08</td>\n",
       "      <td>0.20</td>\n",
       "    </tr>\n",
       "  </tbody>\n",
       "</table>\n",
       "</div>"
      ],
      "text/plain": [
       "                 weight_g  diameter_mm\n",
       "material plant                        \n",
       "PVC 1    Cracow      3.11         0.21\n",
       "         London      7.28         0.31\n",
       "PVC 2    Cracow      2.01         0.31\n",
       "         London      1.12         0.27\n",
       "PVC 3    London      4.08         0.20"
      ]
     },
     "execution_count": 37,
     "metadata": {},
     "output_type": "execute_result"
    }
   ],
   "source": [
    "grouped[[\"weight_g\", \"diameter_mm\"]].agg(lambda x: np.std(x, ddof=1))"
   ]
  },
  {
   "cell_type": "markdown",
   "metadata": {},
   "source": [
    "But if you know your data is complete and contains the measurements for the whole population - you'll want to use `ddof=0` and `lambda` is ideal for this kind of situations:"
   ]
  },
  {
   "cell_type": "code",
   "execution_count": 38,
   "metadata": {},
   "outputs": [
    {
     "data": {
      "text/html": [
       "<div>\n",
       "<style scoped>\n",
       "    .dataframe tbody tr th:only-of-type {\n",
       "        vertical-align: middle;\n",
       "    }\n",
       "\n",
       "    .dataframe tbody tr th {\n",
       "        vertical-align: top;\n",
       "    }\n",
       "\n",
       "    .dataframe thead th {\n",
       "        text-align: right;\n",
       "    }\n",
       "</style>\n",
       "<table border=\"1\" class=\"dataframe\">\n",
       "  <thead>\n",
       "    <tr style=\"text-align: right;\">\n",
       "      <th></th>\n",
       "      <th></th>\n",
       "      <th>weight_g</th>\n",
       "      <th>diameter_mm</th>\n",
       "    </tr>\n",
       "    <tr>\n",
       "      <th>material</th>\n",
       "      <th>plant</th>\n",
       "      <th></th>\n",
       "      <th></th>\n",
       "    </tr>\n",
       "  </thead>\n",
       "  <tbody>\n",
       "    <tr>\n",
       "      <th rowspan=\"2\" valign=\"top\">PVC 1</th>\n",
       "      <th>Cracow</th>\n",
       "      <td>2.94</td>\n",
       "      <td>0.20</td>\n",
       "    </tr>\n",
       "    <tr>\n",
       "      <th>London</th>\n",
       "      <td>7.02</td>\n",
       "      <td>0.29</td>\n",
       "    </tr>\n",
       "    <tr>\n",
       "      <th rowspan=\"2\" valign=\"top\">PVC 2</th>\n",
       "      <th>Cracow</th>\n",
       "      <td>1.74</td>\n",
       "      <td>0.27</td>\n",
       "    </tr>\n",
       "    <tr>\n",
       "      <th>London</th>\n",
       "      <td>1.05</td>\n",
       "      <td>0.25</td>\n",
       "    </tr>\n",
       "    <tr>\n",
       "      <th>PVC 3</th>\n",
       "      <th>London</th>\n",
       "      <td>3.65</td>\n",
       "      <td>0.18</td>\n",
       "    </tr>\n",
       "  </tbody>\n",
       "</table>\n",
       "</div>"
      ],
      "text/plain": [
       "                 weight_g  diameter_mm\n",
       "material plant                        \n",
       "PVC 1    Cracow      2.94         0.20\n",
       "         London      7.02         0.29\n",
       "PVC 2    Cracow      1.74         0.27\n",
       "         London      1.05         0.25\n",
       "PVC 3    London      3.65         0.18"
      ]
     },
     "execution_count": 38,
     "metadata": {},
     "output_type": "execute_result"
    }
   ],
   "source": [
    "grouped[[\"weight_g\", \"diameter_mm\"]].agg(lambda x: np.std(x, ddof=0))"
   ]
  },
  {
   "cell_type": "markdown",
   "metadata": {},
   "source": [
    "### Use user defined functions"
   ]
  },
  {
   "cell_type": "code",
   "execution_count": 39,
   "metadata": {},
   "outputs": [],
   "source": [
    "def my_std(x, ddof=1):\n",
    "    return np.std(x, ddof=ddof)"
   ]
  },
  {
   "cell_type": "code",
   "execution_count": 40,
   "metadata": {},
   "outputs": [
    {
     "data": {
      "text/html": [
       "<div>\n",
       "<style scoped>\n",
       "    .dataframe tbody tr th:only-of-type {\n",
       "        vertical-align: middle;\n",
       "    }\n",
       "\n",
       "    .dataframe tbody tr th {\n",
       "        vertical-align: top;\n",
       "    }\n",
       "\n",
       "    .dataframe thead th {\n",
       "        text-align: right;\n",
       "    }\n",
       "</style>\n",
       "<table border=\"1\" class=\"dataframe\">\n",
       "  <thead>\n",
       "    <tr style=\"text-align: right;\">\n",
       "      <th></th>\n",
       "      <th></th>\n",
       "      <th>weight_g</th>\n",
       "      <th>diameter_mm</th>\n",
       "    </tr>\n",
       "    <tr>\n",
       "      <th>material</th>\n",
       "      <th>plant</th>\n",
       "      <th></th>\n",
       "      <th></th>\n",
       "    </tr>\n",
       "  </thead>\n",
       "  <tbody>\n",
       "    <tr>\n",
       "      <th rowspan=\"2\" valign=\"top\">PVC 1</th>\n",
       "      <th>Cracow</th>\n",
       "      <td>3.11</td>\n",
       "      <td>0.21</td>\n",
       "    </tr>\n",
       "    <tr>\n",
       "      <th>London</th>\n",
       "      <td>7.28</td>\n",
       "      <td>0.31</td>\n",
       "    </tr>\n",
       "    <tr>\n",
       "      <th rowspan=\"2\" valign=\"top\">PVC 2</th>\n",
       "      <th>Cracow</th>\n",
       "      <td>2.01</td>\n",
       "      <td>0.31</td>\n",
       "    </tr>\n",
       "    <tr>\n",
       "      <th>London</th>\n",
       "      <td>1.12</td>\n",
       "      <td>0.27</td>\n",
       "    </tr>\n",
       "    <tr>\n",
       "      <th>PVC 3</th>\n",
       "      <th>London</th>\n",
       "      <td>4.08</td>\n",
       "      <td>0.20</td>\n",
       "    </tr>\n",
       "  </tbody>\n",
       "</table>\n",
       "</div>"
      ],
      "text/plain": [
       "                 weight_g  diameter_mm\n",
       "material plant                        \n",
       "PVC 1    Cracow      3.11         0.21\n",
       "         London      7.28         0.31\n",
       "PVC 2    Cracow      2.01         0.31\n",
       "         London      1.12         0.27\n",
       "PVC 3    London      4.08         0.20"
      ]
     },
     "execution_count": 40,
     "metadata": {},
     "output_type": "execute_result"
    }
   ],
   "source": [
    "grouped[[\"weight_g\", \"diameter_mm\"]].agg(my_std)"
   ]
  },
  {
   "cell_type": "code",
   "execution_count": 41,
   "metadata": {},
   "outputs": [
    {
     "data": {
      "text/html": [
       "<div>\n",
       "<style scoped>\n",
       "    .dataframe tbody tr th:only-of-type {\n",
       "        vertical-align: middle;\n",
       "    }\n",
       "\n",
       "    .dataframe tbody tr th {\n",
       "        vertical-align: top;\n",
       "    }\n",
       "\n",
       "    .dataframe thead th {\n",
       "        text-align: right;\n",
       "    }\n",
       "</style>\n",
       "<table border=\"1\" class=\"dataframe\">\n",
       "  <thead>\n",
       "    <tr style=\"text-align: right;\">\n",
       "      <th></th>\n",
       "      <th></th>\n",
       "      <th>weight_g</th>\n",
       "      <th>diameter_mm</th>\n",
       "    </tr>\n",
       "    <tr>\n",
       "      <th>material</th>\n",
       "      <th>plant</th>\n",
       "      <th></th>\n",
       "      <th></th>\n",
       "    </tr>\n",
       "  </thead>\n",
       "  <tbody>\n",
       "    <tr>\n",
       "      <th rowspan=\"2\" valign=\"top\">PVC 1</th>\n",
       "      <th>Cracow</th>\n",
       "      <td>2.94</td>\n",
       "      <td>0.20</td>\n",
       "    </tr>\n",
       "    <tr>\n",
       "      <th>London</th>\n",
       "      <td>7.02</td>\n",
       "      <td>0.29</td>\n",
       "    </tr>\n",
       "    <tr>\n",
       "      <th rowspan=\"2\" valign=\"top\">PVC 2</th>\n",
       "      <th>Cracow</th>\n",
       "      <td>1.74</td>\n",
       "      <td>0.27</td>\n",
       "    </tr>\n",
       "    <tr>\n",
       "      <th>London</th>\n",
       "      <td>1.05</td>\n",
       "      <td>0.25</td>\n",
       "    </tr>\n",
       "    <tr>\n",
       "      <th>PVC 3</th>\n",
       "      <th>London</th>\n",
       "      <td>3.65</td>\n",
       "      <td>0.18</td>\n",
       "    </tr>\n",
       "  </tbody>\n",
       "</table>\n",
       "</div>"
      ],
      "text/plain": [
       "                 weight_g  diameter_mm\n",
       "material plant                        \n",
       "PVC 1    Cracow      2.94         0.20\n",
       "         London      7.02         0.29\n",
       "PVC 2    Cracow      1.74         0.27\n",
       "         London      1.05         0.25\n",
       "PVC 3    London      3.65         0.18"
      ]
     },
     "execution_count": 41,
     "metadata": {},
     "output_type": "execute_result"
    }
   ],
   "source": [
    "grouped[[\"weight_g\", \"diameter_mm\"]].agg(my_std, ddof=0)"
   ]
  }
 ],
 "metadata": {
  "kernelspec": {
   "display_name": "Python 3",
   "language": "python",
   "name": "python3"
  },
  "language_info": {
   "codemirror_mode": {
    "name": "ipython",
    "version": 3
   },
   "file_extension": ".py",
   "mimetype": "text/x-python",
   "name": "python",
   "nbconvert_exporter": "python",
   "pygments_lexer": "ipython3",
   "version": "3.12.4"
  }
 },
 "nbformat": 4,
 "nbformat_minor": 2
}
