{
 "cells": [
  {
   "cell_type": "markdown",
   "metadata": {},
   "source": [
    "## Example 1: just  `try/except`"
   ]
  },
  {
   "cell_type": "code",
   "execution_count": 1,
   "metadata": {},
   "outputs": [],
   "source": [
    "def string_to_integer(x: str):\n",
    "    try:\n",
    "        val = int(x)\n",
    "        print(f\"{val} - type: {type(val)}\")\n",
    "    except Exception as e:\n",
    "        print(e)"
   ]
  },
  {
   "cell_type": "code",
   "execution_count": 2,
   "metadata": {},
   "outputs": [
    {
     "name": "stdout",
     "output_type": "stream",
     "text": [
      "7 - type: <class 'int'>\n"
     ]
    }
   ],
   "source": [
    "# execute `try`\n",
    "string_to_integer(\"7\")"
   ]
  },
  {
   "cell_type": "code",
   "execution_count": 3,
   "metadata": {},
   "outputs": [
    {
     "name": "stdout",
     "output_type": "stream",
     "text": [
      "invalid literal for int() with base 10: 'seven'\n"
     ]
    }
   ],
   "source": [
    "# execute exception\n",
    "string_to_integer(\"seven\")"
   ]
  },
  {
   "cell_type": "markdown",
   "metadata": {},
   "source": [
    "## Example 2: `try/except/else`"
   ]
  },
  {
   "cell_type": "code",
   "execution_count": 4,
   "metadata": {},
   "outputs": [],
   "source": [
    "def string_to_integer(x: str):\n",
    "    try:\n",
    "        val = int(x)\n",
    "    except Exception as e:\n",
    "        print(e)\n",
    "    else:\n",
    "        print(\"All went well!\")\n",
    "        print(\"As a reward, you'll get double your value!\")\n",
    "        return val * 2"
   ]
  },
  {
   "cell_type": "code",
   "execution_count": 5,
   "metadata": {},
   "outputs": [
    {
     "name": "stdout",
     "output_type": "stream",
     "text": [
      "All went well!\n",
      "As a reward, you'll get double your value!\n"
     ]
    },
    {
     "data": {
      "text/plain": [
       "14"
      ]
     },
     "execution_count": 5,
     "metadata": {},
     "output_type": "execute_result"
    }
   ],
   "source": [
    "# execute `try`\n",
    "string_to_integer(\"7\")"
   ]
  },
  {
   "cell_type": "markdown",
   "metadata": {},
   "source": [
    "## Example 3: `try/except/else` with multiple excepts"
   ]
  },
  {
   "cell_type": "code",
   "execution_count": 6,
   "metadata": {},
   "outputs": [],
   "source": [
    "def string_to_integer(x: str):\n",
    "    try:\n",
    "        val = int(x)\n",
    "    except ValueError:\n",
    "        print(\"Yes, it's a string but it doesn't convert to INT.\")\n",
    "    except TypeError:\n",
    "        print(\"Dude, that's not even a STRING!\")\n",
    "    else:\n",
    "        print(\"All went well!\")\n",
    "        print(\"As a reward, you'll get double your value!\")\n",
    "        return val * 2"
   ]
  },
  {
   "cell_type": "code",
   "execution_count": 7,
   "metadata": {},
   "outputs": [
    {
     "name": "stdout",
     "output_type": "stream",
     "text": [
      "Yes, it's a string but it doesn't convert to INT.\n"
     ]
    }
   ],
   "source": [
    "string_to_integer(\"7.5\")"
   ]
  },
  {
   "cell_type": "code",
   "execution_count": 8,
   "metadata": {},
   "outputs": [
    {
     "name": "stdout",
     "output_type": "stream",
     "text": [
      "Dude, that's not even a STRING!\n"
     ]
    }
   ],
   "source": [
    "string_to_integer([])"
   ]
  },
  {
   "cell_type": "markdown",
   "metadata": {},
   "source": [
    "## Example 4: `try/except/else/finally`"
   ]
  },
  {
   "cell_type": "code",
   "execution_count": 9,
   "metadata": {},
   "outputs": [],
   "source": [
    "def string_to_integer(x):\n",
    "    try:\n",
    "        val = int(x)\n",
    "    except ValueError:\n",
    "        print(\"Yes, it's a string but it doesn't convert to INT.\")\n",
    "        raise\n",
    "    except TypeError:\n",
    "        print(\"Dude, that's not even a STRING!\")\n",
    "        raise\n",
    "    else:\n",
    "        print(\"All went well!\")\n",
    "        print(\"As a reward, you'll get double your value!\")\n",
    "        return val * 2\n",
    "    finally:\n",
    "        print(\"\\nThank you for using me. Until next time...\")"
   ]
  },
  {
   "cell_type": "code",
   "execution_count": 10,
   "metadata": {},
   "outputs": [
    {
     "name": "stdout",
     "output_type": "stream",
     "text": [
      "All went well!\n",
      "As a reward, you'll get double your value!\n",
      "\n",
      "Thank you for using me. Until next time...\n"
     ]
    },
    {
     "data": {
      "text/plain": [
       "14"
      ]
     },
     "execution_count": 10,
     "metadata": {},
     "output_type": "execute_result"
    }
   ],
   "source": [
    "string_to_integer(\"7\")"
   ]
  },
  {
   "cell_type": "code",
   "execution_count": 11,
   "metadata": {},
   "outputs": [
    {
     "name": "stdout",
     "output_type": "stream",
     "text": [
      "Yes, it's a string but it doesn't convert to INT.\n",
      "\n",
      "Thank you for using me. Until next time...\n"
     ]
    },
    {
     "ename": "ValueError",
     "evalue": "invalid literal for int() with base 10: '9.5'",
     "output_type": "error",
     "traceback": [
      "\u001b[1;31m---------------------------------------------------------------------------\u001b[0m",
      "\u001b[1;31mValueError\u001b[0m                                Traceback (most recent call last)",
      "Cell \u001b[1;32mIn[11], line 1\u001b[0m\n\u001b[1;32m----> 1\u001b[0m \u001b[43mstring_to_integer\u001b[49m\u001b[43m(\u001b[49m\u001b[38;5;124;43m\"\u001b[39;49m\u001b[38;5;124;43m9.5\u001b[39;49m\u001b[38;5;124;43m\"\u001b[39;49m\u001b[43m)\u001b[49m\n",
      "Cell \u001b[1;32mIn[9], line 3\u001b[0m, in \u001b[0;36mstring_to_integer\u001b[1;34m(x)\u001b[0m\n\u001b[0;32m      1\u001b[0m \u001b[38;5;28;01mdef\u001b[39;00m \u001b[38;5;21mstring_to_integer\u001b[39m(x):\n\u001b[0;32m      2\u001b[0m     \u001b[38;5;28;01mtry\u001b[39;00m:\n\u001b[1;32m----> 3\u001b[0m         val \u001b[38;5;241m=\u001b[39m \u001b[38;5;28;43mint\u001b[39;49m\u001b[43m(\u001b[49m\u001b[43mx\u001b[49m\u001b[43m)\u001b[49m\n\u001b[0;32m      4\u001b[0m     \u001b[38;5;28;01mexcept\u001b[39;00m \u001b[38;5;167;01mValueError\u001b[39;00m:\n\u001b[0;32m      5\u001b[0m         \u001b[38;5;28mprint\u001b[39m(\u001b[38;5;124m\"\u001b[39m\u001b[38;5;124mYes, it\u001b[39m\u001b[38;5;124m'\u001b[39m\u001b[38;5;124ms a string but it doesn\u001b[39m\u001b[38;5;124m'\u001b[39m\u001b[38;5;124mt convert to INT.\u001b[39m\u001b[38;5;124m\"\u001b[39m)\n",
      "\u001b[1;31mValueError\u001b[0m: invalid literal for int() with base 10: '9.5'"
     ]
    }
   ],
   "source": [
    "string_to_integer(\"9.5\")"
   ]
  }
 ],
 "metadata": {
  "kernelspec": {
   "display_name": "venv_medium",
   "language": "python",
   "name": "python3"
  },
  "language_info": {
   "codemirror_mode": {
    "name": "ipython",
    "version": 3
   },
   "file_extension": ".py",
   "mimetype": "text/x-python",
   "name": "python",
   "nbconvert_exporter": "python",
   "pygments_lexer": "ipython3",
   "version": "3.12.4"
  }
 },
 "nbformat": 4,
 "nbformat_minor": 2
}
