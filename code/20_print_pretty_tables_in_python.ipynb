{
 "cells": [
  {
   "cell_type": "markdown",
   "metadata": {},
   "source": [
    "# How to Print Pretty Tables in Terminal With Python Easily\n",
    "\n",
    "Code for the following Medium article: [update](https://medium.com/@pawjast)\n",
    "\n",
    "https://pypi.org/project/tabulate/"
   ]
  },
  {
   "cell_type": "markdown",
   "metadata": {},
   "source": [
    "## Imports"
   ]
  },
  {
   "cell_type": "code",
   "execution_count": 1,
   "metadata": {},
   "outputs": [],
   "source": [
    "import pandas as pd\n",
    "from tabulate import tabulate"
   ]
  },
  {
   "cell_type": "markdown",
   "metadata": {},
   "source": [
    "## Data"
   ]
  },
  {
   "cell_type": "code",
   "execution_count": 2,
   "metadata": {},
   "outputs": [
    {
     "data": {
      "text/html": [
       "<div>\n",
       "<style scoped>\n",
       "    .dataframe tbody tr th:only-of-type {\n",
       "        vertical-align: middle;\n",
       "    }\n",
       "\n",
       "    .dataframe tbody tr th {\n",
       "        vertical-align: top;\n",
       "    }\n",
       "\n",
       "    .dataframe thead th {\n",
       "        text-align: right;\n",
       "    }\n",
       "</style>\n",
       "<table border=\"1\" class=\"dataframe\">\n",
       "  <thead>\n",
       "    <tr style=\"text-align: right;\">\n",
       "      <th></th>\n",
       "      <th>Text</th>\n",
       "      <th>Numbers</th>\n",
       "      <th>State</th>\n",
       "      <th>More numbers</th>\n",
       "    </tr>\n",
       "  </thead>\n",
       "  <tbody>\n",
       "    <tr>\n",
       "      <th>I</th>\n",
       "      <td>ABC</td>\n",
       "      <td>1.2300</td>\n",
       "      <td>True</td>\n",
       "      <td>0.0000</td>\n",
       "    </tr>\n",
       "    <tr>\n",
       "      <th>II</th>\n",
       "      <td>hello</td>\n",
       "      <td>2.5001</td>\n",
       "      <td>False</td>\n",
       "      <td>0.0150</td>\n",
       "    </tr>\n",
       "    <tr>\n",
       "      <th>III</th>\n",
       "      <td>Python is cool</td>\n",
       "      <td>3.0000</td>\n",
       "      <td>False</td>\n",
       "      <td>3.1415</td>\n",
       "    </tr>\n",
       "    <tr>\n",
       "      <th>IV</th>\n",
       "      <td>IO</td>\n",
       "      <td>0.1000</td>\n",
       "      <td>True</td>\n",
       "      <td>1000.1234</td>\n",
       "    </tr>\n",
       "  </tbody>\n",
       "</table>\n",
       "</div>"
      ],
      "text/plain": [
       "               Text  Numbers  State  More numbers\n",
       "I               ABC   1.2300   True        0.0000\n",
       "II            hello   2.5001  False        0.0150\n",
       "III  Python is cool   3.0000  False        3.1415\n",
       "IV               IO   0.1000   True     1000.1234"
      ]
     },
     "execution_count": 2,
     "metadata": {},
     "output_type": "execute_result"
    }
   ],
   "source": [
    "df = pd.DataFrame.from_dict(\n",
    "    {\n",
    "        \"Text\": [\"ABC\", \"hello\", \"Python is cool\", \"IO\"], \n",
    "        \"Numbers\": [1.23, 2.5001, 3.0, .1],\n",
    "        \"State\": [True, False, False, True],\n",
    "        \"More numbers\": [0, 0.015, 3.1415, 1000.1234],\n",
    "    },\n",
    ")\n",
    "\n",
    "df.index = [\"I\", \"II\", \"III\", \"IV\"]\n",
    "df"
   ]
  },
  {
   "cell_type": "markdown",
   "metadata": {},
   "source": [
    "## Print DataFrame"
   ]
  },
  {
   "cell_type": "markdown",
   "metadata": {},
   "source": [
    "## Way 1\n",
    "\n",
    "Pandas uses 3rd party `tabulate` to print the tables."
   ]
  },
  {
   "cell_type": "markdown",
   "metadata": {},
   "source": [
    "### Defaults\n",
    "\n",
    "You can directly print a `DataFrame` using its `.to_markdown()` method."
   ]
  },
  {
   "cell_type": "code",
   "execution_count": 3,
   "metadata": {},
   "outputs": [
    {
     "data": {
      "text/plain": [
       "'|     | Text           |   Numbers | State   |   More numbers |\\n|:----|:---------------|----------:|:--------|---------------:|\\n| I   | ABC            |    1.23   | True    |         0      |\\n| II  | hello          |    2.5001 | False   |         0.015  |\\n| III | Python is cool |    3      | False   |         3.1415 |\\n| IV  | IO             |    0.1    | True    |      1000.12   |'"
      ]
     },
     "execution_count": 3,
     "metadata": {},
     "output_type": "execute_result"
    }
   ],
   "source": [
    "df.to_markdown()"
   ]
  },
  {
   "cell_type": "code",
   "execution_count": 4,
   "metadata": {},
   "outputs": [
    {
     "name": "stdout",
     "output_type": "stream",
     "text": [
      "|     | Text           |   Numbers | State   |   More numbers |\n",
      "|:----|:---------------|----------:|:--------|---------------:|\n",
      "| I   | ABC            |    1.23   | True    |         0      |\n",
      "| II  | hello          |    2.5001 | False   |         0.015  |\n",
      "| III | Python is cool |    3      | False   |         3.1415 |\n",
      "| IV  | IO             |    0.1    | True    |      1000.12   |\n"
     ]
    }
   ],
   "source": [
    "print(df.to_markdown())"
   ]
  },
  {
   "cell_type": "markdown",
   "metadata": {},
   "source": [
    "### With parameters\n",
    "\n",
    "The output can be tweaked by passing parameters that will feed directly to `tabulate`.\n",
    "\n",
    "More on that later on."
   ]
  },
  {
   "cell_type": "code",
   "execution_count": 5,
   "metadata": {},
   "outputs": [],
   "source": [
    "# help(df.to_markdown)"
   ]
  },
  {
   "cell_type": "code",
   "execution_count": 6,
   "metadata": {},
   "outputs": [
    {
     "name": "stdout",
     "output_type": "stream",
     "text": [
      "     Text              Numbers  State      More numbers\n",
      "---  --------------  ---------  -------  --------------\n",
      "I    ABC                1.23    True             0\n",
      "II   hello              2.5001  False            0.015\n",
      "III  Python is cool     3       False            3.1415\n",
      "IV   IO                 0.1     True          1000.12\n"
     ]
    }
   ],
   "source": [
    "# Let's change the style of a table\n",
    "print(\n",
    "    df.to_markdown(\n",
    "        tablefmt=\"simple\"\n",
    "    )\n",
    ")"
   ]
  },
  {
   "cell_type": "markdown",
   "metadata": {},
   "source": [
    "## Way 2\n",
    "\n",
    "Import and use `tabulate` directly.\n",
    "\n",
    "This is a more versatile option as it allows to print `DataFrames` and other structures such as nested `lists` or `dictionaries`."
   ]
  },
  {
   "cell_type": "markdown",
   "metadata": {},
   "source": [
    "### Default"
   ]
  },
  {
   "cell_type": "code",
   "execution_count": 7,
   "metadata": {},
   "outputs": [
    {
     "name": "stdout",
     "output_type": "stream",
     "text": [
      "---  --------------  ------  -----  ---------\n",
      "I    ABC             1.23    True      0\n",
      "II   hello           2.5001  False     0.015\n",
      "III  Python is cool  3       False     3.1415\n",
      "IV   IO              0.1     True   1000.12\n",
      "---  --------------  ------  -----  ---------\n"
     ]
    }
   ],
   "source": [
    "print(\n",
    "    tabulate(\n",
    "            df,\n",
    "    )\n",
    ")"
   ]
  },
  {
   "cell_type": "markdown",
   "metadata": {},
   "source": [
    "### With parameters"
   ]
  },
  {
   "cell_type": "code",
   "execution_count": 8,
   "metadata": {},
   "outputs": [
    {
     "name": "stdout",
     "output_type": "stream",
     "text": [
      "     Text              Numbers  State      More numbers\n",
      "---  --------------  ---------  -------  --------------\n",
      "I    ABC                1.23    True             0\n",
      "II   hello              2.5001  False            0.015\n",
      "III  Python is cool     3       False            3.1415\n",
      "IV   IO                 0.1     True          1000.12\n"
     ]
    }
   ],
   "source": [
    "print(\n",
    "    tabulate(\n",
    "            df,\n",
    "            headers=\"keys\",\n",
    "            tablefmt=\"simple\"\n",
    "    )\n",
    ")"
   ]
  },
  {
   "cell_type": "markdown",
   "metadata": {},
   "source": [
    "## Print `list` of `lists`\n",
    "\n",
    "* Each `list` represents a row of values."
   ]
  },
  {
   "cell_type": "code",
   "execution_count": 9,
   "metadata": {},
   "outputs": [
    {
     "data": {
      "text/plain": [
       "[['ABC', 1.23, True, 0],\n",
       " ['hello', 2.5001, False, 0.015],\n",
       " ['Python is cool', 3.0, False, 3.1415],\n",
       " ['IO', 0.1, True, 1000.1234]]"
      ]
     },
     "execution_count": 9,
     "metadata": {},
     "output_type": "execute_result"
    }
   ],
   "source": [
    "my_list = [\n",
    "    [\"ABC\", 1.23, True, 0],\n",
    "    [\"hello\", 2.5001, False, 0.015],\n",
    "    [\"Python is cool\", 3.0, False, 3.1415],\n",
    "    [\"IO\", .1, True, 1000.1234],\n",
    "]\n",
    "\n",
    "my_list"
   ]
  },
  {
   "cell_type": "code",
   "execution_count": 10,
   "metadata": {},
   "outputs": [
    {
     "name": "stdout",
     "output_type": "stream",
     "text": [
      "--------------  ------  -----  ---------\n",
      "ABC             1.23    True      0\n",
      "hello           2.5001  False     0.015\n",
      "Python is cool  3       False     3.1415\n",
      "IO              0.1     True   1000.12\n",
      "--------------  ------  -----  ---------\n"
     ]
    }
   ],
   "source": [
    "print(\n",
    "    tabulate(\n",
    "            my_list,\n",
    "            tablefmt=\"simple\"\n",
    "    )\n",
    ")"
   ]
  },
  {
   "cell_type": "markdown",
   "metadata": {},
   "source": [
    "Add headers"
   ]
  },
  {
   "cell_type": "code",
   "execution_count": 11,
   "metadata": {},
   "outputs": [
    {
     "name": "stdout",
     "output_type": "stream",
     "text": [
      "Text              Numbers  State      More numbers\n",
      "--------------  ---------  -------  --------------\n",
      "ABC                1.23    True             0\n",
      "hello              2.5001  False            0.015\n",
      "Python is cool     3       False            3.1415\n",
      "IO                 0.1     True          1000.12\n"
     ]
    }
   ],
   "source": [
    "print(\n",
    "    tabulate(\n",
    "            my_list,\n",
    "            tablefmt=\"simple\",\n",
    "            headers=[\"Text\", \"Numbers\", \"State\", \"More numbers\"]\n",
    "    )\n",
    ")"
   ]
  },
  {
   "cell_type": "markdown",
   "metadata": {},
   "source": [
    "Use 1st row as a header"
   ]
  },
  {
   "cell_type": "code",
   "execution_count": 12,
   "metadata": {},
   "outputs": [
    {
     "data": {
      "text/plain": [
       "[['Text', 'Numbers', 'State', 'More numbers'],\n",
       " ['ABC', 1.23, True, 0],\n",
       " ['hello', 2.5001, False, 0.015],\n",
       " ['Python is cool', 3.0, False, 3.1415],\n",
       " ['IO', 0.1, True, 1000.1234]]"
      ]
     },
     "execution_count": 12,
     "metadata": {},
     "output_type": "execute_result"
    }
   ],
   "source": [
    "my_list = [\n",
    "    [\"Text\", \"Numbers\", \"State\", \"More numbers\"],  # headers\n",
    "    [\"ABC\", 1.23, True, 0],\n",
    "    [\"hello\", 2.5001, False, 0.015],\n",
    "    [\"Python is cool\", 3.0, False, 3.1415],\n",
    "    [\"IO\", .1, True, 1000.1234],\n",
    "]\n",
    "\n",
    "my_list"
   ]
  },
  {
   "cell_type": "code",
   "execution_count": 13,
   "metadata": {},
   "outputs": [
    {
     "name": "stdout",
     "output_type": "stream",
     "text": [
      "Text              Numbers  State      More numbers\n",
      "--------------  ---------  -------  --------------\n",
      "ABC                1.23    True             0\n",
      "hello              2.5001  False            0.015\n",
      "Python is cool     3       False            3.1415\n",
      "IO                 0.1     True          1000.12\n"
     ]
    }
   ],
   "source": [
    "print(\n",
    "    tabulate(\n",
    "            my_list,\n",
    "            tablefmt=\"simple\",\n",
    "            headers=\"firstrow\"\n",
    "    )\n",
    ")"
   ]
  },
  {
   "cell_type": "markdown",
   "metadata": {},
   "source": [
    "Add index"
   ]
  },
  {
   "cell_type": "code",
   "execution_count": 14,
   "metadata": {},
   "outputs": [
    {
     "name": "stdout",
     "output_type": "stream",
     "text": [
      "    Text              Numbers  State      More numbers\n",
      "--  --------------  ---------  -------  --------------\n",
      " 0  ABC                1.23    True             0\n",
      " 1  hello              2.5001  False            0.015\n",
      " 2  Python is cool     3       False            3.1415\n",
      " 3  IO                 0.1     True          1000.12\n"
     ]
    }
   ],
   "source": [
    "print(\n",
    "    tabulate(\n",
    "            my_list,\n",
    "            tablefmt=\"simple\",\n",
    "            headers=\"firstrow\",\n",
    "            showindex=True\n",
    "    )\n",
    ")"
   ]
  },
  {
   "cell_type": "markdown",
   "metadata": {},
   "source": [
    "Add custom index\n",
    "\n",
    "* use iterable"
   ]
  },
  {
   "cell_type": "code",
   "execution_count": 15,
   "metadata": {},
   "outputs": [
    {
     "name": "stdout",
     "output_type": "stream",
     "text": [
      "     Text              Numbers  State      More numbers\n",
      "---  --------------  ---------  -------  --------------\n",
      "I    ABC                1.23    True             0\n",
      "II   hello              2.5001  False            0.015\n",
      "III  Python is cool     3       False            3.1415\n",
      "IV   IO                 0.1     True          1000.12\n"
     ]
    }
   ],
   "source": [
    "print(\n",
    "    tabulate(\n",
    "            my_list,\n",
    "            tablefmt=\"simple\",\n",
    "            headers=\"firstrow\",\n",
    "            showindex=[\"I\", \"II\", \"III\", \"IV\"]\n",
    "    )\n",
    ")"
   ]
  },
  {
   "cell_type": "markdown",
   "metadata": {},
   "source": [
    "## Print dictionaries"
   ]
  },
  {
   "cell_type": "code",
   "execution_count": 16,
   "metadata": {},
   "outputs": [
    {
     "data": {
      "text/plain": [
       "{'Text': ['ABC', 'hello', 'Python is cool', 'IO'],\n",
       " 'Numbers': [1.23, 2.5001, 3.0, 0.1],\n",
       " 'State': [True, False, False, True],\n",
       " 'More numbers': [0, 0.015, 3.1415, 1000.1234]}"
      ]
     },
     "execution_count": 16,
     "metadata": {},
     "output_type": "execute_result"
    }
   ],
   "source": [
    "my_dict = {\n",
    "    \"Text\": [\"ABC\", \"hello\", \"Python is cool\", \"IO\"], \n",
    "    \"Numbers\": [1.23, 2.5001, 3.0, .1],\n",
    "    \"State\": [True, False, False, True],\n",
    "    \"More numbers\": [0, 0.015, 3.1415, 1000.1234],\n",
    "}\n",
    "\n",
    "my_dict"
   ]
  },
  {
   "cell_type": "code",
   "execution_count": 17,
   "metadata": {},
   "outputs": [
    {
     "name": "stdout",
     "output_type": "stream",
     "text": [
      "--------------  ------  -----  ---------\n",
      "ABC             1.23    True      0\n",
      "hello           2.5001  False     0.015\n",
      "Python is cool  3       False     3.1415\n",
      "IO              0.1     True   1000.12\n",
      "--------------  ------  -----  ---------\n"
     ]
    }
   ],
   "source": [
    "print(\n",
    "    tabulate(\n",
    "            my_dict,\n",
    "            tablefmt=\"simple\"\n",
    "    )\n",
    ")"
   ]
  },
  {
   "cell_type": "markdown",
   "metadata": {},
   "source": [
    "### Add `headers` and `indexes`"
   ]
  },
  {
   "cell_type": "code",
   "execution_count": 18,
   "metadata": {},
   "outputs": [
    {
     "name": "stdout",
     "output_type": "stream",
     "text": [
      "     Text              Numbers  State      More numbers\n",
      "---  --------------  ---------  -------  --------------\n",
      "I    ABC                1.23    True             0\n",
      "II   hello              2.5001  False            0.015\n",
      "III  Python is cool     3       False            3.1415\n",
      "IV   IO                 0.1     True          1000.12\n"
     ]
    }
   ],
   "source": [
    "print(\n",
    "    tabulate(\n",
    "            my_dict,\n",
    "            tablefmt=\"simple\",\n",
    "            headers=\"keys\",\n",
    "            showindex=[\"I\", \"II\", \"III\", \"IV\"]\n",
    "    )\n",
    ")"
   ]
  },
  {
   "cell_type": "markdown",
   "metadata": {},
   "source": [
    "## Visual tweaks"
   ]
  },
  {
   "cell_type": "code",
   "execution_count": 19,
   "metadata": {},
   "outputs": [
    {
     "data": {
      "text/html": [
       "<div>\n",
       "<style scoped>\n",
       "    .dataframe tbody tr th:only-of-type {\n",
       "        vertical-align: middle;\n",
       "    }\n",
       "\n",
       "    .dataframe tbody tr th {\n",
       "        vertical-align: top;\n",
       "    }\n",
       "\n",
       "    .dataframe thead th {\n",
       "        text-align: right;\n",
       "    }\n",
       "</style>\n",
       "<table border=\"1\" class=\"dataframe\">\n",
       "  <thead>\n",
       "    <tr style=\"text-align: right;\">\n",
       "      <th></th>\n",
       "      <th>Text</th>\n",
       "      <th>Numbers</th>\n",
       "      <th>State</th>\n",
       "      <th>More numbers</th>\n",
       "    </tr>\n",
       "  </thead>\n",
       "  <tbody>\n",
       "    <tr>\n",
       "      <th>I</th>\n",
       "      <td>ABC</td>\n",
       "      <td>1.2300</td>\n",
       "      <td>True</td>\n",
       "      <td>0.0000</td>\n",
       "    </tr>\n",
       "    <tr>\n",
       "      <th>II</th>\n",
       "      <td>hello</td>\n",
       "      <td>2.5001</td>\n",
       "      <td>False</td>\n",
       "      <td>0.0150</td>\n",
       "    </tr>\n",
       "    <tr>\n",
       "      <th>III</th>\n",
       "      <td>Python is cool</td>\n",
       "      <td>3.0000</td>\n",
       "      <td>False</td>\n",
       "      <td>3.1415</td>\n",
       "    </tr>\n",
       "    <tr>\n",
       "      <th>IV</th>\n",
       "      <td>IO</td>\n",
       "      <td>0.1000</td>\n",
       "      <td>True</td>\n",
       "      <td>1000.1234</td>\n",
       "    </tr>\n",
       "  </tbody>\n",
       "</table>\n",
       "</div>"
      ],
      "text/plain": [
       "               Text  Numbers  State  More numbers\n",
       "I               ABC   1.2300   True        0.0000\n",
       "II            hello   2.5001  False        0.0150\n",
       "III  Python is cool   3.0000  False        3.1415\n",
       "IV               IO   0.1000   True     1000.1234"
      ]
     },
     "execution_count": 19,
     "metadata": {},
     "output_type": "execute_result"
    }
   ],
   "source": [
    "df"
   ]
  },
  {
   "cell_type": "markdown",
   "metadata": {},
   "source": [
    "### Table styles\n",
    "\n",
    "* to show Pandas column names, use `key` keyword in `headers`"
   ]
  },
  {
   "cell_type": "markdown",
   "metadata": {},
   "source": [
    "Simple outline"
   ]
  },
  {
   "cell_type": "code",
   "execution_count": 20,
   "metadata": {},
   "outputs": [
    {
     "name": "stdout",
     "output_type": "stream",
     "text": [
      "┌─────┬────────────────┬───────────┬─────────┬────────────────┐\n",
      "│     │ Text           │   Numbers │ State   │   More numbers │\n",
      "├─────┼────────────────┼───────────┼─────────┼────────────────┤\n",
      "│ I   │ ABC            │    1.23   │ True    │         0      │\n",
      "│ II  │ hello          │    2.5001 │ False   │         0.015  │\n",
      "│ III │ Python is cool │    3      │ False   │         3.1415 │\n",
      "│ IV  │ IO             │    0.1    │ True    │      1000.12   │\n",
      "└─────┴────────────────┴───────────┴─────────┴────────────────┘\n"
     ]
    }
   ],
   "source": [
    "print(\n",
    "    tabulate(\n",
    "            df,\n",
    "            headers=\"keys\",\n",
    "            tablefmt=\"simple_outline\"\n",
    "    )\n",
    ")"
   ]
  },
  {
   "cell_type": "markdown",
   "metadata": {},
   "source": [
    "Double outline"
   ]
  },
  {
   "cell_type": "code",
   "execution_count": 21,
   "metadata": {},
   "outputs": [
    {
     "name": "stdout",
     "output_type": "stream",
     "text": [
      "╔═════╦════════════════╦═══════════╦═════════╦════════════════╗\n",
      "║     ║ Text           ║   Numbers ║ State   ║   More numbers ║\n",
      "╠═════╬════════════════╬═══════════╬═════════╬════════════════╣\n",
      "║ I   ║ ABC            ║    1.23   ║ True    ║         0      ║\n",
      "║ II  ║ hello          ║    2.5001 ║ False   ║         0.015  ║\n",
      "║ III ║ Python is cool ║    3      ║ False   ║         3.1415 ║\n",
      "║ IV  ║ IO             ║    0.1    ║ True    ║      1000.12   ║\n",
      "╚═════╩════════════════╩═══════════╩═════════╩════════════════╝\n"
     ]
    }
   ],
   "source": [
    "print(\n",
    "    tabulate(\n",
    "            df,\n",
    "            headers=\"keys\",\n",
    "            tablefmt=\"double_outline\"\n",
    "    )\n",
    ")"
   ]
  },
  {
   "cell_type": "markdown",
   "metadata": {},
   "source": [
    "rst"
   ]
  },
  {
   "cell_type": "code",
   "execution_count": 22,
   "metadata": {},
   "outputs": [
    {
     "name": "stdout",
     "output_type": "stream",
     "text": [
      "====  ==============  =========  =======  ==============\n",
      "..    Text              Numbers  State      More numbers\n",
      "====  ==============  =========  =======  ==============\n",
      "I     ABC                1.23    True             0\n",
      "II    hello              2.5001  False            0.015\n",
      "III   Python is cool     3       False            3.1415\n",
      "IV    IO                 0.1     True          1000.12\n",
      "====  ==============  =========  =======  ==============\n"
     ]
    }
   ],
   "source": [
    "print(\n",
    "    tabulate(\n",
    "            df,\n",
    "            headers=\"keys\",\n",
    "            tablefmt=\"rst\"\n",
    "    )\n",
    ")"
   ]
  },
  {
   "cell_type": "markdown",
   "metadata": {},
   "source": [
    "tsv"
   ]
  },
  {
   "cell_type": "code",
   "execution_count": 23,
   "metadata": {},
   "outputs": [
    {
     "name": "stdout",
     "output_type": "stream",
     "text": [
      "   \tText          \t  Numbers\tState  \t  More numbers\n",
      "I  \tABC           \t   1.23  \tTrue   \t        0\n",
      "II \thello         \t   2.5001\tFalse  \t        0.015\n",
      "III\tPython is cool\t   3     \tFalse  \t        3.1415\n",
      "IV \tIO            \t   0.1   \tTrue   \t     1000.12\n"
     ]
    }
   ],
   "source": [
    "print(\n",
    "    tabulate(\n",
    "            df,\n",
    "            headers=\"keys\",\n",
    "            tablefmt=\"tsv\"\n",
    "    )\n",
    ")"
   ]
  },
  {
   "cell_type": "markdown",
   "metadata": {},
   "source": [
    "Latex"
   ]
  },
  {
   "cell_type": "code",
   "execution_count": 24,
   "metadata": {},
   "outputs": [
    {
     "name": "stdout",
     "output_type": "stream",
     "text": [
      "\\begin{tabular}{llrlr}\n",
      "\\hline\n",
      "     & Text           &   Numbers & State   &   More numbers \\\\\n",
      "\\hline\n",
      " I   & ABC            &    1.23   & True    &         0      \\\\\n",
      " II  & hello          &    2.5001 & False   &         0.015  \\\\\n",
      " III & Python is cool &    3      & False   &         3.1415 \\\\\n",
      " IV  & IO             &    0.1    & True    &      1000.12   \\\\\n",
      "\\hline\n",
      "\\end{tabular}\n"
     ]
    }
   ],
   "source": [
    "print(\n",
    "    tabulate(\n",
    "            df,\n",
    "            headers=\"keys\",\n",
    "            tablefmt=\"latex\"\n",
    "    )\n",
    ")"
   ]
  },
  {
   "cell_type": "markdown",
   "metadata": {},
   "source": [
    "### Table alignment\n",
    "\n",
    "By default:\n",
    "* numerical columns are aligned on a decimal point\n",
    "* text columns are aligned to the left\n",
    "\n",
    "There are two parameters to align strings and numbers:\n",
    "* `numalign`\n",
    "* `stralign`"
   ]
  },
  {
   "cell_type": "markdown",
   "metadata": {},
   "source": [
    "Default alignment"
   ]
  },
  {
   "cell_type": "code",
   "execution_count": 25,
   "metadata": {},
   "outputs": [
    {
     "name": "stdout",
     "output_type": "stream",
     "text": [
      "┌─────┬────────────────┬───────────┬─────────┬────────────────┐\n",
      "│     │ Text           │   Numbers │ State   │   More numbers │\n",
      "├─────┼────────────────┼───────────┼─────────┼────────────────┤\n",
      "│ I   │ ABC            │    1.23   │ True    │         0      │\n",
      "│ II  │ hello          │    2.5001 │ False   │         0.015  │\n",
      "│ III │ Python is cool │    3      │ False   │         3.1415 │\n",
      "│ IV  │ IO             │    0.1    │ True    │      1000.12   │\n",
      "└─────┴────────────────┴───────────┴─────────┴────────────────┘\n"
     ]
    }
   ],
   "source": [
    "# Default alignment\n",
    "print(\n",
    "    tabulate(\n",
    "            df,\n",
    "            headers=\"keys\",\n",
    "            tablefmt=\"simple_outline\"\n",
    "    )\n",
    ")"
   ]
  },
  {
   "cell_type": "markdown",
   "metadata": {},
   "source": [
    "String alignment"
   ]
  },
  {
   "cell_type": "code",
   "execution_count": 26,
   "metadata": {},
   "outputs": [
    {
     "name": "stdout",
     "output_type": "stream",
     "text": [
      "┌─────┬────────────────┬───────────┬─────────┬────────────────┐\n",
      "│     │      Text      │   Numbers │  State  │   More numbers │\n",
      "├─────┼────────────────┼───────────┼─────────┼────────────────┤\n",
      "│  I  │      ABC       │    1.23   │  True   │         0      │\n",
      "│ II  │     hello      │    2.5001 │  False  │         0.015  │\n",
      "│ III │ Python is cool │    3      │  False  │         3.1415 │\n",
      "│ IV  │       IO       │    0.1    │  True   │      1000.12   │\n",
      "└─────┴────────────────┴───────────┴─────────┴────────────────┘\n"
     ]
    }
   ],
   "source": [
    "print(\n",
    "    tabulate(\n",
    "            df,\n",
    "            headers=\"keys\",\n",
    "            tablefmt=\"simple_outline\",\n",
    "            stralign=\"center\"\n",
    "    )\n",
    ")"
   ]
  },
  {
   "cell_type": "markdown",
   "metadata": {},
   "source": [
    "Number alignment"
   ]
  },
  {
   "cell_type": "code",
   "execution_count": 27,
   "metadata": {},
   "outputs": [
    {
     "name": "stdout",
     "output_type": "stream",
     "text": [
      "┌─────┬────────────────┬───────────┬─────────┬────────────────┐\n",
      "│     │      Text      │   Numbers │  State  │   More numbers │\n",
      "├─────┼────────────────┼───────────┼─────────┼────────────────┤\n",
      "│  I  │      ABC       │      1.23 │  True   │              0 │\n",
      "│ II  │     hello      │    2.5001 │  False  │          0.015 │\n",
      "│ III │ Python is cool │         3 │  False  │         3.1415 │\n",
      "│ IV  │       IO       │       0.1 │  True   │        1000.12 │\n",
      "└─────┴────────────────┴───────────┴─────────┴────────────────┘\n"
     ]
    }
   ],
   "source": [
    "print(\n",
    "    tabulate(\n",
    "            df,\n",
    "            headers=\"keys\",\n",
    "            tablefmt=\"simple_outline\",\n",
    "            stralign=\"center\",\n",
    "            numalign=\"right\"\n",
    "    )\n",
    ")"
   ]
  },
  {
   "cell_type": "markdown",
   "metadata": {},
   "source": [
    "Column alignment\n",
    "\n",
    "* This overrides the `stralign` and `numalign`!"
   ]
  },
  {
   "cell_type": "code",
   "execution_count": 28,
   "metadata": {},
   "outputs": [
    {
     "name": "stdout",
     "output_type": "stream",
     "text": [
      "┌─────┬────────────────┬───────────┬─────────┬────────────────┐\n",
      "│     │      Text      │   Numbers │  State  │   More numbers │\n",
      "├─────┼────────────────┼───────────┼─────────┼────────────────┤\n",
      "│ I   │      ABC       │      1.23 │  True   │              0 │\n",
      "│ II  │     hello      │    2.5001 │  False  │          0.015 │\n",
      "│ III │ Python is cool │         3 │  False  │         3.1415 │\n",
      "│ IV  │       IO       │       0.1 │  True   │        1000.12 │\n",
      "└─────┴────────────────┴───────────┴─────────┴────────────────┘\n"
     ]
    }
   ],
   "source": [
    "print(\n",
    "    tabulate(\n",
    "            df,\n",
    "            headers=\"keys\",\n",
    "            tablefmt=\"simple_outline\",\n",
    "            stralign=\"center\",\n",
    "            numalign=\"right\",\n",
    "            colalign=(\"left\",)\n",
    "    )\n",
    ")"
   ]
  },
  {
   "cell_type": "markdown",
   "metadata": {},
   "source": [
    "Column alignment - per column"
   ]
  },
  {
   "cell_type": "code",
   "execution_count": 29,
   "metadata": {},
   "outputs": [
    {
     "name": "stdout",
     "output_type": "stream",
     "text": [
      "┌─────┬────────────────┬───────────┬─────────┬────────────────┐\n",
      "│     │      Text      │   Numbers │   State │   More numbers │\n",
      "├─────┼────────────────┼───────────┼─────────┼────────────────┤\n",
      "│ I   │      ABC       │    1.23   │    True │         0      │\n",
      "│ II  │     hello      │    2.5001 │   False │         0.015  │\n",
      "│ III │ Python is cool │    3      │   False │         3.1415 │\n",
      "│ IV  │       IO       │    0.1    │    True │      1000.12   │\n",
      "└─────┴────────────────┴───────────┴─────────┴────────────────┘\n"
     ]
    }
   ],
   "source": [
    "print(\n",
    "    tabulate(\n",
    "            df,\n",
    "            headers=\"keys\",\n",
    "            tablefmt=\"simple_outline\",\n",
    "            colalign=(\"left\", \"center\", \"decimal\", \"right\")\n",
    "    )\n",
    ")"
   ]
  },
  {
   "cell_type": "markdown",
   "metadata": {},
   "source": [
    "### Number precision"
   ]
  },
  {
   "cell_type": "markdown",
   "metadata": {},
   "source": [
    "Set precision for all numeric columns"
   ]
  },
  {
   "cell_type": "code",
   "execution_count": 30,
   "metadata": {},
   "outputs": [
    {
     "name": "stdout",
     "output_type": "stream",
     "text": [
      "┌─────┬────────────────┬───────────┬─────────┬────────────────┐\n",
      "│     │ Text           │   Numbers │ State   │   More numbers │\n",
      "├─────┼────────────────┼───────────┼─────────┼────────────────┤\n",
      "│ I   │ ABC            │      1.23 │ True    │           0.00 │\n",
      "│ II  │ hello          │      2.50 │ False   │           0.01 │\n",
      "│ III │ Python is cool │      3.00 │ False   │           3.14 │\n",
      "│ IV  │ IO             │      0.10 │ True    │        1000.12 │\n",
      "└─────┴────────────────┴───────────┴─────────┴────────────────┘\n"
     ]
    }
   ],
   "source": [
    "print(\n",
    "    tabulate(\n",
    "            df,\n",
    "            headers=\"keys\",\n",
    "            tablefmt=\"simple_outline\",\n",
    "            floatfmt=\".2f\"\n",
    "    )\n",
    ")"
   ]
  },
  {
   "cell_type": "markdown",
   "metadata": {},
   "source": [
    "Set precision for each column individually"
   ]
  },
  {
   "cell_type": "code",
   "execution_count": 31,
   "metadata": {},
   "outputs": [
    {
     "name": "stdout",
     "output_type": "stream",
     "text": [
      "┌─────┬────────────────┬───────────┬─────────┬────────────────┐\n",
      "│     │ Text           │   Numbers │ State   │   More numbers │\n",
      "├─────┼────────────────┼───────────┼─────────┼────────────────┤\n",
      "│ I   │ ABC            │      1.23 │ True    │            0.0 │\n",
      "│ II  │ hello          │      2.50 │ False   │            0.0 │\n",
      "│ III │ Python is cool │      3.00 │ False   │            3.1 │\n",
      "│ IV  │ IO             │      0.10 │ True    │         1000.1 │\n",
      "└─────┴────────────────┴───────────┴─────────┴────────────────┘\n"
     ]
    }
   ],
   "source": [
    "print(\n",
    "    tabulate(\n",
    "            df,\n",
    "            headers=\"keys\",\n",
    "            tablefmt=\"simple_outline\",\n",
    "            floatfmt=(\"\",\"\", \".2f\",\"\", \".1f\")\n",
    "    )\n",
    ")"
   ]
  }
 ],
 "metadata": {
  "kernelspec": {
   "display_name": "venv_maps",
   "language": "python",
   "name": "python3"
  },
  "language_info": {
   "codemirror_mode": {
    "name": "ipython",
    "version": 3
   },
   "file_extension": ".py",
   "mimetype": "text/x-python",
   "name": "python",
   "nbconvert_exporter": "python",
   "pygments_lexer": "ipython3",
   "version": "3.10.2"
  }
 },
 "nbformat": 4,
 "nbformat_minor": 2
}
