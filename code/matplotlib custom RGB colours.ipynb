{
 "cells": [
  {
   "cell_type": "code",
   "execution_count": 1,
   "metadata": {},
   "outputs": [],
   "source": [
    "import matplotlib.pyplot as plt\n",
    "import numpy as np\n",
    "import pandas as pd"
   ]
  },
  {
   "cell_type": "markdown",
   "metadata": {},
   "source": [
    "# 1. Content\n",
    "\n",
    "- First explain how to create a colors\n",
    "- then show how to use them in plots"
   ]
  },
  {
   "cell_type": "markdown",
   "metadata": {},
   "source": [
    "# 2. Colour generation"
   ]
  },
  {
   "cell_type": "markdown",
   "metadata": {},
   "source": [
    "### Basic colours and theory"
   ]
  },
  {
   "cell_type": "code",
   "execution_count": 2,
   "metadata": {},
   "outputs": [],
   "source": [
    "# RGB colours are tuples:\n",
    "# (red, green, blue, alpha)\n",
    "# Each channel has 256 values (0, 255)\n",
    "# alpha is transparency\n",
    "# 256 * 256 * 256 = 16,777,216 colours\n",
    "# in matplotlib colours are normalized between 0 and 1 \n",
    "# 0 means least saturated\n",
    "# 1 means most saturated"
   ]
  },
  {
   "cell_type": "code",
   "execution_count": 3,
   "metadata": {},
   "outputs": [
    {
     "data": {
      "image/png": "[encoded data removed]",
      "text/plain": [
       "<Figure size 288x72 with 2 Axes>"
      ]
     },
     "metadata": {},
     "output_type": "display_data"
    }
   ],
   "source": [
    "# Define colours\n",
    "white = [1, 1, 1 ,1]\n",
    "black = [0, 0, 0, 1]\n",
    "colours = [black, white]\n",
    "\n",
    "# Preview the colours\n",
    "fig, axs = plt.subplots(len(colours), 1,\n",
    "                        figsize=(4, len(colours)/2),\n",
    "                       )\n",
    "\n",
    "for c, ax in zip(colours, axs):\n",
    "    ax.set_facecolor(c)\n",
    "    ax.set_xticks([])\n",
    "    ax.set_yticks([])"
   ]
  },
  {
   "cell_type": "code",
   "execution_count": 4,
   "metadata": {},
   "outputs": [
    {
     "data": {
      "image/png": "[encoded data removed]",
      "text/plain": [
       "<Figure size 288x108 with 3 Axes>"
      ]
     },
     "metadata": {},
     "output_type": "display_data"
    }
   ],
   "source": [
    "# Define colours: primary\n",
    "red = [1, 0, 0 ,1]\n",
    "green = [0, 1, 0, 1]\n",
    "blue = [0, 0, 1, 1]\n",
    "colours = [red, green, blue]\n",
    "\n",
    "# Preview the colours\n",
    "fig, axs = plt.subplots(len(colours), 1,\n",
    "                        figsize=(4, len(colours)/2),\n",
    "                       )\n",
    "\n",
    "for c, ax in zip(colours, axs):\n",
    "    ax.set_facecolor(c)\n",
    "    ax.set_xticks([])\n",
    "    ax.set_yticks([])"
   ]
  },
  {
   "cell_type": "code",
   "execution_count": 5,
   "metadata": {},
   "outputs": [
    {
     "data": {
      "image/png": "[encoded data removed]",
      "text/plain": [
       "<Figure size 288x108 with 3 Axes>"
      ]
     },
     "metadata": {},
     "output_type": "display_data"
    }
   ],
   "source": [
    "# Secondary colours: yellow, cyan, magenta\n",
    "yellow = [1, 1, 0 ,1]\n",
    "cyan = [0, 1, 1, 1]\n",
    "magenta = [1, 0, 1]\n",
    "colours = [yellow, cyan, magenta]\n",
    "\n",
    "# Preview the colours\n",
    "fig, axs = plt.subplots(len(colours), 1,\n",
    "                        figsize=(4, len(colours)/2),\n",
    "                       )\n",
    "\n",
    "for c, ax in zip(colours, axs):\n",
    "    ax.set_facecolor(c)\n",
    "    ax.set_xticks([])\n",
    "    ax.set_yticks([])"
   ]
  },
  {
   "cell_type": "markdown",
   "metadata": {},
   "source": [
    "### Create 2 colourscale along one channel"
   ]
  },
  {
   "cell_type": "code",
   "execution_count": 6,
   "metadata": {},
   "outputs": [
    {
     "data": {
      "text/plain": [
       "array([[0.        , 0.        , 0.        , 1.        ],\n",
       "       [0.07142857, 0.        , 0.        , 1.        ],\n",
       "       [0.14285714, 0.        , 0.        , 1.        ],\n",
       "       [0.21428571, 0.        , 0.        , 1.        ],\n",
       "       [0.28571429, 0.        , 0.        , 1.        ],\n",
       "       [0.35714286, 0.        , 0.        , 1.        ],\n",
       "       [0.42857143, 0.        , 0.        , 1.        ],\n",
       "       [0.5       , 0.        , 0.        , 1.        ],\n",
       "       [0.57142857, 0.        , 0.        , 1.        ],\n",
       "       [0.64285714, 0.        , 0.        , 1.        ],\n",
       "       [0.71428571, 0.        , 0.        , 1.        ],\n",
       "       [0.78571429, 0.        , 0.        , 1.        ],\n",
       "       [0.85714286, 0.        , 0.        , 1.        ],\n",
       "       [0.92857143, 0.        , 0.        , 1.        ],\n",
       "       [1.        , 0.        , 0.        , 1.        ]])"
      ]
     },
     "execution_count": 6,
     "metadata": {},
     "output_type": "execute_result"
    }
   ],
   "source": [
    "# Let's create 15 colours along one channel e.g., \n",
    "# going from black to red:\n",
    "# [0, 0, 0, 1] to\n",
    "# [1, 0, 0, 1]\n",
    "counter = 15  # nr of colours\n",
    "\n",
    "# Colours will be stored in a Numpy's array\n",
    "# Numpy array used 0-based indexing.\n",
    "colours = np.zeros((counter, 4))\n",
    "colours[:, 3] = 1  # alpha channel\n",
    "colours[:, 0] = np.linspace(0, 1, counter)\n",
    "\n",
    "#Preview the array of colours\n",
    "colours"
   ]
  },
  {
   "cell_type": "code",
   "execution_count": 7,
   "metadata": {},
   "outputs": [
    {
     "data": {
      "text/plain": [
       "numpy.ndarray"
      ]
     },
     "execution_count": 7,
     "metadata": {},
     "output_type": "execute_result"
    }
   ],
   "source": [
    "# Verify the type\n",
    "type(colours)"
   ]
  },
  {
   "cell_type": "code",
   "execution_count": 8,
   "metadata": {},
   "outputs": [
    {
     "data": {
      "image/png": "[encoded data removed]",
      "text/plain": [
       "<Figure size 288x360 with 15 Axes>"
      ]
     },
     "metadata": {},
     "output_type": "display_data"
    }
   ],
   "source": [
    "fig, axs = plt.subplots(counter, 1,\n",
    "                        figsize=(4, counter/3),\n",
    "                       )\n",
    "\n",
    "for c, ax in zip(colours, axs):\n",
    "    ax.set_facecolor(c)\n",
    "    ax.set_xticks([])\n",
    "    ax.set_yticks([])"
   ]
  },
  {
   "cell_type": "code",
   "execution_count": 9,
   "metadata": {},
   "outputs": [],
   "source": [
    "# To revere the order:\n",
    "reversed_colours = colours[::-1]"
   ]
  },
  {
   "cell_type": "code",
   "execution_count": 10,
   "metadata": {},
   "outputs": [
    {
     "data": {
      "image/png": "[encoded data removed]",
      "text/plain": [
       "<Figure size 288x360 with 15 Axes>"
      ]
     },
     "metadata": {},
     "output_type": "display_data"
    }
   ],
   "source": [
    "fig, axs = plt.subplots(counter, 1,\n",
    "                        figsize=(4, counter/3),\n",
    "                       )\n",
    "\n",
    "for c, ax in zip(reversed_colours, axs):\n",
    "    ax.set_facecolor(c)\n",
    "    ax.set_xticks([])\n",
    "    ax.set_yticks([])"
   ]
  },
  {
   "cell_type": "markdown",
   "metadata": {},
   "source": [
    "### Vary the transparency"
   ]
  },
  {
   "cell_type": "code",
   "execution_count": 11,
   "metadata": {},
   "outputs": [],
   "source": [
    "# Let's create 15 steps of transparency for one colour\n",
    "counter = 20\n",
    "\n",
    "# Let's do it for green\n",
    "colours = np.zeros((counter, 4))\n",
    "colours[:, 1] = 1  # green channel\n",
    "colours[:, 3] = np.linspace(0, 1, counter) # alpha channel"
   ]
  },
  {
   "cell_type": "code",
   "execution_count": 12,
   "metadata": {},
   "outputs": [
    {
     "data": {
      "image/png": "[encoded data removed]",
      "text/plain": [
       "<Figure size 288x480 with 20 Axes>"
      ]
     },
     "metadata": {},
     "output_type": "display_data"
    }
   ],
   "source": [
    "fig, axs = plt.subplots(counter, 1,\n",
    "                        figsize=(4, counter/3),\n",
    "                       )\n",
    "\n",
    "for c, ax in zip(colours, axs):\n",
    "    ax.set_facecolor(c)\n",
    "    ax.set_xticks([])\n",
    "    ax.set_yticks([])"
   ]
  },
  {
   "cell_type": "markdown",
   "metadata": {},
   "source": [
    "### Create 2 colour scale along multiple channel"
   ]
  },
  {
   "cell_type": "code",
   "execution_count": 13,
   "metadata": {},
   "outputs": [
    {
     "data": {
      "text/plain": [
       "array([[1.        , 0.        , 0.        , 1.        ],\n",
       "       [0.94736842, 0.05263158, 0.        , 1.        ],\n",
       "       [0.89473684, 0.10526316, 0.        , 1.        ],\n",
       "       [0.84210526, 0.15789474, 0.        , 1.        ],\n",
       "       [0.78947368, 0.21052632, 0.        , 1.        ],\n",
       "       [0.73684211, 0.26315789, 0.        , 1.        ],\n",
       "       [0.68421053, 0.31578947, 0.        , 1.        ],\n",
       "       [0.63157895, 0.36842105, 0.        , 1.        ],\n",
       "       [0.57894737, 0.42105263, 0.        , 1.        ],\n",
       "       [0.52631579, 0.47368421, 0.        , 1.        ],\n",
       "       [0.47368421, 0.52631579, 0.        , 1.        ],\n",
       "       [0.42105263, 0.57894737, 0.        , 1.        ],\n",
       "       [0.36842105, 0.63157895, 0.        , 1.        ],\n",
       "       [0.31578947, 0.68421053, 0.        , 1.        ],\n",
       "       [0.26315789, 0.73684211, 0.        , 1.        ],\n",
       "       [0.21052632, 0.78947368, 0.        , 1.        ],\n",
       "       [0.15789474, 0.84210526, 0.        , 1.        ],\n",
       "       [0.10526316, 0.89473684, 0.        , 1.        ],\n",
       "       [0.05263158, 0.94736842, 0.        , 1.        ],\n",
       "       [0.        , 1.        , 0.        , 1.        ]])"
      ]
     },
     "execution_count": 13,
     "metadata": {},
     "output_type": "execute_result"
    }
   ],
   "source": [
    "# Example 1\n",
    "# Let's create 15 colours along two channel e.g., \n",
    "# going from red to green:\n",
    "# [1, 0, 0, 1] to\n",
    "# [0, 1, 0, 1]\n",
    "counter = 20\n",
    "\n",
    "colours = np.zeros((counter, 4))\n",
    "colours[:, 3] = 1 # alpha channel\n",
    "colours[:, 0] = np.linspace(1, 0, counter) # red channel\n",
    "colours[:, 1] = np.linspace(0, 1, counter) # green channel\n",
    "\n",
    "colours"
   ]
  },
  {
   "cell_type": "code",
   "execution_count": 14,
   "metadata": {},
   "outputs": [
    {
     "data": {
      "image/png": "[encoded data removed]",
      "text/plain": [
       "<Figure size 288x480 with 20 Axes>"
      ]
     },
     "metadata": {},
     "output_type": "display_data"
    }
   ],
   "source": [
    "fig, axs = plt.subplots(counter, 1,\n",
    "                        figsize=(4, counter/3),\n",
    "                       )\n",
    "\n",
    "for c, ax in zip(colours, axs):\n",
    "    ax.set_facecolor(c)\n",
    "    ax.set_xticks([])\n",
    "    ax.set_yticks([])"
   ]
  },
  {
   "cell_type": "code",
   "execution_count": 15,
   "metadata": {},
   "outputs": [
    {
     "data": {
      "text/plain": [
       "array([[1.        , 0.        , 0.        , 1.        ],\n",
       "       [1.        , 0.05263158, 0.        , 1.        ],\n",
       "       [1.        , 0.10526316, 0.        , 1.        ],\n",
       "       [1.        , 0.15789474, 0.        , 1.        ],\n",
       "       [1.        , 0.21052632, 0.        , 1.        ],\n",
       "       [1.        , 0.26315789, 0.        , 1.        ],\n",
       "       [1.        , 0.31578947, 0.        , 1.        ],\n",
       "       [1.        , 0.36842105, 0.        , 1.        ],\n",
       "       [1.        , 0.42105263, 0.        , 1.        ],\n",
       "       [1.        , 0.47368421, 0.        , 1.        ],\n",
       "       [1.        , 0.52631579, 0.        , 1.        ],\n",
       "       [1.        , 0.57894737, 0.        , 1.        ],\n",
       "       [1.        , 0.63157895, 0.        , 1.        ],\n",
       "       [1.        , 0.68421053, 0.        , 1.        ],\n",
       "       [1.        , 0.73684211, 0.        , 1.        ],\n",
       "       [1.        , 0.78947368, 0.        , 1.        ],\n",
       "       [1.        , 0.84210526, 0.        , 1.        ],\n",
       "       [1.        , 0.89473684, 0.        , 1.        ],\n",
       "       [1.        , 0.94736842, 0.        , 1.        ],\n",
       "       [1.        , 1.        , 0.        , 1.        ]])"
      ]
     },
     "execution_count": 15,
     "metadata": {},
     "output_type": "execute_result"
    }
   ],
   "source": [
    "# Example 2\n",
    "# Let's create 15 colours along two channel e.g., \n",
    "# going from red to yellow:\n",
    "# [1, 0, 0, 1] to\n",
    "# [1, 1, 0, 1]\n",
    "counter = 20\n",
    "\n",
    "colours = np.zeros((counter, 4))\n",
    "colours[:, 3] = 1 # alpha channel\n",
    "colours[:, 0] = 1 # red channel\n",
    "colours[:, 1] = np.linspace(0, 1, counter) # green channel\n",
    "\n",
    "colours"
   ]
  },
  {
   "cell_type": "code",
   "execution_count": 16,
   "metadata": {},
   "outputs": [
    {
     "data": {
      "image/png": "[encoded data removed]",
      "text/plain": [
       "<Figure size 288x480 with 20 Axes>"
      ]
     },
     "metadata": {},
     "output_type": "display_data"
    }
   ],
   "source": [
    "fig, axs = plt.subplots(counter, 1,\n",
    "                        figsize=(4, counter/3),\n",
    "                       )\n",
    "\n",
    "for c, ax in zip(colours, axs):\n",
    "    ax.set_facecolor(c)\n",
    "    ax.set_xticks([])\n",
    "    ax.set_yticks([])"
   ]
  },
  {
   "cell_type": "markdown",
   "metadata": {},
   "source": [
    "### Create multiple colour scale along multiple channel"
   ]
  },
  {
   "cell_type": "code",
   "execution_count": 38,
   "metadata": {},
   "outputs": [
    {
     "data": {
      "text/plain": [
       "array([[1.        , 0.        , 0.        , 1.        ],\n",
       "       [1.        , 0.2       , 0.        , 1.        ],\n",
       "       [1.        , 0.4       , 0.        , 1.        ],\n",
       "       [1.        , 0.6       , 0.        , 1.        ],\n",
       "       [1.        , 0.8       , 0.        , 1.        ],\n",
       "       [1.        , 1.        , 0.        , 1.        ],\n",
       "       [0.83333333, 1.        , 0.        , 1.        ],\n",
       "       [0.66666667, 1.        , 0.        , 1.        ],\n",
       "       [0.5       , 1.        , 0.        , 1.        ],\n",
       "       [0.33333333, 1.        , 0.        , 1.        ],\n",
       "       [0.16666667, 1.        , 0.        , 1.        ],\n",
       "       [0.        , 1.        , 0.        , 1.        ]])"
      ]
     },
     "execution_count": 38,
     "metadata": {},
     "output_type": "execute_result"
    }
   ],
   "source": [
    "# Let's create 3 colour scale, from red to yellow to green\n",
    "# [1, 0, 0, 1] to\n",
    "# [1, 1, 0, 1] to\n",
    "# [0, 1, 0, 1]\n",
    "counter = 12 # even number\n",
    "\n",
    "idx_half = np.int(np.ceil(counter/2))\n",
    "\n",
    "colours = np.zeros((counter, 4))\n",
    "colours[:, 3] = 1 # alpha channel\n",
    "colours[:idx_half, 0] = 1 # red channel\n",
    "colours[idx_half-1:, 0] = np.linspace(1, 0, idx_half+1) # red channel\n",
    "colours[:idx_half, 1] = np.linspace(0, 1, idx_half) # green channel\n",
    "colours[idx_half:, 1] = 1 # green channel\n",
    "\n",
    "colours"
   ]
  },
  {
   "cell_type": "code",
   "execution_count": 39,
   "metadata": {},
   "outputs": [
    {
     "data": {
      "text/plain": [
       "Text(0.5, 1.0, 'Even number of colours')"
      ]
     },
     "execution_count": 39,
     "metadata": {},
     "output_type": "execute_result"
    },
    {
     "data": {
      "image/png": "[encoded data removed]",
      "text/plain": [
       "<Figure size 288x288 with 12 Axes>"
      ]
     },
     "metadata": {},
     "output_type": "display_data"
    }
   ],
   "source": [
    "fig, axs = plt.subplots(counter, 1,\n",
    "                        figsize=(4, counter/3),\n",
    "                       )\n",
    "\n",
    "for i, ax in enumerate(axs):\n",
    "    ax.set_facecolor(colours[i, :])\n",
    "    ax.set_xticks([])\n",
    "    ax.set_yticks([])\n",
    "    ax.set_ylabel(str(i+1),\n",
    "                  rotation=0,\n",
    "                  va='center',\n",
    "                  ha='right'\n",
    "                 )\n",
    "    \n",
    "axs[0].set_title('Even number of colours')"
   ]
  },
  {
   "cell_type": "code",
   "execution_count": 47,
   "metadata": {},
   "outputs": [
    {
     "data": {
      "text/plain": [
       "array([[1.        , 0.        , 0.        , 1.        ],\n",
       "       [1.        , 0.16666667, 0.        , 1.        ],\n",
       "       [1.        , 0.33333333, 0.        , 1.        ],\n",
       "       [1.        , 0.5       , 0.        , 1.        ],\n",
       "       [1.        , 0.66666667, 0.        , 1.        ],\n",
       "       [1.        , 0.83333333, 0.        , 1.        ],\n",
       "       [1.        , 1.        , 0.        , 1.        ],\n",
       "       [0.83333333, 1.        , 0.        , 1.        ],\n",
       "       [0.66666667, 1.        , 0.        , 1.        ],\n",
       "       [0.5       , 1.        , 0.        , 1.        ],\n",
       "       [0.33333333, 1.        , 0.        , 1.        ],\n",
       "       [0.16666667, 1.        , 0.        , 1.        ],\n",
       "       [0.        , 1.        , 0.        , 1.        ]])"
      ]
     },
     "execution_count": 47,
     "metadata": {},
     "output_type": "execute_result"
    }
   ],
   "source": [
    "# Let's create 3 colour scale, from red to yellow to green\n",
    "# [1, 0, 0, 1] to\n",
    "# [1, 1, 0, 1] to\n",
    "# [0, 1, 0, 1]\n",
    "counter = 13 # odd number\n",
    "\n",
    "idx_half = np.int(np.ceil(counter/2))\n",
    "\n",
    "colours = np.zeros((counter, 4))\n",
    "colours[:, 3] = 1 # alpha channel\n",
    "colours[:idx_half, 0] = 1 # red channel\n",
    "colours[idx_half-1:, 0] = np.linspace(1, 0, idx_half) # red channel\n",
    "colours[:idx_half, 1] = np.linspace(0, 1, idx_half) # green channel\n",
    "colours[idx_half:, 1] = 1 # green channel\n",
    "\n",
    "colours"
   ]
  },
  {
   "cell_type": "code",
   "execution_count": 48,
   "metadata": {},
   "outputs": [
    {
     "data": {
      "text/plain": [
       "Text(0.5, 1.0, 'Odd number of colours')"
      ]
     },
     "execution_count": 48,
     "metadata": {},
     "output_type": "execute_result"
    },
    {
     "data": {
      "image/png": "[encoded data removed]",
      "text/plain": [
       "<Figure size 288x312 with 13 Axes>"
      ]
     },
     "metadata": {},
     "output_type": "display_data"
    }
   ],
   "source": [
    "fig, axs = plt.subplots(counter, 1,\n",
    "                        figsize=(4, counter/3),\n",
    "                       )\n",
    "\n",
    "for i, ax in enumerate(axs):\n",
    "    ax.set_facecolor(colours[i, :])\n",
    "    ax.set_xticks([])\n",
    "    ax.set_yticks([])\n",
    "    ax.set_ylabel(str(i+1),\n",
    "                  rotation=0,\n",
    "                  va='center',\n",
    "                  ha='right'\n",
    "                 )\n",
    "    \n",
    "axs[0].set_title('Odd number of colours')"
   ]
  },
  {
   "cell_type": "markdown",
   "metadata": {},
   "source": [
    "# TODO: \n",
    "\n",
    "* Add generation of random colours\n",
    "* Add general graph with paterns for `linspace` (constant number, step change from 0 to 1 at half point, gradual increase/decrease from 0 to 1, gradual increase/decrease to half point)"
   ]
  },
  {
   "cell_type": "markdown",
   "metadata": {},
   "source": [
    "# 3. Generate mock up data for the plot\n",
    "\n",
    "# TODO:\n",
    "\n",
    "Specify usage cases:\n",
    "\n",
    "* replace the sequence of default colours\n",
    "* comparison of two data sets each having few repeats, If I want to see general trend comparison I would do one data set one color graduation, 2nd data set would get another color graduation\n",
    "* to highlighte the most significant trace (all traces grey and the one with a stand out colour like red)"
   ]
  },
  {
   "cell_type": "code",
   "execution_count": 21,
   "metadata": {},
   "outputs": [
    {
     "data": {
      "text/html": [
       "<div>\n",
       "<style scoped>\n",
       "    .dataframe tbody tr th:only-of-type {\n",
       "        vertical-align: middle;\n",
       "    }\n",
       "\n",
       "    .dataframe tbody tr th {\n",
       "        vertical-align: top;\n",
       "    }\n",
       "\n",
       "    .dataframe thead th {\n",
       "        text-align: right;\n",
       "    }\n",
       "</style>\n",
       "<table border=\"1\" class=\"dataframe\">\n",
       "  <thead>\n",
       "    <tr style=\"text-align: right;\">\n",
       "      <th></th>\n",
       "      <th>A</th>\n",
       "      <th>B</th>\n",
       "      <th>C</th>\n",
       "      <th>D</th>\n",
       "      <th>E</th>\n",
       "    </tr>\n",
       "  </thead>\n",
       "  <tbody>\n",
       "    <tr>\n",
       "      <th>0</th>\n",
       "      <td>0.846681</td>\n",
       "      <td>1.157728</td>\n",
       "      <td>2.544050</td>\n",
       "      <td>3.316180</td>\n",
       "      <td>4.918767</td>\n",
       "    </tr>\n",
       "    <tr>\n",
       "      <th>1</th>\n",
       "      <td>0.715975</td>\n",
       "      <td>1.493872</td>\n",
       "      <td>2.698822</td>\n",
       "      <td>3.449609</td>\n",
       "      <td>4.006872</td>\n",
       "    </tr>\n",
       "    <tr>\n",
       "      <th>2</th>\n",
       "      <td>0.274910</td>\n",
       "      <td>1.697831</td>\n",
       "      <td>2.555201</td>\n",
       "      <td>3.759496</td>\n",
       "      <td>4.205523</td>\n",
       "    </tr>\n",
       "    <tr>\n",
       "      <th>3</th>\n",
       "      <td>0.839530</td>\n",
       "      <td>1.239945</td>\n",
       "      <td>2.597729</td>\n",
       "      <td>3.062721</td>\n",
       "      <td>4.400501</td>\n",
       "    </tr>\n",
       "    <tr>\n",
       "      <th>4</th>\n",
       "      <td>0.353049</td>\n",
       "      <td>1.516942</td>\n",
       "      <td>2.221888</td>\n",
       "      <td>3.247915</td>\n",
       "      <td>4.862427</td>\n",
       "    </tr>\n",
       "    <tr>\n",
       "      <th>5</th>\n",
       "      <td>0.854969</td>\n",
       "      <td>1.158309</td>\n",
       "      <td>2.363541</td>\n",
       "      <td>3.781946</td>\n",
       "      <td>4.129510</td>\n",
       "    </tr>\n",
       "    <tr>\n",
       "      <th>6</th>\n",
       "      <td>0.149857</td>\n",
       "      <td>1.823577</td>\n",
       "      <td>2.651160</td>\n",
       "      <td>3.558684</td>\n",
       "      <td>4.010768</td>\n",
       "    </tr>\n",
       "    <tr>\n",
       "      <th>7</th>\n",
       "      <td>0.457521</td>\n",
       "      <td>1.745575</td>\n",
       "      <td>2.750920</td>\n",
       "      <td>3.690237</td>\n",
       "      <td>4.984101</td>\n",
       "    </tr>\n",
       "    <tr>\n",
       "      <th>8</th>\n",
       "      <td>0.111608</td>\n",
       "      <td>1.600280</td>\n",
       "      <td>2.247085</td>\n",
       "      <td>3.564279</td>\n",
       "      <td>4.866768</td>\n",
       "    </tr>\n",
       "    <tr>\n",
       "      <th>9</th>\n",
       "      <td>0.066920</td>\n",
       "      <td>1.617833</td>\n",
       "      <td>2.292310</td>\n",
       "      <td>3.752922</td>\n",
       "      <td>4.530973</td>\n",
       "    </tr>\n",
       "  </tbody>\n",
       "</table>\n",
       "</div>"
      ],
      "text/plain": [
       "          A         B         C         D         E\n",
       "0  0.846681  1.157728  2.544050  3.316180  4.918767\n",
       "1  0.715975  1.493872  2.698822  3.449609  4.006872\n",
       "2  0.274910  1.697831  2.555201  3.759496  4.205523\n",
       "3  0.839530  1.239945  2.597729  3.062721  4.400501\n",
       "4  0.353049  1.516942  2.221888  3.247915  4.862427\n",
       "5  0.854969  1.158309  2.363541  3.781946  4.129510\n",
       "6  0.149857  1.823577  2.651160  3.558684  4.010768\n",
       "7  0.457521  1.745575  2.750920  3.690237  4.984101\n",
       "8  0.111608  1.600280  2.247085  3.564279  4.866768\n",
       "9  0.066920  1.617833  2.292310  3.752922  4.530973"
      ]
     },
     "execution_count": 21,
     "metadata": {},
     "output_type": "execute_result"
    }
   ],
   "source": [
    "nr_of_lines = 5\n",
    "nr_of_points = 10\n",
    "\n",
    "data = np.random.rand(nr_of_points, nr_of_lines)\n",
    "offset = np.arange(nr_of_lines)\n",
    "data = data + offset\n",
    "\n",
    "df = pd.DataFrame(data, columns=list('ABCDE'))\n",
    "df"
   ]
  },
  {
   "cell_type": "code",
   "execution_count": 22,
   "metadata": {},
   "outputs": [
    {
     "data": {
      "text/plain": [
       "<matplotlib.legend.Legend at 0x16feea21af0>"
      ]
     },
     "execution_count": 22,
     "metadata": {},
     "output_type": "execute_result"
    },
    {
     "data": {
      "image/png": "[encoded data removed]",
      "text/plain": [
       "<Figure size 432x288 with 1 Axes>"
      ]
     },
     "metadata": {
      "needs_background": "light"
     },
     "output_type": "display_data"
    }
   ],
   "source": [
    "fig, ax = plt.subplots()\n",
    "\n",
    "ax.plot(df)\n",
    "ax.legend(df)"
   ]
  },
  {
   "cell_type": "code",
   "execution_count": 23,
   "metadata": {},
   "outputs": [
    {
     "data": {
      "image/png": "[encoded data removed]",
      "text/plain": [
       "<Figure size 432x288 with 1 Axes>"
      ]
     },
     "metadata": {
      "needs_background": "light"
     },
     "output_type": "display_data"
    }
   ],
   "source": [
    "# Use column names to plot lines one-by-one and setup properties\n",
    "p_all = []  # list to hold the lines\n",
    "\n",
    "fig, ax  = plt.subplots()\n",
    "\n",
    "for name in df.columns:\n",
    "    p, = ax.plot(df[name])\n",
    "    p.set_marker='*'\n",
    "    p_all.append(p)\n",
    "    \n",
    "ax.legend(df)\n",
    "\n",
    "c1 = [1, 1, 1, 1]\n",
    "c2 = (0.5, 0, 0, 1)\n",
    "\n",
    "p_all[0].set_color(c1)\n",
    "p_all[-1].set_color(c2)"
   ]
  },
  {
   "cell_type": "markdown",
   "metadata": {},
   "source": [
    "# TODO:\n",
    "\n",
    "General tip that colours can be set in a `for` loop using `enumerate` or `zip`\n",
    "\n",
    "# Bonus stuff:\n",
    "\n",
    "Write a function that takes number of colours required, number of colours in the scale (2 or 3) and produces the array with those colours. \n",
    "\n",
    "Also create the function to preview the colours generated."
   ]
  }
 ],
 "metadata": {
  "kernelspec": {
   "display_name": "Python 3",
   "language": "python",
   "name": "python3"
  },
  "language_info": {
   "codemirror_mode": {
    "name": "ipython",
    "version": 3
   },
   "file_extension": ".py",
   "mimetype": "text/x-python",
   "name": "python",
   "nbconvert_exporter": "python",
   "pygments_lexer": "ipython3",
   "version": "3.8.3"
  }
 },
 "nbformat": 4,
 "nbformat_minor": 4
}
