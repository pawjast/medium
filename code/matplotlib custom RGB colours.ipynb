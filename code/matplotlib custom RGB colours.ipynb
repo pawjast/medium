{
 "cells": [
  {
   "cell_type": "code",
   "execution_count": 1,
   "metadata": {},
   "outputs": [],
   "source": [
    "import matplotlib.pyplot as plt\n",
    "import numpy as np\n",
    "import pandas as pd\n",
    "\n",
    "# Settings\n",
    "np.set_printoptions(precision=3)"
   ]
  },
  {
   "cell_type": "markdown",
   "metadata": {},
   "source": [
    "# 1. Content\n",
    "\n",
    "- First explain how to create a colors\n",
    "- then show how to use them in plots"
   ]
  },
  {
   "cell_type": "markdown",
   "metadata": {},
   "source": [
    "# 2. Colour generation"
   ]
  },
  {
   "cell_type": "markdown",
   "metadata": {},
   "source": [
    "### Basic colours and theory"
   ]
  },
  {
   "cell_type": "code",
   "execution_count": 2,
   "metadata": {},
   "outputs": [],
   "source": [
    "# RGB colours are tuples:\n",
    "# (red, green, blue, alpha)\n",
    "# Each channel has 256 values (0, 255)\n",
    "# alpha is transparency\n",
    "# 256 * 256 * 256 = 16,777,216 colours\n",
    "# in matplotlib colours are normalized between 0 and 1 \n",
    "# 0 means least saturated\n",
    "# 1 means most saturated"
   ]
  },
  {
   "cell_type": "markdown",
   "metadata": {},
   "source": [
    "TODO: add table with RGB values for primary and secondary colours."
   ]
  },
  {
   "cell_type": "code",
   "execution_count": 3,
   "metadata": {},
   "outputs": [
    {
     "data": {
      "image/png": "[encoded data removed]",
      "text/plain": [
       "<Figure size 288x72 with 2 Axes>"
      ]
     },
     "metadata": {},
     "output_type": "display_data"
    }
   ],
   "source": [
    "# Colour definition 1\n",
    "white = [1, 1, 1 ,1]\n",
    "black = [0, 0, 0, 1]\n",
    "colours = [black, white]\n",
    "\n",
    "# Preview the colours\n",
    "fig, axs = plt.subplots(len(colours), 1,\n",
    "                        figsize=(4, len(colours)/2),\n",
    "                       )\n",
    "\n",
    "for c, ax in zip(colours, axs):\n",
    "    ax.set_facecolor(c)\n",
    "    ax.set_xticks([])\n",
    "    ax.set_yticks([])"
   ]
  },
  {
   "cell_type": "code",
   "execution_count": 4,
   "metadata": {},
   "outputs": [
    {
     "data": {
      "image/png": "[encoded data removed]",
      "text/plain": [
       "<Figure size 288x72 with 2 Axes>"
      ]
     },
     "metadata": {},
     "output_type": "display_data"
    }
   ],
   "source": [
    "# colour definition 2\n",
    "# 'alpha' is optional, the default value is 1 (if not explicitly specified)\n",
    "white = [1, 1, 1]\n",
    "black = [0, 0, 0]\n",
    "colours = [black, white]\n",
    "\n",
    "# Preview the colours\n",
    "fig, axs = plt.subplots(len(colours), 1,\n",
    "                        figsize=(4, len(colours)/2),\n",
    "                       )\n",
    "\n",
    "for c, ax in zip(colours, axs):\n",
    "    ax.set_facecolor(c)\n",
    "    ax.set_xticks([])\n",
    "    ax.set_yticks([])"
   ]
  },
  {
   "cell_type": "code",
   "execution_count": 5,
   "metadata": {},
   "outputs": [
    {
     "data": {
      "image/png": "[encoded data removed]",
      "text/plain": [
       "<Figure size 288x108 with 3 Axes>"
      ]
     },
     "metadata": {},
     "output_type": "display_data"
    }
   ],
   "source": [
    "# Define colours: primary\n",
    "red = [1, 0, 0 ,1]\n",
    "green = [0, 1, 0, 1]\n",
    "blue = [0, 0, 1, 1]\n",
    "colours = [red, green, blue]\n",
    "\n",
    "# Preview the colours\n",
    "fig, axs = plt.subplots(len(colours), 1,\n",
    "                        figsize=(4, len(colours)/2),\n",
    "                       )\n",
    "\n",
    "for c, ax in zip(colours, axs):\n",
    "    ax.set_facecolor(c)\n",
    "    ax.set_xticks([])\n",
    "    ax.set_yticks([])"
   ]
  },
  {
   "cell_type": "code",
   "execution_count": 6,
   "metadata": {},
   "outputs": [
    {
     "data": {
      "image/png": "[encoded data removed]",
      "text/plain": [
       "<Figure size 288x108 with 3 Axes>"
      ]
     },
     "metadata": {},
     "output_type": "display_data"
    }
   ],
   "source": [
    "# Secondary colours: yellow, cyan, magenta\n",
    "yellow = [1, 1, 0 ,1]\n",
    "cyan = [0, 1, 1, 1]\n",
    "magenta = [1, 0, 1, 1]\n",
    "colours = [yellow, cyan, magenta]\n",
    "\n",
    "# Preview the colours\n",
    "fig, axs = plt.subplots(len(colours), 1,\n",
    "                        figsize=(4, len(colours)/2),\n",
    "                       )\n",
    "\n",
    "for c, ax in zip(colours, axs):\n",
    "    ax.set_facecolor(c)\n",
    "    ax.set_xticks([])\n",
    "    ax.set_yticks([])"
   ]
  },
  {
   "cell_type": "markdown",
   "metadata": {},
   "source": [
    "### Method\n",
    "\n",
    "In order to create a pallete of colours we're gonig to make use of two `Numpy` functions:\n",
    "\n",
    "* `np.zeros` : this will define the array of values where the colous will be stored. It will always be of the following shape: nr of colours x 4 channels (R, G, B, alpha)\n",
    "\n",
    "* `np.linspace` : this will generate equally spaced numbers of values between the specified `min` & `max`\n",
    "\n",
    "TODO: add simple example for each function"
   ]
  },
  {
   "cell_type": "markdown",
   "metadata": {},
   "source": [
    "### Example 1: Create 2 colourscale along one channel"
   ]
  },
  {
   "cell_type": "code",
   "execution_count": 7,
   "metadata": {},
   "outputs": [
    {
     "name": "stdout",
     "output_type": "stream",
     "text": [
      "<class 'numpy.ndarray'>\n"
     ]
    }
   ],
   "source": [
    "# Let's create 15 colours along one channel e.g., \n",
    "# going from black to red:\n",
    "# [0, 0, 0, 1] to\n",
    "# [1, 0, 0, 1]\n",
    "counter = 15  # nr of colours\n",
    "\n",
    "# Colours will be stored in a Numpy's array\n",
    "# Numpy array used 0-based indexing.\n",
    "\n",
    "# Define array of zeros, size: nr of colurs x 4\n",
    "colours = np.zeros((counter, 4))\n",
    "\n",
    "# Verify the type\n",
    "print(type(colours))"
   ]
  },
  {
   "cell_type": "code",
   "execution_count": 8,
   "metadata": {},
   "outputs": [
    {
     "name": "stdout",
     "output_type": "stream",
     "text": [
      "[[0.    0.    0.    1.   ]\n",
      " [0.071 0.    0.    1.   ]\n",
      " [0.143 0.    0.    1.   ]\n",
      " [0.214 0.    0.    1.   ]\n",
      " [0.286 0.    0.    1.   ]\n",
      " [0.357 0.    0.    1.   ]\n",
      " [0.429 0.    0.    1.   ]\n",
      " [0.5   0.    0.    1.   ]\n",
      " [0.571 0.    0.    1.   ]\n",
      " [0.643 0.    0.    1.   ]\n",
      " [0.714 0.    0.    1.   ]\n",
      " [0.786 0.    0.    1.   ]\n",
      " [0.857 0.    0.    1.   ]\n",
      " [0.929 0.    0.    1.   ]\n",
      " [1.    0.    0.    1.   ]]\n"
     ]
    }
   ],
   "source": [
    "# Set alpha channel to 1\n",
    "colours[:, 3] = 1\n",
    "# Set the transition values\n",
    "colours[:, 0] = np.linspace(0, 1, counter)\n",
    "\n",
    "#Preview the array of colours\n",
    "np.set_printoptions(precision=3)\n",
    "print(colours)"
   ]
  },
  {
   "cell_type": "code",
   "execution_count": 9,
   "metadata": {},
   "outputs": [
    {
     "data": {
      "image/png": "[encoded data removed]",
      "text/plain": [
       "<Figure size 288x360 with 15 Axes>"
      ]
     },
     "metadata": {},
     "output_type": "display_data"
    }
   ],
   "source": [
    "# Preview the colours\n",
    "fig, axs = plt.subplots(counter, 1,\n",
    "                        figsize=(4, counter/3),\n",
    "                       )\n",
    "\n",
    "for c, ax in zip(colours, axs):\n",
    "    ax.set_facecolor(c)\n",
    "    ax.set_xticks([])\n",
    "    ax.set_yticks([])"
   ]
  },
  {
   "cell_type": "code",
   "execution_count": 10,
   "metadata": {},
   "outputs": [],
   "source": [
    "# To revere the order:\n",
    "reversed_colours = colours[::-1]"
   ]
  },
  {
   "cell_type": "code",
   "execution_count": 11,
   "metadata": {},
   "outputs": [
    {
     "data": {
      "image/png": "[encoded data removed]",
      "text/plain": [
       "<Figure size 288x360 with 15 Axes>"
      ]
     },
     "metadata": {},
     "output_type": "display_data"
    }
   ],
   "source": [
    "# Preview the colours\n",
    "fig, axs = plt.subplots(counter, 1,\n",
    "                        figsize=(4, counter/3),\n",
    "                       )\n",
    "\n",
    "for c, ax in zip(reversed_colours, axs):\n",
    "    ax.set_facecolor(c)\n",
    "    ax.set_xticks([])\n",
    "    ax.set_yticks([])"
   ]
  },
  {
   "cell_type": "markdown",
   "metadata": {},
   "source": [
    "### Example 2: Vary the transparency"
   ]
  },
  {
   "cell_type": "code",
   "execution_count": 12,
   "metadata": {},
   "outputs": [],
   "source": [
    "# Let's create 20 steps of transparency for one colour\n",
    "counter = 20\n",
    "\n",
    "# Let's do it for green\n",
    "colours = np.zeros((counter, 4))\n",
    "colours[:, 1] = 1  # green channel\n",
    "colours[:, 3] = np.linspace(0, 1, counter) # alpha channel"
   ]
  },
  {
   "cell_type": "code",
   "execution_count": 13,
   "metadata": {},
   "outputs": [
    {
     "data": {
      "image/png": "[encoded data removed]",
      "text/plain": [
       "<Figure size 288x480 with 20 Axes>"
      ]
     },
     "metadata": {},
     "output_type": "display_data"
    }
   ],
   "source": [
    "# Preview the colours\n",
    "fig, axs = plt.subplots(counter, 1,\n",
    "                        figsize=(4, counter/3),\n",
    "                       )\n",
    "\n",
    "for c, ax in zip(colours, axs):\n",
    "    ax.set_facecolor(c)\n",
    "    ax.set_xticks([])\n",
    "    ax.set_yticks([])"
   ]
  },
  {
   "cell_type": "markdown",
   "metadata": {},
   "source": [
    "### Example 3: Create 2 colour scale along multiple channel"
   ]
  },
  {
   "cell_type": "code",
   "execution_count": 14,
   "metadata": {},
   "outputs": [
    {
     "name": "stdout",
     "output_type": "stream",
     "text": [
      "[[1.    0.    0.    1.   ]\n",
      " [0.947 0.053 0.    1.   ]\n",
      " [0.895 0.105 0.    1.   ]\n",
      " [0.842 0.158 0.    1.   ]\n",
      " [0.789 0.211 0.    1.   ]\n",
      " [0.737 0.263 0.    1.   ]\n",
      " [0.684 0.316 0.    1.   ]\n",
      " [0.632 0.368 0.    1.   ]\n",
      " [0.579 0.421 0.    1.   ]\n",
      " [0.526 0.474 0.    1.   ]\n",
      " [0.474 0.526 0.    1.   ]\n",
      " [0.421 0.579 0.    1.   ]\n",
      " [0.368 0.632 0.    1.   ]\n",
      " [0.316 0.684 0.    1.   ]\n",
      " [0.263 0.737 0.    1.   ]\n",
      " [0.211 0.789 0.    1.   ]\n",
      " [0.158 0.842 0.    1.   ]\n",
      " [0.105 0.895 0.    1.   ]\n",
      " [0.053 0.947 0.    1.   ]\n",
      " [0.    1.    0.    1.   ]]\n"
     ]
    }
   ],
   "source": [
    "# Let's create 15 colours along two channel e.g., \n",
    "# going from red to green:\n",
    "# [1, 0, 0, 1] to\n",
    "# [0, 1, 0, 1]\n",
    "counter = 20\n",
    "\n",
    "colours = np.zeros((counter, 4))\n",
    "colours[:, 3] = 1 # alpha channel\n",
    "colours[:, 0] = np.linspace(1, 0, counter) # red channel\n",
    "colours[:, 1] = np.linspace(0, 1, counter) # green channel\n",
    "\n",
    "np.set_printoptions(precision=3)\n",
    "print(colours)"
   ]
  },
  {
   "cell_type": "code",
   "execution_count": 15,
   "metadata": {},
   "outputs": [
    {
     "data": {
      "image/png": "[encoded data removed]",
      "text/plain": [
       "<Figure size 288x480 with 20 Axes>"
      ]
     },
     "metadata": {},
     "output_type": "display_data"
    }
   ],
   "source": [
    "# Preview the colours\n",
    "fig, axs = plt.subplots(counter, 1,\n",
    "                        figsize=(4, counter/3),\n",
    "                       )\n",
    "\n",
    "for c, ax in zip(colours, axs):\n",
    "    ax.set_facecolor(c)\n",
    "    ax.set_xticks([])\n",
    "    ax.set_yticks([])"
   ]
  },
  {
   "cell_type": "markdown",
   "metadata": {},
   "source": [
    "### Example 4: Create 2 colour scale along multiple channel once again"
   ]
  },
  {
   "cell_type": "code",
   "execution_count": 16,
   "metadata": {},
   "outputs": [
    {
     "name": "stdout",
     "output_type": "stream",
     "text": [
      "[[1.    0.    0.    1.   ]\n",
      " [1.    0.053 0.    1.   ]\n",
      " [1.    0.105 0.    1.   ]\n",
      " [1.    0.158 0.    1.   ]\n",
      " [1.    0.211 0.    1.   ]\n",
      " [1.    0.263 0.    1.   ]\n",
      " [1.    0.316 0.    1.   ]\n",
      " [1.    0.368 0.    1.   ]\n",
      " [1.    0.421 0.    1.   ]\n",
      " [1.    0.474 0.    1.   ]\n",
      " [1.    0.526 0.    1.   ]\n",
      " [1.    0.579 0.    1.   ]\n",
      " [1.    0.632 0.    1.   ]\n",
      " [1.    0.684 0.    1.   ]\n",
      " [1.    0.737 0.    1.   ]\n",
      " [1.    0.789 0.    1.   ]\n",
      " [1.    0.842 0.    1.   ]\n",
      " [1.    0.895 0.    1.   ]\n",
      " [1.    0.947 0.    1.   ]\n",
      " [1.    1.    0.    1.   ]]\n"
     ]
    }
   ],
   "source": [
    "# Let's create 20 colours along two channel e.g., \n",
    "# going from red to yellow:\n",
    "# [1, 0, 0, 1] to\n",
    "# [1, 1, 0, 1]\n",
    "counter = 20\n",
    "\n",
    "colours = np.zeros((counter, 4))\n",
    "colours[:, 3] = 1 # alpha channel\n",
    "colours[:, 0] = 1 # red channel\n",
    "colours[:, 1] = np.linspace(0, 1, counter) # green channel\n",
    "\n",
    "np.set_printoptions(precision=3)\n",
    "print(colours)"
   ]
  },
  {
   "cell_type": "code",
   "execution_count": 17,
   "metadata": {},
   "outputs": [
    {
     "data": {
      "image/png": "[encoded data removed]",
      "text/plain": [
       "<Figure size 288x480 with 20 Axes>"
      ]
     },
     "metadata": {},
     "output_type": "display_data"
    }
   ],
   "source": [
    "# Preview the colours\n",
    "fig, axs = plt.subplots(counter, 1,\n",
    "                        figsize=(4, counter/3),\n",
    "                       )\n",
    "\n",
    "for c, ax in zip(colours, axs):\n",
    "    ax.set_facecolor(c)\n",
    "    ax.set_xticks([])\n",
    "    ax.set_yticks([])"
   ]
  },
  {
   "cell_type": "markdown",
   "metadata": {},
   "source": [
    "### Create multiple colour scale along multiple channel"
   ]
  },
  {
   "cell_type": "code",
   "execution_count": 18,
   "metadata": {},
   "outputs": [
    {
     "name": "stdout",
     "output_type": "stream",
     "text": [
      "[[1.    0.    0.    1.   ]\n",
      " [1.    0.2   0.    1.   ]\n",
      " [1.    0.4   0.    1.   ]\n",
      " [1.    0.6   0.    1.   ]\n",
      " [1.    0.8   0.    1.   ]\n",
      " [1.    1.    0.    1.   ]\n",
      " [0.833 1.    0.    1.   ]\n",
      " [0.667 1.    0.    1.   ]\n",
      " [0.5   1.    0.    1.   ]\n",
      " [0.333 1.    0.    1.   ]\n",
      " [0.167 1.    0.    1.   ]\n",
      " [0.    1.    0.    1.   ]]\n"
     ]
    }
   ],
   "source": [
    "# Let's create 3 colour scale, from red to yellow to green\n",
    "# [1, 0, 0, 1] to\n",
    "# [1, 1, 0, 1] to\n",
    "# [0, 1, 0, 1]\n",
    "counter = 12 # even number\n",
    "\n",
    "idx_half = np.int(np.ceil(counter/2))\n",
    "\n",
    "colours = np.zeros((counter, 4))\n",
    "colours[:, 3] = 1 # alpha channel\n",
    "colours[:idx_half, 0] = 1 # red channel\n",
    "colours[idx_half-1:, 0] = np.linspace(1, 0, idx_half+1) # red channel\n",
    "colours[:idx_half, 1] = np.linspace(0, 1, idx_half) # green channel\n",
    "colours[idx_half:, 1] = 1 # green channel\n",
    "\n",
    "np.set_printoptions(precision=3)\n",
    "print(colours)"
   ]
  },
  {
   "cell_type": "code",
   "execution_count": 19,
   "metadata": {},
   "outputs": [
    {
     "data": {
      "text/plain": [
       "Text(0.5, 1.0, 'Even number of colours')"
      ]
     },
     "execution_count": 19,
     "metadata": {},
     "output_type": "execute_result"
    },
    {
     "data": {
      "image/png": "[encoded data removed]",
      "text/plain": [
       "<Figure size 288x288 with 12 Axes>"
      ]
     },
     "metadata": {},
     "output_type": "display_data"
    }
   ],
   "source": [
    "# Preview the colours\n",
    "fig, axs = plt.subplots(counter, 1,\n",
    "                        figsize=(4, counter/3),\n",
    "                       )\n",
    "\n",
    "for i, ax in enumerate(axs):\n",
    "    ax.set_facecolor(colours[i, :])\n",
    "    ax.set_xticks([])\n",
    "    ax.set_yticks([])\n",
    "    ax.set_ylabel(str(i+1),\n",
    "                  rotation=0,\n",
    "                  va='center',\n",
    "                  ha='right'\n",
    "                 )\n",
    "    \n",
    "axs[0].set_title('Even number of colours')"
   ]
  },
  {
   "cell_type": "code",
   "execution_count": 20,
   "metadata": {},
   "outputs": [
    {
     "name": "stdout",
     "output_type": "stream",
     "text": [
      "[[1.    0.    0.    1.   ]\n",
      " [1.    0.167 0.    1.   ]\n",
      " [1.    0.333 0.    1.   ]\n",
      " [1.    0.5   0.    1.   ]\n",
      " [1.    0.667 0.    1.   ]\n",
      " [1.    0.833 0.    1.   ]\n",
      " [1.    1.    0.    1.   ]\n",
      " [0.833 1.    0.    1.   ]\n",
      " [0.667 1.    0.    1.   ]\n",
      " [0.5   1.    0.    1.   ]\n",
      " [0.333 1.    0.    1.   ]\n",
      " [0.167 1.    0.    1.   ]\n",
      " [0.    1.    0.    1.   ]]\n"
     ]
    }
   ],
   "source": [
    "# Let's create 3 colour scale, from red to yellow to green\n",
    "# [1, 0, 0, 1] to\n",
    "# [1, 1, 0, 1] to\n",
    "# [0, 1, 0, 1]\n",
    "counter = 13 # odd number\n",
    "\n",
    "idx_half = np.int(np.ceil(counter/2))\n",
    "\n",
    "colours = np.zeros((counter, 4))\n",
    "colours[:, 3] = 1 # alpha channel\n",
    "colours[:idx_half, 0] = 1 # red channel\n",
    "colours[idx_half-1:, 0] = np.linspace(1, 0, idx_half) # red channel\n",
    "colours[:idx_half, 1] = np.linspace(0, 1, idx_half) # green channel\n",
    "colours[idx_half:, 1] = 1 # green channel\n",
    "\n",
    "np.set_printoptions(precision=3)\n",
    "print(colours)"
   ]
  },
  {
   "cell_type": "code",
   "execution_count": 21,
   "metadata": {},
   "outputs": [
    {
     "data": {
      "text/plain": [
       "Text(0.5, 1.0, 'Odd number of colours')"
      ]
     },
     "execution_count": 21,
     "metadata": {},
     "output_type": "execute_result"
    },
    {
     "data": {
      "image/png": "[encoded data removed]",
      "text/plain": [
       "<Figure size 288x312 with 13 Axes>"
      ]
     },
     "metadata": {},
     "output_type": "display_data"
    }
   ],
   "source": [
    "# Preview the colours\n",
    "fig, axs = plt.subplots(counter, 1,\n",
    "                        figsize=(4, counter/3),\n",
    "                       )\n",
    "\n",
    "for i, ax in enumerate(axs):\n",
    "    ax.set_facecolor(colours[i, :])\n",
    "    ax.set_xticks([])\n",
    "    ax.set_yticks([])\n",
    "    ax.set_ylabel(str(i+1),\n",
    "                  rotation=0,\n",
    "                  va='center',\n",
    "                  ha='right'\n",
    "                 )\n",
    "    \n",
    "axs[0].set_title('Odd number of colours')"
   ]
  },
  {
   "cell_type": "markdown",
   "metadata": {},
   "source": [
    "# TODO: \n",
    "\n",
    "* Add generation of random colours\n",
    "* Add general graph with paterns for `linspace` (constant number, step change from 0 to 1 at half point, gradual increase/decrease from 0 to 1, gradual increase/decrease to half point)"
   ]
  },
  {
   "cell_type": "markdown",
   "metadata": {},
   "source": [
    "# 3. Generate mock up data for the plot\n",
    "\n",
    "# TODO:\n",
    "\n",
    "Specify usage cases:\n",
    "\n",
    "* replace the sequence of default colours\n",
    "* comparison of two data sets each having few repeats, If I want to see general trend comparison I would do one data set one color graduation, 2nd data set would get another color graduation\n",
    "* to highlighte the most significant trace (all traces grey and the one with a stand out colour like red)"
   ]
  },
  {
   "cell_type": "code",
   "execution_count": 22,
   "metadata": {},
   "outputs": [
    {
     "data": {
      "text/html": [
       "<div>\n",
       "<style scoped>\n",
       "    .dataframe tbody tr th:only-of-type {\n",
       "        vertical-align: middle;\n",
       "    }\n",
       "\n",
       "    .dataframe tbody tr th {\n",
       "        vertical-align: top;\n",
       "    }\n",
       "\n",
       "    .dataframe thead th {\n",
       "        text-align: right;\n",
       "    }\n",
       "</style>\n",
       "<table border=\"1\" class=\"dataframe\">\n",
       "  <thead>\n",
       "    <tr style=\"text-align: right;\">\n",
       "      <th></th>\n",
       "      <th>A</th>\n",
       "      <th>B</th>\n",
       "      <th>C</th>\n",
       "      <th>D</th>\n",
       "      <th>E</th>\n",
       "    </tr>\n",
       "  </thead>\n",
       "  <tbody>\n",
       "    <tr>\n",
       "      <th>0</th>\n",
       "      <td>0.118436</td>\n",
       "      <td>1.754788</td>\n",
       "      <td>2.162235</td>\n",
       "      <td>3.372274</td>\n",
       "      <td>4.941767</td>\n",
       "    </tr>\n",
       "    <tr>\n",
       "      <th>1</th>\n",
       "      <td>0.966530</td>\n",
       "      <td>1.165349</td>\n",
       "      <td>2.270848</td>\n",
       "      <td>3.849919</td>\n",
       "      <td>4.297676</td>\n",
       "    </tr>\n",
       "    <tr>\n",
       "      <th>2</th>\n",
       "      <td>0.142548</td>\n",
       "      <td>1.239521</td>\n",
       "      <td>2.901029</td>\n",
       "      <td>3.021282</td>\n",
       "      <td>4.364434</td>\n",
       "    </tr>\n",
       "    <tr>\n",
       "      <th>3</th>\n",
       "      <td>0.428800</td>\n",
       "      <td>1.455184</td>\n",
       "      <td>2.134066</td>\n",
       "      <td>3.972338</td>\n",
       "      <td>4.821147</td>\n",
       "    </tr>\n",
       "    <tr>\n",
       "      <th>4</th>\n",
       "      <td>0.327773</td>\n",
       "      <td>1.746794</td>\n",
       "      <td>2.405367</td>\n",
       "      <td>3.487594</td>\n",
       "      <td>4.728192</td>\n",
       "    </tr>\n",
       "    <tr>\n",
       "      <th>5</th>\n",
       "      <td>0.822471</td>\n",
       "      <td>1.163199</td>\n",
       "      <td>2.925553</td>\n",
       "      <td>3.862836</td>\n",
       "      <td>4.696271</td>\n",
       "    </tr>\n",
       "    <tr>\n",
       "      <th>6</th>\n",
       "      <td>0.046689</td>\n",
       "      <td>1.665568</td>\n",
       "      <td>2.372931</td>\n",
       "      <td>3.438661</td>\n",
       "      <td>4.692169</td>\n",
       "    </tr>\n",
       "    <tr>\n",
       "      <th>7</th>\n",
       "      <td>0.829832</td>\n",
       "      <td>1.762996</td>\n",
       "      <td>2.662943</td>\n",
       "      <td>3.816339</td>\n",
       "      <td>4.328335</td>\n",
       "    </tr>\n",
       "    <tr>\n",
       "      <th>8</th>\n",
       "      <td>0.182601</td>\n",
       "      <td>1.169023</td>\n",
       "      <td>2.169100</td>\n",
       "      <td>3.586659</td>\n",
       "      <td>4.434448</td>\n",
       "    </tr>\n",
       "    <tr>\n",
       "      <th>9</th>\n",
       "      <td>0.144505</td>\n",
       "      <td>1.349227</td>\n",
       "      <td>2.833226</td>\n",
       "      <td>3.877774</td>\n",
       "      <td>4.827936</td>\n",
       "    </tr>\n",
       "  </tbody>\n",
       "</table>\n",
       "</div>"
      ],
      "text/plain": [
       "          A         B         C         D         E\n",
       "0  0.118436  1.754788  2.162235  3.372274  4.941767\n",
       "1  0.966530  1.165349  2.270848  3.849919  4.297676\n",
       "2  0.142548  1.239521  2.901029  3.021282  4.364434\n",
       "3  0.428800  1.455184  2.134066  3.972338  4.821147\n",
       "4  0.327773  1.746794  2.405367  3.487594  4.728192\n",
       "5  0.822471  1.163199  2.925553  3.862836  4.696271\n",
       "6  0.046689  1.665568  2.372931  3.438661  4.692169\n",
       "7  0.829832  1.762996  2.662943  3.816339  4.328335\n",
       "8  0.182601  1.169023  2.169100  3.586659  4.434448\n",
       "9  0.144505  1.349227  2.833226  3.877774  4.827936"
      ]
     },
     "execution_count": 22,
     "metadata": {},
     "output_type": "execute_result"
    }
   ],
   "source": [
    "nr_of_lines = 5\n",
    "nr_of_points = 10\n",
    "\n",
    "data = np.random.rand(nr_of_points, nr_of_lines)\n",
    "offset = np.arange(nr_of_lines)\n",
    "data = data + offset\n",
    "\n",
    "df = pd.DataFrame(data, columns=list('ABCDE'))\n",
    "df"
   ]
  },
  {
   "cell_type": "code",
   "execution_count": 23,
   "metadata": {},
   "outputs": [
    {
     "data": {
      "text/plain": [
       "<matplotlib.legend.Legend at 0x2d0d042f1f0>"
      ]
     },
     "execution_count": 23,
     "metadata": {},
     "output_type": "execute_result"
    },
    {
     "data": {
      "image/png": "[encoded data removed]",
      "text/plain": [
       "<Figure size 432x288 with 1 Axes>"
      ]
     },
     "metadata": {
      "needs_background": "light"
     },
     "output_type": "display_data"
    }
   ],
   "source": [
    "fig, ax = plt.subplots()\n",
    "\n",
    "ax.plot(df)\n",
    "ax.legend(df)"
   ]
  },
  {
   "cell_type": "code",
   "execution_count": 24,
   "metadata": {},
   "outputs": [
    {
     "data": {
      "image/png": "[encoded data removed]",
      "text/plain": [
       "<Figure size 432x288 with 1 Axes>"
      ]
     },
     "metadata": {
      "needs_background": "light"
     },
     "output_type": "display_data"
    }
   ],
   "source": [
    "# Use column names to plot lines one-by-one and setup properties\n",
    "p_all = []  # list to hold the lines\n",
    "\n",
    "fig, ax  = plt.subplots()\n",
    "\n",
    "for name in df.columns:\n",
    "    p, = ax.plot(df[name])\n",
    "    p.set_marker='*'\n",
    "    p_all.append(p)\n",
    "    \n",
    "ax.legend(df)\n",
    "\n",
    "c1 = [1, 1, 1, 1]\n",
    "c2 = (0.5, 0, 0, 1)\n",
    "\n",
    "p_all[0].set_color(c1)\n",
    "p_all[-1].set_color(c2)"
   ]
  },
  {
   "cell_type": "markdown",
   "metadata": {},
   "source": [
    "# TODO:\n",
    "\n",
    "General tip that colours can be set in a `for` loop using `enumerate` or `zip`\n",
    "\n",
    "# Bonus stuff:\n",
    "\n",
    "Write a function that takes number of colours required, number of colours in the scale (2 or 3) and produces the array with those colours. \n",
    "\n",
    "Also create the function to preview the colours generated."
   ]
  }
 ],
 "metadata": {
  "kernelspec": {
   "display_name": "Python 3",
   "language": "python",
   "name": "python3"
  },
  "language_info": {
   "codemirror_mode": {
    "name": "ipython",
    "version": 3
   },
   "file_extension": ".py",
   "mimetype": "text/x-python",
   "name": "python",
   "nbconvert_exporter": "python",
   "pygments_lexer": "ipython3",
   "version": "3.8.3"
  }
 },
 "nbformat": 4,
 "nbformat_minor": 4
}
