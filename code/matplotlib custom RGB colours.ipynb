{
 "cells": [
  {
   "cell_type": "code",
   "execution_count": 1,
   "metadata": {},
   "outputs": [],
   "source": [
    "import matplotlib.pyplot as plt\n",
    "import numpy as np\n",
    "import pandas as pd"
   ]
  },
  {
   "cell_type": "markdown",
   "metadata": {},
   "source": [
    "# 1. Content\n",
    "\n",
    "- First explain how to create a colors\n",
    "- then show how to use them in plots"
   ]
  },
  {
   "cell_type": "markdown",
   "metadata": {},
   "source": [
    "# 2. Colour generation"
   ]
  },
  {
   "cell_type": "markdown",
   "metadata": {},
   "source": [
    "### Basic colours and theory"
   ]
  },
  {
   "cell_type": "code",
   "execution_count": 2,
   "metadata": {},
   "outputs": [],
   "source": [
    "# RGB colours are tuples:\n",
    "# (red, green, blue, alpha)\n",
    "# Each channel has 256 values (0, 255)\n",
    "# alpha is transparency\n",
    "# 256 * 256 * 256 = 16,777,216 colours\n",
    "# in matplotlib colours are normalized between 0 and 1 \n",
    "# 0 means least saturated\n",
    "# 1 means most saturated"
   ]
  },
  {
   "cell_type": "markdown",
   "metadata": {},
   "source": [
    "TODO: add table with RGB values for primary and secondary colours."
   ]
  },
  {
   "cell_type": "code",
   "execution_count": 3,
   "metadata": {},
   "outputs": [
    {
     "data": {
      "image/png": "[encoded data removed]",
      "text/plain": [
       "<Figure size 288x72 with 2 Axes>"
      ]
     },
     "metadata": {},
     "output_type": "display_data"
    }
   ],
   "source": [
    "# Colour definition 1\n",
    "white = [1, 1, 1 ,1]\n",
    "black = [0, 0, 0, 1]\n",
    "colours = [black, white]\n",
    "\n",
    "# Preview the colours\n",
    "fig, axs = plt.subplots(len(colours), 1,\n",
    "                        figsize=(4, len(colours)/2),\n",
    "                       )\n",
    "\n",
    "for c, ax in zip(colours, axs):\n",
    "    ax.set_facecolor(c)\n",
    "    ax.set_xticks([])\n",
    "    ax.set_yticks([])"
   ]
  },
  {
   "cell_type": "code",
   "execution_count": 4,
   "metadata": {},
   "outputs": [
    {
     "data": {
      "image/png": "[encoded data removed]",
      "text/plain": [
       "<Figure size 288x72 with 2 Axes>"
      ]
     },
     "metadata": {},
     "output_type": "display_data"
    }
   ],
   "source": [
    "# colour definition 2\n",
    "# 'alpha' is optional, the default value is 1 (if not explicitly specified)\n",
    "white = [1, 1, 1]\n",
    "black = [0, 0, 0]\n",
    "colours = [black, white]\n",
    "\n",
    "# Preview the colours\n",
    "fig, axs = plt.subplots(len(colours), 1,\n",
    "                        figsize=(4, len(colours)/2),\n",
    "                       )\n",
    "\n",
    "for c, ax in zip(colours, axs):\n",
    "    ax.set_facecolor(c)\n",
    "    ax.set_xticks([])\n",
    "    ax.set_yticks([])"
   ]
  },
  {
   "cell_type": "code",
   "execution_count": 5,
   "metadata": {},
   "outputs": [
    {
     "data": {
      "image/png": "[encoded data removed]",
      "text/plain": [
       "<Figure size 288x108 with 3 Axes>"
      ]
     },
     "metadata": {},
     "output_type": "display_data"
    }
   ],
   "source": [
    "# Define colours: primary\n",
    "red = [1, 0, 0 ,1]\n",
    "green = [0, 1, 0, 1]\n",
    "blue = [0, 0, 1, 1]\n",
    "colours = [red, green, blue]\n",
    "\n",
    "# Preview the colours\n",
    "fig, axs = plt.subplots(len(colours), 1,\n",
    "                        figsize=(4, len(colours)/2),\n",
    "                       )\n",
    "\n",
    "for c, ax in zip(colours, axs):\n",
    "    ax.set_facecolor(c)\n",
    "    ax.set_xticks([])\n",
    "    ax.set_yticks([])"
   ]
  },
  {
   "cell_type": "code",
   "execution_count": 6,
   "metadata": {},
   "outputs": [
    {
     "data": {
      "image/png": "[encoded data removed]",
      "text/plain": [
       "<Figure size 288x108 with 3 Axes>"
      ]
     },
     "metadata": {},
     "output_type": "display_data"
    }
   ],
   "source": [
    "# Secondary colours: yellow, cyan, magenta\n",
    "yellow = [1, 1, 0 ,1]\n",
    "cyan = [0, 1, 1, 1]\n",
    "magenta = [1, 0, 1, 1]\n",
    "colours = [yellow, cyan, magenta]\n",
    "\n",
    "# Preview the colours\n",
    "fig, axs = plt.subplots(len(colours), 1,\n",
    "                        figsize=(4, len(colours)/2),\n",
    "                       )\n",
    "\n",
    "for c, ax in zip(colours, axs):\n",
    "    ax.set_facecolor(c)\n",
    "    ax.set_xticks([])\n",
    "    ax.set_yticks([])"
   ]
  },
  {
   "cell_type": "markdown",
   "metadata": {},
   "source": [
    "### Method\n",
    "\n",
    "In order to create a pallete of colours we're gonig to make use of two `Numpy` functions:\n",
    "\n",
    "* `np.zeros` : this will define the array of values where the colous will be stored. It will always be of the following shape: nr of colours x 4 channels (R, G, B, alpha)\n",
    "\n",
    "* `np.linspace` : this will generate equally spaced numbers of values between the specified `min` & `max`\n",
    "\n",
    "TODO: add simple example for each function"
   ]
  },
  {
   "cell_type": "code",
   "execution_count": 7,
   "metadata": {},
   "outputs": [
    {
     "name": "stdout",
     "output_type": "stream",
     "text": [
      "[[0. 0. 0. 0.]\n",
      " [0. 0. 0. 0.]\n",
      " [0. 0. 0. 0.]]\n"
     ]
    }
   ],
   "source": [
    "# Example: \n",
    "# np.zeros([nr of rows, nr of columns])\n",
    "zeros = np.zeros([3, 4])\n",
    "print(zeros)"
   ]
  },
  {
   "cell_type": "code",
   "execution_count": 8,
   "metadata": {},
   "outputs": [
    {
     "name": "stdout",
     "output_type": "stream",
     "text": [
      "[0.         0.11111111 0.22222222 0.33333333 0.44444444 0.55555556\n",
      " 0.66666667 0.77777778 0.88888889 1.        ]\n"
     ]
    }
   ],
   "source": [
    "# Example\n",
    "# np.linspace(start, stop, nr of points)\n",
    "vals = np.linspace(0, 1, 10)\n",
    "print(vals)"
   ]
  },
  {
   "cell_type": "markdown",
   "metadata": {},
   "source": [
    "### Example 1: Create 2 colourscale along one channel"
   ]
  },
  {
   "cell_type": "code",
   "execution_count": 9,
   "metadata": {},
   "outputs": [
    {
     "name": "stdout",
     "output_type": "stream",
     "text": [
      "<class 'numpy.ndarray'>\n"
     ]
    }
   ],
   "source": [
    "# Let's create 15 colours along one channel e.g., \n",
    "# going from black to red:\n",
    "# [0, 0, 0, 1] to\n",
    "# [1, 0, 0, 1]\n",
    "nr_of_colours = 15  # nr of colours\n",
    "\n",
    "# Colours will be stored in a Numpy's array\n",
    "# Numpy array used 0-based indexing.\n",
    "\n",
    "# Define array of zeros, size: nr of colurs x 4 channels (R, G, B, transparency)\n",
    "colours = np.zeros([nr_of_colours, 4])\n",
    "\n",
    "# Verify the type\n",
    "print(type(colours))"
   ]
  },
  {
   "cell_type": "code",
   "execution_count": 10,
   "metadata": {},
   "outputs": [
    {
     "name": "stdout",
     "output_type": "stream",
     "text": [
      "[[0.    0.    0.    1.   ]\n",
      " [0.071 0.    0.    1.   ]\n",
      " [0.143 0.    0.    1.   ]\n",
      " [0.214 0.    0.    1.   ]\n",
      " [0.286 0.    0.    1.   ]\n",
      " [0.357 0.    0.    1.   ]\n",
      " [0.429 0.    0.    1.   ]\n",
      " [0.5   0.    0.    1.   ]\n",
      " [0.571 0.    0.    1.   ]\n",
      " [0.643 0.    0.    1.   ]\n",
      " [0.714 0.    0.    1.   ]\n",
      " [0.786 0.    0.    1.   ]\n",
      " [0.857 0.    0.    1.   ]\n",
      " [0.929 0.    0.    1.   ]\n",
      " [1.    0.    0.    1.   ]]\n"
     ]
    }
   ],
   "source": [
    "# Set alpha channel to 1\n",
    "colours[:, 3] = 1\n",
    "# Set the transition values: go from 0 to 1 in 15 steps along RED channel\n",
    "colours[:, 0] = np.linspace(0, 1, nr_of_colours)\n",
    "\n",
    "#Preview the array of colours\n",
    "np.set_printoptions(precision=3)\n",
    "print(colours)"
   ]
  },
  {
   "cell_type": "code",
   "execution_count": 11,
   "metadata": {},
   "outputs": [
    {
     "data": {
      "text/plain": [
       "Text(0.5, 1.0, 'Black to red')"
      ]
     },
     "execution_count": 11,
     "metadata": {},
     "output_type": "execute_result"
    },
    {
     "data": {
      "image/png": "[encoded data removed]",
      "text/plain": [
       "<Figure size 288x360 with 15 Axes>"
      ]
     },
     "metadata": {},
     "output_type": "display_data"
    }
   ],
   "source": [
    "# Preview the colours\n",
    "fig, axs = plt.subplots(nr_of_colours, 1,\n",
    "                        figsize=(4, nr_of_colours/3),\n",
    "                       )\n",
    "\n",
    "for c, ax in zip(colours, axs):\n",
    "    ax.set_facecolor(c)\n",
    "    ax.set_xticks([])\n",
    "    ax.set_yticks([])\n",
    "    \n",
    "axs[0].set_title('Black to red')"
   ]
  },
  {
   "cell_type": "code",
   "execution_count": 12,
   "metadata": {},
   "outputs": [],
   "source": [
    "# To revere the order:\n",
    "reversed_colours = colours[::-1]"
   ]
  },
  {
   "cell_type": "code",
   "execution_count": 13,
   "metadata": {},
   "outputs": [
    {
     "data": {
      "text/plain": [
       "Text(0.5, 1.0, 'Red to black')"
      ]
     },
     "execution_count": 13,
     "metadata": {},
     "output_type": "execute_result"
    },
    {
     "data": {
      "image/png": "[encoded data removed]",
      "text/plain": [
       "<Figure size 288x360 with 15 Axes>"
      ]
     },
     "metadata": {},
     "output_type": "display_data"
    }
   ],
   "source": [
    "# Preview the colours\n",
    "fig, axs = plt.subplots(nr_of_colours, 1,\n",
    "                        figsize=(4, nr_of_colours/3),\n",
    "                       )\n",
    "\n",
    "for c, ax in zip(reversed_colours, axs):\n",
    "    ax.set_facecolor(c)\n",
    "    ax.set_xticks([])\n",
    "    ax.set_yticks([])\n",
    "    \n",
    "axs[0].set_title('Red to black')"
   ]
  },
  {
   "cell_type": "markdown",
   "metadata": {},
   "source": [
    "### Example 2: Vary the transparency"
   ]
  },
  {
   "cell_type": "code",
   "execution_count": 14,
   "metadata": {},
   "outputs": [],
   "source": [
    "# Let's create 20 steps of transparency for one colour\n",
    "nr_of_colours = 20\n",
    "\n",
    "# Let's do it for green\n",
    "colours = np.zeros([nr_of_colours, 4])\n",
    "colours[:, 1] = 1  # green channel\n",
    "colours[:, 3] = np.linspace(0, 1, nr_of_colours) # alpha channel"
   ]
  },
  {
   "cell_type": "code",
   "execution_count": 15,
   "metadata": {},
   "outputs": [
    {
     "data": {
      "text/plain": [
       "Text(0.5, 1.0, 'Shades of green')"
      ]
     },
     "execution_count": 15,
     "metadata": {},
     "output_type": "execute_result"
    },
    {
     "data": {
      "image/png": "[encoded data removed]",
      "text/plain": [
       "<Figure size 288x480 with 20 Axes>"
      ]
     },
     "metadata": {},
     "output_type": "display_data"
    }
   ],
   "source": [
    "# Preview the colours\n",
    "fig, axs = plt.subplots(nr_of_colours, 1,\n",
    "                        figsize=(4, nr_of_colours/3),\n",
    "                       )\n",
    "\n",
    "for c, ax in zip(colours, axs):\n",
    "    ax.set_facecolor(c)\n",
    "    ax.set_xticks([])\n",
    "    ax.set_yticks([])\n",
    "    \n",
    "axs[0].set_title('Shades of green')"
   ]
  },
  {
   "cell_type": "markdown",
   "metadata": {},
   "source": [
    "### Example 3: Create 2 colour scale along multiple channel"
   ]
  },
  {
   "cell_type": "code",
   "execution_count": 16,
   "metadata": {},
   "outputs": [
    {
     "name": "stdout",
     "output_type": "stream",
     "text": [
      "[[1.    0.    0.    1.   ]\n",
      " [0.947 0.053 0.    1.   ]\n",
      " [0.895 0.105 0.    1.   ]\n",
      " [0.842 0.158 0.    1.   ]\n",
      " [0.789 0.211 0.    1.   ]\n",
      " [0.737 0.263 0.    1.   ]\n",
      " [0.684 0.316 0.    1.   ]\n",
      " [0.632 0.368 0.    1.   ]\n",
      " [0.579 0.421 0.    1.   ]\n",
      " [0.526 0.474 0.    1.   ]\n",
      " [0.474 0.526 0.    1.   ]\n",
      " [0.421 0.579 0.    1.   ]\n",
      " [0.368 0.632 0.    1.   ]\n",
      " [0.316 0.684 0.    1.   ]\n",
      " [0.263 0.737 0.    1.   ]\n",
      " [0.211 0.789 0.    1.   ]\n",
      " [0.158 0.842 0.    1.   ]\n",
      " [0.105 0.895 0.    1.   ]\n",
      " [0.053 0.947 0.    1.   ]\n",
      " [0.    1.    0.    1.   ]]\n"
     ]
    }
   ],
   "source": [
    "# Let's create 15 colours along two channel e.g., \n",
    "# going from red to green:\n",
    "# [1, 0, 0, 1] to\n",
    "# [0, 1, 0, 1]\n",
    "nr_of_colours = 20\n",
    "\n",
    "colours = np.zeros([nr_of_colours, 4])\n",
    "colours[:, 3] = 1 # alpha channel\n",
    "colours[:, 0] = np.linspace(1, 0, nr_of_colours) # red channel\n",
    "colours[:, 1] = np.linspace(0, 1, nr_of_colours) # green channel\n",
    "\n",
    "np.set_printoptions(precision=3)\n",
    "print(colours)"
   ]
  },
  {
   "cell_type": "code",
   "execution_count": 17,
   "metadata": {},
   "outputs": [
    {
     "data": {
      "text/plain": [
       "Text(0.5, 1.0, 'Red to green')"
      ]
     },
     "execution_count": 17,
     "metadata": {},
     "output_type": "execute_result"
    },
    {
     "data": {
      "image/png": "[encoded data removed]",
      "text/plain": [
       "<Figure size 288x480 with 20 Axes>"
      ]
     },
     "metadata": {},
     "output_type": "display_data"
    }
   ],
   "source": [
    "# Preview the colours\n",
    "fig, axs = plt.subplots(nr_of_colours, 1,\n",
    "                        figsize=(4, nr_of_colours/3),\n",
    "                       )\n",
    "\n",
    "for c, ax in zip(colours, axs):\n",
    "    ax.set_facecolor(c)\n",
    "    ax.set_xticks([])\n",
    "    ax.set_yticks([])\n",
    "    \n",
    "axs[0].set_title('Red to green')"
   ]
  },
  {
   "cell_type": "markdown",
   "metadata": {},
   "source": [
    "### Example 4: Create 2 colour scale along multiple channel once again"
   ]
  },
  {
   "cell_type": "code",
   "execution_count": 18,
   "metadata": {},
   "outputs": [
    {
     "name": "stdout",
     "output_type": "stream",
     "text": [
      "[[1.    0.    0.    1.   ]\n",
      " [1.    0.053 0.    1.   ]\n",
      " [1.    0.105 0.    1.   ]\n",
      " [1.    0.158 0.    1.   ]\n",
      " [1.    0.211 0.    1.   ]\n",
      " [1.    0.263 0.    1.   ]\n",
      " [1.    0.316 0.    1.   ]\n",
      " [1.    0.368 0.    1.   ]\n",
      " [1.    0.421 0.    1.   ]\n",
      " [1.    0.474 0.    1.   ]\n",
      " [1.    0.526 0.    1.   ]\n",
      " [1.    0.579 0.    1.   ]\n",
      " [1.    0.632 0.    1.   ]\n",
      " [1.    0.684 0.    1.   ]\n",
      " [1.    0.737 0.    1.   ]\n",
      " [1.    0.789 0.    1.   ]\n",
      " [1.    0.842 0.    1.   ]\n",
      " [1.    0.895 0.    1.   ]\n",
      " [1.    0.947 0.    1.   ]\n",
      " [1.    1.    0.    1.   ]]\n"
     ]
    }
   ],
   "source": [
    "# Let's create 20 colours along two channel e.g., \n",
    "# going from red to yellow:\n",
    "# [1, 0, 0, 1] to\n",
    "# [1, 1, 0, 1]\n",
    "nr_of_colours = 20\n",
    "\n",
    "colours = np.zeros([nr_of_colours, 4])\n",
    "colours[:, 3] = 1 # alpha channel\n",
    "colours[:, 0] = 1 # red channel\n",
    "colours[:, 1] = np.linspace(0, 1, nr_of_colours) # green channel\n",
    "\n",
    "np.set_printoptions(precision=3)\n",
    "print(colours)"
   ]
  },
  {
   "cell_type": "code",
   "execution_count": 19,
   "metadata": {},
   "outputs": [
    {
     "data": {
      "text/plain": [
       "Text(0.5, 1.0, 'Red to yellow')"
      ]
     },
     "execution_count": 19,
     "metadata": {},
     "output_type": "execute_result"
    },
    {
     "data": {
      "image/png": "[encoded data removed]",
      "text/plain": [
       "<Figure size 288x480 with 20 Axes>"
      ]
     },
     "metadata": {},
     "output_type": "display_data"
    }
   ],
   "source": [
    "# Preview the colours\n",
    "fig, axs = plt.subplots(nr_of_colours, 1,\n",
    "                        figsize=(4, nr_of_colours/3),\n",
    "                       )\n",
    "\n",
    "for c, ax in zip(colours, axs):\n",
    "    ax.set_facecolor(c)\n",
    "    ax.set_xticks([])\n",
    "    ax.set_yticks([])\n",
    "\n",
    "axs[0].set_title('Red to yellow')"
   ]
  },
  {
   "cell_type": "markdown",
   "metadata": {},
   "source": [
    "### Example 5: Create multiple colour scale along multiple channel"
   ]
  },
  {
   "cell_type": "code",
   "execution_count": 20,
   "metadata": {},
   "outputs": [
    {
     "name": "stdout",
     "output_type": "stream",
     "text": [
      "6\n",
      "[[1.  0.  0.  1. ]\n",
      " [1.  0.2 0.  1. ]\n",
      " [1.  0.4 0.  1. ]\n",
      " [1.  0.6 0.  1. ]\n",
      " [1.  0.8 0.  1. ]\n",
      " [1.  1.  0.  1. ]\n",
      " [1.  1.  0.  1. ]\n",
      " [0.8 1.  0.  1. ]\n",
      " [0.6 1.  0.  1. ]\n",
      " [0.4 1.  0.  1. ]\n",
      " [0.2 1.  0.  1. ]\n",
      " [0.  1.  0.  1. ]]\n"
     ]
    }
   ],
   "source": [
    "# Let's create 3 colour scale, from red to yellow to green\n",
    "# [1, 0, 0, 1] to\n",
    "# [1, 1, 0, 1] to\n",
    "# [0, 1, 0, 1]\n",
    "nr_of_colours = 12 # even number\n",
    "\n",
    "idx_half = np.int(np.ceil(nr_of_colours/2))\n",
    "print(idx_half)\n",
    "\n",
    "colours = np.zeros([nr_of_colours, 4])\n",
    "colours[:, 3] = 1 # alpha channel\n",
    "colours[:idx_half, 0] = 1 # red channel\n",
    "colours[idx_half:, 0] = np.linspace(1, 0, idx_half) # red channel\n",
    "colours[:idx_half, 1] = np.linspace(0, 1, idx_half) # green channel\n",
    "colours[idx_half:, 1] = 1 # green channel\n",
    "\n",
    "np.set_printoptions(precision=3)\n",
    "print(colours)"
   ]
  },
  {
   "cell_type": "code",
   "execution_count": 21,
   "metadata": {},
   "outputs": [
    {
     "data": {
      "text/plain": [
       "Text(0.5, 1.0, 'Even number of colours')"
      ]
     },
     "execution_count": 21,
     "metadata": {},
     "output_type": "execute_result"
    },
    {
     "data": {
      "image/png": "[encoded data removed]",
      "text/plain": [
       "<Figure size 288x288 with 12 Axes>"
      ]
     },
     "metadata": {},
     "output_type": "display_data"
    }
   ],
   "source": [
    "# Preview the colours\n",
    "fig, axs = plt.subplots(nr_of_colours, 1,\n",
    "                        figsize=(4, nr_of_colours/3),\n",
    "                       )\n",
    "\n",
    "for i, ax in enumerate(axs):\n",
    "    ax.set_facecolor(colours[i, :])\n",
    "    ax.set_xticks([])\n",
    "    ax.set_yticks([])\n",
    "    ax.set_ylabel(str(i+1),\n",
    "                  rotation=0,\n",
    "                  va='center',\n",
    "                  ha='right'\n",
    "                 )\n",
    "    \n",
    "axs[0].set_title('Even number of colours')"
   ]
  },
  {
   "cell_type": "markdown",
   "metadata": {},
   "source": [
    "**Problem:** yello appears twice!"
   ]
  },
  {
   "cell_type": "code",
   "execution_count": 22,
   "metadata": {},
   "outputs": [
    {
     "name": "stdout",
     "output_type": "stream",
     "text": [
      "6\n",
      "[[1.    0.    0.    1.   ]\n",
      " [1.    0.2   0.    1.   ]\n",
      " [1.    0.4   0.    1.   ]\n",
      " [1.    0.6   0.    1.   ]\n",
      " [1.    0.8   0.    1.   ]\n",
      " [1.    1.    0.    1.   ]\n",
      " [0.833 1.    0.    1.   ]\n",
      " [0.667 1.    0.    1.   ]\n",
      " [0.5   1.    0.    1.   ]\n",
      " [0.333 1.    0.    1.   ]\n",
      " [0.167 1.    0.    1.   ]\n",
      " [0.    1.    0.    1.   ]]\n"
     ]
    }
   ],
   "source": [
    "# Let's create 3 colour scale, from red to yellow to green\n",
    "# [1, 0, 0, 1] to\n",
    "# [1, 1, 0, 1] to\n",
    "# [0, 1, 0, 1]\n",
    "nr_of_colours = 12 # even number\n",
    "\n",
    "idx_half = np.int(np.ceil(nr_of_colours/2))\n",
    "print(idx_half)\n",
    "\n",
    "colours = np.zeros([nr_of_colours, 4])\n",
    "colours[:, 3] = 1 # alpha channel\n",
    "colours[:idx_half, 0] = 1 # red channel\n",
    "colours[idx_half-1:, 0] = np.linspace(1, 0, idx_half+1) # red channel\n",
    "colours[:idx_half, 1] = np.linspace(0, 1, idx_half) # green channel\n",
    "colours[idx_half:, 1] = 1 # green channel\n",
    "\n",
    "np.set_printoptions(precision=3)\n",
    "print(colours)"
   ]
  },
  {
   "cell_type": "code",
   "execution_count": 23,
   "metadata": {},
   "outputs": [
    {
     "data": {
      "text/plain": [
       "Text(0.5, 1.0, 'Even number of colours')"
      ]
     },
     "execution_count": 23,
     "metadata": {},
     "output_type": "execute_result"
    },
    {
     "data": {
      "image/png": "[encoded data removed]",
      "text/plain": [
       "<Figure size 288x288 with 12 Axes>"
      ]
     },
     "metadata": {},
     "output_type": "display_data"
    }
   ],
   "source": [
    "# Preview the colours\n",
    "fig, axs = plt.subplots(nr_of_colours, 1,\n",
    "                        figsize=(4, nr_of_colours/3),\n",
    "                       )\n",
    "\n",
    "for i, ax in enumerate(axs):\n",
    "    ax.set_facecolor(colours[i, :])\n",
    "    ax.set_xticks([])\n",
    "    ax.set_yticks([])\n",
    "    ax.set_ylabel(str(i+1),\n",
    "                  rotation=0,\n",
    "                  va='center',\n",
    "                  ha='right'\n",
    "                 )\n",
    "    \n",
    "axs[0].set_title('Even number of colours')"
   ]
  },
  {
   "cell_type": "code",
   "execution_count": 24,
   "metadata": {},
   "outputs": [
    {
     "name": "stdout",
     "output_type": "stream",
     "text": [
      "7\n",
      "[[1.    0.    0.    1.   ]\n",
      " [1.    0.167 0.    1.   ]\n",
      " [1.    0.333 0.    1.   ]\n",
      " [1.    0.5   0.    1.   ]\n",
      " [1.    0.667 0.    1.   ]\n",
      " [1.    0.833 0.    1.   ]\n",
      " [1.    1.    0.    1.   ]\n",
      " [0.833 1.    0.    1.   ]\n",
      " [0.667 1.    0.    1.   ]\n",
      " [0.5   1.    0.    1.   ]\n",
      " [0.333 1.    0.    1.   ]\n",
      " [0.167 1.    0.    1.   ]\n",
      " [0.    1.    0.    1.   ]]\n"
     ]
    }
   ],
   "source": [
    "# Let's create 3 colour scale, from red to yellow to green\n",
    "# [1, 0, 0, 1] to\n",
    "# [1, 1, 0, 1] to\n",
    "# [0, 1, 0, 1]\n",
    "nr_of_colours = 13 # odd number\n",
    "\n",
    "idx_half = np.int(np.ceil(nr_of_colours/2))\n",
    "print(idx_half)\n",
    "\n",
    "colours = np.zeros([nr_of_colours, 4])\n",
    "colours[:, 3] = 1 # alpha channel\n",
    "colours[:idx_half, 0] = 1 # red channel\n",
    "colours[idx_half-1:, 0] = np.linspace(1, 0, idx_half) # red channel\n",
    "colours[:idx_half, 1] = np.linspace(0, 1, idx_half) # green channel\n",
    "colours[idx_half:, 1] = 1 # green channel\n",
    "\n",
    "np.set_printoptions(precision=3)\n",
    "print(colours)"
   ]
  },
  {
   "cell_type": "code",
   "execution_count": 25,
   "metadata": {},
   "outputs": [
    {
     "data": {
      "text/plain": [
       "Text(0.5, 1.0, 'Odd number of colours')"
      ]
     },
     "execution_count": 25,
     "metadata": {},
     "output_type": "execute_result"
    },
    {
     "data": {
      "image/png": "[encoded data removed]",
      "text/plain": [
       "<Figure size 288x312 with 13 Axes>"
      ]
     },
     "metadata": {},
     "output_type": "display_data"
    }
   ],
   "source": [
    "# Preview the colours\n",
    "fig, axs = plt.subplots(nr_of_colours, 1,\n",
    "                        figsize=(4, nr_of_colours/3),\n",
    "                       )\n",
    "\n",
    "for i, ax in enumerate(axs):\n",
    "    ax.set_facecolor(colours[i, :])\n",
    "    ax.set_xticks([])\n",
    "    ax.set_yticks([])\n",
    "    ax.set_ylabel(str(i+1),\n",
    "                  rotation=0,\n",
    "                  va='center',\n",
    "                  ha='right'\n",
    "                 )\n",
    "    \n",
    "axs[0].set_title('Odd number of colours')"
   ]
  },
  {
   "cell_type": "markdown",
   "metadata": {},
   "source": [
    "# Example 6: random colours"
   ]
  },
  {
   "cell_type": "code",
   "execution_count": 26,
   "metadata": {},
   "outputs": [
    {
     "name": "stdout",
     "output_type": "stream",
     "text": [
      "[[0.857 0.527 0.678 0.816]\n",
      " [0.54  0.654 0.78  0.452]\n",
      " [0.863 0.514 0.764 0.139]\n",
      " [0.88  0.412 0.008 0.474]\n",
      " [0.862 0.104 0.751 0.971]\n",
      " [0.366 0.518 0.055 0.004]\n",
      " [0.688 0.342 0.541 0.411]\n",
      " [0.902 0.9   0.263 0.293]\n",
      " [0.097 0.741 0.503 0.052]]\n"
     ]
    }
   ],
   "source": [
    "# It' rarely good idea but if random colours are needed, this is how we crate them\n",
    "# 'np.random.rand' uses uniform distribution, values are from half open range [0, 1)\n",
    "\n",
    "nr_of_colours = 9 \n",
    "colours = np.random.rand(nr_of_colours, 4)\n",
    "\n",
    "np.set_printoptions(precision=3)\n",
    "print(colours)"
   ]
  },
  {
   "cell_type": "code",
   "execution_count": 27,
   "metadata": {},
   "outputs": [
    {
     "data": {
      "text/plain": [
       "Text(0.5, 1.0, 'Random colours')"
      ]
     },
     "execution_count": 27,
     "metadata": {},
     "output_type": "execute_result"
    },
    {
     "data": {
      "image/png": "[encoded data removed]",
      "text/plain": [
       "<Figure size 288x216 with 9 Axes>"
      ]
     },
     "metadata": {},
     "output_type": "display_data"
    }
   ],
   "source": [
    "# Preview the colours\n",
    "fig, axs = plt.subplots(nr_of_colours, 1,\n",
    "                        figsize=(4, nr_of_colours/3),\n",
    "                       )\n",
    "\n",
    "for i, ax in enumerate(axs):\n",
    "    ax.set_facecolor(colours[i, :])\n",
    "    ax.set_xticks([])\n",
    "    ax.set_yticks([])\n",
    "    ax.set_ylabel(str(i+1),\n",
    "                  rotation=0,\n",
    "                  va='center',\n",
    "                  ha='right'\n",
    "                 )\n",
    "    \n",
    "axs[0].set_title('Random colours')"
   ]
  },
  {
   "cell_type": "markdown",
   "metadata": {},
   "source": [
    "# TODO: \n",
    "\n",
    "* Add general graph with paterns for `linspace` (constant number, step change from 0 to 1 at half point, gradual increase/decrease from 0 to 1, gradual increase/decrease to half point)"
   ]
  },
  {
   "cell_type": "markdown",
   "metadata": {},
   "source": [
    "# 3. CASES\n",
    "\n",
    "# TODO:\n",
    "\n",
    "Specify usage cases:\n",
    "\n",
    "* comparison of two data sets each having few repeats, If I want to see general trend comparison I would do one data set one color graduation, 2nd data set would get another color graduation\n",
    "* to highlighte the most significant trace (all traces grey and the one with a stand out colour like red)\n",
    "  * trace with the biggest change\n",
    "  * mean trace"
   ]
  },
  {
   "cell_type": "markdown",
   "metadata": {},
   "source": [
    "### Example 1: replace default colours"
   ]
  },
  {
   "cell_type": "code",
   "execution_count": 28,
   "metadata": {},
   "outputs": [
    {
     "data": {
      "text/html": [
       "<div>\n",
       "<style scoped>\n",
       "    .dataframe tbody tr th:only-of-type {\n",
       "        vertical-align: middle;\n",
       "    }\n",
       "\n",
       "    .dataframe tbody tr th {\n",
       "        vertical-align: top;\n",
       "    }\n",
       "\n",
       "    .dataframe thead th {\n",
       "        text-align: right;\n",
       "    }\n",
       "</style>\n",
       "<table border=\"1\" class=\"dataframe\">\n",
       "  <thead>\n",
       "    <tr style=\"text-align: right;\">\n",
       "      <th></th>\n",
       "      <th>A</th>\n",
       "      <th>B</th>\n",
       "      <th>C</th>\n",
       "      <th>D</th>\n",
       "      <th>E</th>\n",
       "    </tr>\n",
       "  </thead>\n",
       "  <tbody>\n",
       "    <tr>\n",
       "      <th>0</th>\n",
       "      <td>0.93</td>\n",
       "      <td>1.46</td>\n",
       "      <td>2.77</td>\n",
       "      <td>3.43</td>\n",
       "      <td>4.78</td>\n",
       "    </tr>\n",
       "    <tr>\n",
       "      <th>1</th>\n",
       "      <td>0.31</td>\n",
       "      <td>1.54</td>\n",
       "      <td>2.06</td>\n",
       "      <td>3.86</td>\n",
       "      <td>4.65</td>\n",
       "    </tr>\n",
       "    <tr>\n",
       "      <th>2</th>\n",
       "      <td>0.04</td>\n",
       "      <td>1.19</td>\n",
       "      <td>2.50</td>\n",
       "      <td>3.23</td>\n",
       "      <td>4.83</td>\n",
       "    </tr>\n",
       "    <tr>\n",
       "      <th>3</th>\n",
       "      <td>0.48</td>\n",
       "      <td>1.68</td>\n",
       "      <td>2.04</td>\n",
       "      <td>3.92</td>\n",
       "      <td>4.49</td>\n",
       "    </tr>\n",
       "    <tr>\n",
       "      <th>4</th>\n",
       "      <td>0.92</td>\n",
       "      <td>1.58</td>\n",
       "      <td>2.74</td>\n",
       "      <td>3.67</td>\n",
       "      <td>4.42</td>\n",
       "    </tr>\n",
       "    <tr>\n",
       "      <th>5</th>\n",
       "      <td>0.60</td>\n",
       "      <td>1.91</td>\n",
       "      <td>2.37</td>\n",
       "      <td>3.62</td>\n",
       "      <td>4.28</td>\n",
       "    </tr>\n",
       "    <tr>\n",
       "      <th>6</th>\n",
       "      <td>0.79</td>\n",
       "      <td>1.45</td>\n",
       "      <td>2.11</td>\n",
       "      <td>3.33</td>\n",
       "      <td>4.58</td>\n",
       "    </tr>\n",
       "    <tr>\n",
       "      <th>7</th>\n",
       "      <td>0.97</td>\n",
       "      <td>1.96</td>\n",
       "      <td>2.84</td>\n",
       "      <td>3.58</td>\n",
       "      <td>4.34</td>\n",
       "    </tr>\n",
       "    <tr>\n",
       "      <th>8</th>\n",
       "      <td>0.79</td>\n",
       "      <td>1.46</td>\n",
       "      <td>2.60</td>\n",
       "      <td>3.36</td>\n",
       "      <td>4.12</td>\n",
       "    </tr>\n",
       "    <tr>\n",
       "      <th>9</th>\n",
       "      <td>0.17</td>\n",
       "      <td>1.86</td>\n",
       "      <td>2.80</td>\n",
       "      <td>3.66</td>\n",
       "      <td>4.54</td>\n",
       "    </tr>\n",
       "  </tbody>\n",
       "</table>\n",
       "</div>"
      ],
      "text/plain": [
       "      A     B     C     D     E\n",
       "0  0.93  1.46  2.77  3.43  4.78\n",
       "1  0.31  1.54  2.06  3.86  4.65\n",
       "2  0.04  1.19  2.50  3.23  4.83\n",
       "3  0.48  1.68  2.04  3.92  4.49\n",
       "4  0.92  1.58  2.74  3.67  4.42\n",
       "5  0.60  1.91  2.37  3.62  4.28\n",
       "6  0.79  1.45  2.11  3.33  4.58\n",
       "7  0.97  1.96  2.84  3.58  4.34\n",
       "8  0.79  1.46  2.60  3.36  4.12\n",
       "9  0.17  1.86  2.80  3.66  4.54"
      ]
     },
     "execution_count": 28,
     "metadata": {},
     "output_type": "execute_result"
    }
   ],
   "source": [
    "# Mock up data set\n",
    "nr_of_lines = 5\n",
    "nr_of_points = 10\n",
    "\n",
    "data = np.random.rand(nr_of_points, nr_of_lines)\n",
    "offset = np.arange(nr_of_lines)\n",
    "data = data + offset\n",
    "\n",
    "\n",
    "pd.set_option(\"precision\", 2)\n",
    "df = pd.DataFrame(data, columns=list('ABCDE'))\n",
    "df"
   ]
  },
  {
   "cell_type": "code",
   "execution_count": 29,
   "metadata": {},
   "outputs": [
    {
     "data": {
      "text/plain": [
       "<matplotlib.legend.Legend at 0x15b927de9d0>"
      ]
     },
     "execution_count": 29,
     "metadata": {},
     "output_type": "execute_result"
    },
    {
     "data": {
      "image/png": "[encoded data removed]",
      "text/plain": [
       "<Figure size 432x288 with 1 Axes>"
      ]
     },
     "metadata": {
      "needs_background": "light"
     },
     "output_type": "display_data"
    }
   ],
   "source": [
    "fig, ax = plt.subplots()\n",
    "\n",
    "ax.plot(df)\n",
    "ax.legend(df)"
   ]
  },
  {
   "cell_type": "code",
   "execution_count": 30,
   "metadata": {},
   "outputs": [],
   "source": [
    "colours = np.zeros([df.shape[1], 4])\n",
    "colours[:, 3] = 1\n",
    "colours[:, 1] = np.linspace(0, 1, df.shape[1])\n",
    "colours[:, 2] = np.linspace(1, 0, df.shape[1])"
   ]
  },
  {
   "cell_type": "code",
   "execution_count": 31,
   "metadata": {},
   "outputs": [
    {
     "data": {
      "image/png": "[encoded data removed]",
      "text/plain": [
       "<Figure size 432x288 with 1 Axes>"
      ]
     },
     "metadata": {
      "needs_background": "light"
     },
     "output_type": "display_data"
    }
   ],
   "source": [
    "fig, axs = plt.subplots()\n",
    "\n",
    "for i, name in enumerate(df):\n",
    "    axs.plot(df[name],\n",
    "             color=colours[i, :]\n",
    "            )"
   ]
  },
  {
   "cell_type": "markdown",
   "metadata": {},
   "source": [
    "### Example 2: comparison of two data sets"
   ]
  },
  {
   "cell_type": "code",
   "execution_count": 68,
   "metadata": {},
   "outputs": [],
   "source": [
    "# Mock up data set\n",
    "nr_of_lines = 5\n",
    "nr_of_points = 10\n",
    "\n",
    "data = np.random.rand(nr_of_points, nr_of_lines)\n",
    "y_increasing = np.arange(0, nr_of_points).reshape([nr_of_points, 1])\n",
    "y_decreasing = np.arange(nr_of_points, 0, -1).reshape([nr_of_points, 1])\n",
    "\n",
    "data_up = data + y_increasing\n",
    "data_down = data + y_decreasing"
   ]
  },
  {
   "cell_type": "code",
   "execution_count": 69,
   "metadata": {},
   "outputs": [
    {
     "data": {
      "text/plain": [
       "array([[0.814, 0.798, 0.178, 0.108, 0.958],\n",
       "       [1.304, 1.057, 1.284, 1.239, 1.577],\n",
       "       [2.333, 2.126, 2.334, 2.339, 2.108],\n",
       "       [3.93 , 3.083, 3.642, 3.584, 3.968],\n",
       "       [4.618, 4.435, 4.133, 4.53 , 4.724],\n",
       "       [5.134, 5.426, 5.109, 5.848, 5.938],\n",
       "       [6.093, 6.915, 6.322, 6.03 , 6.369],\n",
       "       [7.04 , 7.538, 7.027, 7.841, 7.629],\n",
       "       [8.52 , 8.451, 8.837, 8.734, 8.309],\n",
       "       [9.477, 9.746, 9.521, 9.828, 9.452]])"
      ]
     },
     "execution_count": 69,
     "metadata": {},
     "output_type": "execute_result"
    }
   ],
   "source": [
    "data_up"
   ]
  },
  {
   "cell_type": "code",
   "execution_count": 74,
   "metadata": {},
   "outputs": [
    {
     "data": {
      "text/plain": [
       "array([[10.814, 10.798, 10.178, 10.108, 10.958],\n",
       "       [ 9.304,  9.057,  9.284,  9.239,  9.577],\n",
       "       [ 8.333,  8.126,  8.334,  8.339,  8.108],\n",
       "       [ 7.93 ,  7.083,  7.642,  7.584,  7.968],\n",
       "       [ 6.618,  6.435,  6.133,  6.53 ,  6.724],\n",
       "       [ 5.134,  5.426,  5.109,  5.848,  5.938],\n",
       "       [ 4.093,  4.915,  4.322,  4.03 ,  4.369],\n",
       "       [ 3.04 ,  3.538,  3.027,  3.841,  3.629],\n",
       "       [ 2.52 ,  2.451,  2.837,  2.734,  2.309],\n",
       "       [ 1.477,  1.746,  1.521,  1.828,  1.452]])"
      ]
     },
     "execution_count": 74,
     "metadata": {},
     "output_type": "execute_result"
    }
   ],
   "source": [
    "data_down"
   ]
  },
  {
   "cell_type": "code",
   "execution_count": 81,
   "metadata": {},
   "outputs": [
    {
     "ename": "ValueError",
     "evalue": "could not broadcast input array from shape (10) into shape (5)",
     "output_type": "error",
     "traceback": [
      "\u001b[1;31m---------------------------------------------------------------------------\u001b[0m",
      "\u001b[1;31mValueError\u001b[0m                                Traceback (most recent call last)",
      "\u001b[1;32m<ipython-input-81-0ac04eea3f2a>\u001b[0m in \u001b[0;36m<module>\u001b[1;34m\u001b[0m\n\u001b[0;32m      1\u001b[0m \u001b[0mcolour_red\u001b[0m \u001b[1;33m=\u001b[0m \u001b[0mnp\u001b[0m\u001b[1;33m.\u001b[0m\u001b[0mzeros\u001b[0m\u001b[1;33m(\u001b[0m\u001b[1;33m[\u001b[0m\u001b[0mnr_of_points\u001b[0m\u001b[1;33m,\u001b[0m \u001b[1;36m4\u001b[0m\u001b[1;33m]\u001b[0m\u001b[1;33m)\u001b[0m\u001b[1;33m\u001b[0m\u001b[1;33m\u001b[0m\u001b[0m\n\u001b[0;32m      2\u001b[0m \u001b[0mcolour_red\u001b[0m\u001b[1;33m[\u001b[0m\u001b[1;33m:\u001b[0m\u001b[1;33m,\u001b[0m \u001b[1;36m3\u001b[0m\u001b[1;33m]\u001b[0m \u001b[1;33m=\u001b[0m \u001b[1;36m1\u001b[0m\u001b[1;33m\u001b[0m\u001b[1;33m\u001b[0m\u001b[0m\n\u001b[1;32m----> 3\u001b[1;33m \u001b[0mcolours\u001b[0m\u001b[1;33m[\u001b[0m\u001b[1;33m:\u001b[0m\u001b[1;33m,\u001b[0m \u001b[1;36m0\u001b[0m\u001b[1;33m]\u001b[0m \u001b[1;33m=\u001b[0m \u001b[0mnp\u001b[0m\u001b[1;33m.\u001b[0m\u001b[0mlinspace\u001b[0m\u001b[1;33m(\u001b[0m\u001b[1;36m0.75\u001b[0m\u001b[1;33m,\u001b[0m \u001b[1;36m1\u001b[0m\u001b[1;33m,\u001b[0m \u001b[0mnr_of_points\u001b[0m\u001b[1;33m)\u001b[0m\u001b[1;33m\u001b[0m\u001b[1;33m\u001b[0m\u001b[0m\n\u001b[0m",
      "\u001b[1;31mValueError\u001b[0m: could not broadcast input array from shape (10) into shape (5)"
     ]
    }
   ],
   "source": [
    "colour_red = np.zeros([nr_of_points, 4])\n",
    "colour_red[:, 3] = 1\n",
    "colours[:, 0] = np.linspace(0.75, 1, nr_of_points)"
   ]
  },
  {
   "cell_type": "code",
   "execution_count": 79,
   "metadata": {},
   "outputs": [
    {
     "data": {
      "text/plain": [
       "array([[0., 0., 0., 1.],\n",
       "       [0., 0., 0., 1.],\n",
       "       [0., 0., 0., 1.],\n",
       "       [0., 0., 0., 1.],\n",
       "       [0., 0., 0., 1.],\n",
       "       [0., 0., 0., 1.],\n",
       "       [0., 0., 0., 1.],\n",
       "       [0., 0., 0., 1.],\n",
       "       [0., 0., 0., 1.],\n",
       "       [0., 0., 0., 1.]])"
      ]
     },
     "execution_count": 79,
     "metadata": {},
     "output_type": "execute_result"
    }
   ],
   "source": [
    "colour_red"
   ]
  },
  {
   "cell_type": "code",
   "execution_count": 80,
   "metadata": {},
   "outputs": [
    {
     "data": {
      "text/plain": [
       "array([0.75 , 0.778, 0.806, 0.833, 0.861, 0.889, 0.917, 0.944, 0.972,\n",
       "       1.   ])"
      ]
     },
     "execution_count": 80,
     "metadata": {},
     "output_type": "execute_result"
    }
   ],
   "source": [
    "np.linspace(0.75, 1, nr_of_points)"
   ]
  },
  {
   "cell_type": "code",
   "execution_count": 32,
   "metadata": {},
   "outputs": [
    {
     "data": {
      "image/png": "[encoded data removed]",
      "text/plain": [
       "<Figure size 432x288 with 1 Axes>"
      ]
     },
     "metadata": {
      "needs_background": "light"
     },
     "output_type": "display_data"
    }
   ],
   "source": [
    "# Use column names to plot lines one-by-one and setup properties\n",
    "p_all = []  # list to hold the lines\n",
    "\n",
    "fig, ax  = plt.subplots()\n",
    "\n",
    "for name in df.columns:\n",
    "    p, = ax.plot(df[name])\n",
    "    p.set_marker='*'\n",
    "    p_all.append(p)\n",
    "    \n",
    "ax.legend(df)\n",
    "\n",
    "\n",
    "c1 = [1, 1, 0, 1]\n",
    "c2 = [0, 1, 0, 1]\n",
    "\n",
    "p_all[0].set_color(c1)\n",
    "p_all[-1].set_color(c2)"
   ]
  },
  {
   "cell_type": "markdown",
   "metadata": {},
   "source": [
    "# TODO:\n",
    "\n",
    "General tip that colours can be set in a `for` loop using `enumerate` or `zip`\n",
    "\n",
    "# Bonus stuff:\n",
    "\n",
    "Write a function that takes number of colours required, number of colours in the scale (2 or 3) and produces the array with those colours. \n",
    "\n",
    "Also create the function to preview the colours generated."
   ]
  }
 ],
 "metadata": {
  "kernelspec": {
   "display_name": "Python 3",
   "language": "python",
   "name": "python3"
  },
  "language_info": {
   "codemirror_mode": {
    "name": "ipython",
    "version": 3
   },
   "file_extension": ".py",
   "mimetype": "text/x-python",
   "name": "python",
   "nbconvert_exporter": "python",
   "pygments_lexer": "ipython3",
   "version": "3.8.3"
  }
 },
 "nbformat": 4,
 "nbformat_minor": 4
}
