{
 "cells": [
  {
   "cell_type": "markdown",
   "metadata": {},
   "source": [
    "# `pathlib` primer\n",
    "\n",
    "* Available from Python 3.4\n",
    "* [pathlib doc](https://docs.python.org/3/library/pathlib.html)"
   ]
  },
  {
   "cell_type": "markdown",
   "metadata": {},
   "source": [
    "## Imports"
   ]
  },
  {
   "cell_type": "code",
   "execution_count": 1,
   "metadata": {},
   "outputs": [],
   "source": [
    "from pathlib import Path"
   ]
  },
  {
   "cell_type": "markdown",
   "metadata": {},
   "source": [
    "## Basic use cases"
   ]
  },
  {
   "cell_type": "markdown",
   "metadata": {},
   "source": [
    "### Get current working directory or home directory"
   ]
  },
  {
   "cell_type": "code",
   "execution_count": 2,
   "metadata": {},
   "outputs": [
    {
     "data": {
      "text/plain": [
       "PosixPath('/home/pawjast/Documents/my github/medium/code')"
      ]
     },
     "execution_count": 2,
     "metadata": {},
     "output_type": "execute_result"
    }
   ],
   "source": [
    "Path.cwd()"
   ]
  },
  {
   "cell_type": "code",
   "execution_count": 3,
   "metadata": {},
   "outputs": [
    {
     "data": {
      "text/plain": [
       "PosixPath('/home/pawjast')"
      ]
     },
     "execution_count": 3,
     "metadata": {},
     "output_type": "execute_result"
    }
   ],
   "source": [
    "Path.home()"
   ]
  },
  {
   "cell_type": "markdown",
   "metadata": {},
   "source": [
    "### Turn location into Path"
   ]
  },
  {
   "cell_type": "code",
   "execution_count": 4,
   "metadata": {},
   "outputs": [
    {
     "data": {
      "text/plain": [
       "PosixPath('/home/pawjast/Documents/my github/medium/code/datasets/data_4')"
      ]
     },
     "execution_count": 4,
     "metadata": {},
     "output_type": "execute_result"
    }
   ],
   "source": [
    "# Using forward slash\n",
    "my_path = Path.cwd() / \"datasets\" / \"data_4\"\n",
    "my_path"
   ]
  },
  {
   "cell_type": "code",
   "execution_count": 5,
   "metadata": {},
   "outputs": [
    {
     "data": {
      "text/plain": [
       "PosixPath('/home/pawjast/Documents/my github/medium/code/datasets/data_4')"
      ]
     },
     "execution_count": 5,
     "metadata": {},
     "output_type": "execute_result"
    }
   ],
   "source": [
    "# Using `joinpath` method\n",
    "my_path = Path.cwd().joinpath(\"datasets\", \"data_4\")\n",
    "my_path"
   ]
  },
  {
   "cell_type": "markdown",
   "metadata": {},
   "source": [
    "## Current directory - list files and directories"
   ]
  },
  {
   "cell_type": "code",
   "execution_count": 6,
   "metadata": {},
   "outputs": [
    {
     "data": {
      "text/plain": [
       "[PosixPath('/home/pawjast/Documents/my github/medium/code/datasets/data_4/more_data'),\n",
       " PosixPath('/home/pawjast/Documents/my github/medium/code/datasets/data_4/hi.md'),\n",
       " PosixPath('/home/pawjast/Documents/my github/medium/code/datasets/data_4/data1.csv'),\n",
       " PosixPath('/home/pawjast/Documents/my github/medium/code/datasets/data_4/data2.csv'),\n",
       " PosixPath('/home/pawjast/Documents/my github/medium/code/datasets/data_4/abc.txt'),\n",
       " PosixPath('/home/pawjast/Documents/my github/medium/code/datasets/data_4/cde.txt'),\n",
       " PosixPath('/home/pawjast/Documents/my github/medium/code/datasets/data_4/temp')]"
      ]
     },
     "execution_count": 6,
     "metadata": {},
     "output_type": "execute_result"
    }
   ],
   "source": [
    "# Using list comprehension and `iterdir()` method\n",
    "[path for path in my_path.iterdir()]"
   ]
  },
  {
   "cell_type": "code",
   "execution_count": 7,
   "metadata": {},
   "outputs": [
    {
     "data": {
      "text/plain": [
       "[PosixPath('/home/pawjast/Documents/my github/medium/code/datasets/data_4/more_data'),\n",
       " PosixPath('/home/pawjast/Documents/my github/medium/code/datasets/data_4/hi.md'),\n",
       " PosixPath('/home/pawjast/Documents/my github/medium/code/datasets/data_4/data1.csv'),\n",
       " PosixPath('/home/pawjast/Documents/my github/medium/code/datasets/data_4/data2.csv'),\n",
       " PosixPath('/home/pawjast/Documents/my github/medium/code/datasets/data_4/abc.txt'),\n",
       " PosixPath('/home/pawjast/Documents/my github/medium/code/datasets/data_4/cde.txt'),\n",
       " PosixPath('/home/pawjast/Documents/my github/medium/code/datasets/data_4/temp')]"
      ]
     },
     "execution_count": 7,
     "metadata": {},
     "output_type": "execute_result"
    }
   ],
   "source": [
    "# Using `.glob()` method\n",
    "list(my_path.glob(\"*\"))"
   ]
  },
  {
   "cell_type": "markdown",
   "metadata": {},
   "source": [
    "## Current directory and sub directories - list files and directories"
   ]
  },
  {
   "cell_type": "code",
   "execution_count": 8,
   "metadata": {},
   "outputs": [
    {
     "data": {
      "text/plain": [
       "[PosixPath('/home/pawjast/Documents/my github/medium/code/datasets/data_4/more_data'),\n",
       " PosixPath('/home/pawjast/Documents/my github/medium/code/datasets/data_4/hi.md'),\n",
       " PosixPath('/home/pawjast/Documents/my github/medium/code/datasets/data_4/data1.csv'),\n",
       " PosixPath('/home/pawjast/Documents/my github/medium/code/datasets/data_4/data2.csv'),\n",
       " PosixPath('/home/pawjast/Documents/my github/medium/code/datasets/data_4/abc.txt'),\n",
       " PosixPath('/home/pawjast/Documents/my github/medium/code/datasets/data_4/cde.txt'),\n",
       " PosixPath('/home/pawjast/Documents/my github/medium/code/datasets/data_4/temp'),\n",
       " PosixPath('/home/pawjast/Documents/my github/medium/code/datasets/data_4/more_data/abc.csv'),\n",
       " PosixPath('/home/pawjast/Documents/my github/medium/code/datasets/data_4/more_data/go_deeper'),\n",
       " PosixPath('/home/pawjast/Documents/my github/medium/code/datasets/data_4/more_data/whatshere.md'),\n",
       " PosixPath('/home/pawjast/Documents/my github/medium/code/datasets/data_4/more_data/hello.html'),\n",
       " PosixPath('/home/pawjast/Documents/my github/medium/code/datasets/data_4/more_data/yyy.txt'),\n",
       " PosixPath('/home/pawjast/Documents/my github/medium/code/datasets/data_4/more_data/data3.csv'),\n",
       " PosixPath('/home/pawjast/Documents/my github/medium/code/datasets/data_4/more_data/xxx.txt'),\n",
       " PosixPath('/home/pawjast/Documents/my github/medium/code/datasets/data_4/more_data/go_deeper/abcd.py'),\n",
       " PosixPath('/home/pawjast/Documents/my github/medium/code/datasets/data_4/more_data/go_deeper/surprise.csv'),\n",
       " PosixPath('/home/pawjast/Documents/my github/medium/code/datasets/data_4/temp/dead_end')]"
      ]
     },
     "execution_count": 8,
     "metadata": {},
     "output_type": "execute_result"
    }
   ],
   "source": [
    "list(my_path.rglob(\"*\"))"
   ]
  },
  {
   "cell_type": "markdown",
   "metadata": {},
   "source": [
    "## Relative paths"
   ]
  },
  {
   "cell_type": "code",
   "execution_count": 9,
   "metadata": {},
   "outputs": [
    {
     "data": {
      "text/plain": [
       "[PosixPath('more_data'),\n",
       " PosixPath('hi.md'),\n",
       " PosixPath('data1.csv'),\n",
       " PosixPath('data2.csv'),\n",
       " PosixPath('abc.txt'),\n",
       " PosixPath('cde.txt'),\n",
       " PosixPath('temp'),\n",
       " PosixPath('more_data/abc.csv'),\n",
       " PosixPath('more_data/go_deeper'),\n",
       " PosixPath('more_data/whatshere.md'),\n",
       " PosixPath('more_data/hello.html'),\n",
       " PosixPath('more_data/yyy.txt'),\n",
       " PosixPath('more_data/data3.csv'),\n",
       " PosixPath('more_data/xxx.txt'),\n",
       " PosixPath('more_data/go_deeper/abcd.py'),\n",
       " PosixPath('more_data/go_deeper/surprise.csv'),\n",
       " PosixPath('temp/dead_end')]"
      ]
     },
     "execution_count": 9,
     "metadata": {},
     "output_type": "execute_result"
    }
   ],
   "source": [
    "[path.relative_to(my_path) for path in my_path.rglob(\"*\")]"
   ]
  },
  {
   "cell_type": "markdown",
   "metadata": {},
   "source": [
    "## Various filters"
   ]
  },
  {
   "cell_type": "markdown",
   "metadata": {},
   "source": [
    "### List all files only"
   ]
  },
  {
   "cell_type": "code",
   "execution_count": 10,
   "metadata": {},
   "outputs": [
    {
     "data": {
      "text/plain": [
       "[PosixPath('/home/pawjast/Documents/my github/medium/code/datasets/data_4/hi.md'),\n",
       " PosixPath('/home/pawjast/Documents/my github/medium/code/datasets/data_4/data1.csv'),\n",
       " PosixPath('/home/pawjast/Documents/my github/medium/code/datasets/data_4/data2.csv'),\n",
       " PosixPath('/home/pawjast/Documents/my github/medium/code/datasets/data_4/abc.txt'),\n",
       " PosixPath('/home/pawjast/Documents/my github/medium/code/datasets/data_4/cde.txt')]"
      ]
     },
     "execution_count": 10,
     "metadata": {},
     "output_type": "execute_result"
    }
   ],
   "source": [
    "# In current folder - way 1\n",
    "[path for path in my_path.iterdir() if path.is_file()]"
   ]
  },
  {
   "cell_type": "code",
   "execution_count": 11,
   "metadata": {},
   "outputs": [
    {
     "data": {
      "text/plain": [
       "[PosixPath('/home/pawjast/Documents/my github/medium/code/datasets/data_4/hi.md'),\n",
       " PosixPath('/home/pawjast/Documents/my github/medium/code/datasets/data_4/data1.csv'),\n",
       " PosixPath('/home/pawjast/Documents/my github/medium/code/datasets/data_4/data2.csv'),\n",
       " PosixPath('/home/pawjast/Documents/my github/medium/code/datasets/data_4/abc.txt'),\n",
       " PosixPath('/home/pawjast/Documents/my github/medium/code/datasets/data_4/cde.txt')]"
      ]
     },
     "execution_count": 11,
     "metadata": {},
     "output_type": "execute_result"
    }
   ],
   "source": [
    "# In current folder - way 2\n",
    "[path for path in my_path.glob(\"*\") if path.is_file()]"
   ]
  },
  {
   "cell_type": "code",
   "execution_count": 12,
   "metadata": {},
   "outputs": [
    {
     "data": {
      "text/plain": [
       "[PosixPath('/home/pawjast/Documents/my github/medium/code/datasets/data_4/hi.md'),\n",
       " PosixPath('/home/pawjast/Documents/my github/medium/code/datasets/data_4/data1.csv'),\n",
       " PosixPath('/home/pawjast/Documents/my github/medium/code/datasets/data_4/data2.csv'),\n",
       " PosixPath('/home/pawjast/Documents/my github/medium/code/datasets/data_4/abc.txt'),\n",
       " PosixPath('/home/pawjast/Documents/my github/medium/code/datasets/data_4/cde.txt'),\n",
       " PosixPath('/home/pawjast/Documents/my github/medium/code/datasets/data_4/more_data/abc.csv'),\n",
       " PosixPath('/home/pawjast/Documents/my github/medium/code/datasets/data_4/more_data/whatshere.md'),\n",
       " PosixPath('/home/pawjast/Documents/my github/medium/code/datasets/data_4/more_data/hello.html'),\n",
       " PosixPath('/home/pawjast/Documents/my github/medium/code/datasets/data_4/more_data/yyy.txt'),\n",
       " PosixPath('/home/pawjast/Documents/my github/medium/code/datasets/data_4/more_data/data3.csv'),\n",
       " PosixPath('/home/pawjast/Documents/my github/medium/code/datasets/data_4/more_data/xxx.txt'),\n",
       " PosixPath('/home/pawjast/Documents/my github/medium/code/datasets/data_4/more_data/go_deeper/abcd.py'),\n",
       " PosixPath('/home/pawjast/Documents/my github/medium/code/datasets/data_4/more_data/go_deeper/surprise.csv')]"
      ]
     },
     "execution_count": 12,
     "metadata": {},
     "output_type": "execute_result"
    }
   ],
   "source": [
    "# In current folder and sub directories\n",
    "[path for path in my_path.rglob(\"*\") if path.is_file()]"
   ]
  },
  {
   "cell_type": "markdown",
   "metadata": {},
   "source": [
    "### List all directories only"
   ]
  },
  {
   "cell_type": "code",
   "execution_count": 13,
   "metadata": {},
   "outputs": [
    {
     "data": {
      "text/plain": [
       "[PosixPath('/home/pawjast/Documents/my github/medium/code/datasets/data_4/more_data'),\n",
       " PosixPath('/home/pawjast/Documents/my github/medium/code/datasets/data_4/temp')]"
      ]
     },
     "execution_count": 13,
     "metadata": {},
     "output_type": "execute_result"
    }
   ],
   "source": [
    "# In current folder - way 1\n",
    "[path for path in my_path.iterdir() if path.is_dir()]"
   ]
  },
  {
   "cell_type": "code",
   "execution_count": 14,
   "metadata": {},
   "outputs": [
    {
     "data": {
      "text/plain": [
       "[PosixPath('/home/pawjast/Documents/my github/medium/code/datasets/data_4/more_data'),\n",
       " PosixPath('/home/pawjast/Documents/my github/medium/code/datasets/data_4/temp')]"
      ]
     },
     "execution_count": 14,
     "metadata": {},
     "output_type": "execute_result"
    }
   ],
   "source": [
    "# In current folder - way 2\n",
    "[path for path in my_path.glob(\"*\") if path.is_dir()]"
   ]
  },
  {
   "cell_type": "code",
   "execution_count": 15,
   "metadata": {},
   "outputs": [
    {
     "data": {
      "text/plain": [
       "[PosixPath('/home/pawjast/Documents/my github/medium/code/datasets/data_4/more_data'),\n",
       " PosixPath('/home/pawjast/Documents/my github/medium/code/datasets/data_4/temp'),\n",
       " PosixPath('/home/pawjast/Documents/my github/medium/code/datasets/data_4/more_data/go_deeper'),\n",
       " PosixPath('/home/pawjast/Documents/my github/medium/code/datasets/data_4/temp/dead_end')]"
      ]
     },
     "execution_count": 15,
     "metadata": {},
     "output_type": "execute_result"
    }
   ],
   "source": [
    "# In current folder and sub directories\n",
    "[path for path in my_path.rglob(\"*\") if path.is_dir()]"
   ]
  },
  {
   "cell_type": "code",
   "execution_count": 16,
   "metadata": {},
   "outputs": [
    {
     "data": {
      "text/plain": [
       "[PosixPath('/home/pawjast/Documents/my github/medium/code/datasets/data_4/more_data'),\n",
       " PosixPath('/home/pawjast/Documents/my github/medium/code/datasets/data_4/more_data/go_deeper'),\n",
       " PosixPath('/home/pawjast/Documents/my github/medium/code/datasets/data_4/temp'),\n",
       " PosixPath('/home/pawjast/Documents/my github/medium/code/datasets/data_4/temp/dead_end')]"
      ]
     },
     "execution_count": 16,
     "metadata": {},
     "output_type": "execute_result"
    }
   ],
   "source": [
    "sorted([path for path in my_path.rglob(\"*\") if path.is_dir()])"
   ]
  },
  {
   "cell_type": "markdown",
   "metadata": {},
   "source": [
    "### List specific file extensions only\n",
    "\n",
    "**Note:** this works both for `glob` and `rglob()`"
   ]
  },
  {
   "cell_type": "code",
   "execution_count": 17,
   "metadata": {},
   "outputs": [
    {
     "data": {
      "text/plain": [
       "[PosixPath('/home/pawjast/Documents/my github/medium/code/datasets/data_4/abc.txt'),\n",
       " PosixPath('/home/pawjast/Documents/my github/medium/code/datasets/data_4/cde.txt')]"
      ]
     },
     "execution_count": 17,
     "metadata": {},
     "output_type": "execute_result"
    }
   ],
   "source": [
    "list(my_path.glob(\"*.txt\"))"
   ]
  },
  {
   "cell_type": "code",
   "execution_count": 18,
   "metadata": {},
   "outputs": [
    {
     "data": {
      "text/plain": [
       "[PosixPath('/home/pawjast/Documents/my github/medium/code/datasets/data_4/data1.csv'),\n",
       " PosixPath('/home/pawjast/Documents/my github/medium/code/datasets/data_4/data2.csv'),\n",
       " PosixPath('/home/pawjast/Documents/my github/medium/code/datasets/data_4/more_data/abc.csv'),\n",
       " PosixPath('/home/pawjast/Documents/my github/medium/code/datasets/data_4/more_data/data3.csv'),\n",
       " PosixPath('/home/pawjast/Documents/my github/medium/code/datasets/data_4/more_data/go_deeper/surprise.csv')]"
      ]
     },
     "execution_count": 18,
     "metadata": {},
     "output_type": "execute_result"
    }
   ],
   "source": [
    "list(my_path.rglob(\"*.csv\"))"
   ]
  },
  {
   "cell_type": "markdown",
   "metadata": {},
   "source": [
    "### List files that match pattern"
   ]
  },
  {
   "cell_type": "code",
   "execution_count": 19,
   "metadata": {},
   "outputs": [
    {
     "data": {
      "text/plain": [
       "[PosixPath('/home/pawjast/Documents/my github/medium/code/datasets/data_4/abc.txt'),\n",
       " PosixPath('/home/pawjast/Documents/my github/medium/code/datasets/data_4/more_data/abc.csv'),\n",
       " PosixPath('/home/pawjast/Documents/my github/medium/code/datasets/data_4/more_data/go_deeper/abcd.py')]"
      ]
     },
     "execution_count": 19,
     "metadata": {},
     "output_type": "execute_result"
    }
   ],
   "source": [
    "list(my_path.rglob(\"*abc*\"))"
   ]
  },
  {
   "cell_type": "markdown",
   "metadata": {},
   "source": [
    "## Single path methods "
   ]
  },
  {
   "cell_type": "markdown",
   "metadata": {},
   "source": [
    "### For a file"
   ]
  },
  {
   "cell_type": "code",
   "execution_count": 20,
   "metadata": {},
   "outputs": [
    {
     "data": {
      "text/plain": [
       "PosixPath('/home/pawjast/Documents/my github/medium/code/datasets/data_4/hi.md')"
      ]
     },
     "execution_count": 20,
     "metadata": {},
     "output_type": "execute_result"
    }
   ],
   "source": [
    "single_path = [path for path in my_path.iterdir()][1]\n",
    "single_path"
   ]
  },
  {
   "cell_type": "code",
   "execution_count": 21,
   "metadata": {},
   "outputs": [
    {
     "data": {
      "text/plain": [
       "'hi.md'"
      ]
     },
     "execution_count": 21,
     "metadata": {},
     "output_type": "execute_result"
    }
   ],
   "source": [
    "single_path.name"
   ]
  },
  {
   "cell_type": "code",
   "execution_count": 22,
   "metadata": {},
   "outputs": [
    {
     "data": {
      "text/plain": [
       "'hi'"
      ]
     },
     "execution_count": 22,
     "metadata": {},
     "output_type": "execute_result"
    }
   ],
   "source": [
    "single_path.stem"
   ]
  },
  {
   "cell_type": "code",
   "execution_count": 23,
   "metadata": {},
   "outputs": [
    {
     "data": {
      "text/plain": [
       "'.md'"
      ]
     },
     "execution_count": 23,
     "metadata": {},
     "output_type": "execute_result"
    }
   ],
   "source": [
    "single_path.suffix"
   ]
  },
  {
   "cell_type": "code",
   "execution_count": 24,
   "metadata": {},
   "outputs": [
    {
     "data": {
      "text/plain": [
       "PosixPath('/home/pawjast/Documents/my github/medium/code/datasets/data_4')"
      ]
     },
     "execution_count": 24,
     "metadata": {},
     "output_type": "execute_result"
    }
   ],
   "source": [
    "single_path.parent"
   ]
  },
  {
   "cell_type": "code",
   "execution_count": 25,
   "metadata": {},
   "outputs": [
    {
     "data": {
      "text/plain": [
       "('/',\n",
       " 'home',\n",
       " 'pawjast',\n",
       " 'Documents',\n",
       " 'my github',\n",
       " 'medium',\n",
       " 'code',\n",
       " 'datasets',\n",
       " 'data_4',\n",
       " 'hi.md')"
      ]
     },
     "execution_count": 25,
     "metadata": {},
     "output_type": "execute_result"
    }
   ],
   "source": [
    "single_path.parts"
   ]
  }
 ],
 "metadata": {
  "kernelspec": {
   "display_name": "venv_maps",
   "language": "python",
   "name": "python3"
  },
  "language_info": {
   "codemirror_mode": {
    "name": "ipython",
    "version": 3
   },
   "file_extension": ".py",
   "mimetype": "text/x-python",
   "name": "python",
   "nbconvert_exporter": "python",
   "pygments_lexer": "ipython3",
   "version": "3.11.6"
  }
 },
 "nbformat": 4,
 "nbformat_minor": 2
}
