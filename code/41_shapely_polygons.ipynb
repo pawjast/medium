{
 "cells": [
  {
   "cell_type": "markdown",
   "metadata": {},
   "source": [
    "# Shapely `Polygons`"
   ]
  },
  {
   "cell_type": "markdown",
   "metadata": {},
   "source": [
    "## Imports"
   ]
  },
  {
   "cell_type": "code",
   "execution_count": 1,
   "metadata": {},
   "outputs": [],
   "source": [
    "from shapely import Polygon"
   ]
  },
  {
   "cell_type": "markdown",
   "metadata": {},
   "source": [
    "## Simple Polygon"
   ]
  },
  {
   "cell_type": "code",
   "execution_count": 2,
   "metadata": {},
   "outputs": [],
   "source": [
    "coords = [\n",
    "    [0, 0], [10, 0], [10, 6], [0, 6]\n",
    "]\n",
    "\n",
    "pol = Polygon(coords)"
   ]
  },
  {
   "cell_type": "code",
   "execution_count": 3,
   "metadata": {},
   "outputs": [
    {
     "data": {
      "image/svg+xml": [
       "<svg xmlns=\"http://www.w3.org/2000/svg\" xmlns:xlink=\"http://www.w3.org/1999/xlink\" width=\"100.0\" height=\"100.0\" viewBox=\"-0.4 -0.4 10.8 6.800000000000001\" preserveAspectRatio=\"xMinYMin meet\"><g transform=\"matrix(1,0,0,-1,0,6.0)\"><path fill-rule=\"evenodd\" fill=\"#66cc99\" stroke=\"#555555\" stroke-width=\"0.21600000000000003\" opacity=\"0.6\" d=\"M 0.0,0.0 L 10.0,0.0 L 10.0,6.0 L 0.0,6.0 L 0.0,0.0 z\" /></g></svg>"
      ],
      "text/plain": [
       "<POLYGON ((0 0, 10 0, 10 6, 0 6, 0 0))>"
      ]
     },
     "execution_count": 3,
     "metadata": {},
     "output_type": "execute_result"
    }
   ],
   "source": [
    "pol"
   ]
  },
  {
   "cell_type": "markdown",
   "metadata": {},
   "source": [
    "### Check if polygon is valid"
   ]
  },
  {
   "cell_type": "code",
   "execution_count": 4,
   "metadata": {},
   "outputs": [
    {
     "data": {
      "text/plain": [
       "True"
      ]
     },
     "execution_count": 4,
     "metadata": {},
     "output_type": "execute_result"
    }
   ],
   "source": [
    "pol.is_valid"
   ]
  },
  {
   "cell_type": "markdown",
   "metadata": {},
   "source": [
    "### Polygon's length"
   ]
  },
  {
   "cell_type": "code",
   "execution_count": 5,
   "metadata": {},
   "outputs": [
    {
     "data": {
      "text/plain": [
       "32.0"
      ]
     },
     "execution_count": 5,
     "metadata": {},
     "output_type": "execute_result"
    }
   ],
   "source": [
    "pol.length"
   ]
  },
  {
   "cell_type": "markdown",
   "metadata": {},
   "source": [
    "### Polygon's area"
   ]
  },
  {
   "cell_type": "code",
   "execution_count": 6,
   "metadata": {},
   "outputs": [
    {
     "data": {
      "text/plain": [
       "60.0"
      ]
     },
     "execution_count": 6,
     "metadata": {},
     "output_type": "execute_result"
    }
   ],
   "source": [
    "pol.area"
   ]
  },
  {
   "cell_type": "markdown",
   "metadata": {},
   "source": [
    "## Invalid Polygon with crossing lines"
   ]
  },
  {
   "cell_type": "code",
   "execution_count": 7,
   "metadata": {},
   "outputs": [],
   "source": [
    "coords = [\n",
    "    [0, 0], [10, 6], [10, 0], [0, 6]\n",
    "]\n",
    "\n",
    "pol = Polygon(coords)"
   ]
  },
  {
   "cell_type": "code",
   "execution_count": 8,
   "metadata": {},
   "outputs": [
    {
     "data": {
      "image/svg+xml": [
       "<svg xmlns=\"http://www.w3.org/2000/svg\" xmlns:xlink=\"http://www.w3.org/1999/xlink\" width=\"100.0\" height=\"100.0\" viewBox=\"-0.4 -0.4 10.8 6.800000000000001\" preserveAspectRatio=\"xMinYMin meet\"><g transform=\"matrix(1,0,0,-1,0,6.0)\"><path fill-rule=\"evenodd\" fill=\"#ff3333\" stroke=\"#555555\" stroke-width=\"0.21600000000000003\" opacity=\"0.6\" d=\"M 0.0,0.0 L 10.0,6.0 L 10.0,0.0 L 0.0,6.0 L 0.0,0.0 z\" /></g></svg>"
      ],
      "text/plain": [
       "<POLYGON ((0 0, 10 6, 10 0, 0 6, 0 0))>"
      ]
     },
     "execution_count": 8,
     "metadata": {},
     "output_type": "execute_result"
    }
   ],
   "source": [
    "pol"
   ]
  },
  {
   "cell_type": "code",
   "execution_count": 9,
   "metadata": {},
   "outputs": [
    {
     "data": {
      "text/plain": [
       "False"
      ]
     },
     "execution_count": 9,
     "metadata": {},
     "output_type": "execute_result"
    }
   ],
   "source": [
    "pol.is_valid"
   ]
  },
  {
   "cell_type": "code",
   "execution_count": 10,
   "metadata": {},
   "outputs": [
    {
     "data": {
      "text/plain": [
       "35.3238075793812"
      ]
     },
     "execution_count": 10,
     "metadata": {},
     "output_type": "execute_result"
    }
   ],
   "source": [
    "pol.length  # In this case it calculated correctly"
   ]
  },
  {
   "cell_type": "code",
   "execution_count": 11,
   "metadata": {},
   "outputs": [
    {
     "data": {
      "text/plain": [
       "0.0"
      ]
     },
     "execution_count": 11,
     "metadata": {},
     "output_type": "execute_result"
    }
   ],
   "source": [
    "pol.area  # wrong"
   ]
  },
  {
   "cell_type": "markdown",
   "metadata": {},
   "source": [
    "## Polygon with a hole"
   ]
  },
  {
   "cell_type": "code",
   "execution_count": 12,
   "metadata": {},
   "outputs": [],
   "source": [
    "coords = [\n",
    "    [0, 0], [10, 0], [10, 6], [0, 6]\n",
    "]\n",
    "hole = [\n",
    "    [1, 1], [3, 1], [3, 4], [1, 4]\n",
    "]\n",
    "\n",
    "pol = Polygon(\n",
    "    shell=coords,\n",
    "    holes=[hole]\n",
    ")"
   ]
  },
  {
   "cell_type": "code",
   "execution_count": 13,
   "metadata": {},
   "outputs": [
    {
     "data": {
      "image/svg+xml": [
       "<svg xmlns=\"http://www.w3.org/2000/svg\" xmlns:xlink=\"http://www.w3.org/1999/xlink\" width=\"100.0\" height=\"100.0\" viewBox=\"-0.4 -0.4 10.8 6.800000000000001\" preserveAspectRatio=\"xMinYMin meet\"><g transform=\"matrix(1,0,0,-1,0,6.0)\"><path fill-rule=\"evenodd\" fill=\"#66cc99\" stroke=\"#555555\" stroke-width=\"0.21600000000000003\" opacity=\"0.6\" d=\"M 0.0,0.0 L 10.0,0.0 L 10.0,6.0 L 0.0,6.0 L 0.0,0.0 z M 1.0,1.0 L 3.0,1.0 L 3.0,4.0 L 1.0,4.0 L 1.0,1.0 z\" /></g></svg>"
      ],
      "text/plain": [
       "<POLYGON ((0 0, 10 0, 10 6, 0 6, 0 0), (1 1, 3 1, 3 4, 1 4, 1 1))>"
      ]
     },
     "execution_count": 13,
     "metadata": {},
     "output_type": "execute_result"
    }
   ],
   "source": [
    "pol"
   ]
  },
  {
   "cell_type": "markdown",
   "metadata": {},
   "source": [
    "### Polygon's length\n",
    "\n",
    "* Length has increased as now we're counting the exterior and the interior"
   ]
  },
  {
   "cell_type": "code",
   "execution_count": 14,
   "metadata": {},
   "outputs": [
    {
     "data": {
      "text/plain": [
       "42.0"
      ]
     },
     "execution_count": 14,
     "metadata": {},
     "output_type": "execute_result"
    }
   ],
   "source": [
    "pol.length"
   ]
  },
  {
   "cell_type": "markdown",
   "metadata": {},
   "source": [
    "### Polygon's area\n",
    "\n",
    "* Area has decreased as we've got a hole :)"
   ]
  },
  {
   "cell_type": "code",
   "execution_count": 15,
   "metadata": {},
   "outputs": [
    {
     "data": {
      "text/plain": [
       "54.0"
      ]
     },
     "execution_count": 15,
     "metadata": {},
     "output_type": "execute_result"
    }
   ],
   "source": [
    "pol.area"
   ]
  },
  {
   "cell_type": "markdown",
   "metadata": {},
   "source": [
    "## Polygon with a hole touching boundary\n",
    "\n",
    "* one touch point is OK"
   ]
  },
  {
   "cell_type": "code",
   "execution_count": 16,
   "metadata": {},
   "outputs": [],
   "source": [
    "coords = [\n",
    "    [0, 0], [10, 0], [10, 6], [0, 6]\n",
    "]\n",
    "hole = [\n",
    "    [0, 1], [3, 1], [3, 4], [1, 4]\n",
    "]\n",
    "\n",
    "pol = Polygon(\n",
    "    shell=coords,\n",
    "    holes=[hole]\n",
    ")"
   ]
  },
  {
   "cell_type": "code",
   "execution_count": 17,
   "metadata": {},
   "outputs": [
    {
     "data": {
      "image/svg+xml": [
       "<svg xmlns=\"http://www.w3.org/2000/svg\" xmlns:xlink=\"http://www.w3.org/1999/xlink\" width=\"100.0\" height=\"100.0\" viewBox=\"-0.4 -0.4 10.8 6.800000000000001\" preserveAspectRatio=\"xMinYMin meet\"><g transform=\"matrix(1,0,0,-1,0,6.0)\"><path fill-rule=\"evenodd\" fill=\"#66cc99\" stroke=\"#555555\" stroke-width=\"0.21600000000000003\" opacity=\"0.6\" d=\"M 0.0,0.0 L 10.0,0.0 L 10.0,6.0 L 0.0,6.0 L 0.0,0.0 z M 0.0,1.0 L 3.0,1.0 L 3.0,4.0 L 1.0,4.0 L 0.0,1.0 z\" /></g></svg>"
      ],
      "text/plain": [
       "<POLYGON ((0 0, 10 0, 10 6, 0 6, 0 0), (0 1, 3 1, 3 4, 1 4, 0 1))>"
      ]
     },
     "execution_count": 17,
     "metadata": {},
     "output_type": "execute_result"
    }
   ],
   "source": [
    "pol"
   ]
  },
  {
   "cell_type": "code",
   "execution_count": 18,
   "metadata": {},
   "outputs": [
    {
     "data": {
      "text/plain": [
       "True"
      ]
     },
     "execution_count": 18,
     "metadata": {},
     "output_type": "execute_result"
    }
   ],
   "source": [
    "pol.is_valid"
   ]
  },
  {
   "cell_type": "markdown",
   "metadata": {},
   "source": [
    "## Polygon with with a hole touching boundary in two places"
   ]
  },
  {
   "cell_type": "code",
   "execution_count": 19,
   "metadata": {},
   "outputs": [],
   "source": [
    "coords = [\n",
    "    [0, 0], [10, 0], [10, 6], [0, 6]\n",
    "]\n",
    "hole = [\n",
    "    [0, 1], [3, 0], [3, 4], [1, 4]\n",
    "]\n",
    "\n",
    "pol = Polygon(\n",
    "    shell=coords,\n",
    "    holes=[hole]\n",
    ")"
   ]
  },
  {
   "cell_type": "code",
   "execution_count": 20,
   "metadata": {},
   "outputs": [
    {
     "data": {
      "image/svg+xml": [
       "<svg xmlns=\"http://www.w3.org/2000/svg\" xmlns:xlink=\"http://www.w3.org/1999/xlink\" width=\"100.0\" height=\"100.0\" viewBox=\"-0.4 -0.4 10.8 6.800000000000001\" preserveAspectRatio=\"xMinYMin meet\"><g transform=\"matrix(1,0,0,-1,0,6.0)\"><path fill-rule=\"evenodd\" fill=\"#ff3333\" stroke=\"#555555\" stroke-width=\"0.21600000000000003\" opacity=\"0.6\" d=\"M 0.0,0.0 L 10.0,0.0 L 10.0,6.0 L 0.0,6.0 L 0.0,0.0 z M 0.0,1.0 L 3.0,0.0 L 3.0,4.0 L 1.0,4.0 L 0.0,1.0 z\" /></g></svg>"
      ],
      "text/plain": [
       "<POLYGON ((0 0, 10 0, 10 6, 0 6, 0 0), (0 1, 3 0, 3 4, 1 4, 0 1))>"
      ]
     },
     "execution_count": 20,
     "metadata": {},
     "output_type": "execute_result"
    }
   ],
   "source": [
    "pol"
   ]
  },
  {
   "cell_type": "code",
   "execution_count": 21,
   "metadata": {},
   "outputs": [
    {
     "data": {
      "text/plain": [
       "False"
      ]
     },
     "execution_count": 21,
     "metadata": {},
     "output_type": "execute_result"
    }
   ],
   "source": [
    "pol.is_valid"
   ]
  },
  {
   "cell_type": "markdown",
   "metadata": {},
   "source": [
    "## Polygon with multiple holes"
   ]
  },
  {
   "cell_type": "code",
   "execution_count": 22,
   "metadata": {},
   "outputs": [],
   "source": [
    "coords = [\n",
    "    [0, 0], [10, 0], [10, 6], [0, 6]\n",
    "]\n",
    "hole = [\n",
    "    [1, 1], [3, 1], [3, 4], [1, 4]\n",
    "]\n",
    "hole2 = [\n",
    "    [5, 2], [9, 2], [9, 5], [5, 5]\n",
    "]\n",
    "\n",
    "pol = Polygon(\n",
    "    shell=coords,\n",
    "    holes=[hole, hole2]\n",
    ")"
   ]
  },
  {
   "cell_type": "code",
   "execution_count": 23,
   "metadata": {},
   "outputs": [
    {
     "data": {
      "image/svg+xml": [
       "<svg xmlns=\"http://www.w3.org/2000/svg\" xmlns:xlink=\"http://www.w3.org/1999/xlink\" width=\"100.0\" height=\"100.0\" viewBox=\"-0.4 -0.4 10.8 6.800000000000001\" preserveAspectRatio=\"xMinYMin meet\"><g transform=\"matrix(1,0,0,-1,0,6.0)\"><path fill-rule=\"evenodd\" fill=\"#66cc99\" stroke=\"#555555\" stroke-width=\"0.21600000000000003\" opacity=\"0.6\" d=\"M 0.0,0.0 L 10.0,0.0 L 10.0,6.0 L 0.0,6.0 L 0.0,0.0 z M 1.0,1.0 L 3.0,1.0 L 3.0,4.0 L 1.0,4.0 L 1.0,1.0 z M 5.0,2.0 L 9.0,2.0 L 9.0,5.0 L 5.0,5.0 L 5.0,2.0 z\" /></g></svg>"
      ],
      "text/plain": [
       "<POLYGON ((0 0, 10 0, 10 6, 0 6, 0 0), (1 1, 3 1, 3 4, 1 4, 1 1), (5 2, 9 2,...>"
      ]
     },
     "execution_count": 23,
     "metadata": {},
     "output_type": "execute_result"
    }
   ],
   "source": [
    "pol"
   ]
  },
  {
   "cell_type": "markdown",
   "metadata": {},
   "source": [
    "## Polygon with holes touching each other\n",
    "\n",
    "* One touch point is OK"
   ]
  },
  {
   "cell_type": "code",
   "execution_count": 24,
   "metadata": {},
   "outputs": [],
   "source": [
    "coords = [\n",
    "    [0, 0], [10, 0], [10, 6], [0, 6]\n",
    "]\n",
    "hole = [\n",
    "    [1, 1], [3, 1], [4, 4], [1, 4]\n",
    "]\n",
    "hole2 = [\n",
    "    [4, 4], [9, 2], [9, 5], [5, 5]\n",
    "]\n",
    "\n",
    "pol = Polygon(\n",
    "    shell=coords,\n",
    "    holes=[hole, hole2]\n",
    ")"
   ]
  },
  {
   "cell_type": "code",
   "execution_count": 25,
   "metadata": {},
   "outputs": [
    {
     "data": {
      "image/svg+xml": [
       "<svg xmlns=\"http://www.w3.org/2000/svg\" xmlns:xlink=\"http://www.w3.org/1999/xlink\" width=\"100.0\" height=\"100.0\" viewBox=\"-0.4 -0.4 10.8 6.800000000000001\" preserveAspectRatio=\"xMinYMin meet\"><g transform=\"matrix(1,0,0,-1,0,6.0)\"><path fill-rule=\"evenodd\" fill=\"#66cc99\" stroke=\"#555555\" stroke-width=\"0.21600000000000003\" opacity=\"0.6\" d=\"M 0.0,0.0 L 10.0,0.0 L 10.0,6.0 L 0.0,6.0 L 0.0,0.0 z M 1.0,1.0 L 3.0,1.0 L 4.0,4.0 L 1.0,4.0 L 1.0,1.0 z M 4.0,4.0 L 9.0,2.0 L 9.0,5.0 L 5.0,5.0 L 4.0,4.0 z\" /></g></svg>"
      ],
      "text/plain": [
       "<POLYGON ((0 0, 10 0, 10 6, 0 6, 0 0), (1 1, 3 1, 4 4, 1 4, 1 1), (4 4, 9 2,...>"
      ]
     },
     "execution_count": 25,
     "metadata": {},
     "output_type": "execute_result"
    }
   ],
   "source": [
    "pol"
   ]
  },
  {
   "cell_type": "code",
   "execution_count": 26,
   "metadata": {},
   "outputs": [
    {
     "data": {
      "text/plain": [
       "True"
      ]
     },
     "execution_count": 26,
     "metadata": {},
     "output_type": "execute_result"
    }
   ],
   "source": [
    "pol.is_valid"
   ]
  },
  {
   "cell_type": "markdown",
   "metadata": {},
   "source": [
    "### More than one touch point is invalid"
   ]
  },
  {
   "cell_type": "code",
   "execution_count": 27,
   "metadata": {},
   "outputs": [],
   "source": [
    "coords = [\n",
    "    [0, 0], [10, 0], [10, 6], [0, 6]\n",
    "]\n",
    "hole = [\n",
    "    [1, 1], [3, 1], [3, 4], [1, 4]\n",
    "]\n",
    "hole2 = [\n",
    "    [3, 1], [9, 2], [9, 5], [3, 4], [5, 3]\n",
    "]\n",
    "\n",
    "pol = Polygon(\n",
    "    shell=coords,\n",
    "    holes=[hole, hole2]\n",
    ")"
   ]
  },
  {
   "cell_type": "code",
   "execution_count": 28,
   "metadata": {},
   "outputs": [
    {
     "data": {
      "image/svg+xml": [
       "<svg xmlns=\"http://www.w3.org/2000/svg\" xmlns:xlink=\"http://www.w3.org/1999/xlink\" width=\"100.0\" height=\"100.0\" viewBox=\"-0.4 -0.4 10.8 6.800000000000001\" preserveAspectRatio=\"xMinYMin meet\"><g transform=\"matrix(1,0,0,-1,0,6.0)\"><path fill-rule=\"evenodd\" fill=\"#ff3333\" stroke=\"#555555\" stroke-width=\"0.21600000000000003\" opacity=\"0.6\" d=\"M 0.0,0.0 L 10.0,0.0 L 10.0,6.0 L 0.0,6.0 L 0.0,0.0 z M 1.0,1.0 L 3.0,1.0 L 3.0,4.0 L 1.0,4.0 L 1.0,1.0 z M 3.0,1.0 L 9.0,2.0 L 9.0,5.0 L 3.0,4.0 L 5.0,3.0 L 3.0,1.0 z\" /></g></svg>"
      ],
      "text/plain": [
       "<POLYGON ((0 0, 10 0, 10 6, 0 6, 0 0), (1 1, 3 1, 3 4, 1 4, 1 1), (3 1, 9 2,...>"
      ]
     },
     "execution_count": 28,
     "metadata": {},
     "output_type": "execute_result"
    }
   ],
   "source": [
    "pol"
   ]
  },
  {
   "cell_type": "markdown",
   "metadata": {},
   "source": [
    "### More examples"
   ]
  },
  {
   "cell_type": "code",
   "execution_count": 29,
   "metadata": {},
   "outputs": [],
   "source": [
    "coords = [\n",
    "    [0, 0], [10, 0], [10, 6], [0, 6]\n",
    "]\n",
    "hole = [\n",
    "    [1, 1], [3, 1], [4, 4], [1, 4]\n",
    "]\n",
    "hole2 = [\n",
    "    [4, 4], [9, 2], [9, 5], [5, 5]\n",
    "]\n",
    "hole3 = [\n",
    "    [3, 1], [9, 2], [9, 1]\n",
    "]\n",
    "\n",
    "\n",
    "pol = Polygon(\n",
    "    shell=coords,\n",
    "    holes=[hole, hole2, hole3]\n",
    ")"
   ]
  },
  {
   "cell_type": "code",
   "execution_count": 30,
   "metadata": {},
   "outputs": [
    {
     "data": {
      "image/svg+xml": [
       "<svg xmlns=\"http://www.w3.org/2000/svg\" xmlns:xlink=\"http://www.w3.org/1999/xlink\" width=\"100.0\" height=\"100.0\" viewBox=\"-0.4 -0.4 10.8 6.800000000000001\" preserveAspectRatio=\"xMinYMin meet\"><g transform=\"matrix(1,0,0,-1,0,6.0)\"><path fill-rule=\"evenodd\" fill=\"#ff3333\" stroke=\"#555555\" stroke-width=\"0.21600000000000003\" opacity=\"0.6\" d=\"M 0.0,0.0 L 10.0,0.0 L 10.0,6.0 L 0.0,6.0 L 0.0,0.0 z M 1.0,1.0 L 3.0,1.0 L 4.0,4.0 L 1.0,4.0 L 1.0,1.0 z M 4.0,4.0 L 9.0,2.0 L 9.0,5.0 L 5.0,5.0 L 4.0,4.0 z M 3.0,1.0 L 9.0,2.0 L 9.0,1.0 L 3.0,1.0 z\" /></g></svg>"
      ],
      "text/plain": [
       "<POLYGON ((0 0, 10 0, 10 6, 0 6, 0 0), (1 1, 3 1, 4 4, 1 4, 1 1), (4 4, 9 2,...>"
      ]
     },
     "execution_count": 30,
     "metadata": {},
     "output_type": "execute_result"
    }
   ],
   "source": [
    "pol"
   ]
  },
  {
   "cell_type": "markdown",
   "metadata": {},
   "source": [
    "## Polygon with holes touching each other and touching border"
   ]
  },
  {
   "cell_type": "code",
   "execution_count": 31,
   "metadata": {},
   "outputs": [],
   "source": [
    "coords = [\n",
    "    [0, 0], [10, 0], [10, 6], [0, 6]\n",
    "]\n",
    "hole = [\n",
    "    [1, 1], [3, 1], [4, 4], [0, 4]\n",
    "]\n",
    "hole2 = [\n",
    "    [5, 2], [9, 2], [9, 6], [5, 5]\n",
    "]\n",
    "\n",
    "pol = Polygon(\n",
    "    shell=coords,\n",
    "    holes=[hole, hole2]\n",
    ")"
   ]
  },
  {
   "cell_type": "code",
   "execution_count": 32,
   "metadata": {},
   "outputs": [
    {
     "data": {
      "image/svg+xml": [
       "<svg xmlns=\"http://www.w3.org/2000/svg\" xmlns:xlink=\"http://www.w3.org/1999/xlink\" width=\"100.0\" height=\"100.0\" viewBox=\"-0.4 -0.4 10.8 6.800000000000001\" preserveAspectRatio=\"xMinYMin meet\"><g transform=\"matrix(1,0,0,-1,0,6.0)\"><path fill-rule=\"evenodd\" fill=\"#66cc99\" stroke=\"#555555\" stroke-width=\"0.21600000000000003\" opacity=\"0.6\" d=\"M 0.0,0.0 L 10.0,0.0 L 10.0,6.0 L 0.0,6.0 L 0.0,0.0 z M 1.0,1.0 L 3.0,1.0 L 4.0,4.0 L 0.0,4.0 L 1.0,1.0 z M 5.0,2.0 L 9.0,2.0 L 9.0,6.0 L 5.0,5.0 L 5.0,2.0 z\" /></g></svg>"
      ],
      "text/plain": [
       "<POLYGON ((0 0, 10 0, 10 6, 0 6, 0 0), (1 1, 3 1, 4 4, 0 4, 1 1), (5 2, 9 2,...>"
      ]
     },
     "execution_count": 32,
     "metadata": {},
     "output_type": "execute_result"
    }
   ],
   "source": [
    "pol"
   ]
  },
  {
   "cell_type": "markdown",
   "metadata": {},
   "source": [
    "## More examples"
   ]
  },
  {
   "cell_type": "code",
   "execution_count": 33,
   "metadata": {},
   "outputs": [],
   "source": [
    "coords = [\n",
    "    [0, 0], [10, 0], [10, 6], [0, 6]\n",
    "]\n",
    "hole = [\n",
    "    [1, 1], [3, 1], [4, 4], [0, 4]\n",
    "]\n",
    "hole2 = [\n",
    "    [4, 4], [9, 2], [9, 6], [5, 5]\n",
    "]\n",
    "\n",
    "pol = Polygon(\n",
    "    shell=coords,\n",
    "    holes=[hole, hole2]\n",
    ")"
   ]
  },
  {
   "cell_type": "code",
   "execution_count": 34,
   "metadata": {},
   "outputs": [
    {
     "data": {
      "image/svg+xml": [
       "<svg xmlns=\"http://www.w3.org/2000/svg\" xmlns:xlink=\"http://www.w3.org/1999/xlink\" width=\"100.0\" height=\"100.0\" viewBox=\"-0.4 -0.4 10.8 6.800000000000001\" preserveAspectRatio=\"xMinYMin meet\"><g transform=\"matrix(1,0,0,-1,0,6.0)\"><path fill-rule=\"evenodd\" fill=\"#ff3333\" stroke=\"#555555\" stroke-width=\"0.21600000000000003\" opacity=\"0.6\" d=\"M 0.0,0.0 L 10.0,0.0 L 10.0,6.0 L 0.0,6.0 L 0.0,0.0 z M 1.0,1.0 L 3.0,1.0 L 4.0,4.0 L 0.0,4.0 L 1.0,1.0 z M 4.0,4.0 L 9.0,2.0 L 9.0,6.0 L 5.0,5.0 L 4.0,4.0 z\" /></g></svg>"
      ],
      "text/plain": [
       "<POLYGON ((0 0, 10 0, 10 6, 0 6, 0 0), (1 1, 3 1, 4 4, 0 4, 1 1), (4 4, 9 2,...>"
      ]
     },
     "execution_count": 34,
     "metadata": {},
     "output_type": "execute_result"
    }
   ],
   "source": [
    "pol"
   ]
  },
  {
   "cell_type": "markdown",
   "metadata": {},
   "source": [
    "## Area and length of holes and outer shape"
   ]
  },
  {
   "cell_type": "code",
   "execution_count": 35,
   "metadata": {},
   "outputs": [],
   "source": [
    "coords = [\n",
    "    [0, 0], [10, 0], [10, 6], [0, 6]\n",
    "]\n",
    "hole = [\n",
    "    [1, 1], [3, 1], [3, 4], [1, 4]\n",
    "]\n",
    "hole2 = [\n",
    "    [5, 2], [9, 2], [9, 5], [5, 5]\n",
    "]\n",
    "\n",
    "pol = Polygon(\n",
    "    shell=coords,\n",
    "    holes=[hole, hole2]\n",
    ")"
   ]
  },
  {
   "cell_type": "code",
   "execution_count": 36,
   "metadata": {},
   "outputs": [
    {
     "data": {
      "image/svg+xml": [
       "<svg xmlns=\"http://www.w3.org/2000/svg\" xmlns:xlink=\"http://www.w3.org/1999/xlink\" width=\"100.0\" height=\"100.0\" viewBox=\"-0.4 -0.4 10.8 6.800000000000001\" preserveAspectRatio=\"xMinYMin meet\"><g transform=\"matrix(1,0,0,-1,0,6.0)\"><path fill-rule=\"evenodd\" fill=\"#66cc99\" stroke=\"#555555\" stroke-width=\"0.21600000000000003\" opacity=\"0.6\" d=\"M 0.0,0.0 L 10.0,0.0 L 10.0,6.0 L 0.0,6.0 L 0.0,0.0 z M 1.0,1.0 L 3.0,1.0 L 3.0,4.0 L 1.0,4.0 L 1.0,1.0 z M 5.0,2.0 L 9.0,2.0 L 9.0,5.0 L 5.0,5.0 L 5.0,2.0 z\" /></g></svg>"
      ],
      "text/plain": [
       "<POLYGON ((0 0, 10 0, 10 6, 0 6, 0 0), (1 1, 3 1, 3 4, 1 4, 1 1), (5 2, 9 2,...>"
      ]
     },
     "execution_count": 36,
     "metadata": {},
     "output_type": "execute_result"
    }
   ],
   "source": [
    "pol"
   ]
  },
  {
   "cell_type": "markdown",
   "metadata": {},
   "source": [
    "### Getting area and lenght of the outer shape only"
   ]
  },
  {
   "cell_type": "code",
   "execution_count": 37,
   "metadata": {},
   "outputs": [
    {
     "data": {
      "image/svg+xml": [
       "<svg xmlns=\"http://www.w3.org/2000/svg\" xmlns:xlink=\"http://www.w3.org/1999/xlink\" width=\"100.0\" height=\"100.0\" viewBox=\"-0.4 -0.4 10.8 6.800000000000001\" preserveAspectRatio=\"xMinYMin meet\"><g transform=\"matrix(1,0,0,-1,0,6.0)\"><polyline fill=\"none\" stroke=\"#66cc99\" stroke-width=\"0.21600000000000003\" points=\"0.0,0.0 10.0,0.0 10.0,6.0 0.0,6.0 0.0,0.0\" opacity=\"0.8\" /></g></svg>"
      ],
      "text/plain": [
       "<LINEARRING (0 0, 10 0, 10 6, 0 6, 0 0)>"
      ]
     },
     "execution_count": 37,
     "metadata": {},
     "output_type": "execute_result"
    }
   ],
   "source": [
    "pol.exterior"
   ]
  },
  {
   "cell_type": "code",
   "execution_count": 38,
   "metadata": {},
   "outputs": [
    {
     "data": {
      "text/plain": [
       "shapely.geometry.polygon.LinearRing"
      ]
     },
     "execution_count": 38,
     "metadata": {},
     "output_type": "execute_result"
    }
   ],
   "source": [
    "type(pol.exterior)"
   ]
  },
  {
   "cell_type": "code",
   "execution_count": 39,
   "metadata": {},
   "outputs": [
    {
     "data": {
      "text/plain": [
       "0.0"
      ]
     },
     "execution_count": 39,
     "metadata": {},
     "output_type": "execute_result"
    }
   ],
   "source": [
    "pol.exterior.area"
   ]
  },
  {
   "cell_type": "code",
   "execution_count": 40,
   "metadata": {},
   "outputs": [
    {
     "data": {
      "text/plain": [
       "60.0"
      ]
     },
     "execution_count": 40,
     "metadata": {},
     "output_type": "execute_result"
    }
   ],
   "source": [
    "Polygon(pol.exterior).area"
   ]
  },
  {
   "cell_type": "markdown",
   "metadata": {},
   "source": [
    "### Getting indivdiual areas and lenghts of each hole"
   ]
  },
  {
   "cell_type": "code",
   "execution_count": 41,
   "metadata": {},
   "outputs": [
    {
     "data": {
      "text/plain": [
       "[<LINEARRING (1 1, 3 1, 3 4, 1 4, 1 1)>,\n",
       " <LINEARRING (5 2, 9 2, 9 5, 5 5, 5 2)>]"
      ]
     },
     "execution_count": 41,
     "metadata": {},
     "output_type": "execute_result"
    }
   ],
   "source": [
    "pol.interiors[:]"
   ]
  },
  {
   "cell_type": "code",
   "execution_count": 42,
   "metadata": {},
   "outputs": [
    {
     "name": "stdout",
     "output_type": "stream",
     "text": [
      "LINEARRING (1 1, 3 1, 3 4, 1 4, 1 1)\n",
      "Area: 6.0\n",
      "Length: 10.0\n",
      "\n",
      "\n",
      "LINEARRING (5 2, 9 2, 9 5, 5 5, 5 2)\n",
      "Area: 12.0\n",
      "Length: 14.0\n",
      "\n",
      "\n"
     ]
    }
   ],
   "source": [
    "for hole in pol.interiors[:]:\n",
    "    print(hole)\n",
    "    print(f\"Area: {Polygon(hole).area}\")\n",
    "    print(f\"Length: {hole.length}\")\n",
    "    print(\"\\n\")"
   ]
  }
 ],
 "metadata": {
  "kernelspec": {
   "display_name": "venv_medium",
   "language": "python",
   "name": "python3"
  },
  "language_info": {
   "codemirror_mode": {
    "name": "ipython",
    "version": 3
   },
   "file_extension": ".py",
   "mimetype": "text/x-python",
   "name": "python",
   "nbconvert_exporter": "python",
   "pygments_lexer": "ipython3",
   "version": "3.12.4"
  }
 },
 "nbformat": 4,
 "nbformat_minor": 2
}
