{
 "cells": [
  {
   "cell_type": "markdown",
   "metadata": {},
   "source": [
    "# Load multiple `csv` files with Pandas"
   ]
  },
  {
   "cell_type": "markdown",
   "metadata": {},
   "source": [
    "## Imports"
   ]
  },
  {
   "cell_type": "code",
   "execution_count": 1,
   "metadata": {},
   "outputs": [],
   "source": [
    "from pathlib import Path\n",
    "\n",
    "import pandas as pd"
   ]
  },
  {
   "cell_type": "markdown",
   "metadata": {},
   "source": [
    "## Get paths to all `.csv` files"
   ]
  },
  {
   "cell_type": "code",
   "execution_count": 2,
   "metadata": {},
   "outputs": [],
   "source": [
    "paths = Path(\"datasets/data_1\").glob(\"*.csv\")"
   ]
  },
  {
   "cell_type": "code",
   "execution_count": 3,
   "metadata": {},
   "outputs": [
    {
     "data": {
      "text/plain": [
       "<generator object Path.glob at 0x7df60559df10>"
      ]
     },
     "execution_count": 3,
     "metadata": {},
     "output_type": "execute_result"
    }
   ],
   "source": [
    "paths"
   ]
  },
  {
   "cell_type": "code",
   "execution_count": 4,
   "metadata": {},
   "outputs": [],
   "source": [
    "paths = list(paths)"
   ]
  },
  {
   "cell_type": "code",
   "execution_count": 5,
   "metadata": {},
   "outputs": [
    {
     "data": {
      "text/plain": [
       "[PosixPath('datasets/data_1/wk1.csv'),\n",
       " PosixPath('datasets/data_1/wk4.csv'),\n",
       " PosixPath('datasets/data_1/wk3.csv'),\n",
       " PosixPath('datasets/data_1/wk2.csv')]"
      ]
     },
     "execution_count": 5,
     "metadata": {},
     "output_type": "execute_result"
    }
   ],
   "source": [
    "paths"
   ]
  },
  {
   "cell_type": "markdown",
   "metadata": {},
   "source": [
    "## Read files"
   ]
  },
  {
   "cell_type": "code",
   "execution_count": 6,
   "metadata": {},
   "outputs": [],
   "source": [
    "temp = list()\n",
    "\n",
    "for path in paths:\n",
    "    temp_df = pd.read_csv(\n",
    "        filepath_or_buffer=path,\n",
    "        index_col=0,\n",
    "        parse_dates=[0],\n",
    "        dayfirst=True\n",
    "    )\n",
    "\n",
    "    temp.append(temp_df)"
   ]
  },
  {
   "cell_type": "code",
   "execution_count": 7,
   "metadata": {},
   "outputs": [
    {
     "data": {
      "text/plain": [
       "4"
      ]
     },
     "execution_count": 7,
     "metadata": {},
     "output_type": "execute_result"
    }
   ],
   "source": [
    "len(temp)"
   ]
  },
  {
   "cell_type": "markdown",
   "metadata": {},
   "source": [
    "### Preview 1st file"
   ]
  },
  {
   "cell_type": "code",
   "execution_count": 8,
   "metadata": {},
   "outputs": [
    {
     "data": {
      "text/html": [
       "<div>\n",
       "<style scoped>\n",
       "    .dataframe tbody tr th:only-of-type {\n",
       "        vertical-align: middle;\n",
       "    }\n",
       "\n",
       "    .dataframe tbody tr th {\n",
       "        vertical-align: top;\n",
       "    }\n",
       "\n",
       "    .dataframe thead th {\n",
       "        text-align: right;\n",
       "    }\n",
       "</style>\n",
       "<table border=\"1\" class=\"dataframe\">\n",
       "  <thead>\n",
       "    <tr style=\"text-align: right;\">\n",
       "      <th></th>\n",
       "      <th>ebook_download</th>\n",
       "      <th>course_purchase</th>\n",
       "      <th>newsletter_signup</th>\n",
       "    </tr>\n",
       "    <tr>\n",
       "      <th>Date</th>\n",
       "      <th></th>\n",
       "      <th></th>\n",
       "      <th></th>\n",
       "    </tr>\n",
       "  </thead>\n",
       "  <tbody>\n",
       "    <tr>\n",
       "      <th>2024-03-04 12:00:00</th>\n",
       "      <td>19</td>\n",
       "      <td>11</td>\n",
       "      <td>9</td>\n",
       "    </tr>\n",
       "    <tr>\n",
       "      <th>2024-03-05 12:00:00</th>\n",
       "      <td>11</td>\n",
       "      <td>8</td>\n",
       "      <td>5</td>\n",
       "    </tr>\n",
       "    <tr>\n",
       "      <th>2024-03-06 12:00:00</th>\n",
       "      <td>12</td>\n",
       "      <td>9</td>\n",
       "      <td>4</td>\n",
       "    </tr>\n",
       "    <tr>\n",
       "      <th>2024-03-07 12:00:00</th>\n",
       "      <td>6</td>\n",
       "      <td>14</td>\n",
       "      <td>18</td>\n",
       "    </tr>\n",
       "    <tr>\n",
       "      <th>2024-03-08 12:00:00</th>\n",
       "      <td>18</td>\n",
       "      <td>2</td>\n",
       "      <td>12</td>\n",
       "    </tr>\n",
       "  </tbody>\n",
       "</table>\n",
       "</div>"
      ],
      "text/plain": [
       "                     ebook_download  course_purchase  newsletter_signup\n",
       "Date                                                                   \n",
       "2024-03-04 12:00:00              19               11                  9\n",
       "2024-03-05 12:00:00              11                8                  5\n",
       "2024-03-06 12:00:00              12                9                  4\n",
       "2024-03-07 12:00:00               6               14                 18\n",
       "2024-03-08 12:00:00              18                2                 12"
      ]
     },
     "execution_count": 8,
     "metadata": {},
     "output_type": "execute_result"
    }
   ],
   "source": [
    "temp[0]"
   ]
  },
  {
   "cell_type": "markdown",
   "metadata": {},
   "source": [
    "## Merge files into one `DataFrame`"
   ]
  },
  {
   "cell_type": "code",
   "execution_count": 9,
   "metadata": {},
   "outputs": [],
   "source": [
    "df = pd.concat(\n",
    "    temp,\n",
    "    axis=0\n",
    ")"
   ]
  },
  {
   "cell_type": "code",
   "execution_count": 10,
   "metadata": {},
   "outputs": [
    {
     "data": {
      "text/plain": [
       "Index(['ebook_download', 'course_purchase', 'newsletter_signup'], dtype='object')"
      ]
     },
     "execution_count": 10,
     "metadata": {},
     "output_type": "execute_result"
    }
   ],
   "source": [
    "df.columns"
   ]
  },
  {
   "cell_type": "code",
   "execution_count": 11,
   "metadata": {},
   "outputs": [
    {
     "data": {
      "text/html": [
       "<div>\n",
       "<style scoped>\n",
       "    .dataframe tbody tr th:only-of-type {\n",
       "        vertical-align: middle;\n",
       "    }\n",
       "\n",
       "    .dataframe tbody tr th {\n",
       "        vertical-align: top;\n",
       "    }\n",
       "\n",
       "    .dataframe thead th {\n",
       "        text-align: right;\n",
       "    }\n",
       "</style>\n",
       "<table border=\"1\" class=\"dataframe\">\n",
       "  <thead>\n",
       "    <tr style=\"text-align: right;\">\n",
       "      <th></th>\n",
       "      <th>ebook_download</th>\n",
       "      <th>course_purchase</th>\n",
       "      <th>newsletter_signup</th>\n",
       "    </tr>\n",
       "    <tr>\n",
       "      <th>Date</th>\n",
       "      <th></th>\n",
       "      <th></th>\n",
       "      <th></th>\n",
       "    </tr>\n",
       "  </thead>\n",
       "  <tbody>\n",
       "    <tr>\n",
       "      <th>2024-03-04 12:00:00</th>\n",
       "      <td>19</td>\n",
       "      <td>11</td>\n",
       "      <td>9</td>\n",
       "    </tr>\n",
       "    <tr>\n",
       "      <th>2024-03-05 12:00:00</th>\n",
       "      <td>11</td>\n",
       "      <td>8</td>\n",
       "      <td>5</td>\n",
       "    </tr>\n",
       "    <tr>\n",
       "      <th>2024-03-06 12:00:00</th>\n",
       "      <td>12</td>\n",
       "      <td>9</td>\n",
       "      <td>4</td>\n",
       "    </tr>\n",
       "    <tr>\n",
       "      <th>2024-03-07 12:00:00</th>\n",
       "      <td>6</td>\n",
       "      <td>14</td>\n",
       "      <td>18</td>\n",
       "    </tr>\n",
       "    <tr>\n",
       "      <th>2024-03-08 12:00:00</th>\n",
       "      <td>18</td>\n",
       "      <td>2</td>\n",
       "      <td>12</td>\n",
       "    </tr>\n",
       "    <tr>\n",
       "      <th>2024-03-25 12:00:00</th>\n",
       "      <td>17</td>\n",
       "      <td>19</td>\n",
       "      <td>5</td>\n",
       "    </tr>\n",
       "    <tr>\n",
       "      <th>2024-03-26 12:00:00</th>\n",
       "      <td>5</td>\n",
       "      <td>19</td>\n",
       "      <td>2</td>\n",
       "    </tr>\n",
       "    <tr>\n",
       "      <th>2024-03-27 12:00:00</th>\n",
       "      <td>13</td>\n",
       "      <td>3</td>\n",
       "      <td>6</td>\n",
       "    </tr>\n",
       "    <tr>\n",
       "      <th>2024-03-28 12:00:00</th>\n",
       "      <td>16</td>\n",
       "      <td>14</td>\n",
       "      <td>18</td>\n",
       "    </tr>\n",
       "    <tr>\n",
       "      <th>2024-03-29 12:00:00</th>\n",
       "      <td>2</td>\n",
       "      <td>12</td>\n",
       "      <td>12</td>\n",
       "    </tr>\n",
       "    <tr>\n",
       "      <th>2024-03-18 12:00:00</th>\n",
       "      <td>18</td>\n",
       "      <td>12</td>\n",
       "      <td>16</td>\n",
       "    </tr>\n",
       "    <tr>\n",
       "      <th>2024-03-19 12:00:00</th>\n",
       "      <td>16</td>\n",
       "      <td>2</td>\n",
       "      <td>15</td>\n",
       "    </tr>\n",
       "    <tr>\n",
       "      <th>2024-03-20 12:00:00</th>\n",
       "      <td>6</td>\n",
       "      <td>7</td>\n",
       "      <td>20</td>\n",
       "    </tr>\n",
       "    <tr>\n",
       "      <th>2024-03-21 12:00:00</th>\n",
       "      <td>6</td>\n",
       "      <td>20</td>\n",
       "      <td>3</td>\n",
       "    </tr>\n",
       "    <tr>\n",
       "      <th>2024-03-22 12:00:00</th>\n",
       "      <td>17</td>\n",
       "      <td>1</td>\n",
       "      <td>15</td>\n",
       "    </tr>\n",
       "    <tr>\n",
       "      <th>2024-03-11 12:00:00</th>\n",
       "      <td>13</td>\n",
       "      <td>19</td>\n",
       "      <td>7</td>\n",
       "    </tr>\n",
       "    <tr>\n",
       "      <th>2024-03-12 12:00:00</th>\n",
       "      <td>16</td>\n",
       "      <td>14</td>\n",
       "      <td>5</td>\n",
       "    </tr>\n",
       "    <tr>\n",
       "      <th>2024-03-13 12:00:00</th>\n",
       "      <td>17</td>\n",
       "      <td>20</td>\n",
       "      <td>15</td>\n",
       "    </tr>\n",
       "    <tr>\n",
       "      <th>2024-03-14 12:00:00</th>\n",
       "      <td>12</td>\n",
       "      <td>8</td>\n",
       "      <td>2</td>\n",
       "    </tr>\n",
       "    <tr>\n",
       "      <th>2024-03-15 12:00:00</th>\n",
       "      <td>20</td>\n",
       "      <td>1</td>\n",
       "      <td>4</td>\n",
       "    </tr>\n",
       "  </tbody>\n",
       "</table>\n",
       "</div>"
      ],
      "text/plain": [
       "                     ebook_download  course_purchase  newsletter_signup\n",
       "Date                                                                   \n",
       "2024-03-04 12:00:00              19               11                  9\n",
       "2024-03-05 12:00:00              11                8                  5\n",
       "2024-03-06 12:00:00              12                9                  4\n",
       "2024-03-07 12:00:00               6               14                 18\n",
       "2024-03-08 12:00:00              18                2                 12\n",
       "2024-03-25 12:00:00              17               19                  5\n",
       "2024-03-26 12:00:00               5               19                  2\n",
       "2024-03-27 12:00:00              13                3                  6\n",
       "2024-03-28 12:00:00              16               14                 18\n",
       "2024-03-29 12:00:00               2               12                 12\n",
       "2024-03-18 12:00:00              18               12                 16\n",
       "2024-03-19 12:00:00              16                2                 15\n",
       "2024-03-20 12:00:00               6                7                 20\n",
       "2024-03-21 12:00:00               6               20                  3\n",
       "2024-03-22 12:00:00              17                1                 15\n",
       "2024-03-11 12:00:00              13               19                  7\n",
       "2024-03-12 12:00:00              16               14                  5\n",
       "2024-03-13 12:00:00              17               20                 15\n",
       "2024-03-14 12:00:00              12                8                  2\n",
       "2024-03-15 12:00:00              20                1                  4"
      ]
     },
     "execution_count": 11,
     "metadata": {},
     "output_type": "execute_result"
    }
   ],
   "source": [
    "df"
   ]
  },
  {
   "cell_type": "markdown",
   "metadata": {},
   "source": [
    "## Add *source* columns"
   ]
  },
  {
   "cell_type": "markdown",
   "metadata": {},
   "source": [
    "### Use `Path` object method to get a file name"
   ]
  },
  {
   "cell_type": "code",
   "execution_count": 12,
   "metadata": {},
   "outputs": [
    {
     "data": {
      "text/plain": [
       "[PosixPath('datasets/data_1/wk1.csv'),\n",
       " PosixPath('datasets/data_1/wk4.csv'),\n",
       " PosixPath('datasets/data_1/wk3.csv'),\n",
       " PosixPath('datasets/data_1/wk2.csv')]"
      ]
     },
     "execution_count": 12,
     "metadata": {},
     "output_type": "execute_result"
    }
   ],
   "source": [
    "paths"
   ]
  },
  {
   "cell_type": "code",
   "execution_count": 13,
   "metadata": {},
   "outputs": [
    {
     "data": {
      "text/plain": [
       "PosixPath('datasets/data_1/wk1.csv')"
      ]
     },
     "execution_count": 13,
     "metadata": {},
     "output_type": "execute_result"
    }
   ],
   "source": [
    "paths[0]"
   ]
  },
  {
   "cell_type": "code",
   "execution_count": 14,
   "metadata": {},
   "outputs": [
    {
     "data": {
      "text/plain": [
       "'wk1.csv'"
      ]
     },
     "execution_count": 14,
     "metadata": {},
     "output_type": "execute_result"
    }
   ],
   "source": [
    "paths[0].name"
   ]
  },
  {
   "cell_type": "markdown",
   "metadata": {},
   "source": [
    "### Read and merge data"
   ]
  },
  {
   "cell_type": "code",
   "execution_count": 15,
   "metadata": {},
   "outputs": [
    {
     "data": {
      "text/html": [
       "<div>\n",
       "<style scoped>\n",
       "    .dataframe tbody tr th:only-of-type {\n",
       "        vertical-align: middle;\n",
       "    }\n",
       "\n",
       "    .dataframe tbody tr th {\n",
       "        vertical-align: top;\n",
       "    }\n",
       "\n",
       "    .dataframe thead th {\n",
       "        text-align: right;\n",
       "    }\n",
       "</style>\n",
       "<table border=\"1\" class=\"dataframe\">\n",
       "  <thead>\n",
       "    <tr style=\"text-align: right;\">\n",
       "      <th></th>\n",
       "      <th>ebook_download</th>\n",
       "      <th>course_purchase</th>\n",
       "      <th>newsletter_signup</th>\n",
       "      <th>source</th>\n",
       "    </tr>\n",
       "    <tr>\n",
       "      <th>Date</th>\n",
       "      <th></th>\n",
       "      <th></th>\n",
       "      <th></th>\n",
       "      <th></th>\n",
       "    </tr>\n",
       "  </thead>\n",
       "  <tbody>\n",
       "    <tr>\n",
       "      <th>2024-03-04 12:00:00</th>\n",
       "      <td>19</td>\n",
       "      <td>11</td>\n",
       "      <td>9</td>\n",
       "      <td>wk1.csv</td>\n",
       "    </tr>\n",
       "    <tr>\n",
       "      <th>2024-03-05 12:00:00</th>\n",
       "      <td>11</td>\n",
       "      <td>8</td>\n",
       "      <td>5</td>\n",
       "      <td>wk1.csv</td>\n",
       "    </tr>\n",
       "    <tr>\n",
       "      <th>2024-03-06 12:00:00</th>\n",
       "      <td>12</td>\n",
       "      <td>9</td>\n",
       "      <td>4</td>\n",
       "      <td>wk1.csv</td>\n",
       "    </tr>\n",
       "    <tr>\n",
       "      <th>2024-03-07 12:00:00</th>\n",
       "      <td>6</td>\n",
       "      <td>14</td>\n",
       "      <td>18</td>\n",
       "      <td>wk1.csv</td>\n",
       "    </tr>\n",
       "    <tr>\n",
       "      <th>2024-03-08 12:00:00</th>\n",
       "      <td>18</td>\n",
       "      <td>2</td>\n",
       "      <td>12</td>\n",
       "      <td>wk1.csv</td>\n",
       "    </tr>\n",
       "    <tr>\n",
       "      <th>2024-03-25 12:00:00</th>\n",
       "      <td>17</td>\n",
       "      <td>19</td>\n",
       "      <td>5</td>\n",
       "      <td>wk4.csv</td>\n",
       "    </tr>\n",
       "    <tr>\n",
       "      <th>2024-03-26 12:00:00</th>\n",
       "      <td>5</td>\n",
       "      <td>19</td>\n",
       "      <td>2</td>\n",
       "      <td>wk4.csv</td>\n",
       "    </tr>\n",
       "    <tr>\n",
       "      <th>2024-03-27 12:00:00</th>\n",
       "      <td>13</td>\n",
       "      <td>3</td>\n",
       "      <td>6</td>\n",
       "      <td>wk4.csv</td>\n",
       "    </tr>\n",
       "    <tr>\n",
       "      <th>2024-03-28 12:00:00</th>\n",
       "      <td>16</td>\n",
       "      <td>14</td>\n",
       "      <td>18</td>\n",
       "      <td>wk4.csv</td>\n",
       "    </tr>\n",
       "    <tr>\n",
       "      <th>2024-03-29 12:00:00</th>\n",
       "      <td>2</td>\n",
       "      <td>12</td>\n",
       "      <td>12</td>\n",
       "      <td>wk4.csv</td>\n",
       "    </tr>\n",
       "    <tr>\n",
       "      <th>2024-03-18 12:00:00</th>\n",
       "      <td>18</td>\n",
       "      <td>12</td>\n",
       "      <td>16</td>\n",
       "      <td>wk3.csv</td>\n",
       "    </tr>\n",
       "    <tr>\n",
       "      <th>2024-03-19 12:00:00</th>\n",
       "      <td>16</td>\n",
       "      <td>2</td>\n",
       "      <td>15</td>\n",
       "      <td>wk3.csv</td>\n",
       "    </tr>\n",
       "    <tr>\n",
       "      <th>2024-03-20 12:00:00</th>\n",
       "      <td>6</td>\n",
       "      <td>7</td>\n",
       "      <td>20</td>\n",
       "      <td>wk3.csv</td>\n",
       "    </tr>\n",
       "    <tr>\n",
       "      <th>2024-03-21 12:00:00</th>\n",
       "      <td>6</td>\n",
       "      <td>20</td>\n",
       "      <td>3</td>\n",
       "      <td>wk3.csv</td>\n",
       "    </tr>\n",
       "    <tr>\n",
       "      <th>2024-03-22 12:00:00</th>\n",
       "      <td>17</td>\n",
       "      <td>1</td>\n",
       "      <td>15</td>\n",
       "      <td>wk3.csv</td>\n",
       "    </tr>\n",
       "    <tr>\n",
       "      <th>2024-03-11 12:00:00</th>\n",
       "      <td>13</td>\n",
       "      <td>19</td>\n",
       "      <td>7</td>\n",
       "      <td>wk2.csv</td>\n",
       "    </tr>\n",
       "    <tr>\n",
       "      <th>2024-03-12 12:00:00</th>\n",
       "      <td>16</td>\n",
       "      <td>14</td>\n",
       "      <td>5</td>\n",
       "      <td>wk2.csv</td>\n",
       "    </tr>\n",
       "    <tr>\n",
       "      <th>2024-03-13 12:00:00</th>\n",
       "      <td>17</td>\n",
       "      <td>20</td>\n",
       "      <td>15</td>\n",
       "      <td>wk2.csv</td>\n",
       "    </tr>\n",
       "    <tr>\n",
       "      <th>2024-03-14 12:00:00</th>\n",
       "      <td>12</td>\n",
       "      <td>8</td>\n",
       "      <td>2</td>\n",
       "      <td>wk2.csv</td>\n",
       "    </tr>\n",
       "    <tr>\n",
       "      <th>2024-03-15 12:00:00</th>\n",
       "      <td>20</td>\n",
       "      <td>1</td>\n",
       "      <td>4</td>\n",
       "      <td>wk2.csv</td>\n",
       "    </tr>\n",
       "  </tbody>\n",
       "</table>\n",
       "</div>"
      ],
      "text/plain": [
       "                     ebook_download  course_purchase  newsletter_signup  \\\n",
       "Date                                                                      \n",
       "2024-03-04 12:00:00              19               11                  9   \n",
       "2024-03-05 12:00:00              11                8                  5   \n",
       "2024-03-06 12:00:00              12                9                  4   \n",
       "2024-03-07 12:00:00               6               14                 18   \n",
       "2024-03-08 12:00:00              18                2                 12   \n",
       "2024-03-25 12:00:00              17               19                  5   \n",
       "2024-03-26 12:00:00               5               19                  2   \n",
       "2024-03-27 12:00:00              13                3                  6   \n",
       "2024-03-28 12:00:00              16               14                 18   \n",
       "2024-03-29 12:00:00               2               12                 12   \n",
       "2024-03-18 12:00:00              18               12                 16   \n",
       "2024-03-19 12:00:00              16                2                 15   \n",
       "2024-03-20 12:00:00               6                7                 20   \n",
       "2024-03-21 12:00:00               6               20                  3   \n",
       "2024-03-22 12:00:00              17                1                 15   \n",
       "2024-03-11 12:00:00              13               19                  7   \n",
       "2024-03-12 12:00:00              16               14                  5   \n",
       "2024-03-13 12:00:00              17               20                 15   \n",
       "2024-03-14 12:00:00              12                8                  2   \n",
       "2024-03-15 12:00:00              20                1                  4   \n",
       "\n",
       "                      source  \n",
       "Date                          \n",
       "2024-03-04 12:00:00  wk1.csv  \n",
       "2024-03-05 12:00:00  wk1.csv  \n",
       "2024-03-06 12:00:00  wk1.csv  \n",
       "2024-03-07 12:00:00  wk1.csv  \n",
       "2024-03-08 12:00:00  wk1.csv  \n",
       "2024-03-25 12:00:00  wk4.csv  \n",
       "2024-03-26 12:00:00  wk4.csv  \n",
       "2024-03-27 12:00:00  wk4.csv  \n",
       "2024-03-28 12:00:00  wk4.csv  \n",
       "2024-03-29 12:00:00  wk4.csv  \n",
       "2024-03-18 12:00:00  wk3.csv  \n",
       "2024-03-19 12:00:00  wk3.csv  \n",
       "2024-03-20 12:00:00  wk3.csv  \n",
       "2024-03-21 12:00:00  wk3.csv  \n",
       "2024-03-22 12:00:00  wk3.csv  \n",
       "2024-03-11 12:00:00  wk2.csv  \n",
       "2024-03-12 12:00:00  wk2.csv  \n",
       "2024-03-13 12:00:00  wk2.csv  \n",
       "2024-03-14 12:00:00  wk2.csv  \n",
       "2024-03-15 12:00:00  wk2.csv  "
      ]
     },
     "execution_count": 15,
     "metadata": {},
     "output_type": "execute_result"
    }
   ],
   "source": [
    "temp = list()\n",
    "\n",
    "# read files\n",
    "for path in paths:\n",
    "    temp_df = pd.read_csv(\n",
    "        filepath_or_buffer=path,\n",
    "        index_col=0,\n",
    "        parse_dates=[0],\n",
    "        dayfirst=True\n",
    "    )\n",
    "\n",
    "    # Add source column\n",
    "    temp_df[\"source\"] = path.name\n",
    "\n",
    "    temp.append(temp_df)\n",
    "\n",
    "# merge files\n",
    "df = pd.concat(\n",
    "    temp,\n",
    "    axis=0\n",
    ")\n",
    "\n",
    "# print output\n",
    "df"
   ]
  },
  {
   "cell_type": "markdown",
   "metadata": {},
   "source": [
    "## Control column names"
   ]
  },
  {
   "cell_type": "markdown",
   "metadata": {},
   "source": [
    "### Use 2nd dataset"
   ]
  },
  {
   "cell_type": "code",
   "execution_count": 16,
   "metadata": {},
   "outputs": [
    {
     "data": {
      "text/plain": [
       "[PosixPath('datasets/data_2/wk1.csv'), PosixPath('datasets/data_2/wk2.csv')]"
      ]
     },
     "execution_count": 16,
     "metadata": {},
     "output_type": "execute_result"
    }
   ],
   "source": [
    "paths = Path(\"datasets/data_2\").glob(\"*.csv\")\n",
    "paths = list(paths)\n",
    "paths"
   ]
  },
  {
   "cell_type": "markdown",
   "metadata": {},
   "source": [
    "### Read and merge data *\"as is\"*"
   ]
  },
  {
   "cell_type": "code",
   "execution_count": 17,
   "metadata": {},
   "outputs": [
    {
     "data": {
      "text/html": [
       "<div>\n",
       "<style scoped>\n",
       "    .dataframe tbody tr th:only-of-type {\n",
       "        vertical-align: middle;\n",
       "    }\n",
       "\n",
       "    .dataframe tbody tr th {\n",
       "        vertical-align: top;\n",
       "    }\n",
       "\n",
       "    .dataframe thead th {\n",
       "        text-align: right;\n",
       "    }\n",
       "</style>\n",
       "<table border=\"1\" class=\"dataframe\">\n",
       "  <thead>\n",
       "    <tr style=\"text-align: right;\">\n",
       "      <th></th>\n",
       "      <th>ebook_download</th>\n",
       "      <th>course_purchase</th>\n",
       "      <th>newsletter_signup</th>\n",
       "      <th>source</th>\n",
       "      <th>ebook_downloads</th>\n",
       "    </tr>\n",
       "    <tr>\n",
       "      <th>Date</th>\n",
       "      <th></th>\n",
       "      <th></th>\n",
       "      <th></th>\n",
       "      <th></th>\n",
       "      <th></th>\n",
       "    </tr>\n",
       "  </thead>\n",
       "  <tbody>\n",
       "    <tr>\n",
       "      <th>2024-02-05 12:00:00</th>\n",
       "      <td>16.0</td>\n",
       "      <td>11</td>\n",
       "      <td>5</td>\n",
       "      <td>wk1.csv</td>\n",
       "      <td>NaN</td>\n",
       "    </tr>\n",
       "    <tr>\n",
       "      <th>2024-02-06 12:00:00</th>\n",
       "      <td>13.0</td>\n",
       "      <td>16</td>\n",
       "      <td>9</td>\n",
       "      <td>wk1.csv</td>\n",
       "      <td>NaN</td>\n",
       "    </tr>\n",
       "    <tr>\n",
       "      <th>2024-02-07 12:00:00</th>\n",
       "      <td>16.0</td>\n",
       "      <td>7</td>\n",
       "      <td>4</td>\n",
       "      <td>wk1.csv</td>\n",
       "      <td>NaN</td>\n",
       "    </tr>\n",
       "    <tr>\n",
       "      <th>2024-02-08 12:00:00</th>\n",
       "      <td>13.0</td>\n",
       "      <td>8</td>\n",
       "      <td>14</td>\n",
       "      <td>wk1.csv</td>\n",
       "      <td>NaN</td>\n",
       "    </tr>\n",
       "    <tr>\n",
       "      <th>2024-02-09 12:00:00</th>\n",
       "      <td>4.0</td>\n",
       "      <td>11</td>\n",
       "      <td>17</td>\n",
       "      <td>wk1.csv</td>\n",
       "      <td>NaN</td>\n",
       "    </tr>\n",
       "    <tr>\n",
       "      <th>2024-02-12 12:00:00</th>\n",
       "      <td>NaN</td>\n",
       "      <td>7</td>\n",
       "      <td>16</td>\n",
       "      <td>wk2.csv</td>\n",
       "      <td>10.0</td>\n",
       "    </tr>\n",
       "    <tr>\n",
       "      <th>2024-02-13 12:00:00</th>\n",
       "      <td>NaN</td>\n",
       "      <td>17</td>\n",
       "      <td>3</td>\n",
       "      <td>wk2.csv</td>\n",
       "      <td>15.0</td>\n",
       "    </tr>\n",
       "    <tr>\n",
       "      <th>2024-02-14 12:00:00</th>\n",
       "      <td>NaN</td>\n",
       "      <td>8</td>\n",
       "      <td>8</td>\n",
       "      <td>wk2.csv</td>\n",
       "      <td>1.0</td>\n",
       "    </tr>\n",
       "    <tr>\n",
       "      <th>2024-02-15 12:00:00</th>\n",
       "      <td>NaN</td>\n",
       "      <td>17</td>\n",
       "      <td>5</td>\n",
       "      <td>wk2.csv</td>\n",
       "      <td>11.0</td>\n",
       "    </tr>\n",
       "    <tr>\n",
       "      <th>2024-02-16 12:00:00</th>\n",
       "      <td>NaN</td>\n",
       "      <td>8</td>\n",
       "      <td>1</td>\n",
       "      <td>wk2.csv</td>\n",
       "      <td>17.0</td>\n",
       "    </tr>\n",
       "  </tbody>\n",
       "</table>\n",
       "</div>"
      ],
      "text/plain": [
       "                     ebook_download  course_purchase  newsletter_signup  \\\n",
       "Date                                                                      \n",
       "2024-02-05 12:00:00            16.0               11                  5   \n",
       "2024-02-06 12:00:00            13.0               16                  9   \n",
       "2024-02-07 12:00:00            16.0                7                  4   \n",
       "2024-02-08 12:00:00            13.0                8                 14   \n",
       "2024-02-09 12:00:00             4.0               11                 17   \n",
       "2024-02-12 12:00:00             NaN                7                 16   \n",
       "2024-02-13 12:00:00             NaN               17                  3   \n",
       "2024-02-14 12:00:00             NaN                8                  8   \n",
       "2024-02-15 12:00:00             NaN               17                  5   \n",
       "2024-02-16 12:00:00             NaN                8                  1   \n",
       "\n",
       "                      source  ebook_downloads  \n",
       "Date                                           \n",
       "2024-02-05 12:00:00  wk1.csv              NaN  \n",
       "2024-02-06 12:00:00  wk1.csv              NaN  \n",
       "2024-02-07 12:00:00  wk1.csv              NaN  \n",
       "2024-02-08 12:00:00  wk1.csv              NaN  \n",
       "2024-02-09 12:00:00  wk1.csv              NaN  \n",
       "2024-02-12 12:00:00  wk2.csv             10.0  \n",
       "2024-02-13 12:00:00  wk2.csv             15.0  \n",
       "2024-02-14 12:00:00  wk2.csv              1.0  \n",
       "2024-02-15 12:00:00  wk2.csv             11.0  \n",
       "2024-02-16 12:00:00  wk2.csv             17.0  "
      ]
     },
     "execution_count": 17,
     "metadata": {},
     "output_type": "execute_result"
    }
   ],
   "source": [
    "temp = list()\n",
    "\n",
    "# read files\n",
    "for path in paths:\n",
    "    temp_df = pd.read_csv(\n",
    "        filepath_or_buffer=path,\n",
    "        index_col=0,\n",
    "        parse_dates=[0],\n",
    "        dayfirst=True\n",
    "    )\n",
    "\n",
    "    # Add source column\n",
    "    temp_df[\"source\"] = path.name\n",
    "\n",
    "    temp.append(temp_df)\n",
    "\n",
    "# merge files\n",
    "df = pd.concat(\n",
    "    temp,\n",
    "    axis=0\n",
    ")\n",
    "\n",
    "# print output\n",
    "df"
   ]
  },
  {
   "cell_type": "markdown",
   "metadata": {},
   "source": [
    "### Read and merge data using common column names"
   ]
  },
  {
   "cell_type": "code",
   "execution_count": 18,
   "metadata": {},
   "outputs": [
    {
     "data": {
      "text/html": [
       "<div>\n",
       "<style scoped>\n",
       "    .dataframe tbody tr th:only-of-type {\n",
       "        vertical-align: middle;\n",
       "    }\n",
       "\n",
       "    .dataframe tbody tr th {\n",
       "        vertical-align: top;\n",
       "    }\n",
       "\n",
       "    .dataframe thead th {\n",
       "        text-align: right;\n",
       "    }\n",
       "</style>\n",
       "<table border=\"1\" class=\"dataframe\">\n",
       "  <thead>\n",
       "    <tr style=\"text-align: right;\">\n",
       "      <th></th>\n",
       "      <th>ebooks</th>\n",
       "      <th>courses</th>\n",
       "      <th>newsletters</th>\n",
       "      <th>source</th>\n",
       "    </tr>\n",
       "    <tr>\n",
       "      <th>dates</th>\n",
       "      <th></th>\n",
       "      <th></th>\n",
       "      <th></th>\n",
       "      <th></th>\n",
       "    </tr>\n",
       "  </thead>\n",
       "  <tbody>\n",
       "    <tr>\n",
       "      <th>2024-02-05 12:00:00</th>\n",
       "      <td>16</td>\n",
       "      <td>11</td>\n",
       "      <td>5</td>\n",
       "      <td>wk1.csv</td>\n",
       "    </tr>\n",
       "    <tr>\n",
       "      <th>2024-02-06 12:00:00</th>\n",
       "      <td>13</td>\n",
       "      <td>16</td>\n",
       "      <td>9</td>\n",
       "      <td>wk1.csv</td>\n",
       "    </tr>\n",
       "    <tr>\n",
       "      <th>2024-02-07 12:00:00</th>\n",
       "      <td>16</td>\n",
       "      <td>7</td>\n",
       "      <td>4</td>\n",
       "      <td>wk1.csv</td>\n",
       "    </tr>\n",
       "    <tr>\n",
       "      <th>2024-02-08 12:00:00</th>\n",
       "      <td>13</td>\n",
       "      <td>8</td>\n",
       "      <td>14</td>\n",
       "      <td>wk1.csv</td>\n",
       "    </tr>\n",
       "    <tr>\n",
       "      <th>2024-02-09 12:00:00</th>\n",
       "      <td>4</td>\n",
       "      <td>11</td>\n",
       "      <td>17</td>\n",
       "      <td>wk1.csv</td>\n",
       "    </tr>\n",
       "    <tr>\n",
       "      <th>2024-02-12 12:00:00</th>\n",
       "      <td>10</td>\n",
       "      <td>7</td>\n",
       "      <td>16</td>\n",
       "      <td>wk2.csv</td>\n",
       "    </tr>\n",
       "    <tr>\n",
       "      <th>2024-02-13 12:00:00</th>\n",
       "      <td>15</td>\n",
       "      <td>17</td>\n",
       "      <td>3</td>\n",
       "      <td>wk2.csv</td>\n",
       "    </tr>\n",
       "    <tr>\n",
       "      <th>2024-02-14 12:00:00</th>\n",
       "      <td>1</td>\n",
       "      <td>8</td>\n",
       "      <td>8</td>\n",
       "      <td>wk2.csv</td>\n",
       "    </tr>\n",
       "    <tr>\n",
       "      <th>2024-02-15 12:00:00</th>\n",
       "      <td>11</td>\n",
       "      <td>17</td>\n",
       "      <td>5</td>\n",
       "      <td>wk2.csv</td>\n",
       "    </tr>\n",
       "    <tr>\n",
       "      <th>2024-02-16 12:00:00</th>\n",
       "      <td>17</td>\n",
       "      <td>8</td>\n",
       "      <td>1</td>\n",
       "      <td>wk2.csv</td>\n",
       "    </tr>\n",
       "  </tbody>\n",
       "</table>\n",
       "</div>"
      ],
      "text/plain": [
       "                     ebooks  courses  newsletters   source\n",
       "dates                                                     \n",
       "2024-02-05 12:00:00      16       11            5  wk1.csv\n",
       "2024-02-06 12:00:00      13       16            9  wk1.csv\n",
       "2024-02-07 12:00:00      16        7            4  wk1.csv\n",
       "2024-02-08 12:00:00      13        8           14  wk1.csv\n",
       "2024-02-09 12:00:00       4       11           17  wk1.csv\n",
       "2024-02-12 12:00:00      10        7           16  wk2.csv\n",
       "2024-02-13 12:00:00      15       17            3  wk2.csv\n",
       "2024-02-14 12:00:00       1        8            8  wk2.csv\n",
       "2024-02-15 12:00:00      11       17            5  wk2.csv\n",
       "2024-02-16 12:00:00      17        8            1  wk2.csv"
      ]
     },
     "execution_count": 18,
     "metadata": {},
     "output_type": "execute_result"
    }
   ],
   "source": [
    "temp = list()\n",
    "\n",
    "# read files\n",
    "for path in paths:\n",
    "    temp_df = pd.read_csv(\n",
    "        filepath_or_buffer=path,\n",
    "        index_col=0,\n",
    "        parse_dates=[0],\n",
    "        dayfirst=True,\n",
    "        names=[\"dates\", \"ebooks\", \"courses\", \"newsletters\"],\n",
    "        header=0\n",
    "    )\n",
    "\n",
    "    # Add source column\n",
    "    temp_df[\"source\"] = path.name\n",
    "\n",
    "    temp.append(temp_df)\n",
    "\n",
    "# merge files\n",
    "df = pd.concat(\n",
    "    temp,\n",
    "    axis=0\n",
    ")\n",
    "\n",
    "# print output\n",
    "df"
   ]
  },
  {
   "cell_type": "markdown",
   "metadata": {},
   "source": [
    "## Read data from folders and subfolders"
   ]
  },
  {
   "cell_type": "markdown",
   "metadata": {},
   "source": [
    "### Use 3rd dataset"
   ]
  },
  {
   "cell_type": "code",
   "execution_count": 19,
   "metadata": {},
   "outputs": [
    {
     "data": {
      "text/plain": [
       "PosixPath('datasets/data_3')"
      ]
     },
     "execution_count": 19,
     "metadata": {},
     "output_type": "execute_result"
    }
   ],
   "source": [
    "paths = Path(\"datasets/data_3\")\n",
    "paths"
   ]
  },
  {
   "cell_type": "code",
   "execution_count": 20,
   "metadata": {},
   "outputs": [
    {
     "data": {
      "text/plain": [
       "<generator object Path.rglob at 0x7df5bf389e00>"
      ]
     },
     "execution_count": 20,
     "metadata": {},
     "output_type": "execute_result"
    }
   ],
   "source": [
    "paths.rglob(\"*\")"
   ]
  },
  {
   "cell_type": "code",
   "execution_count": 21,
   "metadata": {},
   "outputs": [
    {
     "data": {
      "text/plain": [
       "[PosixPath('datasets/data_3/more_data'),\n",
       " PosixPath('datasets/data_3/wk1.csv'),\n",
       " PosixPath('datasets/data_3/wk4.csv'),\n",
       " PosixPath('datasets/data_3/wk3.csv'),\n",
       " PosixPath('datasets/data_3/wk2.csv'),\n",
       " PosixPath('datasets/data_3/more_data/wk1.csv'),\n",
       " PosixPath('datasets/data_3/more_data/wk2.csv')]"
      ]
     },
     "execution_count": 21,
     "metadata": {},
     "output_type": "execute_result"
    }
   ],
   "source": [
    "# list all items\n",
    "list(paths.rglob(\"*\"))"
   ]
  },
  {
   "cell_type": "code",
   "execution_count": 22,
   "metadata": {},
   "outputs": [
    {
     "data": {
      "text/plain": [
       "[PosixPath('datasets/data_3/wk1.csv'),\n",
       " PosixPath('datasets/data_3/wk4.csv'),\n",
       " PosixPath('datasets/data_3/wk3.csv'),\n",
       " PosixPath('datasets/data_3/wk2.csv'),\n",
       " PosixPath('datasets/data_3/more_data/wk1.csv'),\n",
       " PosixPath('datasets/data_3/more_data/wk2.csv')]"
      ]
     },
     "execution_count": 22,
     "metadata": {},
     "output_type": "execute_result"
    }
   ],
   "source": [
    "# list all items ending with `.csv`\n",
    "list(paths.rglob(\"*.csv\"))"
   ]
  }
 ],
 "metadata": {
  "kernelspec": {
   "display_name": "venv_maps",
   "language": "python",
   "name": "python3"
  },
  "language_info": {
   "codemirror_mode": {
    "name": "ipython",
    "version": 3
   },
   "file_extension": ".py",
   "mimetype": "text/x-python",
   "name": "python",
   "nbconvert_exporter": "python",
   "pygments_lexer": "ipython3",
   "version": "3.11.6"
  }
 },
 "nbformat": 4,
 "nbformat_minor": 2
}
