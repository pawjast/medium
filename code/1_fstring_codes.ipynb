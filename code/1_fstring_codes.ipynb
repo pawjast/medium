{
 "cells": [
  {
   "attachments": {},
   "cell_type": "markdown",
   "metadata": {},
   "source": [
    "# \"Python f-string codes I use everyday\"\n",
    "\n",
    "Code for the following Medium article: **TODO: add link**"
   ]
  },
  {
   "attachments": {},
   "cell_type": "markdown",
   "metadata": {},
   "source": [
    "**References:**\n",
    "\n",
    "https://docs.python.org/3/reference/lexical_analysis.html#f-strings\n",
    "\n",
    "https://docs.python.org/3/library/string.html#format-specification-mini-language\n",
    "\n",
    "https://strftime.org/"
   ]
  },
  {
   "attachments": {},
   "cell_type": "markdown",
   "metadata": {},
   "source": [
    "## Basic usage"
   ]
  },
  {
   "cell_type": "code",
   "execution_count": 1,
   "metadata": {},
   "outputs": [
    {
     "name": "stdout",
     "output_type": "stream",
     "text": [
      "Example 1: pawjast\n",
      "Example 2: 2022\n",
      "Example 3: 4\n"
     ]
    }
   ],
   "source": [
    "author = \"pawjast\"\n",
    "year = 2022\n",
    "\n",
    "print(f\"Example 1: {author}\")  # string\n",
    "print(f\"Example 2: {year}\")  # number\n",
    "print(f\"Example 3: {2 + 2}\")  # expression"
   ]
  },
  {
   "attachments": {},
   "cell_type": "markdown",
   "metadata": {},
   "source": [
    "**Note:** By using the `=` sign we can print variable name with value."
   ]
  },
  {
   "cell_type": "code",
   "execution_count": 2,
   "metadata": {},
   "outputs": [
    {
     "name": "stdout",
     "output_type": "stream",
     "text": [
      "text='Data Science Blog'\n"
     ]
    }
   ],
   "source": [
    "text = \"Data Science Blog\"\n",
    "\n",
    "print(f\"{text=}\")"
   ]
  },
  {
   "cell_type": "markdown",
   "metadata": {},
   "source": [
    "## Recap on numbers"
   ]
  },
  {
   "cell_type": "code",
   "execution_count": 3,
   "metadata": {},
   "outputs": [
    {
     "name": "stdout",
     "output_type": "stream",
     "text": [
      "Example 1 - int: 1\n",
      "Example 2 - int with _ as thousands separator: 1000\n",
      "Example 3 - float: 1.125\n",
      "Example 4 - float with trailing zero: 3.5\n",
      "Example 5 - float in scientific notation: 123.0\n"
     ]
    }
   ],
   "source": [
    "int_1 = 1\n",
    "int_with_separator = 1_000  # `int` with 1,000 separator\n",
    "float_1 = 1.125\n",
    "float_2 = 3.50\n",
    "scientific_1 = 1.23e2  # 1.23 * 10^2\n",
    "\n",
    "print(f\"Example 1 - int: {int_1}\")\n",
    "print(f\"Example 2 - int with _ as thousands separator: {int_with_separator}\")\n",
    "print(f\"Example 3 - float: {float_1}\")\n",
    "print(f\"Example 4 - float with trailing zero: {float_2}\")\n",
    "print(f\"Example 5 - float in scientific notation: {scientific_1}\")"
   ]
  },
  {
   "cell_type": "markdown",
   "metadata": {},
   "source": [
    "## Type `f` - floats"
   ]
  },
  {
   "cell_type": "code",
   "execution_count": 4,
   "metadata": {},
   "outputs": [
    {
     "name": "stdout",
     "output_type": "stream",
     "text": [
      "Example 1: 3.141592\n",
      "Example 2: 3\n",
      "Example 3: 3.1\n",
      "Example 4: 3.142\n"
     ]
    }
   ],
   "source": [
    "pi_val = 3.141592\n",
    "\n",
    "print(f\"Example 1: {pi_val:f}\")\n",
    "print(f\"Example 2: {pi_val:.0f}\")\n",
    "print(f\"Example 3: {pi_val:.1f}\")\n",
    "print(f\"Example 4: {pi_val:.3f}\")"
   ]
  },
  {
   "attachments": {},
   "cell_type": "markdown",
   "metadata": {},
   "source": [
    "**Note:** nested expressions are possible."
   ]
  },
  {
   "cell_type": "code",
   "execution_count": 5,
   "metadata": {},
   "outputs": [
    {
     "name": "stdout",
     "output_type": "stream",
     "text": [
      "1.500\n"
     ]
    }
   ],
   "source": [
    "float_val = 1.5\n",
    "precision = 3\n",
    "\n",
    "print(f\"{float_val:.{precision}f}\")"
   ]
  },
  {
   "attachments": {},
   "cell_type": "markdown",
   "metadata": {},
   "source": [
    "## Type `%`"
   ]
  },
  {
   "cell_type": "code",
   "execution_count": 6,
   "metadata": {},
   "outputs": [
    {
     "name": "stdout",
     "output_type": "stream",
     "text": [
      "Example 1: 50.000000%\n",
      "Example 2: 50%\n"
     ]
    }
   ],
   "source": [
    "val = 0.5\n",
    "\n",
    "print(f\"Example 1: {val:%}\")\n",
    "print(f\"Example 2: {val:.0%}\")\n"
   ]
  },
  {
   "cell_type": "code",
   "execution_count": 7,
   "metadata": {},
   "outputs": [
    {
     "name": "stdout",
     "output_type": "stream",
     "text": [
      "Example 1: 125%\n",
      "Example 2: 125.5%\n"
     ]
    }
   ],
   "source": [
    "val = 1.255\n",
    "\n",
    "print(f\"Example 1: {val:.0%}\")\n",
    "print(f\"Example 2: {val:.1%}\")"
   ]
  },
  {
   "attachments": {},
   "cell_type": "markdown",
   "metadata": {},
   "source": [
    "## Type `e`/`E` - scientific notation"
   ]
  },
  {
   "cell_type": "code",
   "execution_count": 8,
   "metadata": {},
   "outputs": [
    {
     "name": "stdout",
     "output_type": "stream",
     "text": [
      "Example 1: 1.230000e+03\n",
      "Example 2: 1.230000E+03\n"
     ]
    }
   ],
   "source": [
    "val = 1.23e3  # 1.23 * 10^3\n",
    "\n",
    "print(f\"Example 1: {val:e}\")\n",
    "print(f\"Example 2: {val:E}\")"
   ]
  },
  {
   "cell_type": "code",
   "execution_count": 9,
   "metadata": {},
   "outputs": [
    {
     "name": "stdout",
     "output_type": "stream",
     "text": [
      "1.23e+03\n"
     ]
    }
   ],
   "source": [
    "# limited precision\n",
    "val = 1.2345e3\n",
    "\n",
    "print(f\"{val:.2e}\")"
   ]
  },
  {
   "cell_type": "code",
   "execution_count": 10,
   "metadata": {},
   "outputs": [
    {
     "name": "stdout",
     "output_type": "stream",
     "text": [
      "2.022e+03\n"
     ]
    }
   ],
   "source": [
    "# Printing regular number in scientific notation\n",
    "val = 2022\n",
    "\n",
    "print(f\"{val:.3e}\")"
   ]
  },
  {
   "attachments": {},
   "cell_type": "markdown",
   "metadata": {},
   "source": [
    "## Type `d` - integers"
   ]
  },
  {
   "cell_type": "code",
   "execution_count": 11,
   "metadata": {},
   "outputs": [
    {
     "name": "stdout",
     "output_type": "stream",
     "text": [
      "1\n"
     ]
    }
   ],
   "source": [
    "val = 1\n",
    "\n",
    "print(f\"{val:d}\")"
   ]
  },
  {
   "cell_type": "code",
   "execution_count": 12,
   "metadata": {},
   "outputs": [
    {
     "name": "stdout",
     "output_type": "stream",
     "text": [
      "1,000\n",
      "1,000,000,000\n"
     ]
    }
   ],
   "source": [
    "# Printing thousands separator\n",
    "int_1 = 1000\n",
    "int_2 = 1000_000_000\n",
    "\n",
    "print(f\"{int_1:,d}\")\n",
    "print(f\"{int_2:,d}\")"
   ]
  },
  {
   "attachments": {},
   "cell_type": "markdown",
   "metadata": {},
   "source": [
    "## Type `n` - numbers"
   ]
  },
  {
   "cell_type": "code",
   "execution_count": 13,
   "metadata": {},
   "outputs": [
    {
     "name": "stdout",
     "output_type": "stream",
     "text": [
      "val_int = 1\n",
      "val_float = 1.234\n",
      "val_scient = 456.7\n"
     ]
    }
   ],
   "source": [
    "val_int = 1\n",
    "val_float = 1.234\n",
    "val_scient = 4.567e2\n",
    "\n",
    "print(f\"{val_int =: n}\")\n",
    "print(f\"{val_float =: n}\")\n",
    "print(f\"{val_scient =: n}\")"
   ]
  },
  {
   "cell_type": "code",
   "execution_count": 14,
   "metadata": {},
   "outputs": [
    {
     "name": "stdout",
     "output_type": "stream",
     "text": [
      "val_float_1 = 1.2\n",
      "val_float_2 = 20\n",
      "val_float_3 = 1.2e+02\n"
     ]
    }
   ],
   "source": [
    "val_float_1 = 1.234\n",
    "val_float_2 = 20.234\n",
    "val_float_3 = 123.456\n",
    "print(f\"{val_float_1 =: .2n}\")  # prints as truncated float\n",
    "print(f\"{val_float_2 =: .2n}\")  # prints as int\n",
    "print(f\"{val_float_3 =: .2n}\")  # prints as scientific notation"
   ]
  },
  {
   "attachments": {},
   "cell_type": "markdown",
   "metadata": {},
   "source": [
    "## Dates"
   ]
  },
  {
   "cell_type": "code",
   "execution_count": 15,
   "metadata": {},
   "outputs": [],
   "source": [
    "from datetime import date, datetime"
   ]
  },
  {
   "cell_type": "code",
   "execution_count": 16,
   "metadata": {},
   "outputs": [
    {
     "name": "stdout",
     "output_type": "stream",
     "text": [
      "2022-09-01\n"
     ]
    }
   ],
   "source": [
    "day = date(\n",
    "    year=2022,\n",
    "    month=9,\n",
    "    day=1\n",
    ")\n",
    "\n",
    "print(f\"{day}\")"
   ]
  },
  {
   "cell_type": "code",
   "execution_count": 17,
   "metadata": {},
   "outputs": [
    {
     "name": "stdout",
     "output_type": "stream",
     "text": [
      "2022-09-01\n",
      "2022/09/01\n"
     ]
    }
   ],
   "source": [
    "# Recreate the default format\n",
    "print(f\"{day:%Y-%m-%d}\")\n",
    "print(f\"{day:%Y/%m/%d}\")  # use / as separator"
   ]
  },
  {
   "cell_type": "code",
   "execution_count": 18,
   "metadata": {},
   "outputs": [
    {
     "name": "stdout",
     "output_type": "stream",
     "text": [
      "2022 Sep 01\n",
      "2022 September 01\n"
     ]
    }
   ],
   "source": [
    "# Turn month into text (short/long version)\n",
    "print(f\"{day:%Y %b %d}\")\n",
    "print(f\"{day:%Y %B %d}\")"
   ]
  },
  {
   "cell_type": "code",
   "execution_count": 19,
   "metadata": {},
   "outputs": [
    {
     "name": "stdout",
     "output_type": "stream",
     "text": [
      "Sep or September?\n",
      "2022 2022 2022\n"
     ]
    }
   ],
   "source": [
    "# Re-use the same variable multiple times and in different formats\n",
    "print(f\"{day:%b or %B}?\")\n",
    "print(f\"{day:%Y %Y %Y}\")"
   ]
  },
  {
   "cell_type": "code",
   "execution_count": 20,
   "metadata": {},
   "outputs": [
    {
     "name": "stdout",
     "output_type": "stream",
     "text": [
      "2022 Sep 01 (Thursday)\n"
     ]
    }
   ],
   "source": [
    "print(f\"{day:%Y %b %d (%A})\")"
   ]
  },
  {
   "cell_type": "code",
   "execution_count": 21,
   "metadata": {},
   "outputs": [
    {
     "name": "stdout",
     "output_type": "stream",
     "text": [
      "22.09.01\n"
     ]
    }
   ],
   "source": [
    "print(f\"{day:%y.%m.%d}\")"
   ]
  },
  {
   "attachments": {},
   "cell_type": "markdown",
   "metadata": {},
   "source": [
    "## Datetimes"
   ]
  },
  {
   "cell_type": "code",
   "execution_count": 22,
   "metadata": {},
   "outputs": [
    {
     "name": "stdout",
     "output_type": "stream",
     "text": [
      "2022-09-01 17:30:45\n",
      "2023-01-06 14:09:50.384229\n"
     ]
    }
   ],
   "source": [
    "day_and_time = datetime(\n",
    "    year=2022,\n",
    "    month=9,\n",
    "    day=1,\n",
    "    hour=17,\n",
    "    minute=30,\n",
    "    second=45\n",
    ")\n",
    "now = datetime.now()\n",
    "\n",
    "print(f\"{day_and_time}\")\n",
    "print(f\"{now}\")  # with mircoseconds"
   ]
  },
  {
   "cell_type": "code",
   "execution_count": 23,
   "metadata": {},
   "outputs": [
    {
     "name": "stdout",
     "output_type": "stream",
     "text": [
      "2023-01-06 14:09:50.384229\n"
     ]
    }
   ],
   "source": [
    "# Recreate the default format:\n",
    "print(f\"{now:%Y-%m-%d %H:%M:%S.%f}\")"
   ]
  },
  {
   "cell_type": "code",
   "execution_count": 24,
   "metadata": {},
   "outputs": [
    {
     "data": {
      "text/plain": [
       "str"
      ]
     },
     "execution_count": 24,
     "metadata": {},
     "output_type": "execute_result"
    }
   ],
   "source": [
    "type(f\"{now:%Y-%m-%d %H:%M:%S.%f}\")"
   ]
  },
  {
   "cell_type": "code",
   "execution_count": 25,
   "metadata": {},
   "outputs": [
    {
     "name": "stdout",
     "output_type": "stream",
     "text": [
      "2023-01-06 14:09:50.38\n"
     ]
    }
   ],
   "source": [
    "# Recreate the default format and reduce precision on microseconds with slicing\n",
    "print(f\"{now:%Y-%m-%d %H:%M:%S.%f}\"[:22])"
   ]
  },
  {
   "cell_type": "code",
   "execution_count": 26,
   "metadata": {},
   "outputs": [
    {
     "name": "stdout",
     "output_type": "stream",
     "text": [
      "24hr: 2022-09-01 17:30:45\n",
      "12hr: 2022-09-01 05:30:45\n",
      "12hr with AM/PM: 2022-09-01 05:30:45 PM\n"
     ]
    }
   ],
   "source": [
    "# Change 24hr format to 12hr format:\n",
    "print(f\"24hr: {day_and_time:%Y-%m-%d %H:%M:%S}\")\n",
    "print(f\"12hr: {day_and_time:%Y-%m-%d %I:%M:%S}\")\n",
    "print(f\"12hr with AM/PM: {day_and_time:%Y-%m-%d %I:%M:%S %p}\")"
   ]
  },
  {
   "attachments": {},
   "cell_type": "markdown",
   "metadata": {},
   "source": [
    "**Note:** other useful date codes."
   ]
  },
  {
   "cell_type": "code",
   "execution_count": 27,
   "metadata": {},
   "outputs": [
    {
     "name": "stdout",
     "output_type": "stream",
     "text": [
      "The date: 2018-09-17\n",
      "Day of the year:  260\n",
      "Week of the year (Mon):  38\n",
      "Week of the year (Sun):  37\n"
     ]
    }
   ],
   "source": [
    "day = date(\n",
    "    year=2018,\n",
    "    month=9,\n",
    "    day=17\n",
    ")\n",
    "\n",
    "print(f\"The date: {day}\")\n",
    "print(f\"Day of the year: {day: %j}\")\n",
    "print(f\"Week of the year (Mon): {day: %W}\")\n",
    "print(f\"Week of the year (Sun): {day: %U}\")"
   ]
  },
  {
   "cell_type": "markdown",
   "metadata": {},
   "source": [
    "## Padding"
   ]
  },
  {
   "cell_type": "code",
   "execution_count": 28,
   "metadata": {},
   "outputs": [
    {
     "name": "stdout",
     "output_type": "stream",
     "text": [
      "1: 1\n",
      "2:  1\n",
      "3:   1\n"
     ]
    }
   ],
   "source": [
    "# Padding with empty space\n",
    "val = 1\n",
    "\n",
    "print(f\"1: {val:1d}\")\n",
    "print(f\"2: {val:2d}\")\n",
    "print(f\"3: {val:3d}\")"
   ]
  },
  {
   "cell_type": "code",
   "execution_count": 29,
   "metadata": {},
   "outputs": [
    {
     "name": "stdout",
     "output_type": "stream",
     "text": [
      "1: 1\n",
      "2: 01\n",
      "3: 001\n"
     ]
    }
   ],
   "source": [
    "# Padding with zeros\n",
    "val = 1\n",
    "\n",
    "print(f\"1: {val:01d}\")\n",
    "print(f\"2: {val:02d}\")\n",
    "print(f\"3: {val:03d}\")"
   ]
  },
  {
   "cell_type": "code",
   "execution_count": 30,
   "metadata": {},
   "outputs": [
    {
     "name": "stdout",
     "output_type": "stream",
     "text": [
      "00\n",
      "01\n",
      "02\n",
      "03\n",
      "04\n",
      "05\n",
      "06\n",
      "07\n",
      "08\n",
      "09\n",
      "10\n"
     ]
    }
   ],
   "source": [
    "# Useful in loops\n",
    "for i in range(11):\n",
    "    print(f\"{i:02d}\")"
   ]
  },
  {
   "cell_type": "markdown",
   "metadata": {},
   "source": [
    "## Sign: `+`, `-` or ` `"
   ]
  },
  {
   "cell_type": "code",
   "execution_count": 31,
   "metadata": {},
   "outputs": [
    {
     "name": "stdout",
     "output_type": "stream",
     "text": [
      "1: +1.23   -1.23\n",
      "2: 1.23   -1.23\n",
      "3:  1.23   -1.23\n"
     ]
    }
   ],
   "source": [
    "positive = 1.23\n",
    "negative = -1.23\n",
    "\n",
    "print(f\"1: {positive:+.2f}   {negative:+.2f}\")\n",
    "print(f\"2: {positive:-.2f}   {negative:-.2f}\")\n",
    "print(f\"3: {positive: .2f}   {negative: .2f}\")"
   ]
  },
  {
   "attachments": {},
   "cell_type": "markdown",
   "metadata": {},
   "source": [
    "## Example\n",
    "\n",
    "Putting all things together"
   ]
  },
  {
   "cell_type": "code",
   "execution_count": 32,
   "metadata": {},
   "outputs": [
    {
     "name": "stdout",
     "output_type": "stream",
     "text": [
      "val = 11,500.235\n"
     ]
    }
   ],
   "source": [
    "# print variable with name, limit precision and thousands separator\n",
    "val = 11500.23456\n",
    "\n",
    "print(f\"{val = :,.3f}\")"
   ]
  }
 ],
 "metadata": {
  "kernelspec": {
   "display_name": "Python 3.10.2 64-bit",
   "language": "python",
   "name": "python3"
  },
  "language_info": {
   "codemirror_mode": {
    "name": "ipython",
    "version": 3
   },
   "file_extension": ".py",
   "mimetype": "text/x-python",
   "name": "python",
   "nbconvert_exporter": "python",
   "pygments_lexer": "ipython3",
   "version": "3.10.2"
  },
  "orig_nbformat": 4,
  "vscode": {
   "interpreter": {
    "hash": "01b56d54e41ee5e0320d306e48b99346b32c7e3f136411568156e3d3682080c2"
   }
  }
 },
 "nbformat": 4,
 "nbformat_minor": 2
}
